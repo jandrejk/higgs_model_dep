{
 "cells": [
  {
   "cell_type": "markdown",
   "metadata": {},
   "source": [
    "# Make efficiency map plots for trained fitters"
   ]
  },
  {
   "cell_type": "code",
   "execution_count": 3,
   "metadata": {
    "collapsed": false
   },
   "outputs": [],
   "source": [
    "import train as tn\n",
    "reload(tn)\n",
    "\n",
    "import plotting\n",
    "reload(plotting)\n",
    "\n",
    "import util as ut\n",
    "\n",
    "import matplotlib.pyplot as plt\n",
    "#plt.style.use('seaborn-ticks')\n",
    "plt.style.use('seaborn-poster')\n",
    "%matplotlib inline\n",
    "#%matplotlib notebook\n",
    "\n",
    "import numpy as np\n",
    "\n",
    "from pprint import pprint\n",
    "\n",
    "import itertools\n",
    "\n",
    "# import xgboost"
   ]
  },
  {
   "cell_type": "markdown",
   "metadata": {},
   "source": [
    "load the fitter:"
   ]
  },
  {
   "cell_type": "code",
   "execution_count": 4,
   "metadata": {
    "collapsed": false
   },
   "outputs": [
    {
     "name": "stdout",
     "output_type": "stream",
     "text": [
      "./classifiers\n",
      "./classifiers/effGenVarClassBinnedRecoPtBinnedRecoNjets2p5_out.pkl.gz\n",
      "loading pickle ./classifiers/effGenVarClassBinnedRecoPtBinnedRecoNjets2p5_out.pkl.gz\n"
     ]
    }
   ],
   "source": [
    "path,name = \"./classifiers\", \"effGenVarClassBinnedRecoPtBinnedRecoNjets2p5_out\"\n",
    "fitter = tn.IO.load(name,path,nodata=True)"
   ]
  },
  {
   "cell_type": "code",
   "execution_count": 5,
   "metadata": {
    "collapsed": false
   },
   "outputs": [],
   "source": [
    "def GetfeatureGrid (branches, projection) :\n",
    "    feature_grid = []\n",
    "    \n",
    "    for bran in branches :\n",
    "        if 'Pt' in bran :\n",
    "            feature_grid.append((1,0.,300.))\n",
    "        if 'Rapidity' in bran :\n",
    "            feature_grid.append((1,-3.,3.))\n",
    "            if 'abs' in bran :\n",
    "                feature_grid[branches.index(bran)] = (1,0.,3.)\n",
    "                \n",
    "    for proj in projection :\n",
    "        if 'Pt' in proj :\n",
    "            feature_grid[branches.index(proj)] = (300,0.,300.)\n",
    "        if 'Rapidity' in proj :\n",
    "            feature_grid[branches.index(proj)] = (300,-3.,3.)\n",
    "            if 'abs' in proj :\n",
    "                feature_grid[branches.index(proj)] = (300,0.,3.)\n",
    "           \n",
    "    \n",
    "    return feature_grid"
   ]
  },
  {
   "cell_type": "code",
   "execution_count": 6,
   "metadata": {
    "collapsed": false
   },
   "outputs": [],
   "source": [
    "def plot_efficiency_map_Njets (fitter, feedClass = True, projection = ['genPt','absGenRapidity']):\n",
    "    \"\"\"\n",
    "    This function is still in the developpment phase\n",
    "    So far it is used to produce efficiency plots of Pt vs |y|\n",
    "    : params \n",
    "            fitter : train.EffFitter - the trained classifier\n",
    "         feedClass : boolean - has influence only on recoPtGrid which is never used\n",
    "    \"\"\"\n",
    "    \n",
    "    \n",
    "    \n",
    "    \n",
    "    #generate 300 pt bins from 0-300 and 300 pseudo-rap bins from 0-3\n",
    "    class_grid,class_eff_map = fitter.effMap('class',[(300,0,300),(300,0,3.)])\n",
    "   \n",
    "\n",
    "    branches = ['genJet2p5Pt0', 'genJet2p5Rapidity0', 'genJet2p5Pt1', 'genJet2p5Rapidity1', 'genJet2p5Pt2', \n",
    "            'genJet2p5Rapidity2', 'genJet2p5Pt3', 'genJet2p5Rapidity3', 'genPt', 'absGenRapidity']\n",
    "    \n",
    "    \n",
    "\n",
    "    feature_grid = GetfeatureGrid(branches,projection)    \n",
    "    axes = map(tn.mk_grid_1d,feature_grid)        \n",
    "    feature_grid = np.array(list(itertools.product(*axes)))\n",
    "    \n",
    "    \n",
    "    recoNjet2p5Grid =  np.hstack([feature_grid,class_eff_map]) if feedClass else class_grid\n",
    "   \n",
    "    \n",
    "    recoNjets2p5_grid,recoNjets2p5_eff_map = fitter.effMap('recoNjets2p5',recoNjet2p5Grid)\n",
    "    \n",
    "    \n",
    "    x_index = branches.index(projection[0])\n",
    "    y_index = branches.index(projection[1])\n",
    "    \n",
    "    print(np.shape(recoNjets2p5_grid[:,x_index]))\n",
    "    print(np.shape(recoNjets2p5_eff_map))\n",
    "    \n",
    "    plotting.efficiency_map(recoNjets2p5_grid[:,x_index],recoNjets2p5_grid[:,y_index],recoNjets2p5_eff_map,\n",
    "                            figsize=(14,26),xlabel=projection[0],ylabel=projection[1],\n",
    "                        layout=(3,None))\n",
    "    \n",
    "    plt.subplots_adjust(hspace = 0.35, wspace = 0.4, top=0.88)\n",
    "\n"
   ]
  },
  {
   "cell_type": "code",
   "execution_count": null,
   "metadata": {
    "collapsed": false,
    "scrolled": false
   },
   "outputs": [],
   "source": [
    "reload(plotting)\n",
    "plot_efficiency_map_Njets(fitter, projection = ['genJet2p5Pt0','genJet2p5Rapidity0'])"
   ]
  },
  {
   "cell_type": "markdown",
   "metadata": {},
   "source": [
    "# Projection Plots using the data frame"
   ]
  },
  {
   "cell_type": "code",
   "execution_count": null,
   "metadata": {
    "collapsed": false
   },
   "outputs": [],
   "source": [
    "#note that the loading option is True by default\n",
    "ut.defaultParameters(dataDir='./data', inputName=\"effGenVarClassBinnedRecoPtBinnedRecoNjets2p5_out\", \n",
    "                     inputDir='./classifiers')\n",
    "ut.setParams()"
   ]
  },
  {
   "cell_type": "code",
   "execution_count": null,
   "metadata": {
    "collapsed": false,
    "scrolled": true
   },
   "outputs": [],
   "source": [
    "effFitter = ut.loadOrMake()"
   ]
  },
  {
   "cell_type": "code",
   "execution_count": null,
   "metadata": {
    "collapsed": false
   },
   "outputs": [],
   "source": [
    "df = effFitter.df"
   ]
  },
  {
   "cell_type": "code",
   "execution_count": null,
   "metadata": {
    "collapsed": false
   },
   "outputs": [],
   "source": [
    "first_train_evt = int(round(df.index.size*(1.-effFitter.split_frac)))\n",
    "df_test = df[:first_train_evt]"
   ]
  },
  {
   "cell_type": "code",
   "execution_count": null,
   "metadata": {
    "collapsed": false
   },
   "outputs": [],
   "source": [
    "projection = ['genJet2p5Pt0','genJet2p5Rapidity0']"
   ]
  },
  {
   "cell_type": "code",
   "execution_count": null,
   "metadata": {
    "collapsed": false
   },
   "outputs": [],
   "source": [
    "def GetNames (list_name,keyword) :\n",
    "    listNames = []\n",
    "    for n in list_name :\n",
    "        if keyword in n :\n",
    "            listNames.append(n)\n",
    "    return listNames"
   ]
  },
  {
   "cell_type": "code",
   "execution_count": null,
   "metadata": {
    "collapsed": false
   },
   "outputs": [],
   "source": [
    "probaNames = GetNames(df.columns,'recoNjets2p5Cat_')"
   ]
  },
  {
   "cell_type": "code",
   "execution_count": null,
   "metadata": {
    "collapsed": false
   },
   "outputs": [],
   "source": [
    "extract_col = np.concatenate([projection,probaNames])"
   ]
  },
  {
   "cell_type": "code",
   "execution_count": null,
   "metadata": {
    "collapsed": false
   },
   "outputs": [],
   "source": [
    "df_test.shape"
   ]
  },
  {
   "cell_type": "code",
   "execution_count": null,
   "metadata": {
    "collapsed": true
   },
   "outputs": [],
   "source": [
    "import pandas as pd\n",
    "pd.options.display.max_rows = 999"
   ]
  },
  {
   "cell_type": "code",
   "execution_count": null,
   "metadata": {
    "collapsed": false
   },
   "outputs": [],
   "source": [
    "df_test[extract_col][0:5].T"
   ]
  },
  {
   "cell_type": "code",
   "execution_count": null,
   "metadata": {
    "collapsed": false
   },
   "outputs": [],
   "source": [
    "X = df_test[projection[0]]\n",
    "Y = df_test[projection[1]]\n",
    "Z = df_test[probaNames]\n",
    "\n",
    "xi, yi = np.linspace(0., 300., 300), np.linspace(-3., 3., 300)\n",
    "xi, yi = np.meshgrid(xi, yi)"
   ]
  },
  {
   "cell_type": "code",
   "execution_count": null,
   "metadata": {
    "collapsed": false
   },
   "outputs": [],
   "source": [
    "print(np.shape(X))\n",
    "print(np.shape(Z))"
   ]
  },
  {
   "cell_type": "code",
   "execution_count": null,
   "metadata": {
    "collapsed": false
   },
   "outputs": [],
   "source": [
    " plotting.efficiency_map(X,Y,Z, figsize=(14,26),xlabel=projection[0],ylabel=projection[1],\n",
    "                        layout=(3,None))"
   ]
  },
  {
   "cell_type": "code",
   "execution_count": null,
   "metadata": {
    "collapsed": true
   },
   "outputs": [],
   "source": [
    "import scipy.interpolate\n"
   ]
  },
  {
   "cell_type": "code",
   "execution_count": null,
   "metadata": {
    "collapsed": false
   },
   "outputs": [],
   "source": [
    "\n",
    "# Set up a regular grid of interpolation points\n",
    "xi, yi = np.linspace(0., 300., 300), np.linspace(0., 2., 300)\n",
    "xi, yi = np.meshgrid(xi, yi)\n",
    "\n",
    "\n",
    "# Interpolate; there's also method='cubic' for 2-D data such as here\n",
    "zi = scipy.interpolate.griddata((X, Y), Z, (xi, yi), method='linear')\n",
    "\n",
    "print(np.shape(zi))\n",
    "plt.imshow(zi, vmin=Z.min(), vmax=Z.max(), origin='lower')#, extent=[0., 300, 0, 3])\n",
    "\n",
    "#plt.xticks(np.arange(0,300,step=50))\n",
    "#plt.yticks(np.arange(0,3,step=0.5))\n",
    "plt.colorbar()\n",
    "plt.show()\n"
   ]
  },
  {
   "cell_type": "code",
   "execution_count": null,
   "metadata": {
    "collapsed": false
   },
   "outputs": [],
   "source": [
    "#fig = plt.figure()\n",
    "#cbar_ax = fig.add_axes([0.15, 0.97, 0.7, 0.02])\n",
    "#plt.colorbar(orientation='horizontal')\n",
    "plt.hexbin(x=X,y=Y,C=Z,cmap=plt.cm.viridis,vmin=0,vmax=1)"
   ]
  },
  {
   "cell_type": "code",
   "execution_count": null,
   "metadata": {
    "collapsed": true
   },
   "outputs": [],
   "source": []
  }
 ],
 "metadata": {
  "anaconda-cloud": {},
  "kernelspec": {
   "display_name": "Python [default]",
   "language": "python",
   "name": "python2"
  },
  "language_info": {
   "codemirror_mode": {
    "name": "ipython",
    "version": 2
   },
   "file_extension": ".py",
   "mimetype": "text/x-python",
   "name": "python",
   "nbconvert_exporter": "python",
   "pygments_lexer": "ipython2",
   "version": "2.7.12"
  }
 },
 "nbformat": 4,
 "nbformat_minor": 0
}
