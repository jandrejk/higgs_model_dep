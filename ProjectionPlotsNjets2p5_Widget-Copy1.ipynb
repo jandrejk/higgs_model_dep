{
 "cells": [
  {
   "cell_type": "markdown",
   "metadata": {},
   "source": [
    "# Make efficiency map plots for trained fitters"
   ]
  },
  {
   "cell_type": "code",
   "execution_count": 1,
   "metadata": {
    "collapsed": false
   },
   "outputs": [
    {
     "data": {
      "application/javascript": [
       "require(['codemirror/mode/clike/clike'], function(Clike) { console.log('ROOTaaS - C++ CodeMirror module loaded'); });"
      ]
     },
     "metadata": {},
     "output_type": "display_data"
    },
    {
     "data": {
      "application/javascript": [
       "IPython.CodeCell.config_defaults.highlight_modes['magic_text/x-c++src'] = {'reg':[/^%%cpp/]};"
      ]
     },
     "metadata": {},
     "output_type": "display_data"
    },
    {
     "name": "stdout",
     "output_type": "stream",
     "text": [
      "Welcome to ROOTaaS 6.06/08\n"
     ]
    }
   ],
   "source": [
    "from ipywidgets import interact, fixed, interactive, widgets, interact_manual\n",
    "from IPython.display import display, clear_output, HTML\n",
    "\n",
    "\n",
    "\n",
    "import train as tn\n",
    "reload(tn)\n",
    "\n",
    "import plotting\n",
    "reload(plotting)\n",
    "\n",
    "import util as ut\n",
    "\n",
    "import matplotlib.pyplot as plt\n",
    "from matplotlib import ticker\n",
    "plt.style.use('seaborn-poster')\n",
    "%matplotlib inline\n",
    "\n",
    "import numpy as np\n",
    "\n",
    "from pprint import pprint\n",
    "\n",
    "import itertools\n",
    "import time\n",
    "\n",
    "import os\n",
    "\n",
    "from collections import OrderedDict"
   ]
  },
  {
   "cell_type": "code",
   "execution_count": 2,
   "metadata": {
    "collapsed": false
   },
   "outputs": [],
   "source": [
    "def GetFitter ( dataDir, \n",
    "                inputName, \n",
    "                inputDir,\n",
    "                load\n",
    "              ) :\n",
    "    \n",
    "    #---------------------------------------------------------------------------- \n",
    "    if (load) :\n",
    "        w_load_bar = widgets.IntProgress(\n",
    "        min=0,\n",
    "        max=3,\n",
    "        description='Loading:',\n",
    "        bar_style='success',\n",
    "        orientation='horizontal' )   \n",
    "        \n",
    "        display(w_load_bar)\n",
    "            \n",
    "        ut.defaultParameters(dataDir=dataDir, inputName=inputName, inputDir=inputDir)\n",
    "        w_load_bar.value += 1\n",
    "        ut.setParams()\n",
    "        w_load_bar.value += 1\n",
    "        effFitter = ut.loadOrMake()\n",
    "        w_load_bar.value += 1\n",
    "\n",
    "        time.sleep(1)\n",
    "        print('Done loading')\n",
    "        w_load_bar.close()\n",
    "\n",
    "        return effFitter\n",
    "    #----------------------------------------------------------------------------"
   ]
  },
  {
   "cell_type": "code",
   "execution_count": 3,
   "metadata": {
    "collapsed": false
   },
   "outputs": [],
   "source": [
    "def GetDictionary (inputDir) :\n",
    "    #----------------------------------------------------------------------------\n",
    "    classifier_names = []\n",
    "    try :\n",
    "        for names in os.listdir(inputDir) :\n",
    "            if names.endswith(\".pkl.gz\") :\n",
    "                classifier_names.append(names[:-7])\n",
    "        if (classifier_names != []) :\n",
    "            classifier_dictionary = dict(zip(classifier_names,classifier_names))\n",
    "            return classifier_dictionary, inputDir;\n",
    "        else : \n",
    "            print('No classifiers in directory '+inputDir)\n",
    "            return 'Failure';\n",
    "    except OSError :\n",
    "        print(\"No such directory\")\n",
    "        return 'Failure';\n",
    "    #----------------------------------------------------------------------------  \n",
    "    "
   ]
  },
  {
   "cell_type": "code",
   "execution_count": 4,
   "metadata": {
    "collapsed": false
   },
   "outputs": [],
   "source": [
    "input_Dir = widgets.Text(\n",
    "    value='./classifiers',\n",
    "    placeholder='directory to the classifiers',\n",
    "    description='inputDir:',\n",
    "    disabled=False,\n",
    ")\n",
    "\n",
    "\n",
    "data_Dir = widgets.Text(\n",
    "    value='./data',\n",
    "    placeholder='directory to data files',\n",
    "    description='dataDir:',\n",
    "    disabled=False\n",
    ")"
   ]
  },
  {
   "cell_type": "code",
   "execution_count": 5,
   "metadata": {
    "collapsed": false
   },
   "outputs": [
    {
     "data": {
      "text/plain": [
       "({u'Train_Configurable_Refactor_higgs_model_dep_1702482': u'Train_Configurable_Refactor_higgs_model_dep_1702482',\n",
       "  u'Train_Configurable_Refactor_higgs_model_dep_1735132': u'Train_Configurable_Refactor_higgs_model_dep_1735132',\n",
       "  u'effGenVarClassBinnedRecoPtBinnedRecoNjets2p5_out': u'effGenVarClassBinnedRecoPtBinnedRecoNjets2p5_out',\n",
       "  u'effGenVarClassBinnedRecoPt_out': u'effGenVarClassBinnedRecoPt_out',\n",
       "  u'effGenVarClass_binnedPtNjets_out': u'effGenVarClass_binnedPtNjets_out',\n",
       "  u'effGenVarClass_binnedRecoPt_out': u'effGenVarClass_binnedRecoPt_out',\n",
       "  u'fullBDT': u'fullBDT'},\n",
       " u'./classifiers')"
      ]
     },
     "metadata": {},
     "output_type": "display_data"
    }
   ],
   "source": [
    "w = interactive(GetDictionary,inputDir=input_Dir, display=False)\n",
    "display(w)\n",
    "#clear_output()"
   ]
  },
  {
   "cell_type": "code",
   "execution_count": 6,
   "metadata": {
    "collapsed": true
   },
   "outputs": [],
   "source": [
    "#extract the dictionary with the classifier names found in the\n",
    "#given directory plus the directory name\n",
    "class_dict = w.result[0]\n",
    "inDir = w.result[1]"
   ]
  },
  {
   "cell_type": "code",
   "execution_count": 7,
   "metadata": {
    "collapsed": false
   },
   "outputs": [
    {
     "data": {
      "text/html": [
       "<style> .widget-hbox .widget-label { max-width:350ex; text-align:left} </style>"
      ],
      "text/plain": [
       "<IPython.core.display.HTML object>"
      ]
     },
     "execution_count": 7,
     "metadata": {},
     "output_type": "execute_result"
    }
   ],
   "source": [
    "w_input_Name = widgets.Dropdown(\n",
    "    description='Classifier:',\n",
    "    options=class_dict,\n",
    "    )\n",
    "w_Load = widgets.Checkbox(\n",
    "    value=False,\n",
    "    description='Load classifier',\n",
    "    disabled=False\n",
    ")\n",
    "HTML('<style> .widget-hbox .widget-label { max-width:350ex; text-align:left} </style>')"
   ]
  },
  {
   "cell_type": "code",
   "execution_count": 8,
   "metadata": {
    "collapsed": false
   },
   "outputs": [
    {
     "name": "stdout",
     "output_type": "stream",
     "text": [
      "entered config files named my_train_config\n",
      "None\n",
      "Load object with the name fullBDT and the following paramters \n",
      "./classifiers\n",
      "./classifiers/fullBDT.pkl.gz\n",
      "loading pickle ./classifiers/fullBDT.pkl.gz\n",
      "loading data ./classifiers/fullBDT.root\n",
      "<train.EfficiencyFitter object at 0x7f7c0e8c5550>\n",
      "Index([u'absweight', u'class', u'genJet2p5Pt0', u'genJet2p5Pt1',\n",
      "       u'genJet2p5Pt2', u'genJet2p5Pt3', u'genJet2p5Rapidity0',\n",
      "       u'genJet2p5Rapidity1', u'genJet2p5Rapidity2', u'genJet2p5Rapidity3',\n",
      "       u'genNjets2p5', u'genPt', u'genRapidity', u'recoNjets2p5', u'recoPt',\n",
      "       u'recoRapidity', u'weight', u'proc', u'absGenRapidity',\n",
      "       u'absGenJet2p5Rapidity0', u'absGenJet2p5Rapidity1',\n",
      "       u'absGenJet2p5Rapidity2', u'absGenJet2p5Rapidity3', u'recoPtBin',\n",
      "       u'recoPtCat', u'recoNjets2p5Bin', u'recoNjets2p5Cat', u'class_prob_0',\n",
      "       u'class_prob_1', u'class_prob_2', u'class_prob_3', u'recoPtCat_prob_0',\n",
      "       u'recoPtCat_prob_1', u'recoPtCat_prob_2', u'recoPtCat_prob_3',\n",
      "       u'recoPtCat_prob_4', u'recoPtCat_prob_5', u'recoPtCat_prob_6',\n",
      "       u'recoPtCat_prob_7', u'recoPtCat_prob_8', u'recoPtCat_prob_9',\n",
      "       u'recoPtCat_prob_10', u'recoPtCat_prob_11', u'recoPtCat_prob_12',\n",
      "       u'recoPtCat_prob_13', u'recoPtCat_prob_14', u'recoPtCat_prob_15',\n",
      "       u'recoPtCat_prob_16', u'recoPtCat_prob_17', u'recoPtCat_prob_18',\n",
      "       u'recoPtCat_prob_19', u'recoPtCat_prob_20', u'recoPtCat_prob_21',\n",
      "       u'recoPtCat_prob_22', u'recoPtCat_prob_23', u'recoPtCat_prob_24',\n",
      "       u'recoNjets2p5Cat_prob_0', u'recoNjets2p5Cat_prob_1',\n",
      "       u'recoNjets2p5Cat_prob_2', u'recoNjets2p5Cat_prob_3',\n",
      "       u'recoNjets2p5Cat_prob_4', u'recoNjets2p5Cat_prob_5',\n",
      "       u'recoNjets2p5Cat_prob_6', u'recoNjets2p5Cat_prob_7',\n",
      "       u'recoNjets2p5Cat_prob_8', u'recoNjets2p5Cat_prob_9',\n",
      "       u'recoNjets2p5Cat_prob_10', u'recoNjets2p5Cat_prob_11',\n",
      "       u'recoNjets2p5Cat_prob_12', u'recoNjets2p5Cat_prob_13',\n",
      "       u'recoNjets2p5Cat_prob_14', u'recoNjets2p5Cat_prob_15'],\n",
      "      dtype='object')\n",
      "{'class': GradientBoostingClassifier(criterion='friedman_mse', init=None,\n",
      "              learning_rate=0.2, loss='deviance', max_depth=5,\n",
      "              max_features=None, max_leaf_nodes=None,\n",
      "              min_impurity_split=1e-07, min_samples_leaf=1,\n",
      "              min_samples_split=2, min_weight_fraction_leaf=0.001,\n",
      "              n_estimators=200, presort='auto', random_state=None,\n",
      "              subsample=1.0, verbose=0, warm_start=False),\n",
      " 'recoNjets2p5': XGBClassifier(base_score=0.5, colsample_bylevel=1, colsample_bytree=1,\n",
      "       gamma=0, learning_rate=0.1, max_delta_step=0, max_depth=7,\n",
      "       min_child_weight=1e-05, missing=nan, n_estimators=500, nthread=16,\n",
      "       objective='multi:softprob', reg_alpha=0, reg_lambda=1,\n",
      "       scale_pos_weight=1, seed=0, silent=True, subsample=1),\n",
      " 'recoPt': XGBClassifier(base_score=0.5, colsample_bylevel=1, colsample_bytree=1,\n",
      "       gamma=0, learning_rate=0.1, max_delta_step=0, max_depth=5,\n",
      "       min_child_weight=1e-05, missing=nan, n_estimators=500, nthread=16,\n",
      "       objective='multi:softprob', reg_alpha=0, reg_lambda=1,\n",
      "       scale_pos_weight=1, seed=0, silent=True, subsample=1)}\n",
      "Done loading\n"
     ]
    },
    {
     "data": {
      "text/plain": [
       "<train.EfficiencyFitter at 0x7f7c0e8c5550>"
      ]
     },
     "metadata": {},
     "output_type": "display_data"
    }
   ],
   "source": [
    "fitterObject = interactive(GetFitter,\n",
    "                           inputName=w_input_Name,\n",
    "                            dataDir =data_Dir,\n",
    "                            inputDir=fixed(inDir),\n",
    "                            load = w_Load\n",
    "                          )\n",
    "\n",
    "display(fitterObject)\n",
    "clear_output()"
   ]
  },
  {
   "cell_type": "markdown",
   "metadata": {},
   "source": [
    "## projection on the following 2 variables"
   ]
  },
  {
   "cell_type": "code",
   "execution_count": null,
   "metadata": {
    "collapsed": false
   },
   "outputs": [],
   "source": []
  },
  {
   "cell_type": "code",
   "execution_count": 9,
   "metadata": {
    "collapsed": false
   },
   "outputs": [],
   "source": [
    "proj_vars = ['absGenJet2p5Rapidity0','absGenJet2p5Rapidity1','absGenJet2p5Rapidity2',\n",
    "    'absGenJet2p5Rapidity3','absGenRapidity','genJet2p5Pt0','genJet2p5Pt1','genJet2p5Pt2',\n",
    "             'genJet2p5Pt3','genPt']\n",
    "proj_keys = ['|y| leading jet','|y| subleading jet','|y| 3rd leading jet','|y| 4th leading jet','|y| di-photon',\n",
    "            'pt leading jet','pt subleading jet','pt 3rd leading jet','pt 4th leading jet','pt di-photon']\n",
    "\n",
    "proj_var_dict = OrderedDict(zip(proj_keys,proj_vars))"
   ]
  },
  {
   "cell_type": "code",
   "execution_count": 10,
   "metadata": {
    "collapsed": false
   },
   "outputs": [],
   "source": [
    "w_varName_x = widgets.Dropdown(\n",
    "    options=proj_var_dict,\n",
    "    description='x-axis:'\n",
    ")\n",
    "\n",
    "w_varName_y = widgets.Dropdown(\n",
    "    options=proj_var_dict,\n",
    "    description='y-axis:',\n",
    ")\n",
    "\n",
    "w_mres_cat = widgets.ToggleButtons(\n",
    "    options={'bad':0, 'medium':1, 'good':2},\n",
    "    description='Di-photon mass resolution:',\n",
    "    disabled=False,\n",
    "    button_style='', # 'success', 'info', 'warning', 'danger' or ''\n",
    "    tooltip='Description',\n",
    "#     icon='check'\n",
    ")\n",
    "\n",
    "w_noJets = widgets.SelectionSlider(\n",
    "    options=OrderedDict(zip(['0','1','2','3','>3'],[0,1,2,3,4])),\n",
    "    description='Number of jets:',\n",
    ")\n",
    "\n",
    "w_detector_eff = widgets.Checkbox(\n",
    "    value=False,\n",
    "    description='detector efficiency',\n",
    "    disabled=False\n",
    ")"
   ]
  },
  {
   "cell_type": "code",
   "execution_count": 11,
   "metadata": {
    "collapsed": true
   },
   "outputs": [],
   "source": [
    "def CheckforPt (name) :\n",
    "    if 'Pt' in name :\n",
    "        return True\n",
    "    return False"
   ]
  },
  {
   "cell_type": "code",
   "execution_count": 12,
   "metadata": {
    "collapsed": false
   },
   "outputs": [],
   "source": [
    "def NjetsEffPlots (effFitter, x_var, y_var,m_gamma_cat=0, Njets=0, effTag=False) :\n",
    "    \n",
    "    df = effFitter.df\n",
    "    first_train_evt = int(round(df.index.size*(1.-effFitter.split_frac)))\n",
    "    #take the test sample \n",
    "    df_test = df[:first_train_evt]\n",
    "    \n",
    "    #define bins\n",
    "    print(CheckforPt(x_var))\n",
    "    print(CheckforPt(y_var))\n",
    "    defineBins = GetBins(x_pt=CheckforPt(x_var),y_pt=CheckforPt(y_var),x_name=x_var,y_name=y_var)\n",
    "    ut.runDefineBins(effFitter,defineBins)\n",
    "    \n",
    "    print(defineBins)\n",
    "    \n",
    "    if effTag :\n",
    "        NjetsCat = 0\n",
    "    else :\n",
    "        NjetsCat = 3*Njets +1 + m_gamma_cat\n",
    "    \n",
    "    i = NjetsCat\n",
    "    print(i)\n",
    "    \n",
    "    column_proba_name = 'recoNjets2p5Cat_prob_'+str(i)\n",
    "    \n",
    "    gb_freq  = df.groupby([x_var+'Bin',y_var+'Bin']).apply(weight_freq,\"recoNjets2p5Cat\",(i-1),'absweight')\n",
    "    gb_proba = df_test.groupby([x_var+'Bin',y_var+'Bin']).apply(weighted_average, column_proba_name,'absweight')\n",
    "    \n",
    "    display(gb_proba[0:5])\n",
    "    \n",
    "    title1 ='recoNjetsCat('+str(i-1)+') \\n predicted by clf'\n",
    "    title2 ='recoNjetsCat('+str(i-1)+') \\n true from data'\n",
    "   \n",
    "\n",
    "      \n",
    "    if (i==0) :\n",
    "        print('perform efficiency (1- reco-proba) plot')\n",
    "        plot_imshow([gb_proba,gb_freq],binBoundaries=defineBins,x_lab=x_var,y_lab=y_var,titles=['predicted (clf) reco eff',\n",
    "                                                                    'true data reco eff'],effTag=True)\n",
    "    else :\n",
    "        plot_imshow([gb_proba,gb_freq],binBoundaries=defineBins, x_lab=x_var,y_lab=y_var,titles=[title1,title2])\n",
    "    \n",
    "    \n"
   ]
  },
  {
   "cell_type": "code",
   "execution_count": 13,
   "metadata": {
    "collapsed": false
   },
   "outputs": [],
   "source": [
    "def GetBins (x_pt, y_pt, x_name, y_name) :\n",
    "    N_PtBins = 8\n",
    "    N_RapidityBins = 8\n",
    "    if (x_pt and y_pt) :\n",
    "        return { x_name : dict(boundaries=np.linspace(0,300.,N_PtBins)), \n",
    "                       y_name : dict(boundaries=np.linspace(0,300.,N_PtBins))\n",
    "            }   \n",
    "    else :\n",
    "        if x_pt :\n",
    "            return { x_name : dict(boundaries=np.linspace(0,300.,N_PtBins)), \n",
    "                           y_name : dict(boundaries=np.linspace(0.,2.5,N_RapidityBins))\n",
    "                          }\n",
    "        if y_pt :\n",
    "            return { x_name : dict(boundaries=np.linspace(0.,2.5,N_RapidityBins)), \n",
    "                           y_name : dict(boundaries=np.linspace(0,300.,N_PtBins))\n",
    "                          }\n",
    "    return { x_name : dict(boundaries=np.linspace(0.,2.5,N_RapidityBins)), \n",
    "             y_name : dict(boundaries=np.linspace(0.,2.5,N_RapidityBins))\n",
    "                        }"
   ]
  },
  {
   "cell_type": "markdown",
   "metadata": {},
   "source": [
    "### Extract data frame and start getting the probas in a binned way"
   ]
  },
  {
   "cell_type": "code",
   "execution_count": 14,
   "metadata": {
    "collapsed": false
   },
   "outputs": [],
   "source": [
    "def weighted_average(df_name, column_name, weight_name=None):\n",
    "    \"\"\"\n",
    "    This function computes the weighted average of the quantity column_name\n",
    "    stared in the pandas dataframe df_name. In case no weights are given\n",
    "    or if they sum up to zero, the mean is returned instead.\n",
    "    :params \n",
    "            df_name :\n",
    "        column_name :\n",
    "        weight_name :\n",
    "    :retruns\n",
    "                    :\n",
    "    \"\"\"\n",
    "    d = df_name[column_name]\n",
    "    w = df_name[weight_name]\n",
    "    #print(len(w))\n",
    "    if (weight_name == None) :\n",
    "        return float(d.mean())\n",
    "    else :\n",
    "        try:\n",
    "            return (d * w).sum() / float(w.sum())\n",
    "        except ZeroDivisionError:\n",
    "            return float(d.mean())"
   ]
  },
  {
   "cell_type": "code",
   "execution_count": 15,
   "metadata": {
    "collapsed": false
   },
   "outputs": [],
   "source": [
    "def weight_freq (df_name, column_name, equal_to, weight_name) :\n",
    "    df = df_name#[df_name[column_name]==equal_to]\n",
    "    \n",
    "    w_all = df[weight_name].sum()\n",
    "    w_PartPhaseSpace = df[df[column_name] == equal_to][weight_name].sum()\n",
    "    #print(w_all)\n",
    "    #print(w_PartPhaseSpace)\n",
    "    return w_PartPhaseSpace / w_all"
   ]
  },
  {
   "cell_type": "code",
   "execution_count": 16,
   "metadata": {
    "collapsed": false
   },
   "outputs": [],
   "source": [
    "def plot_imshow(groupby_objects, binBoundaries, \n",
    "                          titles=[],\n",
    "                        x_lab = None,\n",
    "                        y_lab = None,\n",
    "                          cmap=plt.cm.Blues,\n",
    "                   effTag=False, effPlot=False):\n",
    "   \n",
    "\n",
    "    \n",
    "    if effTag :\n",
    "        plot_imshow(groupby_objects, binBoundaries=binBoundaries, titles=['predicted (clf) reco eff', 'true (data) reco eff'],\n",
    "                        x_lab = x_lab, y_lab = y_lab, cmap=plt.cm.Reds, effTag=False, effPlot=True)\n",
    "    else :\n",
    "        \n",
    "        cm_list = []\n",
    "\n",
    "        for k, r in enumerate(groupby_objects) :\n",
    "            x,y = r.index.levels\n",
    "            print(len(x))\n",
    "            print(len(y))\n",
    "            print(np.shape(r.values))\n",
    "            cm = r.values.reshape(len(x),len(y))\n",
    "            if effPlot :\n",
    "                cm = 1. - cm\n",
    "            \n",
    "            #check this\n",
    "            cm_list.append(cm.T)    \n",
    "                        \n",
    "        \n",
    "        fig, axarr = plt.subplots(1,2,figsize=(10,10))\n",
    "        \n",
    "        \n",
    "        minimum = np.amin(cm_list)\n",
    "        maximum = np.amax(cm_list)\n",
    "        \n",
    "        for l, cm in enumerate(cm_list) :\n",
    "        \n",
    "            plt.subplot('22'+str(l+1))\n",
    "            \n",
    "            \n",
    "            plt.imshow(cm_list[l], interpolation='nearest', cmap=cmap,origin='lower',\n",
    "                       vmin=minimum,vmax=maximum)\n",
    "            \n",
    "            plt.title(titles[l])\n",
    "\n",
    "            xtick_marks = np.arange(len(x)+1)-0.5\n",
    "            xtick_names = binBoundaries[x_lab]['boundaries']\n",
    "            ytick_marks = np.arange(len(y))-0.5\n",
    "            ytick_names = binBoundaries[y_lab]['boundaries']\n",
    "            \n",
    "            xtick_names = np.round(xtick_names,2)\n",
    "            ytick_names = np.round(ytick_names,2)\n",
    "            plt.xticks(xtick_marks,xtick_names,rotation='90')\n",
    "            \n",
    "            \n",
    "            \n",
    "            \n",
    "\n",
    "            plt.xlabel(x_lab)\n",
    "            if l == 0 :\n",
    "                print('hi')\n",
    "                plt.ylabel(y_lab)\n",
    "                plt.yticks(ytick_marks, ytick_names)\n",
    "            else :\n",
    "                #bad trick\n",
    "                plt.yticks(visible=False)\n",
    "            \n",
    "            #plt.tight_layout()\n",
    "\n",
    "            # text\n",
    "            thresh = (maximum + minimum) / 2.\n",
    "            for i, j in itertools.product(range(cm.shape[0]), range(cm.shape[1])):\n",
    "                plt.text(j, i, '%.2f' % cm[i, j], horizontalalignment=\"center\",\n",
    "                     color=\"white\" if cm[i, j] > thresh else \"black\")\n",
    "        \n",
    "        fig.subplots_adjust(top=0.85)   \n",
    "        cbar_ax = fig.add_axes([0.1, 0.98, 0.8, 0.02])\n",
    "        plt.colorbar(cax=cbar_ax,orientation='horizontal')#,norm=plt.colors.Normalize(vmin=min_col,vmax=max_col))\n",
    "        \n",
    "        plt.show()\n",
    "        if l == 0 :\n",
    "            plotRelDiff_imshow(groupby_objects=groupby_objects,binBoundaries=binBoundaries,x_lab=x_lab,y_lab=y_lab,cmap=plt.cm.Oranges,effPlot=True)\n",
    "        else :\n",
    "            plotRelDiff_imshow(groupby_objects=groupby_objects,binBoundaries=binBoundaries,x_lab=x_lab,y_lab=y_lab,cmap=plt.cm.Oranges)\n",
    "\n",
    "                 \n",
    "    "
   ]
  },
  {
   "cell_type": "code",
   "execution_count": 17,
   "metadata": {
    "collapsed": false
   },
   "outputs": [],
   "source": [
    "def plotRelDiff_imshow(groupby_objects,binBoundaries, \n",
    "                        x_lab = None,\n",
    "                        y_lab = None,\n",
    "                          cmap=plt.cm.Blues,\n",
    "                      effPlot=False) :\n",
    "   \n",
    "        \n",
    "    fig = plt.figure(figsize=(7,7))\n",
    "\n",
    "    r_pred, r_true = groupby_objects\n",
    "\n",
    "    x_pred,y_pred = r_pred.index.levels\n",
    "    x_true,y_true = r_true.index.levels\n",
    "\n",
    "    cm_pred = r_pred.values.reshape(len(x_pred),len(y_pred))\n",
    "    cm_true = r_true.values.reshape(len(x_true),len(y_true))\n",
    "\n",
    "    if effPlot :\n",
    "        cm_true = 1. - cm_true\n",
    "        cm_pred = 1. - cm_pred\n",
    "    \n",
    "    #plt.subplot(111)\n",
    "    total_sum_true_permille = np.sum(np.sum(cm_true))/100.\n",
    "    print(total_sum_true_permille)\n",
    "    \n",
    "    cm = np.divide((cm_true-cm_pred),cm_true, out=np.zeros_like(cm_true-cm_pred), \n",
    "                   where=cm_true>total_sum_true_permille ) \n",
    "    \n",
    "    cm = cm.T\n",
    "    \n",
    "    plt.imshow(cm, interpolation='nearest', cmap=cmap,origin='lower')\n",
    "    plt.title(r'$\\frac{\\mathrm{true} - \\mathrm{pred}}{\\mathrm{true}}$'+ '\\n')\n",
    "    \n",
    "    \n",
    "    \n",
    "    xtick_marks = np.arange(len(x_pred)+1)-0.5\n",
    "    xtick_names = binBoundaries[x_lab]['boundaries']\n",
    "    ytick_marks = np.arange(len(y_pred))-0.5\n",
    "    ytick_names = binBoundaries[y_lab]['boundaries']\n",
    "\n",
    "    xtick_names = np.round(xtick_names,2)\n",
    "    ytick_names = np.round(ytick_names,2)\n",
    "    plt.xticks(xtick_marks,xtick_names,rotation='90')\n",
    "\n",
    "    plt.xticks(xtick_marks, xtick_names)\n",
    "    plt.yticks(ytick_marks, ytick_names)\n",
    "\n",
    "\n",
    "    thresh = (cm.max()+cm.min()) / 2.\n",
    "    for i, j in itertools.product(range(cm.shape[0]), range(cm.shape[1])):\n",
    "        plt.text(j, i, np.round(cm[i, j],2), horizontalalignment=\"center\",\n",
    "             color=\"white\" if cm[i, j] > thresh else \"black\")\n",
    "\n",
    "\n",
    "    plt.xlabel(x_lab)\n",
    "    plt.ylabel(y_lab)\n",
    "    plt.tight_layout()\n",
    "\n",
    "    fig.subplots_adjust(top=0.78)   \n",
    "    cbar_ax = fig.add_axes([0.15, 0.97, 0.7, 0.02])\n",
    "    cb = plt.colorbar(cax=cbar_ax,orientation='horizontal')#,norm=plt.colors.Normalize(vmin=min_col,vmax=max_col))\n",
    "\n",
    "    #tick_locator = ticker.MaxNLocator(nbins=6)\n",
    "    #cb.locator = tick_locator\n",
    "    #cb.update_ticks()\n",
    "       \n",
    "    "
   ]
  },
  {
   "cell_type": "markdown",
   "metadata": {
    "collapsed": true
   },
   "source": [
    "#### Perform plots with realtive ratio of true and predicted probas:  $ \\frac{\\text{true} - \\text{pred}}{\\text{true}} $"
   ]
  },
  {
   "cell_type": "code",
   "execution_count": 19,
   "metadata": {
    "collapsed": false
   },
   "outputs": [
    {
     "data": {
      "text/plain": [
       "<train.EfficiencyFitter at 0x7f7c0e8c5550>"
      ]
     },
     "execution_count": 19,
     "metadata": {},
     "output_type": "execute_result"
    }
   ],
   "source": [
    "fitterObject.result"
   ]
  },
  {
   "cell_type": "code",
   "execution_count": 20,
   "metadata": {
    "collapsed": false
   },
   "outputs": [
    {
     "name": "stdout",
     "output_type": "stream",
     "text": [
      "False\n",
      "False\n",
      "[ 0.          0.35714286  0.71428571  1.07142857  1.42857143  1.78571429\n",
      "  2.14285714  2.5       ]\n",
      "[ 0.          0.35714286  0.71428571  1.07142857  1.42857143  1.78571429\n",
      "  2.14285714  2.5       ]\n",
      "{'absGenJet2p5Rapidity0': {'boundaries': array([ 0.        ,  0.35714286,  0.71428571,  1.07142857,  1.42857143,\n",
      "        1.78571429,  2.14285714,  2.5       ])}, 'absGenJet2p5Rapidity2': {'boundaries': array([ 0.        ,  0.35714286,  0.71428571,  1.07142857,  1.42857143,\n",
      "        1.78571429,  2.14285714,  2.5       ])}}\n",
      "2\n"
     ]
    },
    {
     "ename": "KeyError",
     "evalue": "'absGenJet2p5Rapidity2Bin'",
     "output_type": "error",
     "traceback": [
      "\u001b[0;31m\u001b[0m",
      "\u001b[0;31mKeyError\u001b[0mTraceback (most recent call last)",
      "\u001b[0;32m<ipython-input-12-b185e9649304>\u001b[0m in \u001b[0;36mNjetsEffPlots\u001b[0;34m(effFitter, x_var, y_var, m_gamma_cat, Njets, effTag)\u001b[0m\n\u001b[1;32m     25\u001b[0m \u001b[0;34m\u001b[0m\u001b[0m\n\u001b[1;32m     26\u001b[0m     \u001b[0mgb_freq\u001b[0m  \u001b[0;34m=\u001b[0m \u001b[0mdf\u001b[0m\u001b[0;34m.\u001b[0m\u001b[0mgroupby\u001b[0m\u001b[0;34m(\u001b[0m\u001b[0;34m[\u001b[0m\u001b[0mx_var\u001b[0m\u001b[0;34m+\u001b[0m\u001b[0;34m'Bin'\u001b[0m\u001b[0;34m,\u001b[0m\u001b[0my_var\u001b[0m\u001b[0;34m+\u001b[0m\u001b[0;34m'Bin'\u001b[0m\u001b[0;34m]\u001b[0m\u001b[0;34m)\u001b[0m\u001b[0;34m.\u001b[0m\u001b[0mapply\u001b[0m\u001b[0;34m(\u001b[0m\u001b[0mweight_freq\u001b[0m\u001b[0;34m,\u001b[0m\u001b[0;34m\"recoNjets2p5Cat\"\u001b[0m\u001b[0;34m,\u001b[0m\u001b[0;34m(\u001b[0m\u001b[0mi\u001b[0m\u001b[0;34m-\u001b[0m\u001b[0;36m1\u001b[0m\u001b[0;34m)\u001b[0m\u001b[0;34m,\u001b[0m\u001b[0;34m'absweight'\u001b[0m\u001b[0;34m)\u001b[0m\u001b[0;34m\u001b[0m\u001b[0m\n\u001b[0;32m---> 27\u001b[0;31m     \u001b[0mgb_proba\u001b[0m \u001b[0;34m=\u001b[0m \u001b[0mdf_test\u001b[0m\u001b[0;34m.\u001b[0m\u001b[0mgroupby\u001b[0m\u001b[0;34m(\u001b[0m\u001b[0;34m[\u001b[0m\u001b[0mx_var\u001b[0m\u001b[0;34m+\u001b[0m\u001b[0;34m'Bin'\u001b[0m\u001b[0;34m,\u001b[0m\u001b[0my_var\u001b[0m\u001b[0;34m+\u001b[0m\u001b[0;34m'Bin'\u001b[0m\u001b[0;34m]\u001b[0m\u001b[0;34m)\u001b[0m\u001b[0;34m.\u001b[0m\u001b[0mapply\u001b[0m\u001b[0;34m(\u001b[0m\u001b[0mweighted_average\u001b[0m\u001b[0;34m,\u001b[0m \u001b[0mcolumn_proba_name\u001b[0m\u001b[0;34m,\u001b[0m\u001b[0;34m'absweight'\u001b[0m\u001b[0;34m)\u001b[0m\u001b[0;34m\u001b[0m\u001b[0m\n\u001b[0m\u001b[1;32m     28\u001b[0m \u001b[0;34m\u001b[0m\u001b[0m\n\u001b[1;32m     29\u001b[0m     \u001b[0mdisplay\u001b[0m\u001b[0;34m(\u001b[0m\u001b[0mgb_proba\u001b[0m\u001b[0;34m[\u001b[0m\u001b[0;36m0\u001b[0m\u001b[0;34m:\u001b[0m\u001b[0;36m5\u001b[0m\u001b[0;34m]\u001b[0m\u001b[0;34m)\u001b[0m\u001b[0;34m\u001b[0m\u001b[0m\n",
      "\u001b[0;32m/swshare/anaconda/lib/python2.7/site-packages/pandas/core/generic.py\u001b[0m in \u001b[0;36mgroupby\u001b[0;34m(self, by, axis, level, as_index, sort, group_keys, squeeze, **kwargs)\u001b[0m\n\u001b[1;32m   3776\u001b[0m         return groupby(self, by=by, axis=axis, level=level, as_index=as_index,\n\u001b[1;32m   3777\u001b[0m                        \u001b[0msort\u001b[0m\u001b[0;34m=\u001b[0m\u001b[0msort\u001b[0m\u001b[0;34m,\u001b[0m \u001b[0mgroup_keys\u001b[0m\u001b[0;34m=\u001b[0m\u001b[0mgroup_keys\u001b[0m\u001b[0;34m,\u001b[0m \u001b[0msqueeze\u001b[0m\u001b[0;34m=\u001b[0m\u001b[0msqueeze\u001b[0m\u001b[0;34m,\u001b[0m\u001b[0;34m\u001b[0m\u001b[0m\n\u001b[0;32m-> 3778\u001b[0;31m                        **kwargs)\n\u001b[0m\u001b[1;32m   3779\u001b[0m \u001b[0;34m\u001b[0m\u001b[0m\n\u001b[1;32m   3780\u001b[0m     \u001b[0;32mdef\u001b[0m \u001b[0masfreq\u001b[0m\u001b[0;34m(\u001b[0m\u001b[0mself\u001b[0m\u001b[0;34m,\u001b[0m \u001b[0mfreq\u001b[0m\u001b[0;34m,\u001b[0m \u001b[0mmethod\u001b[0m\u001b[0;34m=\u001b[0m\u001b[0mNone\u001b[0m\u001b[0;34m,\u001b[0m \u001b[0mhow\u001b[0m\u001b[0;34m=\u001b[0m\u001b[0mNone\u001b[0m\u001b[0;34m,\u001b[0m \u001b[0mnormalize\u001b[0m\u001b[0;34m=\u001b[0m\u001b[0mFalse\u001b[0m\u001b[0;34m)\u001b[0m\u001b[0;34m:\u001b[0m\u001b[0;34m\u001b[0m\u001b[0m\n",
      "\u001b[0;32m/swshare/anaconda/lib/python2.7/site-packages/pandas/core/groupby.py\u001b[0m in \u001b[0;36mgroupby\u001b[0;34m(obj, by, **kwds)\u001b[0m\n\u001b[1;32m   1425\u001b[0m         \u001b[0;32mraise\u001b[0m \u001b[0mTypeError\u001b[0m\u001b[0;34m(\u001b[0m\u001b[0;34m'invalid type: %s'\u001b[0m \u001b[0;34m%\u001b[0m \u001b[0mtype\u001b[0m\u001b[0;34m(\u001b[0m\u001b[0mobj\u001b[0m\u001b[0;34m)\u001b[0m\u001b[0;34m)\u001b[0m\u001b[0;34m\u001b[0m\u001b[0m\n\u001b[1;32m   1426\u001b[0m \u001b[0;34m\u001b[0m\u001b[0m\n\u001b[0;32m-> 1427\u001b[0;31m     \u001b[0;32mreturn\u001b[0m \u001b[0mklass\u001b[0m\u001b[0;34m(\u001b[0m\u001b[0mobj\u001b[0m\u001b[0;34m,\u001b[0m \u001b[0mby\u001b[0m\u001b[0;34m,\u001b[0m \u001b[0;34m**\u001b[0m\u001b[0mkwds\u001b[0m\u001b[0;34m)\u001b[0m\u001b[0;34m\u001b[0m\u001b[0m\n\u001b[0m\u001b[1;32m   1428\u001b[0m \u001b[0;34m\u001b[0m\u001b[0m\n\u001b[1;32m   1429\u001b[0m \u001b[0;34m\u001b[0m\u001b[0m\n",
      "\u001b[0;32m/swshare/anaconda/lib/python2.7/site-packages/pandas/core/groupby.py\u001b[0m in \u001b[0;36m__init__\u001b[0;34m(self, obj, keys, axis, level, grouper, exclusions, selection, as_index, sort, group_keys, squeeze, **kwargs)\u001b[0m\n\u001b[1;32m    352\u001b[0m                                                     \u001b[0mlevel\u001b[0m\u001b[0;34m=\u001b[0m\u001b[0mlevel\u001b[0m\u001b[0;34m,\u001b[0m\u001b[0;34m\u001b[0m\u001b[0m\n\u001b[1;32m    353\u001b[0m                                                     \u001b[0msort\u001b[0m\u001b[0;34m=\u001b[0m\u001b[0msort\u001b[0m\u001b[0;34m,\u001b[0m\u001b[0;34m\u001b[0m\u001b[0m\n\u001b[0;32m--> 354\u001b[0;31m                                                     mutated=self.mutated)\n\u001b[0m\u001b[1;32m    355\u001b[0m \u001b[0;34m\u001b[0m\u001b[0m\n\u001b[1;32m    356\u001b[0m         \u001b[0mself\u001b[0m\u001b[0;34m.\u001b[0m\u001b[0mobj\u001b[0m \u001b[0;34m=\u001b[0m \u001b[0mobj\u001b[0m\u001b[0;34m\u001b[0m\u001b[0m\n",
      "\u001b[0;32m/swshare/anaconda/lib/python2.7/site-packages/pandas/core/groupby.py\u001b[0m in \u001b[0;36m_get_grouper\u001b[0;34m(obj, key, axis, level, sort, mutated)\u001b[0m\n\u001b[1;32m   2381\u001b[0m \u001b[0;34m\u001b[0m\u001b[0m\n\u001b[1;32m   2382\u001b[0m         \u001b[0;32melif\u001b[0m \u001b[0mis_in_axis\u001b[0m\u001b[0;34m(\u001b[0m\u001b[0mgpr\u001b[0m\u001b[0;34m)\u001b[0m\u001b[0;34m:\u001b[0m  \u001b[0;31m# df.groupby('name')\u001b[0m\u001b[0;34m\u001b[0m\u001b[0m\n\u001b[0;32m-> 2383\u001b[0;31m             \u001b[0min_axis\u001b[0m\u001b[0;34m,\u001b[0m \u001b[0mname\u001b[0m\u001b[0;34m,\u001b[0m \u001b[0mgpr\u001b[0m \u001b[0;34m=\u001b[0m \u001b[0mTrue\u001b[0m\u001b[0;34m,\u001b[0m \u001b[0mgpr\u001b[0m\u001b[0;34m,\u001b[0m \u001b[0mobj\u001b[0m\u001b[0;34m[\u001b[0m\u001b[0mgpr\u001b[0m\u001b[0;34m]\u001b[0m\u001b[0;34m\u001b[0m\u001b[0m\n\u001b[0m\u001b[1;32m   2384\u001b[0m             \u001b[0mexclusions\u001b[0m\u001b[0;34m.\u001b[0m\u001b[0mappend\u001b[0m\u001b[0;34m(\u001b[0m\u001b[0mname\u001b[0m\u001b[0;34m)\u001b[0m\u001b[0;34m\u001b[0m\u001b[0m\n\u001b[1;32m   2385\u001b[0m \u001b[0;34m\u001b[0m\u001b[0m\n",
      "\u001b[0;32m/swshare/anaconda/lib/python2.7/site-packages/pandas/core/frame.py\u001b[0m in \u001b[0;36m__getitem__\u001b[0;34m(self, key)\u001b[0m\n\u001b[1;32m   1995\u001b[0m             \u001b[0;32mreturn\u001b[0m \u001b[0mself\u001b[0m\u001b[0;34m.\u001b[0m\u001b[0m_getitem_multilevel\u001b[0m\u001b[0;34m(\u001b[0m\u001b[0mkey\u001b[0m\u001b[0;34m)\u001b[0m\u001b[0;34m\u001b[0m\u001b[0m\n\u001b[1;32m   1996\u001b[0m         \u001b[0;32melse\u001b[0m\u001b[0;34m:\u001b[0m\u001b[0;34m\u001b[0m\u001b[0m\n\u001b[0;32m-> 1997\u001b[0;31m             \u001b[0;32mreturn\u001b[0m \u001b[0mself\u001b[0m\u001b[0;34m.\u001b[0m\u001b[0m_getitem_column\u001b[0m\u001b[0;34m(\u001b[0m\u001b[0mkey\u001b[0m\u001b[0;34m)\u001b[0m\u001b[0;34m\u001b[0m\u001b[0m\n\u001b[0m\u001b[1;32m   1998\u001b[0m \u001b[0;34m\u001b[0m\u001b[0m\n\u001b[1;32m   1999\u001b[0m     \u001b[0;32mdef\u001b[0m \u001b[0m_getitem_column\u001b[0m\u001b[0;34m(\u001b[0m\u001b[0mself\u001b[0m\u001b[0;34m,\u001b[0m \u001b[0mkey\u001b[0m\u001b[0;34m)\u001b[0m\u001b[0;34m:\u001b[0m\u001b[0;34m\u001b[0m\u001b[0m\n",
      "\u001b[0;32m/swshare/anaconda/lib/python2.7/site-packages/pandas/core/frame.py\u001b[0m in \u001b[0;36m_getitem_column\u001b[0;34m(self, key)\u001b[0m\n\u001b[1;32m   2002\u001b[0m         \u001b[0;31m# get column\u001b[0m\u001b[0;34m\u001b[0m\u001b[0;34m\u001b[0m\u001b[0m\n\u001b[1;32m   2003\u001b[0m         \u001b[0;32mif\u001b[0m \u001b[0mself\u001b[0m\u001b[0;34m.\u001b[0m\u001b[0mcolumns\u001b[0m\u001b[0;34m.\u001b[0m\u001b[0mis_unique\u001b[0m\u001b[0;34m:\u001b[0m\u001b[0;34m\u001b[0m\u001b[0m\n\u001b[0;32m-> 2004\u001b[0;31m             \u001b[0;32mreturn\u001b[0m \u001b[0mself\u001b[0m\u001b[0;34m.\u001b[0m\u001b[0m_get_item_cache\u001b[0m\u001b[0;34m(\u001b[0m\u001b[0mkey\u001b[0m\u001b[0;34m)\u001b[0m\u001b[0;34m\u001b[0m\u001b[0m\n\u001b[0m\u001b[1;32m   2005\u001b[0m \u001b[0;34m\u001b[0m\u001b[0m\n\u001b[1;32m   2006\u001b[0m         \u001b[0;31m# duplicate columns & possible reduce dimensionality\u001b[0m\u001b[0;34m\u001b[0m\u001b[0;34m\u001b[0m\u001b[0m\n",
      "\u001b[0;32m/swshare/anaconda/lib/python2.7/site-packages/pandas/core/generic.py\u001b[0m in \u001b[0;36m_get_item_cache\u001b[0;34m(self, item)\u001b[0m\n\u001b[1;32m   1348\u001b[0m         \u001b[0mres\u001b[0m \u001b[0;34m=\u001b[0m \u001b[0mcache\u001b[0m\u001b[0;34m.\u001b[0m\u001b[0mget\u001b[0m\u001b[0;34m(\u001b[0m\u001b[0mitem\u001b[0m\u001b[0;34m)\u001b[0m\u001b[0;34m\u001b[0m\u001b[0m\n\u001b[1;32m   1349\u001b[0m         \u001b[0;32mif\u001b[0m \u001b[0mres\u001b[0m \u001b[0;32mis\u001b[0m \u001b[0mNone\u001b[0m\u001b[0;34m:\u001b[0m\u001b[0;34m\u001b[0m\u001b[0m\n\u001b[0;32m-> 1350\u001b[0;31m             \u001b[0mvalues\u001b[0m \u001b[0;34m=\u001b[0m \u001b[0mself\u001b[0m\u001b[0;34m.\u001b[0m\u001b[0m_data\u001b[0m\u001b[0;34m.\u001b[0m\u001b[0mget\u001b[0m\u001b[0;34m(\u001b[0m\u001b[0mitem\u001b[0m\u001b[0;34m)\u001b[0m\u001b[0;34m\u001b[0m\u001b[0m\n\u001b[0m\u001b[1;32m   1351\u001b[0m             \u001b[0mres\u001b[0m \u001b[0;34m=\u001b[0m \u001b[0mself\u001b[0m\u001b[0;34m.\u001b[0m\u001b[0m_box_item_values\u001b[0m\u001b[0;34m(\u001b[0m\u001b[0mitem\u001b[0m\u001b[0;34m,\u001b[0m \u001b[0mvalues\u001b[0m\u001b[0;34m)\u001b[0m\u001b[0;34m\u001b[0m\u001b[0m\n\u001b[1;32m   1352\u001b[0m             \u001b[0mcache\u001b[0m\u001b[0;34m[\u001b[0m\u001b[0mitem\u001b[0m\u001b[0;34m]\u001b[0m \u001b[0;34m=\u001b[0m \u001b[0mres\u001b[0m\u001b[0;34m\u001b[0m\u001b[0m\n",
      "\u001b[0;32m/swshare/anaconda/lib/python2.7/site-packages/pandas/core/internals.py\u001b[0m in \u001b[0;36mget\u001b[0;34m(self, item, fastpath)\u001b[0m\n\u001b[1;32m   3288\u001b[0m \u001b[0;34m\u001b[0m\u001b[0m\n\u001b[1;32m   3289\u001b[0m             \u001b[0;32mif\u001b[0m \u001b[0;32mnot\u001b[0m \u001b[0misnull\u001b[0m\u001b[0;34m(\u001b[0m\u001b[0mitem\u001b[0m\u001b[0;34m)\u001b[0m\u001b[0;34m:\u001b[0m\u001b[0;34m\u001b[0m\u001b[0m\n\u001b[0;32m-> 3290\u001b[0;31m                 \u001b[0mloc\u001b[0m \u001b[0;34m=\u001b[0m \u001b[0mself\u001b[0m\u001b[0;34m.\u001b[0m\u001b[0mitems\u001b[0m\u001b[0;34m.\u001b[0m\u001b[0mget_loc\u001b[0m\u001b[0;34m(\u001b[0m\u001b[0mitem\u001b[0m\u001b[0;34m)\u001b[0m\u001b[0;34m\u001b[0m\u001b[0m\n\u001b[0m\u001b[1;32m   3291\u001b[0m             \u001b[0;32melse\u001b[0m\u001b[0;34m:\u001b[0m\u001b[0;34m\u001b[0m\u001b[0m\n\u001b[1;32m   3292\u001b[0m                 \u001b[0mindexer\u001b[0m \u001b[0;34m=\u001b[0m \u001b[0mnp\u001b[0m\u001b[0;34m.\u001b[0m\u001b[0marange\u001b[0m\u001b[0;34m(\u001b[0m\u001b[0mlen\u001b[0m\u001b[0;34m(\u001b[0m\u001b[0mself\u001b[0m\u001b[0;34m.\u001b[0m\u001b[0mitems\u001b[0m\u001b[0;34m)\u001b[0m\u001b[0;34m)\u001b[0m\u001b[0;34m[\u001b[0m\u001b[0misnull\u001b[0m\u001b[0;34m(\u001b[0m\u001b[0mself\u001b[0m\u001b[0;34m.\u001b[0m\u001b[0mitems\u001b[0m\u001b[0;34m)\u001b[0m\u001b[0;34m]\u001b[0m\u001b[0;34m\u001b[0m\u001b[0m\n",
      "\u001b[0;32m/swshare/anaconda/lib/python2.7/site-packages/pandas/indexes/base.py\u001b[0m in \u001b[0;36mget_loc\u001b[0;34m(self, key, method, tolerance)\u001b[0m\n\u001b[1;32m   1945\u001b[0m                 \u001b[0;32mreturn\u001b[0m \u001b[0mself\u001b[0m\u001b[0;34m.\u001b[0m\u001b[0m_engine\u001b[0m\u001b[0;34m.\u001b[0m\u001b[0mget_loc\u001b[0m\u001b[0;34m(\u001b[0m\u001b[0mkey\u001b[0m\u001b[0;34m)\u001b[0m\u001b[0;34m\u001b[0m\u001b[0m\n\u001b[1;32m   1946\u001b[0m             \u001b[0;32mexcept\u001b[0m \u001b[0mKeyError\u001b[0m\u001b[0;34m:\u001b[0m\u001b[0;34m\u001b[0m\u001b[0m\n\u001b[0;32m-> 1947\u001b[0;31m                 \u001b[0;32mreturn\u001b[0m \u001b[0mself\u001b[0m\u001b[0;34m.\u001b[0m\u001b[0m_engine\u001b[0m\u001b[0;34m.\u001b[0m\u001b[0mget_loc\u001b[0m\u001b[0;34m(\u001b[0m\u001b[0mself\u001b[0m\u001b[0;34m.\u001b[0m\u001b[0m_maybe_cast_indexer\u001b[0m\u001b[0;34m(\u001b[0m\u001b[0mkey\u001b[0m\u001b[0;34m)\u001b[0m\u001b[0;34m)\u001b[0m\u001b[0;34m\u001b[0m\u001b[0m\n\u001b[0m\u001b[1;32m   1948\u001b[0m \u001b[0;34m\u001b[0m\u001b[0m\n\u001b[1;32m   1949\u001b[0m         \u001b[0mindexer\u001b[0m \u001b[0;34m=\u001b[0m \u001b[0mself\u001b[0m\u001b[0;34m.\u001b[0m\u001b[0mget_indexer\u001b[0m\u001b[0;34m(\u001b[0m\u001b[0;34m[\u001b[0m\u001b[0mkey\u001b[0m\u001b[0;34m]\u001b[0m\u001b[0;34m,\u001b[0m \u001b[0mmethod\u001b[0m\u001b[0;34m=\u001b[0m\u001b[0mmethod\u001b[0m\u001b[0;34m,\u001b[0m \u001b[0mtolerance\u001b[0m\u001b[0;34m=\u001b[0m\u001b[0mtolerance\u001b[0m\u001b[0;34m)\u001b[0m\u001b[0;34m\u001b[0m\u001b[0m\n",
      "\u001b[0;32mpandas/index.pyx\u001b[0m in \u001b[0;36mpandas.index.IndexEngine.get_loc (pandas/index.c:4154)\u001b[0;34m()\u001b[0m\n",
      "\u001b[0;32mpandas/index.pyx\u001b[0m in \u001b[0;36mpandas.index.IndexEngine.get_loc (pandas/index.c:4018)\u001b[0;34m()\u001b[0m\n",
      "\u001b[0;32mpandas/hashtable.pyx\u001b[0m in \u001b[0;36mpandas.hashtable.PyObjectHashTable.get_item (pandas/hashtable.c:12368)\u001b[0;34m()\u001b[0m\n",
      "\u001b[0;32mpandas/hashtable.pyx\u001b[0m in \u001b[0;36mpandas.hashtable.PyObjectHashTable.get_item (pandas/hashtable.c:12322)\u001b[0;34m()\u001b[0m\n",
      "\u001b[0;31mKeyError\u001b[0m: 'absGenJet2p5Rapidity2Bin'"
     ]
    }
   ],
   "source": [
    "\n",
    "#interact(disable(w_detector_eff,[w_noJets,w_mres_cat]))\n",
    "#display(w_detector_eff)\n",
    "#display(w_noJets)\n",
    "#display(w_mres_cat)\n",
    "interact_manual(NjetsEffPlots,effFitter=fixed(fitterObject.result),x_var=w_varName_x,y_var=w_varName_y,\n",
    "              m_gamma_cat=w_mres_cat, Njets=w_noJets, effTag=w_detector_eff)\n"
   ]
  },
  {
   "cell_type": "code",
   "execution_count": null,
   "metadata": {
    "collapsed": true
   },
   "outputs": [],
   "source": []
  }
 ],
 "metadata": {
  "anaconda-cloud": {},
  "kernelspec": {
   "display_name": "Python [default]",
   "language": "python",
   "name": "python2"
  },
  "language_info": {
   "codemirror_mode": {
    "name": "ipython",
    "version": 2
   },
   "file_extension": ".py",
   "mimetype": "text/x-python",
   "name": "python",
   "nbconvert_exporter": "python",
   "pygments_lexer": "ipython2",
   "version": "2.7.12"
  },
  "widgets": {
   "state": {
    "21b517634c42400c861481546fae312c": {
     "views": [
      {
       "cell_index": 5
      }
     ]
    },
    "2c4c191415914fa5a2f9fa1ee35b7d8c": {
     "views": [
      {
       "cell_index": 23
      }
     ]
    },
    "b0d9adc6569e498199577575fc37710b": {
     "views": [
      {
       "cell_index": 8
      }
     ]
    }
   },
   "version": "1.2.0"
  }
 },
 "nbformat": 4,
 "nbformat_minor": 0
}
