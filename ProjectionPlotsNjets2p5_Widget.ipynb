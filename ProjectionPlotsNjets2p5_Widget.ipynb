{
 "cells": [
  {
   "cell_type": "markdown",
   "metadata": {},
   "source": [
    "# Make efficiency map plots for trained fitters"
   ]
  },
  {
   "cell_type": "code",
   "execution_count": 1,
   "metadata": {
    "collapsed": false
   },
   "outputs": [
    {
     "data": {
      "application/javascript": [
       "require(['codemirror/mode/clike/clike'], function(Clike) { console.log('ROOTaaS - C++ CodeMirror module loaded'); });"
      ]
     },
     "metadata": {},
     "output_type": "display_data"
    },
    {
     "data": {
      "application/javascript": [
       "IPython.CodeCell.config_defaults.highlight_modes['magic_text/x-c++src'] = {'reg':[/^%%cpp/]};"
      ]
     },
     "metadata": {},
     "output_type": "display_data"
    },
    {
     "name": "stdout",
     "output_type": "stream",
     "text": [
      "Welcome to ROOTaaS 6.06/08\n"
     ]
    }
   ],
   "source": [
    "from ipywidgets import interact, fixed, interactive, widgets, interact_manual\n",
    "from IPython.display import display, clear_output, HTML\n",
    "\n",
    "import train as tn\n",
    "reload(tn)\n",
    "\n",
    "import plotting\n",
    "reload(plotting)\n",
    "\n",
    "import util as ut\n",
    "\n",
    "import matplotlib.pyplot as plt\n",
    "plt.style.use('seaborn-poster')\n",
    "%matplotlib inline\n",
    "\n",
    "import numpy as np\n",
    "\n",
    "from pprint import pprint\n",
    "\n",
    "import itertools\n",
    "import time\n",
    "\n",
    "import os"
   ]
  },
  {
   "cell_type": "code",
   "execution_count": 2,
   "metadata": {
    "collapsed": false
   },
   "outputs": [],
   "source": [
    "def GetFitter ( dataDir, \n",
    "                inputName, \n",
    "                inputDir,\n",
    "                load\n",
    "              ) :\n",
    "    \n",
    "    #---------------------------------------------------------------------------- \n",
    "    if (load) :\n",
    "        w_load_bar = widgets.IntProgress(\n",
    "        min=0,\n",
    "        max=3,\n",
    "        description='Loading:',\n",
    "        bar_style='success',\n",
    "        orientation='horizontal' )   \n",
    "        \n",
    "        display(w_load_bar)\n",
    "            \n",
    "        ut.defaultParameters(dataDir=dataDir, inputName=inputName, inputDir=inputDir)\n",
    "        w_load_bar.value += 1\n",
    "        ut.setParams()\n",
    "        w_load_bar.value += 1\n",
    "        effFitter = ut.loadOrMake()\n",
    "        w_load_bar.value += 1\n",
    "\n",
    "        time.sleep(1)\n",
    "        print('Done loading')\n",
    "        w_load_bar.close()\n",
    "\n",
    "        return effFitter\n",
    "    #----------------------------------------------------------------------------"
   ]
  },
  {
   "cell_type": "code",
   "execution_count": 3,
   "metadata": {
    "collapsed": false
   },
   "outputs": [],
   "source": [
    "def GetDictionary (inputDir) :\n",
    "    #----------------------------------------------------------------------------\n",
    "    classifier_names = []\n",
    "    try :\n",
    "        for names in os.listdir(inputDir) :\n",
    "            if names.endswith(\".pkl.gz\") :\n",
    "                classifier_names.append(names[:-7])\n",
    "        if (classifier_names != []) :\n",
    "            classifier_dictionary = dict(zip(classifier_names,classifier_names))\n",
    "            return classifier_dictionary, inputDir;\n",
    "        else : \n",
    "            print('No classifiers in directory '+inputDir)\n",
    "            return 'Failure';\n",
    "    except OSError :\n",
    "        print(\"No such directory\")\n",
    "        return 'Failure';\n",
    "    #----------------------------------------------------------------------------  \n",
    "    "
   ]
  },
  {
   "cell_type": "code",
   "execution_count": 4,
   "metadata": {
    "collapsed": false
   },
   "outputs": [],
   "source": [
    "input_Dir = widgets.Text(\n",
    "    value='./classifiers',\n",
    "    placeholder='directory to the classifiers',\n",
    "    description='inputDir:',\n",
    "    disabled=False,\n",
    ")\n",
    "\n",
    "\n",
    "data_Dir = widgets.Text(\n",
    "    value='./data',\n",
    "    placeholder='directory to data files',\n",
    "    description='dataDir:',\n",
    "    disabled=False\n",
    ")"
   ]
  },
  {
   "cell_type": "code",
   "execution_count": 5,
   "metadata": {
    "collapsed": false
   },
   "outputs": [],
   "source": [
    "w = interactive(GetDictionary,inputDir=input_Dir, display=False)\n",
    "display(w)\n",
    "clear_output()"
   ]
  },
  {
   "cell_type": "code",
   "execution_count": 6,
   "metadata": {
    "collapsed": true
   },
   "outputs": [],
   "source": [
    "#extract the dictionary with the classifier names found in the\n",
    "#given directory plus the directory name\n",
    "class_dict = w.result[0]\n",
    "inDir = w.result[1]"
   ]
  },
  {
   "cell_type": "code",
   "execution_count": 7,
   "metadata": {
    "collapsed": false
   },
   "outputs": [
    {
     "data": {
      "text/html": [
       "<style> .widget-hbox .widget-label { max-width:350ex; text-align:left} </style>"
      ],
      "text/plain": [
       "<IPython.core.display.HTML object>"
      ]
     },
     "execution_count": 7,
     "metadata": {},
     "output_type": "execute_result"
    }
   ],
   "source": [
    "w_input_Name = widgets.Dropdown(\n",
    "    description='Classifier:',\n",
    "    options=class_dict,\n",
    "    )\n",
    "w_Load = widgets.Checkbox(\n",
    "    value=False,\n",
    "    description='Load classifier',\n",
    "    disabled=False\n",
    ")\n",
    "HTML('<style> .widget-hbox .widget-label { max-width:350ex; text-align:left} </style>')"
   ]
  },
  {
   "cell_type": "code",
   "execution_count": 8,
   "metadata": {
    "collapsed": false
   },
   "outputs": [
    {
     "name": "stdout",
     "output_type": "stream",
     "text": [
      "entered config files named my_train_config\n",
      "None\n",
      "Load object with the name effGenVarClass_binnedPtNjets_out and the following paramters \n",
      "./classifiers\n",
      "./classifiers/effGenVarClass_binnedPtNjets_out.pkl.gz\n",
      "loading pickle ./classifiers/effGenVarClass_binnedPtNjets_out.pkl.gz\n",
      "loading data ./classifiers/effGenVarClass_binnedPtNjets_out.root\n",
      "<train.EfficiencyFitter object at 0x7fc7be98ced0>\n",
      "Index([u'absweight', u'class', u'genJet2p5Pt0', u'genJet2p5Pt1',\n",
      "       u'genJet2p5Pt2', u'genJet2p5Pt3', u'genJet2p5Rapidity0',\n",
      "       u'genJet2p5Rapidity1', u'genJet2p5Rapidity2', u'genJet2p5Rapidity3',\n",
      "       u'genNjets2p5', u'genPt', u'genRapidity', u'recoNjets2p5', u'recoPt',\n",
      "       u'recoRapidity', u'weight', u'proc', u'absGenRapidity', u'recoPtBin',\n",
      "       u'recoPtCat', u'recoNjets2p5Bin', u'recoNjets2p5Cat', u'class_prob_0',\n",
      "       u'class_prob_1', u'class_prob_2', u'class_prob_3'],\n",
      "      dtype='object')\n",
      "{'class': GradientBoostingClassifier(criterion='friedman_mse', init=None,\n",
      "              learning_rate=0.2, loss='deviance', max_depth=5,\n",
      "              max_features=None, max_leaf_nodes=None,\n",
      "              min_impurity_split=1e-07, min_samples_leaf=1,\n",
      "              min_samples_split=2, min_weight_fraction_leaf=0.001,\n",
      "              n_estimators=200, presort='auto', random_state=None,\n",
      "              subsample=1.0, verbose=0, warm_start=False)}\n",
      "Done loading\n"
     ]
    },
    {
     "data": {
      "text/plain": [
       "<train.EfficiencyFitter at 0x7fc7be98ced0>"
      ]
     },
     "metadata": {},
     "output_type": "display_data"
    }
   ],
   "source": [
    "fitterObject = interactive(GetFitter,\n",
    "                           inputName=w_input_Name,\n",
    "                            dataDir =data_Dir,\n",
    "                            inputDir=fixed(inDir),\n",
    "                            load = w_Load\n",
    "                          )\n",
    "\n",
    "display(fitterObject)\n",
    "clear_output()"
   ]
  },
  {
   "cell_type": "code",
   "execution_count": null,
   "metadata": {
    "collapsed": true
   },
   "outputs": [],
   "source": []
  },
  {
   "cell_type": "code",
   "execution_count": 9,
   "metadata": {
    "collapsed": false
   },
   "outputs": [],
   "source": [
    "effFitter = fitterObject.result"
   ]
  },
  {
   "cell_type": "code",
   "execution_count": 10,
   "metadata": {
    "collapsed": false
   },
   "outputs": [],
   "source": [
    "df = effFitter.df"
   ]
  },
  {
   "cell_type": "code",
   "execution_count": 11,
   "metadata": {
    "collapsed": false,
    "scrolled": false
   },
   "outputs": [
    {
     "name": "stdout",
     "output_type": "stream",
     "text": [
      "absweight\n",
      "class\n",
      "genJet2p5Pt0\n",
      "genJet2p5Pt1\n",
      "genJet2p5Pt2\n",
      "genJet2p5Pt3\n",
      "genJet2p5Rapidity0\n",
      "genJet2p5Rapidity1\n",
      "genJet2p5Rapidity2\n",
      "genJet2p5Rapidity3\n",
      "genNjets2p5\n",
      "genPt\n",
      "genRapidity\n",
      "recoNjets2p5\n",
      "recoPt\n",
      "recoRapidity\n",
      "weight\n",
      "proc\n",
      "absGenRapidity\n",
      "recoPtBin\n",
      "recoPtCat\n",
      "recoNjets2p5Bin\n",
      "recoNjets2p5Cat\n",
      "class_prob_0\n",
      "class_prob_1\n",
      "class_prob_2\n",
      "class_prob_3\n"
     ]
    }
   ],
   "source": [
    "for col in df.columns :\n",
    "    print(col)"
   ]
  },
  {
   "cell_type": "markdown",
   "metadata": {},
   "source": [
    "## projection on the following 2 variables"
   ]
  },
  {
   "cell_type": "code",
   "execution_count": 48,
   "metadata": {
    "collapsed": true
   },
   "outputs": [],
   "source": [
    "from collections import OrderedDict"
   ]
  },
  {
   "cell_type": "code",
   "execution_count": 50,
   "metadata": {
    "collapsed": false
   },
   "outputs": [],
   "source": [
    "proj_vars = ['absGenJet2p5Rapidity0','absGenJet2p5Rapidity1','absGenJet2p5Rapidity2',\n",
    "    'absGenJet2p5Rapidity3','absGenRapidity','genJet2p5Pt0','genJet2p5Pt1','genJet2p5Pt2',\n",
    "             'genJet2p5Pt3','genPt']\n",
    "proj_keys = ['|y| leading jet','|y| subleading jet','|y| 3rd leading jet','|y| 4th leading jet','|y| di-photon',\n",
    "            'pt leading jet','pt subleading jet','pt 3rd leading jet','pt 4th leading jet','pt di-photon']\n",
    "\n",
    "proj_var_dict = OrderedDict(zip(proj_keys,proj_vars))"
   ]
  },
  {
   "cell_type": "code",
   "execution_count": 51,
   "metadata": {
    "collapsed": false
   },
   "outputs": [
    {
     "name": "stdout",
     "output_type": "stream",
     "text": [
      "OrderedDict([('|y| leading jet', 'absGenJet2p5Rapidity0'), ('|y| subleading jet', 'absGenJet2p5Rapidity1'), ('|y| 3rd leading jet', 'absGenJet2p5Rapidity2'), ('|y| 4th leading jet', 'absGenJet2p5Rapidity3'), ('|y| di-photon', 'absGenRapidity'), ('pt leading jet', 'genJet2p5Pt0'), ('pt subleading jet', 'genJet2p5Pt1'), ('pt 3rd leading jet', 'genJet2p5Pt2'), ('pt 4th leading jet', 'genJet2p5Pt3'), ('pt di-photon', 'genPt')])\n",
      "10\n",
      "10\n"
     ]
    }
   ],
   "source": [
    "print(proj_var_dict)\n",
    "print(len(proj_keys))\n",
    "print(len(proj_vars))"
   ]
  },
  {
   "cell_type": "code",
   "execution_count": 56,
   "metadata": {
    "collapsed": false
   },
   "outputs": [],
   "source": [
    "w_varName_x = widgets.Dropdown(\n",
    "    options=proj_var_dict,\n",
    "    description='x-axis:'\n",
    ")\n",
    "\n",
    "w_varName_y = widgets.Dropdown(\n",
    "    options=proj_var_dict,\n",
    "    description='y-axis:',\n",
    ")\n",
    "\n",
    "w_mres_cat = widgets.ToggleButtons(\n",
    "    options={'bad':0, 'medium':1, 'good':2},\n",
    "    description='Di-photon mass resolution:',\n",
    "    disabled=False,\n",
    "    button_style='', # 'success', 'info', 'warning', 'danger' or ''\n",
    "    tooltip='Description',\n",
    "#     icon='check'\n",
    ")\n",
    "\n",
    "w_noJets = widgets.SelectionSlider(\n",
    "    options=OrderedDict(zip(['0','1','2','3','>3'],[0,1,2,3,4])),\n",
    "    description='Number of jets:',\n",
    ")"
   ]
  },
  {
   "cell_type": "code",
   "execution_count": null,
   "metadata": {
    "collapsed": true
   },
   "outputs": [],
   "source": []
  },
  {
   "cell_type": "code",
   "execution_count": 57,
   "metadata": {
    "collapsed": false
   },
   "outputs": [],
   "source": [
    "def NjetsEffPlots (x_var, y_var,m_gamma_cat, Njets) :\n",
    "    print(x_var)\n",
    "    print(y_var)\n",
    "    print(m_gamma_cat)\n",
    "    print(Njets)\n",
    "    \n",
    "    return 0"
   ]
  },
  {
   "cell_type": "code",
   "execution_count": 61,
   "metadata": {
    "collapsed": false
   },
   "outputs": [
    {
     "name": "stdout",
     "output_type": "stream",
     "text": [
      "absGenJet2p5Rapidity0\n",
      "absGenRapidity\n",
      "1\n",
      "0\n"
     ]
    },
    {
     "data": {
      "text/plain": [
       "0"
      ]
     },
     "metadata": {},
     "output_type": "display_data"
    }
   ],
   "source": [
    "interact_manual(NjetsEffPlots,x_var=w_varName_x,y_var=w_varName_y,\n",
    "               m_gamma_cat=w_mres_cat, Njets=w_noJets)"
   ]
  },
  {
   "cell_type": "code",
   "execution_count": null,
   "metadata": {
    "collapsed": true
   },
   "outputs": [],
   "source": []
  },
  {
   "cell_type": "code",
   "execution_count": null,
   "metadata": {
    "collapsed": true
   },
   "outputs": [],
   "source": []
  },
  {
   "cell_type": "code",
   "execution_count": null,
   "metadata": {
    "collapsed": true
   },
   "outputs": [],
   "source": [
    "x_var = 'genJet2p5Rapidity0'\n",
    "y_var = 'genJet2p5Pt0'"
   ]
  },
  {
   "cell_type": "code",
   "execution_count": null,
   "metadata": {
    "collapsed": false
   },
   "outputs": [],
   "source": [
    "def GetBins (x_pt, y_pt, x_name, y_name) :\n",
    "    N_PtBins = 8\n",
    "    N_RapidityBins = 8\n",
    "    if (x_pt and y_pt) :\n",
    "        return { x_name : dict(boundaries=np.linspace(0,300.,N_PtBins)), \n",
    "                       y_name : dict(boundaries=np.linspace(0,300.,N_PtBins))\n",
    "            }   \n",
    "    else :\n",
    "        if x_pt :\n",
    "            return { x_name : dict(boundaries=np.linspace(0,300.,N_PtBins)), \n",
    "                           y_name : dict(boundaries=np.linspace(0.,2.5,N_RapidityBins))\n",
    "                          }\n",
    "        if y_pt :\n",
    "            return { x_name : dict(boundaries=np.linspace(-2.5,2.5,N_RapidityBins)), \n",
    "                           y_name : dict(boundaries=np.linspace(0,300.,N_PtBins))\n",
    "                          }\n",
    "    return { x_name : dict(boundaries=np.linspace(0.,2.5,N_RapidityBins)), \n",
    "             y_name : dict(boundaries=np.linspace(0.,2.5,N_RapidityBins))\n",
    "                        }"
   ]
  },
  {
   "cell_type": "markdown",
   "metadata": {},
   "source": [
    "### define bins in genJet2p5Rapidity0 and genJet2p5Pt0"
   ]
  },
  {
   "cell_type": "code",
   "execution_count": null,
   "metadata": {
    "collapsed": false
   },
   "outputs": [],
   "source": [
    "defineBins = GetBins(x_pt=False,y_pt=True,x_name=x_var,y_name=y_var)"
   ]
  },
  {
   "cell_type": "code",
   "execution_count": null,
   "metadata": {
    "collapsed": false
   },
   "outputs": [],
   "source": [
    "ut.runDefineBins(effFitter,defineBins)"
   ]
  },
  {
   "cell_type": "markdown",
   "metadata": {},
   "source": [
    "### Extract data frame and start getting the probas in a binned way"
   ]
  },
  {
   "cell_type": "code",
   "execution_count": null,
   "metadata": {
    "collapsed": false
   },
   "outputs": [],
   "source": [
    "df = effFitter.df\n",
    "first_train_evt = int(round(df.index.size*(1.-effFitter.split_frac)))\n",
    "\n",
    "#take the test sample \n",
    "df_test = df[:first_train_evt]"
   ]
  },
  {
   "cell_type": "code",
   "execution_count": null,
   "metadata": {
    "collapsed": false
   },
   "outputs": [],
   "source": [
    "#df_test[df_test['genJet2p5Pt0']>300][[\"genJet2p5Pt0Bin\",'genJet2p5Pt0']]"
   ]
  },
  {
   "cell_type": "code",
   "execution_count": null,
   "metadata": {
    "collapsed": true
   },
   "outputs": [],
   "source": []
  },
  {
   "cell_type": "code",
   "execution_count": null,
   "metadata": {
    "collapsed": true
   },
   "outputs": [],
   "source": []
  },
  {
   "cell_type": "code",
   "execution_count": null,
   "metadata": {
    "collapsed": false
   },
   "outputs": [],
   "source": [
    "def weighted_average(df_name, column_name, weight_name=None):\n",
    "    \"\"\"\n",
    "    This function computes the weighted average of the quantity column_name\n",
    "    stared in the pandas dataframe df_name. In case no weights are given\n",
    "    or if they sum up to zero, the mean is returned instead.\n",
    "    :params \n",
    "            df_name :\n",
    "        column_name :\n",
    "        weight_name :\n",
    "    :retruns\n",
    "                    :\n",
    "    \"\"\"\n",
    "    d = df_name[column_name]\n",
    "    w = df_name[weight_name]\n",
    "    #print(len(w))\n",
    "    if (weight_name == None) :\n",
    "        return float(d.mean())\n",
    "    else :\n",
    "        try:\n",
    "            return (d * w).sum() / float(w.sum())\n",
    "        except ZeroDivisionError:\n",
    "            return float(d.mean())"
   ]
  },
  {
   "cell_type": "code",
   "execution_count": null,
   "metadata": {
    "collapsed": false
   },
   "outputs": [],
   "source": [
    "def weight_freq (df_name, column_name, equal_to, weight_name) :\n",
    "    df = df_name#[df_name[column_name]==equal_to]\n",
    "    \n",
    "    w_all = df[weight_name].sum()\n",
    "    w_PartPhaseSpace = df[df[column_name] == equal_to][weight_name].sum()\n",
    "    #print(w_all)\n",
    "    #print(w_PartPhaseSpace)\n",
    "    return w_PartPhaseSpace / w_all"
   ]
  },
  {
   "cell_type": "code",
   "execution_count": null,
   "metadata": {
    "collapsed": false
   },
   "outputs": [],
   "source": [
    "def plotRelDiff_imshow(groupby_objects,binBoundaries, \n",
    "                        x_lab = None,\n",
    "                        y_lab = None,\n",
    "                          cmap=plt.cm.Blues,\n",
    "                      effPlot=False):\n",
    "   \n",
    "        \n",
    "    fig = plt.figure(figsize=(7,7))\n",
    "\n",
    "    r_pred, r_true = groupby_objects\n",
    "\n",
    "    x_pred,y_pred = r_pred.index.levels\n",
    "    x_true,y_true = r_true.index.levels\n",
    "\n",
    "    cm_pred = r_pred.values.reshape(len(x_pred),len(y_pred))\n",
    "    cm_true = r_true.values.reshape(len(x_true),len(y_true))\n",
    "\n",
    "    if effPlot :\n",
    "        cm_true = 1. - cm_true\n",
    "        cm_pred = 1. - cm_pred\n",
    "    \n",
    "    #plt.subplot(111)\n",
    "    total_sum_true_permille = np.sum(np.sum(cm_true))/100.\n",
    "    print(total_sum_true_permille)\n",
    "    \n",
    "    cm = np.divide((cm_true-cm_pred),cm_true, out=np.zeros_like(cm_true-cm_pred), \n",
    "                   where=cm_true>total_sum_true_permille ) \n",
    "    \n",
    "    cm = cm.T\n",
    "    \n",
    "    plt.imshow(cm, interpolation='nearest', cmap=cmap,origin='lower')\n",
    "    plt.title(r'$\\frac{\\mathrm{true} - \\mathrm{pred}}{\\mathrm{true}}$'+ '\\n')\n",
    "    \n",
    "    \n",
    "    \n",
    "    xtick_marks = np.arange(len(x_pred)+1)-0.5\n",
    "    xtick_names = binBoundaries[x_lab]['boundaries']\n",
    "    ytick_marks = np.arange(len(y_pred))-0.5\n",
    "    ytick_names = binBoundaries[y_lab]['boundaries']\n",
    "\n",
    "    xtick_names = np.round(xtick_names,2)\n",
    "    ytick_names = np.round(ytick_names,2)\n",
    "    plt.xticks(xtick_marks,xtick_names,rotation='90')\n",
    "\n",
    "    plt.xticks(xtick_marks, xtick_names)\n",
    "    plt.yticks(ytick_marks, ytick_names)\n",
    "\n",
    "\n",
    "    thresh = (cm.max()+cm.min()) / 2.\n",
    "    for i, j in itertools.product(range(cm.shape[0]), range(cm.shape[1])):\n",
    "        plt.text(j, i, np.round(cm[i, j],2), horizontalalignment=\"center\",\n",
    "             color=\"white\" if cm[i, j] > thresh else \"black\")\n",
    "\n",
    "\n",
    "    plt.xlabel(x_lab)\n",
    "    plt.ylabel(y_lab)\n",
    "    plt.tight_layout()\n",
    "\n",
    "    fig.subplots_adjust(top=0.78)   \n",
    "    cbar_ax = fig.add_axes([0.15, 0.97, 0.7, 0.02])\n",
    "    cb = plt.colorbar(cax=cbar_ax,orientation='horizontal')#,norm=plt.colors.Normalize(vmin=min_col,vmax=max_col))\n",
    "\n",
    "    #tick_locator = ticker.MaxNLocator(nbins=6)\n",
    "    #cb.locator = tick_locator\n",
    "    #cb.update_ticks()\n",
    "       \n",
    "    "
   ]
  },
  {
   "cell_type": "code",
   "execution_count": null,
   "metadata": {
    "collapsed": false
   },
   "outputs": [],
   "source": [
    "def plot_imshow(groupby_objects, binBoundaries, \n",
    "                          titles=[],\n",
    "                        x_lab = None,\n",
    "                        y_lab = None,\n",
    "                          cmap=plt.cm.Blues,\n",
    "                   effTag=False, effPlot=False):\n",
    "   \n",
    "\n",
    "    \n",
    "    if effTag :\n",
    "        plot_imshow(groupby_objects, binBoundaries=binBoundaries, titles=['predicted (clf) reco eff', 'true (data) reco eff'],\n",
    "                        x_lab = x_lab, y_lab = y_lab, cmap=plt.cm.Reds, effTag=False, effPlot=True)\n",
    "    else :\n",
    "        \n",
    "        cm_list = []\n",
    "\n",
    "        for k, r in enumerate(groupby_objects) :\n",
    "            x,y = r.index.levels\n",
    "            cm = r.values.reshape(len(x),len(y))\n",
    "            if effPlot :\n",
    "                cm = 1. - cm\n",
    "            \n",
    "            #check this\n",
    "            cm_list.append(cm.T)    \n",
    "                        \n",
    "        \n",
    "        fig, axarr = plt.subplots(1,2,figsize=(10,10))\n",
    "        \n",
    "        \n",
    "        minimum = np.amin(cm_list)\n",
    "        maximum = np.amax(cm_list)\n",
    "        \n",
    "        for l, cm in enumerate(cm_list) :\n",
    "        \n",
    "            plt.subplot('22'+str(l+1))\n",
    "            \n",
    "            \n",
    "            plt.imshow(cm_list[l], interpolation='nearest', cmap=cmap,origin='lower',\n",
    "                       vmin=minimum,vmax=maximum)\n",
    "            \n",
    "            plt.title(titles[l])\n",
    "\n",
    "            xtick_marks = np.arange(len(x)+1)-0.5\n",
    "            xtick_names = binBoundaries[x_lab]['boundaries']\n",
    "            ytick_marks = np.arange(len(y))-0.5\n",
    "            ytick_names = binBoundaries[y_lab]['boundaries']\n",
    "            \n",
    "            xtick_names = np.round(xtick_names,2)\n",
    "            ytick_names = np.round(ytick_names,2)\n",
    "            plt.xticks(xtick_marks,xtick_names,rotation='90')\n",
    "            \n",
    "            \n",
    "            \n",
    "            \n",
    "\n",
    "            plt.xlabel(x_lab)\n",
    "            if l == 0 :\n",
    "                print('hi')\n",
    "                plt.ylabel(y_lab)\n",
    "                plt.yticks(ytick_marks, ytick_names)\n",
    "            else :\n",
    "                #bad trick\n",
    "                plt.yticks(visible=False)\n",
    "            \n",
    "            #plt.tight_layout()\n",
    "\n",
    "            # text\n",
    "            thresh = (maximum + minimum) / 2.\n",
    "            for i, j in itertools.product(range(cm.shape[0]), range(cm.shape[1])):\n",
    "                plt.text(j, i, '%.2f' % cm[i, j], horizontalalignment=\"center\",\n",
    "                     color=\"white\" if cm[i, j] > thresh else \"black\")\n",
    "        \n",
    "        fig.subplots_adjust(top=0.85)   \n",
    "        cbar_ax = fig.add_axes([0.1, 0.98, 0.8, 0.02])\n",
    "        plt.colorbar(cax=cbar_ax,orientation='horizontal')#,norm=plt.colors.Normalize(vmin=min_col,vmax=max_col))\n",
    "        \n",
    "        plt.show()\n",
    "        if l == 0 :\n",
    "            plotRelDiff_imshow(groupby_objects=groupby_objects,binBoundaries=binBoundaries,x_lab=x_var,y_lab=y_var,cmap=plt.cm.Oranges,effPlot=True)\n",
    "        else :\n",
    "            plotRelDiff_imshow(groupby_objects=groupby_objects,binBoundaries=binBoundaries,x_lab=x_var,y_lab=y_var,cmap=plt.cm.Oranges)\n",
    "\n",
    "                 \n",
    "    "
   ]
  },
  {
   "cell_type": "code",
   "execution_count": null,
   "metadata": {
    "collapsed": false
   },
   "outputs": [],
   "source": [
    "N_recoNjets2p5Cats = 1\n",
    "\n",
    "for i in np.arange(N_recoNjets2p5Cats) :\n",
    "    column_proba_name = 'recoNjets2p5Cat_prob_'+str(i)\n",
    "    \n",
    "    gb_freq  = df.groupby([x_var+'Bin',y_var+'Bin']).apply(weight_freq,\"recoNjets2p5Cat\",(i-1),'absweight')\n",
    "    gb_proba = df_test.groupby([x_var+'Bin',y_var+'Bin']).apply(weighted_average, column_proba_name,'absweight')\n",
    "    \n",
    "    \n",
    "    title1 ='recoNjetsCat('+str(i-1)+') \\n predicted by clf'\n",
    "    title2 ='recoNjetsCat('+str(i-1)+') \\n true from data'\n",
    "   \n",
    "    if (i==0) :\n",
    "        print('perform efficiency (1- reco-proba) plot')\n",
    "        plot_imshow([gb_proba,gb_freq],binBoundaries=defineBins,x_lab=x_var,y_lab=y_var,titles=['predicted (clf) reco eff',\n",
    "                                                                    'true data reco eff'],effTag=True)\n",
    "    else :\n",
    "        plot_imshow([gb_proba,gb_freq],binBoundaries=defineBins, x_lab=x_var,y_lab=y_var,titles=[title1,title2])\n",
    " \n",
    "    "
   ]
  },
  {
   "cell_type": "code",
   "execution_count": null,
   "metadata": {
    "collapsed": true
   },
   "outputs": [],
   "source": []
  },
  {
   "cell_type": "code",
   "execution_count": null,
   "metadata": {
    "collapsed": true
   },
   "outputs": [],
   "source": [
    "from matplotlib import ticker"
   ]
  },
  {
   "cell_type": "markdown",
   "metadata": {
    "collapsed": true
   },
   "source": [
    "#### Perform plots with realtive ratio of true and predicted probas:  $ \\frac{\\text{true} - \\text{pred}}{\\text{true}} $"
   ]
  },
  {
   "cell_type": "code",
   "execution_count": null,
   "metadata": {
    "collapsed": false
   },
   "outputs": [],
   "source": [
    "N_recoNjets2p5Cats = 1\n",
    "\n",
    "for i in np.arange(N_recoNjets2p5Cats) :\n",
    "    column_proba_name = 'recoNjets2p5Cat_prob_'+str(i)\n",
    "    \n",
    "    gb_freq  = df.groupby([x_var+'Bin',y_var+'Bin']).apply(weight_freq,\"recoNjets2p5Cat\",(i-1),'absweight')\n",
    "    gb_proba = df_test.groupby([x_var+'Bin',y_var+'Bin']).apply(weighted_average, column_proba_name,'absweight')\n",
    "    \n",
    "    if i == 0 :\n",
    "        plotRelDiff_imshow([gb_proba,gb_freq],binBoundaries=defineBins,x_lab=x_var,y_lab=y_var,cmap=plt.cm.Oranges,effPlot=True)\n",
    "    else :\n",
    "        plotRelDiff_imshow([gb_proba,gb_freq],binBoundaries=defineBins,x_lab=x_var,y_lab=y_var,cmap=plt.cm.Oranges)\n",
    "        "
   ]
  },
  {
   "cell_type": "code",
   "execution_count": null,
   "metadata": {
    "collapsed": true
   },
   "outputs": [],
   "source": []
  },
  {
   "cell_type": "code",
   "execution_count": null,
   "metadata": {
    "collapsed": true
   },
   "outputs": [],
   "source": []
  }
 ],
 "metadata": {
  "anaconda-cloud": {},
  "kernelspec": {
   "display_name": "Python [default]",
   "language": "python",
   "name": "python2"
  },
  "language_info": {
   "codemirror_mode": {
    "name": "ipython",
    "version": 2
   },
   "file_extension": ".py",
   "mimetype": "text/x-python",
   "name": "python",
   "nbconvert_exporter": "python",
   "pygments_lexer": "ipython2",
   "version": "2.7.12"
  },
  "widgets": {
   "state": {
    "079474a805b9406489cc1d1862275a3f": {
     "views": [
      {
       "cell_index": 7
      }
     ]
    },
    "12b2498fa53a47a1ba4bdbb6d2651cdc": {
     "views": [
      {
       "cell_index": 6
      }
     ]
    },
    "142b9c1d574740069d04e4d827f72c5c": {
     "views": [
      {
       "cell_index": 7
      }
     ]
    },
    "1905d861178141d199f2ac5c6f656b52": {
     "views": [
      {
       "cell_index": 6
      }
     ]
    },
    "2c5ee14a8fe44df697a6b86dea1e12cc": {
     "views": [
      {
       "cell_index": 6
      }
     ]
    },
    "3217dbe361ce4b4db98780ab5d8bf942": {
     "views": [
      {
       "cell_index": 8
      }
     ]
    },
    "3c2462c486fc498ab7a3ee912c9fcd52": {
     "views": [
      {
       "cell_index": 6
      }
     ]
    },
    "4d1dada9840648d09524e79ed689844e": {
     "views": [
      {
       "cell_index": 6
      }
     ]
    },
    "4dba31ca842247e1aba18a69b58961e5": {
     "views": [
      {
       "cell_index": 6
      }
     ]
    },
    "577d9888d77645249af4de0c0e5fa825": {
     "views": [
      {
       "cell_index": 20
      }
     ]
    },
    "580fc7030ae54ca7a5c95c2b354e2a3b": {
     "views": [
      {
       "cell_index": 6
      }
     ]
    },
    "5ae75c6e87d04550906c61378fc8a0dc": {
     "views": [
      {
       "cell_index": 5
      }
     ]
    },
    "5e4e2dd85f1f410f81b9f2899d05883b": {
     "views": [
      {
       "cell_index": 6
      }
     ]
    },
    "5f991c38dfaa40e8adf487332b1352ea": {
     "views": [
      {
       "cell_index": 6
      },
      {
       "cell_index": 6
      },
      {
       "cell_index": 6
      },
      {
       "cell_index": 6
      },
      {
       "cell_index": 6
      },
      {
       "cell_index": 6
      },
      {
       "cell_index": 6
      },
      {
       "cell_index": 6
      },
      {
       "cell_index": 6
      },
      {
       "cell_index": 6
      },
      {
       "cell_index": 6
      },
      {
       "cell_index": 6
      },
      {
       "cell_index": 6
      },
      {
       "cell_index": 6
      },
      {
       "cell_index": 6
      },
      {
       "cell_index": 6
      },
      {
       "cell_index": 6
      },
      {
       "cell_index": 6
      },
      {
       "cell_index": 6
      },
      {
       "cell_index": 6
      },
      {
       "cell_index": 6
      },
      {
       "cell_index": 6
      },
      {
       "cell_index": 6
      },
      {
       "cell_index": 6
      },
      {
       "cell_index": 6
      }
     ]
    },
    "645f7a3265604f56ae0d3ff1718c182f": {
     "views": [
      {
       "cell_index": 7
      }
     ]
    },
    "6467acabf8204ce2bf8719b986cd21d6": {
     "views": [
      {
       "cell_index": 7
      }
     ]
    },
    "669197d02922491a8301badfd139b8f9": {
     "views": [
      {
       "cell_index": 6
      }
     ]
    },
    "6b55654fe75a4641b6a7fbaa83ac0d7b": {
     "views": [
      {
       "cell_index": 6
      }
     ]
    },
    "6cf86d97461d43088f7b9ad83dc4e05c": {
     "views": [
      {
       "cell_index": 6
      }
     ]
    },
    "721ef207d08a46358e5b5982a31705fb": {
     "views": [
      {
       "cell_index": 8
      }
     ]
    },
    "75a55e8242d447ef9e078e1e678e7c46": {
     "views": [
      {
       "cell_index": 8
      }
     ]
    },
    "760804d6ee344fc3803072d9781384d5": {
     "views": [
      {
       "cell_index": 8
      }
     ]
    },
    "7cedc13864884e81841bee536db91b86": {
     "views": [
      {
       "cell_index": 7
      }
     ]
    },
    "7d3fe9ee8ba64e5b81ce2536c7df564a": {
     "views": [
      {
       "cell_index": 6
      }
     ]
    },
    "80c8214b2821428aad44bbc292e2e965": {
     "views": [
      {
       "cell_index": 7
      }
     ]
    },
    "834d362f868d4b09a1a2ec3a8871d940": {
     "views": [
      {
       "cell_index": 6
      }
     ]
    },
    "838f15fd61384b8f9b8a6d7250185b72": {
     "views": [
      {
       "cell_index": 6
      }
     ]
    },
    "9377e3e08f3548129d0a5cc1d2db76c4": {
     "views": [
      {
       "cell_index": 6
      }
     ]
    },
    "9993b1e5c8cb42bfa76960fb874e47d8": {
     "views": [
      {
       "cell_index": 7
      }
     ]
    },
    "9a616b2dc8d04895a4fe6dd496f27d75": {
     "views": [
      {
       "cell_index": 6
      }
     ]
    },
    "9ceb0bd21e794745a7b2170036fc5a1a": {
     "views": [
      {
       "cell_index": 7
      }
     ]
    },
    "a0aabe40f2f94f65868e2920647837c3": {
     "views": [
      {
       "cell_index": 6
      }
     ]
    },
    "ad74c702bb9f4d9b9ca26d272edebe95": {
     "views": [
      {
       "cell_index": 6
      }
     ]
    },
    "afcbf864ce6042a4b36787beca72d700": {
     "views": [
      {
       "cell_index": 6
      },
      {
       "cell_index": 6
      },
      {
       "cell_index": 6
      },
      {
       "cell_index": 6
      },
      {
       "cell_index": 6
      },
      {
       "cell_index": 6
      },
      {
       "cell_index": 6
      },
      {
       "cell_index": 6
      },
      {
       "cell_index": 6
      },
      {
       "cell_index": 6
      },
      {
       "cell_index": 6
      },
      {
       "cell_index": 6
      },
      {
       "cell_index": 6
      },
      {
       "cell_index": 6
      },
      {
       "cell_index": 6
      },
      {
       "cell_index": 6
      },
      {
       "cell_index": 6
      },
      {
       "cell_index": 6
      },
      {
       "cell_index": 6
      },
      {
       "cell_index": 6
      },
      {
       "cell_index": 6
      },
      {
       "cell_index": 6
      },
      {
       "cell_index": 6
      },
      {
       "cell_index": 6
      }
     ]
    },
    "bac1fa7541d24ef19a8510a3a3711ef4": {
     "views": [
      {
       "cell_index": 7
      }
     ]
    },
    "bdf701d29c434f8ab312186763e7f23a": {
     "views": [
      {
       "cell_index": 7
      }
     ]
    },
    "bfbdd757b8404920ac301a4f87bff826": {
     "views": [
      {
       "cell_index": 6
      }
     ]
    },
    "c51b918b63cd40249637e552262051bd": {
     "views": [
      {
       "cell_index": 6
      }
     ]
    },
    "c6d6103e0b424747b84789b1c4078093": {
     "views": [
      {
       "cell_index": 7
      }
     ]
    },
    "cfba76361687416486425d403a964eda": {
     "views": [
      {
       "cell_index": 5
      }
     ]
    },
    "d69740a35bd24ca2aacea0c3d89795c3": {
     "views": [
      {
       "cell_index": 6
      }
     ]
    },
    "dbeabdbaf83d442f81b265fd139173e6": {
     "views": [
      {
       "cell_index": 6
      }
     ]
    },
    "de5507b2606440e8840735e6afcb0bbc": {
     "views": [
      {
       "cell_index": 7
      }
     ]
    },
    "dea0b1048d86480595971567c9d80ce9": {
     "views": [
      {
       "cell_index": 6
      },
      {
       "cell_index": 6
      },
      {
       "cell_index": 6
      },
      {
       "cell_index": 6
      },
      {
       "cell_index": 6
      },
      {
       "cell_index": 6
      },
      {
       "cell_index": 6
      },
      {
       "cell_index": 6
      },
      {
       "cell_index": 6
      },
      {
       "cell_index": 6
      },
      {
       "cell_index": 6
      },
      {
       "cell_index": 6
      },
      {
       "cell_index": 6
      },
      {
       "cell_index": 6
      },
      {
       "cell_index": 6
      },
      {
       "cell_index": 6
      },
      {
       "cell_index": 6
      },
      {
       "cell_index": 6
      },
      {
       "cell_index": 6
      },
      {
       "cell_index": 6
      },
      {
       "cell_index": 6
      },
      {
       "cell_index": 6
      },
      {
       "cell_index": 6
      },
      {
       "cell_index": 6
      },
      {
       "cell_index": 6
      }
     ]
    },
    "decbe41731a74225a5d4d8b9d1a23574": {
     "views": [
      {
       "cell_index": 8
      }
     ]
    }
   },
   "version": "1.2.0"
  }
 },
 "nbformat": 4,
 "nbformat_minor": 0
}
