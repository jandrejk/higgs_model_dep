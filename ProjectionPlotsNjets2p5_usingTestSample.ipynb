{
 "cells": [
  {
   "cell_type": "markdown",
   "metadata": {},
   "source": [
    "# Make efficiency map plots for trained fitters"
   ]
  },
  {
   "cell_type": "code",
   "execution_count": 1,
   "metadata": {
    "collapsed": false
   },
   "outputs": [
    {
     "data": {
      "application/javascript": [
       "require(['codemirror/mode/clike/clike'], function(Clike) { console.log('ROOTaaS - C++ CodeMirror module loaded'); });"
      ]
     },
     "metadata": {},
     "output_type": "display_data"
    },
    {
     "data": {
      "application/javascript": [
       "IPython.CodeCell.config_defaults.highlight_modes['magic_text/x-c++src'] = {'reg':[/^%%cpp/]};"
      ]
     },
     "metadata": {},
     "output_type": "display_data"
    },
    {
     "name": "stdout",
     "output_type": "stream",
     "text": [
      "Welcome to ROOTaaS 6.06/08\n"
     ]
    }
   ],
   "source": [
    "import train as tn\n",
    "reload(tn)\n",
    "\n",
    "import plotting\n",
    "reload(plotting)\n",
    "\n",
    "import util as ut\n",
    "\n",
    "import matplotlib.pyplot as plt\n",
    "#plt.style.use('seaborn-ticks')\n",
    "plt.style.use('seaborn-poster')\n",
    "%matplotlib inline\n",
    "#%matplotlib notebook\n",
    "\n",
    "import numpy as np\n",
    "\n",
    "from pprint import pprint\n",
    "\n",
    "import itertools\n",
    "\n",
    "# import xgboost"
   ]
  },
  {
   "cell_type": "code",
   "execution_count": 2,
   "metadata": {
    "collapsed": false
   },
   "outputs": [
    {
     "name": "stdout",
     "output_type": "stream",
     "text": [
      "entered config files named my_train_config\n",
      "None\n",
      "Load object with the name effGenVarClassBinnedRecoPtBinnedRecoNjets2p5_out and the following paramters \n",
      "{'classifiers': [],\n",
      " 'clean': [],\n",
      " 'dataDir': './data',\n",
      " 'dataFname': 'output_InsideAcceptance_125.root',\n",
      " 'defineBins': {},\n",
      " 'forceMake': False,\n",
      " 'genBranches': ['genPt',\n",
      "                 'genRapidity',\n",
      "                 'genJet2p5Pt0',\n",
      "                 'genJet2p5Rapidity0',\n",
      "                 'genJet2p5Pt1',\n",
      "                 'genJet2p5Rapidity1',\n",
      "                 'genJet2p5Pt2',\n",
      "                 'genJet2p5Rapidity2',\n",
      "                 'genJet2p5Pt3',\n",
      "                 'genJet2p5Rapidity3',\n",
      "                 'weight',\n",
      "                 'genNjets2p5'],\n",
      " 'inputDir': './classifiers',\n",
      " 'inputName': 'effGenVarClassBinnedRecoPtBinnedRecoNjets2p5_out',\n",
      " 'load': True,\n",
      " 'ncats': 3,\n",
      " 'outDir': '.',\n",
      " 'outName': 'effFitter_out',\n",
      " 'pfx': 'genDiphotonDumper/trees/InsideAcceptance_125_13TeV',\n",
      " 'recoBranches': ['recoPt', 'recoRapidity', 'recoNjets2p5'],\n",
      " 'rndseed': 9347865,\n",
      " 'rndseed2': 2315645,\n",
      " 'split_frac': 0.75}\n",
      "./classifiers\n",
      "./classifiers/effGenVarClassBinnedRecoPtBinnedRecoNjets2p5_out.pkl.gz\n",
      "loading pickle ./classifiers/effGenVarClassBinnedRecoPtBinnedRecoNjets2p5_out.pkl.gz\n",
      "loading data ./classifiers/effGenVarClassBinnedRecoPtBinnedRecoNjets2p5_out.root\n",
      "<train.EfficiencyFitter object at 0x7f935dd6aa90>\n",
      "Index([u'absweight', u'class', u'genJet2p5Pt0', u'genJet2p5Pt1',\n",
      "       u'genJet2p5Pt2', u'genJet2p5Pt3', u'genJet2p5Rapidity0',\n",
      "       u'genJet2p5Rapidity1', u'genJet2p5Rapidity2', u'genJet2p5Rapidity3',\n",
      "       u'genNjets2p5', u'genPt', u'genRapidity', u'recoNjets2p5', u'recoPt',\n",
      "       u'recoRapidity', u'weight', u'proc', u'absGenRapidity', u'recoPtBin',\n",
      "       u'recoPtCat', u'recoNjets2p5Bin', u'recoNjets2p5Cat', u'class_prob_0',\n",
      "       u'class_prob_1', u'class_prob_2', u'class_prob_3', u'recoPtCat_prob_0',\n",
      "       u'recoPtCat_prob_1', u'recoPtCat_prob_2', u'recoPtCat_prob_3',\n",
      "       u'recoPtCat_prob_4', u'recoPtCat_prob_5', u'recoPtCat_prob_6',\n",
      "       u'recoPtCat_prob_7', u'recoPtCat_prob_8', u'recoPtCat_prob_9',\n",
      "       u'recoPtCat_prob_10', u'recoPtCat_prob_11', u'recoPtCat_prob_12',\n",
      "       u'recoPtCat_prob_13', u'recoPtCat_prob_14', u'recoPtCat_prob_15',\n",
      "       u'recoPtCat_prob_16', u'recoPtCat_prob_17', u'recoPtCat_prob_18',\n",
      "       u'recoPtCat_prob_19', u'recoPtCat_prob_20', u'recoPtCat_prob_21',\n",
      "       u'recoPtCat_prob_22', u'recoPtCat_prob_23', u'recoPtCat_prob_24',\n",
      "       u'recoNjets2p5Cat_prob_0', u'recoNjets2p5Cat_prob_1',\n",
      "       u'recoNjets2p5Cat_prob_2', u'recoNjets2p5Cat_prob_3',\n",
      "       u'recoNjets2p5Cat_prob_4', u'recoNjets2p5Cat_prob_5',\n",
      "       u'recoNjets2p5Cat_prob_6', u'recoNjets2p5Cat_prob_7',\n",
      "       u'recoNjets2p5Cat_prob_8', u'recoNjets2p5Cat_prob_9',\n",
      "       u'recoNjets2p5Cat_prob_10', u'recoNjets2p5Cat_prob_11',\n",
      "       u'recoNjets2p5Cat_prob_12', u'recoNjets2p5Cat_prob_13',\n",
      "       u'recoNjets2p5Cat_prob_14', u'recoNjets2p5Cat_prob_15'],\n",
      "      dtype='object')\n",
      "{'class': GradientBoostingClassifier(criterion='friedman_mse', init=None,\n",
      "              learning_rate=0.2, loss='deviance', max_depth=5,\n",
      "              max_features=None, max_leaf_nodes=None,\n",
      "              min_impurity_split=1e-07, min_samples_leaf=1,\n",
      "              min_samples_split=2, min_weight_fraction_leaf=0.001,\n",
      "              n_estimators=200, presort='auto', random_state=None,\n",
      "              subsample=1.0, verbose=0, warm_start=False),\n",
      " 'recoNjets2p5': XGBClassifier(base_score=0.5, colsample_bylevel=1, colsample_bytree=1,\n",
      "       gamma=0, learning_rate=0.1, max_delta_step=0, max_depth=7,\n",
      "       min_child_weight=1e-05, missing=nan, n_estimators=500, nthread=16,\n",
      "       objective='multi:softprob', reg_alpha=0, reg_lambda=1,\n",
      "       scale_pos_weight=1, seed=0, silent=True, subsample=1),\n",
      " 'recoPt': XGBClassifier(base_score=0.5, colsample_bylevel=1, colsample_bytree=1,\n",
      "       gamma=0, learning_rate=0.1, max_delta_step=0, max_depth=5,\n",
      "       min_child_weight=1e-05, missing=nan, n_estimators=500, nthread=16,\n",
      "       objective='multi:softprob', reg_alpha=0, reg_lambda=1,\n",
      "       scale_pos_weight=1, seed=0, silent=True, subsample=1)}\n"
     ]
    }
   ],
   "source": [
    "#note that the loading option is True by default\n",
    "ut.defaultParameters(dataDir='./data', inputName=\"effGenVarClassBinnedRecoPtBinnedRecoNjets2p5_out\", inputDir='./classifiers')\n",
    "ut.setParams()\n",
    "effFitter = ut.loadOrMake()"
   ]
  },
  {
   "cell_type": "markdown",
   "metadata": {},
   "source": [
    "### define bins in genJet2p5Rapidity0 and genJet2p5Pt0"
   ]
  },
  {
   "cell_type": "code",
   "execution_count": 3,
   "metadata": {
    "collapsed": false
   },
   "outputs": [],
   "source": [
    " defineBins = { 'genJet2p5Rapidity0' : dict(boundaries=[-5.,-2.,0.,2.,5.],overflow=False), # do not add overflow automatically\n",
    "                'genJet2p5Pt0' : dict(boundaries=[0.,50.,100.,200.,1000.],overflow=False)\n",
    "            }   "
   ]
  },
  {
   "cell_type": "code",
   "execution_count": 4,
   "metadata": {
    "collapsed": true
   },
   "outputs": [],
   "source": [
    "ut.runDefineBins(effFitter,defineBins)"
   ]
  },
  {
   "cell_type": "markdown",
   "metadata": {},
   "source": [
    "### Extract data frame and start getting the probas in a binned way"
   ]
  },
  {
   "cell_type": "code",
   "execution_count": 5,
   "metadata": {
    "collapsed": false
   },
   "outputs": [],
   "source": [
    "df = effFitter.df\n",
    "first_train_evt = int(round(df.index.size*(1.-effFitter.split_frac)))\n",
    "df_test = df[:first_train_evt]"
   ]
  },
  {
   "cell_type": "code",
   "execution_count": 6,
   "metadata": {
    "collapsed": false
   },
   "outputs": [],
   "source": [
    "def weighted_average(df_name, column_name, weight_name=None):\n",
    "    \"\"\"\n",
    "    This function computes the weighted average of the quantity column_name\n",
    "    stared in the pandas dataframe df_name. In case no weights are given\n",
    "    or if they sum up to zero, the mean is returned instead.\n",
    "    :params \n",
    "            df_name :\n",
    "        column_name :\n",
    "        weight_name :\n",
    "    :retruns\n",
    "                    :\n",
    "    \"\"\"\n",
    "    d = df_name[column_name]\n",
    "    w = df_name[weight_name]\n",
    "    if (weight_name == None) :\n",
    "        return float(d.mean())\n",
    "    else :\n",
    "        try:\n",
    "            return (d * w).sum() / float(w.sum())\n",
    "        except ZeroDivisionError:\n",
    "            return float(d.mean())"
   ]
  },
  {
   "cell_type": "code",
   "execution_count": 7,
   "metadata": {
    "collapsed": false
   },
   "outputs": [
    {
     "data": {
      "text/plain": [
       "genJet2p5Rapidity0Bin  genJet2p5Pt0Bin\n",
       "0                      0                  0.391216\n",
       "                       1                  0.397270\n",
       "                       2                  0.363839\n",
       "                       3                  0.345287\n",
       "1                      0                  0.410543\n",
       "                       1                  0.406267\n",
       "                       2                  0.382631\n",
       "                       3                  0.335750\n",
       "2                      0                  0.412034\n",
       "                       1                  0.407390\n",
       "                       2                  0.382579\n",
       "                       3                  0.343419\n",
       "3                      0                  0.397346\n",
       "                       1                  0.408442\n",
       "                       2                  0.374781\n",
       "                       3                  0.323438\n",
       "dtype: float64"
      ]
     },
     "execution_count": 7,
     "metadata": {},
     "output_type": "execute_result"
    }
   ],
   "source": [
    "df_test.groupby(['genJet2p5Rapidity0Bin','genJet2p5Pt0Bin']).apply(weighted_average,\"recoNjets2p5Cat_prob_0\",'absweight')"
   ]
  },
  {
   "cell_type": "markdown",
   "metadata": {},
   "source": [
    "### get the \"true\" probability in each bin by computing the frequency of each event"
   ]
  },
  {
   "cell_type": "code",
   "execution_count": 9,
   "metadata": {
    "collapsed": false
   },
   "outputs": [
    {
     "name": "stdout",
     "output_type": "stream",
     "text": [
      "0\n",
      "3\n",
      "nan\n",
      "3\n",
      "\u0007"
     ]
    }
   ],
   "source": [
    "print(df_test['genJet2p5Rapidity0Bin'].min())\n",
    "print(df_test['genJet2p5Rapidity0Bin'].max())\n",
    "print(df_test['genJet2p5Pt0Bin'].min())\n",
    "print(df_test['genJet2p5Pt0Bin'].max())\n"
   ]
  },
  {
   "cell_type": "code",
   "execution_count": 11,
   "metadata": {
    "collapsed": false
   },
   "outputs": [
    {
     "data": {
      "text/html": [
       "<div>\n",
       "<table border=\"1\" class=\"dataframe\">\n",
       "  <thead>\n",
       "    <tr style=\"text-align: right;\">\n",
       "      <th></th>\n",
       "      <th>genJet2p5Pt0Bin</th>\n",
       "      <th>genJet2p5Pt0</th>\n",
       "    </tr>\n",
       "    <tr>\n",
       "      <th>random_index</th>\n",
       "      <th></th>\n",
       "      <th></th>\n",
       "    </tr>\n",
       "  </thead>\n",
       "  <tbody>\n",
       "    <tr>\n",
       "      <th>0</th>\n",
       "      <td>1.0</td>\n",
       "      <td>84.751411</td>\n",
       "    </tr>\n",
       "    <tr>\n",
       "      <th>1</th>\n",
       "      <td>NaN</td>\n",
       "      <td>0.000000</td>\n",
       "    </tr>\n",
       "    <tr>\n",
       "      <th>2</th>\n",
       "      <td>0.0</td>\n",
       "      <td>41.552631</td>\n",
       "    </tr>\n",
       "    <tr>\n",
       "      <th>3</th>\n",
       "      <td>0.0</td>\n",
       "      <td>47.969078</td>\n",
       "    </tr>\n",
       "    <tr>\n",
       "      <th>4</th>\n",
       "      <td>1.0</td>\n",
       "      <td>68.500809</td>\n",
       "    </tr>\n",
       "  </tbody>\n",
       "</table>\n",
       "</div>"
      ],
      "text/plain": [
       "             genJet2p5Pt0Bin  genJet2p5Pt0\n",
       "random_index                              \n",
       "0                        1.0     84.751411\n",
       "1                        NaN      0.000000\n",
       "2                        0.0     41.552631\n",
       "3                        0.0     47.969078\n",
       "4                        1.0     68.500809"
      ]
     },
     "execution_count": 11,
     "metadata": {},
     "output_type": "execute_result"
    }
   ],
   "source": [
    "df_test[['genJet2p5Pt0Bin','genJet2p5Pt0']][0:5]"
   ]
  },
  {
   "cell_type": "code",
   "execution_count": null,
   "metadata": {
    "collapsed": true
   },
   "outputs": [],
   "source": []
  },
  {
   "cell_type": "code",
   "execution_count": null,
   "metadata": {
    "collapsed": true
   },
   "outputs": [],
   "source": []
  }
 ],
 "metadata": {
  "anaconda-cloud": {},
  "kernelspec": {
   "display_name": "Python [default]",
   "language": "python",
   "name": "python2"
  },
  "language_info": {
   "codemirror_mode": {
    "name": "ipython",
    "version": 2
   },
   "file_extension": ".py",
   "mimetype": "text/x-python",
   "name": "python",
   "nbconvert_exporter": "python",
   "pygments_lexer": "ipython2",
   "version": "2.7.12"
  }
 },
 "nbformat": 4,
 "nbformat_minor": 0
}
