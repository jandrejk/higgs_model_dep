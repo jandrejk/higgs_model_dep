{
 "cells": [
  {
   "cell_type": "code",
   "execution_count": 1,
   "metadata": {
    "collapsed": false
   },
   "outputs": [
    {
     "data": {
      "application/javascript": [
       "require(['codemirror/mode/clike/clike'], function(Clike) { console.log('ROOTaaS - C++ CodeMirror module loaded'); });"
      ]
     },
     "metadata": {},
     "output_type": "display_data"
    },
    {
     "data": {
      "application/javascript": [
       "IPython.CodeCell.config_defaults.highlight_modes['magic_text/x-c++src'] = {'reg':[/^%%cpp/]};"
      ]
     },
     "metadata": {},
     "output_type": "display_data"
    },
    {
     "name": "stderr",
     "output_type": "stream",
     "text": [
      "ERROR:root:Line magic function `%jsroot` not found.\n"
     ]
    },
    {
     "name": "stdout",
     "output_type": "stream",
     "text": [
      "Welcome to ROOTaaS 6.06/08\n",
      "[Errno 17] File exists: 'plots'\n"
     ]
    }
   ],
   "source": [
    "import refitter as rf\n",
    "reload(rf)\n",
    "\n",
    "import ROOT as RT\n",
    "# RT.gROOT.LoadMacro(\"~/rootlogon.C\")\n",
    "RT.gStyle.SetOptStat(0)\n",
    "RT.gStyle.SetPalette(RT.kViridis)\n",
    "import numpy as np\n",
    "\n",
    "import pyrapp as pya\n",
    "reload(pya)\n",
    "app = pya.PyRApp([],args=[\"-O\",\"plots\"])\n",
    "app.options.saveas=[\"root\",\"pdf\"]\n",
    "def save(obj):\n",
    "    app.keep(obj,format=True)\n",
    "    app.save(True)\n",
    "\n",
    "import os\n",
    "    \n",
    "#%jsroot on\n",
    "%jsroot off"
   ]
  },
  {
   "cell_type": "code",
   "execution_count": 2,
   "metadata": {
    "collapsed": false
   },
   "outputs": [
    {
     "name": "stdout",
     "output_type": "stream",
     "text": [
      "\n",
      "\u001b[1mRooFit v3.60 -- Developed by Wouter Verkerke and David Kirkby\u001b[0m \n",
      "                Copyright (C) 2000-2013 NIKHEF, University of California & Stanford University\n",
      "                All rights reserved, please read http://roofit.sourceforge.net/license.txt\n",
      "\n",
      "\n",
      "Eff\n",
      "genPt:abs(genRapidity)>>hptyEff_0(30,0.,3,30,0,300)\n",
      "genPt:abs(genRapidity)>>hptyEff_1(30,0.,3,30,0,300)\n",
      "genPt:abs(genRapidity)>>hptyEff_2(30,0.,3,30,0,300)\n"
     ]
    }
   ],
   "source": [
    "inputDir=os.path.expanduser(\"root://t3dcachedb03.psi.ch//pnfs/psi.ch/cms/trivcat/store/user/musella/mod_dep_005/\")\n",
    "\n",
    "eff = rf.ProcessHistos(\"Eff\",inputDir+\"/output_InsideAcceptance_125.root\",\n",
    "                      \"hpty\",\n",
    "                      \"genPt:abs(genRapidity)\",\"(30,0.,3,30,0,300)\",\"abs(weight)\",3,\n",
    "                      doOverall=True\n",
    "                     )"
   ]
  },
  {
   "cell_type": "code",
   "execution_count": null,
   "metadata": {
    "collapsed": false
   },
   "outputs": [],
   "source": []
  },
  {
   "cell_type": "code",
   "execution_count": 3,
   "metadata": {
    "collapsed": false
   },
   "outputs": [
    {
     "name": "stderr",
     "output_type": "stream",
     "text": [
      "Info in <TCanvas::SaveAs>: ROOT file plots/efficiency.root has been created\n",
      "Info in <TCanvas::Print>: pdf file plots/efficiency.pdf has been created\n"
     ]
    },
    {
     "data": {
      "image/png": "[encoded data removed]",
      "text/plain": [
       "<IPython.core.display.Image object>"
      ]
     },
     "metadata": {},
     "output_type": "display_data"
    },
    {
     "name": "stderr",
     "output_type": "stream",
     "text": [
      "Info in <TCanvas::SaveAs>: ROOT file plots/efficiency.root has been created\r\n",
      "Info in <TCanvas::Print>: pdf file plots/efficiency.pdf has been created\r\n"
     ]
    }
   ],
   "source": [
    "#%jsroot on\n",
    "eff.computeEfficiencies()\n",
    "\n",
    "canv=rf.drawHists(eff,htitle=\"efficiency cat %d; y;p_{T} (GeV)\",nplots=-1,name=\"efficiency\")\n",
    "save(canv)"
   ]
  },
  {
   "cell_type": "code",
   "execution_count": 5,
   "metadata": {
    "collapsed": false
   },
   "outputs": [
    {
     "name": "stdout",
     "output_type": "stream",
     "text": [
      "\n",
      "SM\n",
      "genPt:abs(genRapidity)>>hptySM_0(30,0.,3,30,0,300)\n",
      "genPt:abs(genRapidity)>>hptySM_1(30,0.,3,30,0,300)\n",
      "genPt:abs(genRapidity)>>hptySM_2(30,0.,3,30,0,300)\n"
     ]
    },
    {
     "ename": "ReferenceError",
     "evalue": "attempt to access a null-pointer",
     "output_type": "error",
     "traceback": [
      "\u001b[0;31m\u001b[0m",
      "\u001b[0;31mReferenceError\u001b[0mTraceback (most recent call last)",
      "\u001b[0;32m<ipython-input-5-6ba702c2b685>\u001b[0m in \u001b[0;36m<module>\u001b[0;34m()\u001b[0m\n\u001b[1;32m      7\u001b[0m                       \u001b[0;34m\"hpty\"\u001b[0m\u001b[0;34m,\u001b[0m\u001b[0;34m\u001b[0m\u001b[0m\n\u001b[1;32m      8\u001b[0m                       \u001b[0;34m\"genPt:abs(genRapidity)\"\u001b[0m\u001b[0;34m,\u001b[0m\u001b[0;34m\"(30,0.,3,30,0,300)\"\u001b[0m\u001b[0;34m,\u001b[0m\u001b[0;34m\"weight\"\u001b[0m\u001b[0;34m,\u001b[0m\u001b[0;36m3\u001b[0m\u001b[0;34m,\u001b[0m\u001b[0;34m\u001b[0m\u001b[0m\n\u001b[0;32m----> 9\u001b[0;31m                       \u001b[0mtreepfx\u001b[0m\u001b[0;34m=\u001b[0m\u001b[0;34m\"genDiphotonDumper/trees/OutsideAcceptance_125_13TeV\"\u001b[0m\u001b[0;34m,\u001b[0m\u001b[0;34m\u001b[0m\u001b[0m\n\u001b[0m\u001b[1;32m     10\u001b[0m                     )\n",
      "\u001b[0;32m/mnt/t3nfs01/data01/shome/musella/Analysis/jupyter/higgs_model_dep/refitter.pyc\u001b[0m in \u001b[0;36m__init__\u001b[0;34m(self, process, fname, name, expr, binning, weight, ncats, treepfx, doOverall, genOnly)\u001b[0m\n\u001b[1;32m    111\u001b[0m     \u001b[0;31m# ---------------------------------------------------------------------------\u001b[0m\u001b[0;34m\u001b[0m\u001b[0;34m\u001b[0m\u001b[0m\n\u001b[1;32m    112\u001b[0m     \u001b[0;32mdef\u001b[0m \u001b[0m__init__\u001b[0m\u001b[0;34m(\u001b[0m\u001b[0mself\u001b[0m\u001b[0;34m,\u001b[0m\u001b[0mprocess\u001b[0m\u001b[0;34m,\u001b[0m\u001b[0mfname\u001b[0m\u001b[0;34m,\u001b[0m\u001b[0mname\u001b[0m\u001b[0;34m,\u001b[0m\u001b[0mexpr\u001b[0m\u001b[0;34m,\u001b[0m\u001b[0mbinning\u001b[0m\u001b[0;34m,\u001b[0m\u001b[0mweight\u001b[0m\u001b[0;34m,\u001b[0m\u001b[0mncats\u001b[0m\u001b[0;34m,\u001b[0m\u001b[0mtreepfx\u001b[0m\u001b[0;34m=\u001b[0m\u001b[0;34m\"genDiphotonDumper/trees/InsideAcceptance_125_13TeV\"\u001b[0m\u001b[0;34m,\u001b[0m\u001b[0mdoOverall\u001b[0m\u001b[0;34m=\u001b[0m\u001b[0mFalse\u001b[0m\u001b[0;34m,\u001b[0m\u001b[0mgenOnly\u001b[0m\u001b[0;34m=\u001b[0m\u001b[0mFalse\u001b[0m\u001b[0;34m)\u001b[0m\u001b[0;34m:\u001b[0m\u001b[0;34m\u001b[0m\u001b[0m\n\u001b[0;32m--> 113\u001b[0;31m         \u001b[0mrecord\u001b[0m \u001b[0;34m=\u001b[0m \u001b[0mreadIn\u001b[0m\u001b[0;34m(\u001b[0m\u001b[0mfname\u001b[0m\u001b[0;34m,\u001b[0m\u001b[0mprocess\u001b[0m\u001b[0;34m,\u001b[0m\u001b[0mtreepfx\u001b[0m\u001b[0;34m,\u001b[0m\u001b[0mncats\u001b[0m\u001b[0;34m)\u001b[0m\u001b[0;34m\u001b[0m\u001b[0m\n\u001b[0m\u001b[1;32m    114\u001b[0m \u001b[0;34m\u001b[0m\u001b[0m\n\u001b[1;32m    115\u001b[0m         \u001b[0;32mif\u001b[0m \u001b[0;32mnot\u001b[0m \u001b[0mgenOnly\u001b[0m\u001b[0;34m:\u001b[0m\u001b[0;34m\u001b[0m\u001b[0m\n",
      "\u001b[0;32m/mnt/t3nfs01/data01/shome/musella/Analysis/jupyter/higgs_model_dep/refitter.pyc\u001b[0m in \u001b[0;36mreadIn\u001b[0;34m(fname, process, treepfx, ncat)\u001b[0m\n\u001b[1;32m     33\u001b[0m     \u001b[0;31m# read-in trees: selected events\u001b[0m\u001b[0;34m\u001b[0m\u001b[0;34m\u001b[0m\u001b[0m\n\u001b[1;32m     34\u001b[0m     \u001b[0mfin\u001b[0m \u001b[0;34m=\u001b[0m \u001b[0mRT\u001b[0m\u001b[0;34m.\u001b[0m\u001b[0mTFile\u001b[0m\u001b[0;34m.\u001b[0m\u001b[0mOpen\u001b[0m\u001b[0;34m(\u001b[0m\u001b[0mfname\u001b[0m\u001b[0;34m)\u001b[0m\u001b[0;34m\u001b[0m\u001b[0m\n\u001b[0;32m---> 35\u001b[0;31m     \u001b[0mtrees\u001b[0m \u001b[0;34m=\u001b[0m \u001b[0mmap\u001b[0m\u001b[0;34m(\u001b[0m\u001b[0;32mlambda\u001b[0m \u001b[0mx\u001b[0m\u001b[0;34m:\u001b[0m \u001b[0mfin\u001b[0m\u001b[0;34m.\u001b[0m\u001b[0mGet\u001b[0m\u001b[0;34m(\u001b[0m\u001b[0mtreepfx\u001b[0m\u001b[0;34m+\u001b[0m\u001b[0;34m\"_SigmaMpTTag_%d\"\u001b[0m \u001b[0;34m%\u001b[0m \u001b[0mx\u001b[0m \u001b[0;34m)\u001b[0m\u001b[0;34m,\u001b[0m \u001b[0mxrange\u001b[0m\u001b[0;34m(\u001b[0m\u001b[0mncat\u001b[0m\u001b[0;34m)\u001b[0m\u001b[0;34m)\u001b[0m\u001b[0;34m\u001b[0m\u001b[0m\n\u001b[0m\u001b[1;32m     36\u001b[0m \u001b[0;34m\u001b[0m\u001b[0m\n\u001b[1;32m     37\u001b[0m     \u001b[0;31m# add also not selected events and make tree with all events\u001b[0m\u001b[0;34m\u001b[0m\u001b[0;34m\u001b[0m\u001b[0m\n",
      "\u001b[0;32m/mnt/t3nfs01/data01/shome/musella/Analysis/jupyter/higgs_model_dep/refitter.pyc\u001b[0m in \u001b[0;36m<lambda>\u001b[0;34m(x)\u001b[0m\n\u001b[1;32m     33\u001b[0m     \u001b[0;31m# read-in trees: selected events\u001b[0m\u001b[0;34m\u001b[0m\u001b[0;34m\u001b[0m\u001b[0m\n\u001b[1;32m     34\u001b[0m     \u001b[0mfin\u001b[0m \u001b[0;34m=\u001b[0m \u001b[0mRT\u001b[0m\u001b[0;34m.\u001b[0m\u001b[0mTFile\u001b[0m\u001b[0;34m.\u001b[0m\u001b[0mOpen\u001b[0m\u001b[0;34m(\u001b[0m\u001b[0mfname\u001b[0m\u001b[0;34m)\u001b[0m\u001b[0;34m\u001b[0m\u001b[0m\n\u001b[0;32m---> 35\u001b[0;31m     \u001b[0mtrees\u001b[0m \u001b[0;34m=\u001b[0m \u001b[0mmap\u001b[0m\u001b[0;34m(\u001b[0m\u001b[0;32mlambda\u001b[0m \u001b[0mx\u001b[0m\u001b[0;34m:\u001b[0m \u001b[0mfin\u001b[0m\u001b[0;34m.\u001b[0m\u001b[0mGet\u001b[0m\u001b[0;34m(\u001b[0m\u001b[0mtreepfx\u001b[0m\u001b[0;34m+\u001b[0m\u001b[0;34m\"_SigmaMpTTag_%d\"\u001b[0m \u001b[0;34m%\u001b[0m \u001b[0mx\u001b[0m \u001b[0;34m)\u001b[0m\u001b[0;34m,\u001b[0m \u001b[0mxrange\u001b[0m\u001b[0;34m(\u001b[0m\u001b[0mncat\u001b[0m\u001b[0;34m)\u001b[0m\u001b[0;34m)\u001b[0m\u001b[0;34m\u001b[0m\u001b[0m\n\u001b[0m\u001b[1;32m     36\u001b[0m \u001b[0;34m\u001b[0m\u001b[0m\n\u001b[1;32m     37\u001b[0m     \u001b[0;31m# add also not selected events and make tree with all events\u001b[0m\u001b[0;34m\u001b[0m\u001b[0;34m\u001b[0m\u001b[0m\n",
      "\u001b[0;31mReferenceError\u001b[0m: attempt to access a null-pointer"
     ]
    },
    {
     "name": "stderr",
     "output_type": "stream",
     "text": [
      "Error in <TNetXNGFile::Open>: [ERROR] Server responded with an error: [3011] No such file\r\n",
      "\r\n"
     ]
    }
   ],
   "source": [
    "sm = rf.ProcessHistos(\"SM\",inputDir+\"/output_InsideAcceptance_125.root\",\n",
    "                      \"hpty\",\n",
    "                      \"genPt:abs(genRapidity)\",\"(30,0.,3,30,0,300)\",\"weight\",3,\n",
    "                     doOverall=True)\n",
    "\n",
    "smoa = rf.ProcessHistos(\"SM_OA\",inputDir+\"/output_OutsideAcceptance_125.root\",\n",
    "                      \"hpty\",\n",
    "                      \"genPt:abs(genRapidity)\",\"(30,0.,3,30,0,300)\",\"weight\",3,\n",
    "                      treepfx=\"genDiphotonDumper/trees/OutsideAcceptance_125_13TeV\",  \n",
    "                    )\n"
   ]
  },
  {
   "cell_type": "code",
   "execution_count": null,
   "metadata": {
    "collapsed": false
   },
   "outputs": [],
   "source": [
    "num = sm.genHist.Clone(\"num\")\n",
    "den = sm.genHist.Clone(\"den\")\n",
    "den.Add(smoa.genHist)\n",
    "num.Divide(num,den,1.,1.,\"b\")\n",
    "acc=num"
   ]
  },
  {
   "cell_type": "code",
   "execution_count": null,
   "metadata": {
    "collapsed": false
   },
   "outputs": [],
   "source": [
    "canv=RT.TCanvas(\"acceptance\",\"acceptance\")\n",
    "canv.Divide(2,2)\n",
    "canv.cd(1)\n",
    "sm.genHist.Draw(\"colz\")\n",
    "canv.cd(2)\n",
    "smoa.genHist.Draw(\"colz\")\n",
    "canv.cd(3)\n",
    "den.Draw(\"colz\")\n",
    "canv.cd(4)\n",
    "acc.GetZaxis().SetRangeUser(0.,1.)\n",
    "acc.Draw(\"colz\")\n",
    "canv.Draw()\n",
    "\n",
    "denpt=den.ProjectionY()\n",
    "denpt.SetLineColor(RT.kRed)\n",
    "fidpt=sm.genHist.ProjectionY()\n",
    "denpt.SetLineColor(RT.kBlue)\n",
    "\n",
    "deny=den.ProjectionX()\n",
    "deny.SetLineColor(RT.kRed)\n",
    "fidy=sm.genHist.ProjectionX()\n",
    "deny.SetLineColor(RT.kBlue)\n",
    "\n",
    "canv2=RT.TCanvas(\"acceptance1D\",\"accepance1D\")\n",
    "canv2.Divide(2,1)\n",
    "canv2.cd(1)\n",
    "denpt.Draw(\"hist\")\n",
    "fidpt.Draw(\"hist same\")\n",
    "canv2.cd(2)\n",
    "deny.Draw(\"hist\")\n",
    "fidy.Draw(\"hist same\")\n",
    "\n",
    "canv2.Draw()\n",
    "save([canv,canv2])"
   ]
  },
  {
   "cell_type": "code",
   "execution_count": null,
   "metadata": {
    "collapsed": false
   },
   "outputs": [],
   "source": [
    "\n",
    "meas = [[ 0.4800, +0.3792, -0.3265,],\n",
    "        [ 0.7600, +0.32, -0.4451,],\n",
    "        [ 1.1050, +0.578, -0.623,],]\n",
    "\n",
    "\n",
    "data=rf.DataRecord( np.array(map(lambda x: x[0], meas )), \n",
    "                    np.array(map(lambda x: (x[1]+abs(x[2]))*0.5, meas )),\n",
    "                    None\n",
    "                     )\n",
    "\n",
    "fitter = rf.Fitter(data,eff,sm)"
   ]
  },
  {
   "cell_type": "code",
   "execution_count": null,
   "metadata": {
    "collapsed": false
   },
   "outputs": [],
   "source": [
    "fitter.fitModel(sm)"
   ]
  },
  {
   "cell_type": "code",
   "execution_count": null,
   "metadata": {
    "collapsed": false
   },
   "outputs": [],
   "source": [
    "sm_procs = map(lambda x: rf.ProcessHistos(x,inputDir+\"/output_InsideAcceptance_%s_125.root\" %x,\n",
    "                      \"hpty\",\n",
    "                      \"genPt:abs(genRapidity)\",\"(30,0.,3,30,0,300)\",\"weight\",3,\n",
    "                     ),  [\"ggF\",\"VBF\",\"VH\",\"ttH\"] )"
   ]
  },
  {
   "cell_type": "code",
   "execution_count": null,
   "metadata": {
    "collapsed": false
   },
   "outputs": [],
   "source": [
    "from pprint import pprint\n",
    "pprint(map(fitter.fitModel,sm_procs))"
   ]
  },
  {
   "cell_type": "code",
   "execution_count": null,
   "metadata": {
    "collapsed": false
   },
   "outputs": [],
   "source": [
    "sm_ooa = map(lambda x: rf.ProcessHistos(x,inputDir+\"/output_OutsideAcceptance_%s_125.root\" %x,\n",
    "                    \"hpty\",\n",
    "                    \"genPt:abs(genRapidity)\",\"(30,0.,3,30,0,300)\",\"weight\",3,\n",
    "                    treepfx=\"genDiphotonDumper/trees/OutsideAcceptance_125_13TeV\"\n",
    "                     ),  [\"ggF\",\"VBF\",\"VH\",\"ttH\"] )\n",
    "\n"
   ]
  },
  {
   "cell_type": "code",
   "execution_count": null,
   "metadata": {
    "collapsed": false,
    "scrolled": true
   },
   "outputs": [],
   "source": [
    "pprint(map(lambda x: map(lambda y: (y[0].GetName(),y[1].Integral()/y[0].Integral()), \n",
    "                  zip(x[0].hists,x[1].hists)) , zip(sm_procs,sm_ooa) ))"
   ]
  },
  {
   "cell_type": "code",
   "execution_count": null,
   "metadata": {
    "collapsed": false
   },
   "outputs": [],
   "source": [
    "sm_weights = np.array(map(lambda x: fitter.fitEfficiencies(x,True).bias, \n",
    "        [np.array([1.,0.,0.]), \n",
    "         np.array([0.,1.,0.]),\n",
    "         np.array([0.,0.,1.])\n",
    "        ]))\n",
    "\n",
    "#sm_effs = np.array(sm.predictYields(eff,True)[:sm.ncats])"
   ]
  },
  {
   "cell_type": "code",
   "execution_count": null,
   "metadata": {
    "collapsed": false
   },
   "outputs": [],
   "source": [
    "from copy import deepcopy\n",
    "weights_map = deepcopy(eff)\n",
    "\n",
    "weights_map.hists = weights_map.hists[:weights_map.ncats]\n",
    "map(lambda x: x[0].Scale(x[1]*weights_map.ncats),zip(weights_map.hists,sm_weights))\n",
    "\n",
    "weights_map.hists.append(rf.mergeHists(weights_map.hists[:weights_map.ncats]))"
   ]
  },
  {
   "cell_type": "code",
   "execution_count": null,
   "metadata": {
    "collapsed": false
   },
   "outputs": [],
   "source": [
    "canv=rf.drawHists(weights_map,htitle=\"effective efficiency cat %d;p_{T} (GeV); y\",nplots=-1,name=\"weighted_eff\")\n",
    "save(canv)\n",
    "print(sm_weights)"
   ]
  },
  {
   "cell_type": "code",
   "execution_count": null,
   "metadata": {
    "collapsed": false
   },
   "outputs": [],
   "source": [
    "fitter.refEffs.sum()"
   ]
  },
  {
   "cell_type": "code",
   "execution_count": null,
   "metadata": {
    "collapsed": true
   },
   "outputs": [],
   "source": []
  }
 ],
 "metadata": {
  "kernelspec": {
   "display_name": "Python 2",
   "language": "python",
   "name": "python2"
  },
  "language_info": {
   "codemirror_mode": {
    "name": "ipython",
    "version": 2
   },
   "file_extension": ".py",
   "mimetype": "text/x-python",
   "name": "python",
   "nbconvert_exporter": "python",
   "pygments_lexer": "ipython2",
   "version": "2.7.12"
  }
 },
 "nbformat": 4,
 "nbformat_minor": 0
}
