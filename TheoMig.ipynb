{
 "cells": [
  {
   "cell_type": "code",
   "execution_count": 5,
   "metadata": {
    "collapsed": false
   },
   "outputs": [],
   "source": [
    "import pandas as pd\n",
    "import root_pandas as rpd\n",
    "import numpy as np"
   ]
  },
  {
   "cell_type": "code",
   "execution_count": 6,
   "metadata": {
    "collapsed": false
   },
   "outputs": [],
   "source": [
    "inputDir=\"/eos/user/m/musella/data/mod_dep_004\"\n",
    "fname = inputDir+\"/output_InsideAcceptance_125.root\"\n",
    "trees = map(lambda x: \"genDiphotonDumper/trees/InsideAcceptance_125_13TeV_SigmaMpTTag_%d\" %x, xrange(3))\n",
    "branch = \"scaleWeights\"\n",
    "branches = [branch,\"weight\"]\n",
    "\n",
    "dataframes = map(lambda x: rpd.read_root(fname,x,columns=branches,flatten=True), trees )"
   ]
  },
  {
   "cell_type": "code",
   "execution_count": 7,
   "metadata": {
    "collapsed": false
   },
   "outputs": [],
   "source": [
    "for x in dataframes: x[branch]=x[branch]*x[\"weight\"]"
   ]
  },
  {
   "cell_type": "code",
   "execution_count": 8,
   "metadata": {
    "collapsed": false
   },
   "outputs": [
    {
     "data": {
      "text/plain": [
       "[array([  9.3178365 ,   9.51321148,   9.0858994 ,   7.91217547,\n",
       "          8.0750964 ,   7.70409956,  11.04061833,  11.28181939,  10.77781381]),\n",
       " array([ 11.67982376,  11.94631802,  11.36800762,   9.92682237,\n",
       "         10.15140808,   9.64436999,  13.82640559,  14.14928804,  13.4804493 ]),\n",
       " array([ 19.52887613,  19.98475753,  19.00288488,  16.6265976 ,\n",
       "         16.99989448,  16.16141365,  23.07625937,  23.65060076,  22.46857318])]"
      ]
     },
     "execution_count": 8,
     "metadata": {},
     "output_type": "execute_result"
    }
   ],
   "source": [
    "percat = map(lambda y: np.array(map(lambda x: x[1][branch].sum(), y.groupby(\"__array_index\")) ), dataframes)\n",
    "percat"
   ]
  },
  {
   "cell_type": "code",
   "execution_count": 9,
   "metadata": {
    "collapsed": false
   },
   "outputs": [
    {
     "data": {
      "text/plain": [
       "array([ 40.5265364 ,  41.44428703,  39.45679191,  34.46559544,\n",
       "        35.22639896,  33.5098832 ,  47.94328329,  49.08170818,  46.72683628])"
      ]
     },
     "execution_count": 9,
     "metadata": {},
     "output_type": "execute_result"
    }
   ],
   "source": [
    "total = sum(percat)\n",
    "total"
   ]
  },
  {
   "cell_type": "code",
   "execution_count": 10,
   "metadata": {
    "collapsed": false
   },
   "outputs": [
    {
     "data": {
      "text/plain": [
       "[array([ 0.22991939,  0.22954217,  0.23027466,  0.22956735,  0.22923423,\n",
       "         0.22990529,  0.23028499,  0.22985792,  0.23065576]),\n",
       " array([ 0.28820187,  0.28825006,  0.28811282,  0.28802121,  0.28817615,\n",
       "         0.28780673,  0.28839088,  0.28828027,  0.2884948 ]),\n",
       " array([ 0.48187874,  0.48220778,  0.48161252,  0.48241144,  0.48258962,\n",
       "         0.48228797,  0.48132414,  0.48186181,  0.48084944])]"
      ]
     },
     "execution_count": 10,
     "metadata": {},
     "output_type": "execute_result"
    }
   ],
   "source": [
    "relative = map(lambda x: x/total, percat)\n",
    "relative"
   ]
  },
  {
   "cell_type": "code",
   "execution_count": 11,
   "metadata": {
    "collapsed": false
   },
   "outputs": [
    {
     "data": {
      "text/plain": [
       "[0.0054003726712440678, 0.0019830619952448626, 0.0032821566871246276]"
      ]
     },
     "execution_count": 11,
     "metadata": {},
     "output_type": "execute_result"
    }
   ],
   "source": [
    "def sumsq(x):\n",
    "    return np.sqrt(np.sum(np.square(x))-np.square(np.sum(x))/x.size)/np.mean(x)\n",
    "\n",
    "map(sumsq, relative)"
   ]
  },
  {
   "cell_type": "code",
   "execution_count": 14,
   "metadata": {
    "collapsed": false
   },
   "outputs": [
    {
     "data": {
      "text/plain": [
       "0.40969838057917268"
      ]
     },
     "execution_count": 14,
     "metadata": {},
     "output_type": "execute_result"
    }
   ],
   "source": [
    "sumsq(total)"
   ]
  },
  {
   "cell_type": "code",
   "execution_count": 16,
   "metadata": {
    "collapsed": false
   },
   "outputs": [
    {
     "data": {
      "text/plain": [
       "[0.0032185985879676087, 0.0013394572087955048, 0.0021624212941473769]"
      ]
     },
     "execution_count": 16,
     "metadata": {},
     "output_type": "execute_result"
    }
   ],
   "source": [
    "def maxdev(x):\n",
    "    return np.max(np.abs(x-np.mean(x)))/np.mean(x)\n",
    "\n",
    "map(maxdev, relative)"
   ]
  },
  {
   "cell_type": "code",
   "execution_count": 17,
   "metadata": {
    "collapsed": false
   },
   "outputs": [
    {
     "data": {
      "text/plain": [
       "0.19912533250430714"
      ]
     },
     "execution_count": 17,
     "metadata": {},
     "output_type": "execute_result"
    }
   ],
   "source": [
    "maxdev(total)"
   ]
  },
  {
   "cell_type": "code",
   "execution_count": null,
   "metadata": {
    "collapsed": true
   },
   "outputs": [],
   "source": []
  }
 ],
 "metadata": {
  "kernelspec": {
   "display_name": "Python 2",
   "language": "python",
   "name": "python2"
  },
  "language_info": {
   "codemirror_mode": {
    "name": "ipython",
    "version": 2
   },
   "file_extension": ".py",
   "mimetype": "text/x-python",
   "name": "python",
   "nbconvert_exporter": "python",
   "pygments_lexer": "ipython2",
   "version": "2.7.10"
  }
 },
 "nbformat": 4,
 "nbformat_minor": 0
}
