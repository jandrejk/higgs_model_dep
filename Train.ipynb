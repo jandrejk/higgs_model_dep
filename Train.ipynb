{
 "cells": [
  {
   "cell_type": "markdown",
   "metadata": {},
   "source": [
    "# Train classifier to estimate analysis efficiency vs gen variable\n",
    "\n",
    "- Actual training code in training.py\n",
    "- Classifier based on sklearn. Default is GradientBoostedClassifier, \n",
    "    but can be specified at run time."
   ]
  },
  {
   "cell_type": "markdown",
   "metadata": {},
   "source": [
    "## Load libraries"
   ]
  },
  {
   "cell_type": "code",
   "execution_count": 1,
   "metadata": {
    "collapsed": false
   },
   "outputs": [
    {
     "data": {
      "application/javascript": [
       "require(['codemirror/mode/clike/clike'], function(Clike) { console.log('ROOTaaS - C++ CodeMirror module loaded'); });"
      ]
     },
     "metadata": {},
     "output_type": "display_data"
    },
    {
     "data": {
      "application/javascript": [
       "IPython.CodeCell.config_defaults.highlight_modes['magic_text/x-c++src'] = {'reg':[/^%%cpp/]};"
      ]
     },
     "metadata": {},
     "output_type": "display_data"
    },
    {
     "name": "stdout",
     "output_type": "stream",
     "text": [
      "Welcome to ROOTaaS 6.06/08\n"
     ]
    }
   ],
   "source": [
    "import train as tn\n",
    "reload(tn)\n",
    "\n",
    "import plotting\n",
    "reload(plotting)\n",
    "\n",
    "import matplotlib.pyplot as plt\n",
    "#plt.style.use('seaborn-ticks')\n",
    "plt.style.use('seaborn-poster')\n",
    "%matplotlib inline\n",
    "#%matplotlib notebook\n",
    "\n",
    "import numpy as np\n",
    "\n",
    "from pprint import pprint"
   ]
  },
  {
   "cell_type": "markdown",
   "metadata": {},
   "source": [
    "## Instantiate helper class\n",
    "\n",
    "Data are read from ROOT trees and converted into pandas data frames.  \n",
    "The loading function makes sure that all the needed columns have been read from the trees, otherwise it rebilds the data frame.\n"
   ]
  },
  {
   "cell_type": "code",
   "execution_count": 2,
   "metadata": {
    "collapsed": false,
    "slideshow": {
     "slide_type": "slide"
    }
   },
   "outputs": [
    {
     "name": "stdout",
     "output_type": "stream",
     "text": [
      "loading pickle ./effFitter.pkl.gz\n",
      "loading data ./effFitter.root\n",
      "<train.EfficiencyFitter object at 0x7ffab8a9bdd0>\n",
      "Index([u'absweight', u'class', u'genJet2p5Pt0', u'genJet2p5Pt1',\n",
      "       u'genJet2p5Pt2', u'genJet2p5Pt3', u'genJet2p5Rapidity0',\n",
      "       u'genJet2p5Rapidity1', u'genJet2p5Rapidity2', u'genJet2p5Rapidity3',\n",
      "       u'genNjets2p5', u'genPt', u'genRapidity', u'recoNjets2p5', u'recoPt',\n",
      "       u'recoRapidity', u'weight', u'absGenRapidity', u'recoPtBin',\n",
      "       u'recoPtCat', u'recoNjets2p5Bin', u'recoNjets2p5Cat', u'class_prob_0',\n",
      "       u'class_prob_1', u'class_prob_2', u'class_prob_3', u'recoPtCat_prob_0',\n",
      "       u'recoPtCat_prob_1', u'recoPtCat_prob_2', u'recoPtCat_prob_3',\n",
      "       u'recoPtCat_prob_4', u'recoPtCat_prob_5', u'recoPtCat_prob_6',\n",
      "       u'recoPtCat_prob_7', u'recoPtCat_prob_8', u'recoPtCat_prob_9',\n",
      "       u'recoPtCat_prob_10', u'recoPtCat_prob_11', u'recoPtCat_prob_12',\n",
      "       u'recoPtCat_prob_13', u'recoPtCat_prob_14', u'recoPtCat_prob_15',\n",
      "       u'recoPtCat_prob_16', u'recoPtCat_prob_17', u'recoPtCat_prob_18',\n",
      "       u'recoPtCat_prob_19', u'recoPtCat_prob_20', u'recoPtCat_prob_21'],\n",
      "      dtype='object')\n",
      "{'class': GradientBoostingClassifier(init=None, learning_rate=0.2, loss='deviance',\n",
      "              max_depth=5, max_features=None, max_leaf_nodes=None,\n",
      "              min_samples_leaf=1, min_samples_split=2,\n",
      "              min_weight_fraction_leaf=0.001, n_estimators=100,\n",
      "              presort='auto', random_state=None, subsample=1.0, verbose=1,\n",
      "              warm_start=False),\n",
      " 'recoNjets2p5': GradientBoostingClassifier(init=None, learning_rate=0.2, loss='deviance',\n",
      "              max_depth=5, max_features=None, max_leaf_nodes=None,\n",
      "              min_samples_leaf=1, min_samples_split=2,\n",
      "              min_weight_fraction_leaf=0.0001, n_estimators=500,\n",
      "              presort='auto', random_state=None, subsample=1.0, verbose=1,\n",
      "              warm_start=False),\n",
      " 'recoPt': GradientBoostingClassifier(init=None, learning_rate=0.1, loss='deviance',\n",
      "              max_depth=7, max_features=None, max_leaf_nodes=None,\n",
      "              min_samples_leaf=1, min_samples_split=2,\n",
      "              min_weight_fraction_leaf=0.0001, n_estimators=500,\n",
      "              presort='auto', random_state=None, subsample=1.0, verbose=1,\n",
      "              warm_start=False)}\n"
     ]
    }
   ],
   "source": [
    "madeinputDir=\"/eos/user/m/musella/data/mod_dep_005\"\n",
    "inputDir=\"root://t3dcachedb03.psi.ch//pnfs/psi.ch/cms/trivcat/store/user/musella/mod_dep_005\"\n",
    "fname = inputDir+\"/output_InsideAcceptance_125.root\"\n",
    "pfx = \"genDiphotonDumper/trees/InsideAcceptance_125_13TeV\"\n",
    "\n",
    "ncats = 3\n",
    "genBranches = [\"genPt\",\"genRapidity\",\n",
    "            \"genJet2p5Pt0\",\"genJet2p5Rapidity0\",\n",
    "            \"genJet2p5Pt1\",\"genJet2p5Rapidity1\",\n",
    "            \"genJet2p5Pt2\",\"genJet2p5Rapidity2\",\n",
    "            \"genJet2p5Pt3\",\"genJet2p5Rapidity3\",\n",
    "            \"weight\",\n",
    "            \"genNjets2p5\"\n",
    "           ]\n",
    "recoBranches = ['recoPt','recoRapidity',\"recoNjets2p5\"]\n",
    "rndseed = 9347865\n",
    "rndseed2 = 2315645\n",
    "\n",
    "split_params = {\"train_size\" : 0.75, \"test_size\" : 0.25, \"random_state\" : rndseed2, \"stratify\" : False }\n",
    "\n",
    "def loadOrMake(name,load,forceMake):\n",
    "    \n",
    "    make = False\n",
    "    if load:\n",
    "        onDisk = tn.IO.load(name, nodata=forceMake)\n",
    "        pprint(onDisk)\n",
    "        if not forceMake:\n",
    "            pprint(onDisk.df.columns)\n",
    "        pprint(onDisk.clfs)\n",
    "        if onDisk.genBranches != genBranches or onDisk.recoBranches != recoBranches:\n",
    "            make = True\n",
    "        if onDisk.ncats != ncats:\n",
    "            make = True\n",
    "            load = False\n",
    "    else:\n",
    "        make = True\n",
    "\n",
    "    if make or forceMake:\n",
    "        if not load:\n",
    "            made = tn.EfficiencyFitter(name)\n",
    "        else:\n",
    "            made = onDisk\n",
    "        \n",
    "        made.readData(ncats,genBranches,recoBranches,[(fname,None,pfx)])\n",
    "        \n",
    "        print('shuffling dataset')\n",
    "        np.random.seed(rndseed)\n",
    "        made.df['random_index'] = np.random.permutation(range(made.df.index.size))\n",
    "        made.df.sort_values(by='random_index',inplace=True)\n",
    "        made.df.set_index('random_index',inplace=True)\n",
    "        made.split_params = split_params\n",
    "        \n",
    "        print('defining bins')\n",
    "        if not 'absGenRapidity' in made.df.columns:\n",
    "            made.df['absGenRapidity'] = np.abs(made.df['genRapidity'])\n",
    "        made.defineBins('recoPt',boundaries=[0,15,30,60,120,180,200])\n",
    "        made.defineBins('recoNjets2p5',boundaries=[-0.5,1.5,2.5,3.5,4.5,5.5])\n",
    "        \n",
    "        \n",
    "    else:\n",
    "        made = onDisk\n",
    "        \n",
    "    return made\n",
    "\n",
    "effFitter = loadOrMake('effFitter',True,False)\n",
    "# effFitter.defineBins('recoNjets2p5',boundaries=[-0.5,1.5,2.5,3.5,4.5,5.5])\n",
    "# rndseed = 9347865\n",
    "# np.random.seed(rdnseed)\n",
    "# effFitter.df.reindex(np.random.permutation(effFitter.df.index))"
   ]
  },
  {
   "cell_type": "code",
   "execution_count": 3,
   "metadata": {
    "collapsed": false
   },
   "outputs": [
    {
     "data": {
      "text/plain": [
       "<train.EfficiencyFitter at 0x7ffab8a9bdd0>"
      ]
     },
     "execution_count": 3,
     "metadata": {},
     "output_type": "execute_result"
    }
   ],
   "source": [
    "effFitter"
   ]
  },
  {
   "cell_type": "markdown",
   "metadata": {
    "collapsed": false
   },
   "source": [
    "## Train classifier for selection category and $p_{T}$"
   ]
  },
  {
   "cell_type": "code",
   "execution_count": null,
   "metadata": {
    "collapsed": false
   },
   "outputs": [],
   "source": [
    "#recoPts = filter(lambda x: \"recoPt_prob\" in x, effFitter.df.columns)\n",
    "#rename = { x : x.replace(\"_prob\",\"Cat_prob\") for x in recoPts }\n",
    "#effFitter.df.rename(columns=rename,inplace=True)"
   ]
  },
  {
   "cell_type": "code",
   "execution_count": null,
   "metadata": {
    "collapsed": false
   },
   "outputs": [],
   "source": [
    "if not 'class' in effFitter.clfs:\n",
    "    effFitter.fitClass(trainevts=100000,\n",
    "                       max_depth=5,learning_rate=0.2,n_estimators=100,min_weight_fraction_leaf=1e-3)\n",
    "    \n",
    "if not 'recoPt' in effFitter.clfs:\n",
    "    effFitter.split = None\n",
    "    effFitter.fitBins('recoPt',['genPt','absGenRapidity'],\n",
    "                      trainevts=100000,max_depth=7,learning_rate=0.1,n_estimators=500,min_weight_fraction_leaf=1e-4)"
   ]
  },
  {
   "cell_type": "code",
   "execution_count": null,
   "metadata": {
    "collapsed": false
   },
   "outputs": [],
   "source": [
    "## clf_keys = effFitter.clfs.keys()\n",
    "## clf_keys = filter(lambda x: x=='class', clf_keys)+filter(lambda x: x!='class', clf_keys)\n",
    "\n",
    "clf_keys = ['class','recoPtCat']#,'recoNjets2p5Cat']\n",
    "\n",
    "for x in filter(lambda y: \"CatCat\" in y, effFitter.df.columns):\n",
    "    del effFitter.df[x]\n",
    "\n",
    "for key in clf_keys:\n",
    "    catKey = '%s_prob_0' % key\n",
    "    if not catKey in effFitter.df.columns:\n",
    "        print('running prediction for %s' % key)\n",
    "        effFitter.runPrediction(key,effFitter.clfs[key.replace(\"Cat\",\"\")])\n",
    "\n",
    "\n",
    "effFitter.df.columns"
   ]
  },
  {
   "cell_type": "code",
   "execution_count": null,
   "metadata": {
    "collapsed": false
   },
   "outputs": [],
   "source": []
  },
  {
   "cell_type": "code",
   "execution_count": null,
   "metadata": {
    "collapsed": false
   },
   "outputs": [],
   "source": [
    "# save output to avoid re-runnig the heavy calculations above\n",
    "tn.IO.save(effFitter)"
   ]
  },
  {
   "cell_type": "code",
   "execution_count": null,
   "metadata": {
    "collapsed": false
   },
   "outputs": [],
   "source": [
    "## from pandas.tools import plotting\n",
    "## \n",
    "## group_by_class = effFitter.df.groupby('class')\n",
    "## plotting.scatter_matrix(effFitter.df[['class_prob_0','class_prob_1','class_prob_2','class_prob_3']],figsize=(14,8))"
   ]
  },
  {
   "cell_type": "code",
   "execution_count": null,
   "metadata": {
    "collapsed": false
   },
   "outputs": [],
   "source": [
    "class_grid,class_eff_map = effFitter.effMap('class',[(300,0,300),(300,0,3.)])\n",
    "recoPt_grid,recoPt_eff_map = effFitter.effMap('recoPt',np.hstack([class_grid,class_eff_map]))"
   ]
  },
  {
   "cell_type": "code",
   "execution_count": null,
   "metadata": {
    "collapsed": false
   },
   "outputs": [],
   "source": [
    "plotting.efficiency_map(class_grid[:,1],class_grid[:,0],class_eff_map,figsize=(14,8),xlabel=\"|y|\",ylabel=\"p_T\",\n",
    "                        layout=(3,None))\n",
    "\n",
    "plt.subplots_adjust(hspace = 0.25, wspace = 0.3, top=0.88)"
   ]
  },
  {
   "cell_type": "code",
   "execution_count": null,
   "metadata": {
    "collapsed": false
   },
   "outputs": [],
   "source": [
    "import plotting\n",
    "reload(plotting)\n",
    "\n",
    "plotting.efficiency_map(recoPt_grid[:,1],recoPt_grid[:,0],recoPt_eff_map,figsize=(35,25),xlabel=\"|y|\",ylabel=\"p_T\",\n",
    "                       layout=(3,None))\n",
    "\n",
    "plt.subplots_adjust(hspace = 0.25, wspace = 0.1, top=0.93)"
   ]
  },
  {
   "cell_type": "code",
   "execution_count": null,
   "metadata": {
    "collapsed": false
   },
   "outputs": [],
   "source": [
    "resummed = np.array(map(lambda y: recoPt_eff_map[:,y].sum(), map(lambda x: range(x+1,22,3), range(3)) )).transpose()\n",
    "classwise = class_eff_map[:,1:].sum(axis=0)\n",
    "\n",
    "resummed / classwise"
   ]
  },
  {
   "cell_type": "code",
   "execution_count": null,
   "metadata": {
    "collapsed": false
   },
   "outputs": [],
   "source": [
    "resummed.sum() / classwise.sum()"
   ]
  },
  {
   "cell_type": "code",
   "execution_count": null,
   "metadata": {
    "collapsed": false
   },
   "outputs": [],
   "source": [
    "#group_by_class.plot(kind='hexbin',y='class_prob_0',x='class_prob_1',C='weight',table=True,layout=(2,2))\n",
    "#group_by_class.plot(kind='hexbin',y='class_prob_1',x='class_prob_2',C='weight',layout=(2,2))\n",
    "#,C='weight',subplots=False"
   ]
  },
  {
   "cell_type": "code",
   "execution_count": null,
   "metadata": {
    "collapsed": false
   },
   "outputs": [],
   "source": [
    "#help(group_by_class)"
   ]
  },
  {
   "cell_type": "code",
   "execution_count": null,
   "metadata": {
    "collapsed": false
   },
   "outputs": [],
   "source": [
    "effFitter.df.columns"
   ]
  },
  {
   "cell_type": "code",
   "execution_count": null,
   "metadata": {
    "collapsed": false
   },
   "outputs": [],
   "source": [
    "df = effFitter.df"
   ]
  },
  {
   "cell_type": "code",
   "execution_count": null,
   "metadata": {
    "collapsed": false
   },
   "outputs": [],
   "source": [
    "allcols = filter(lambda x: \"class_prob_\" in x and not \"prob_0\" in x, df.columns)+[\"class_prob_0\"]\n",
    "\n",
    "effFitter.df.boxplot(by='class',column=allcols,figsize=(14,8),layout=(2,3))"
   ]
  },
  {
   "cell_type": "code",
   "execution_count": null,
   "metadata": {
    "collapsed": false,
    "scrolled": false
   },
   "outputs": [],
   "source": [
    "reload(plotting)\n",
    "plotting.scatter_hist(df,allcols,figsize=(28,28))"
   ]
  },
  {
   "cell_type": "code",
   "execution_count": null,
   "metadata": {
    "collapsed": false
   },
   "outputs": [],
   "source": [
    "(df['recoPtCat_prob_0']-df['class_prob_0']).describe()"
   ]
  },
  {
   "cell_type": "code",
   "execution_count": null,
   "metadata": {
    "collapsed": false
   },
   "outputs": [],
   "source": [
    "plt.figure(figsize=(14,8))\n",
    "plt.hexbin(y=df['recoPtCat_prob_0'], x=df['class_prob_0'],cmap=plt.cm.Blues)\n",
    "plt.ylabel('recoPtCat_prob_0')\n",
    "plt.xlabel('class_prob_0')\n",
    "plt.colorbar()"
   ]
  },
  {
   "cell_type": "code",
   "execution_count": null,
   "metadata": {
    "collapsed": false
   },
   "outputs": [],
   "source": [
    "allcols = filter(lambda x: \"recoPtCat_prob_\" in x and not \"prob_0\" in x, df.columns)+['recoPtCat_prob_0']\n",
    "\n",
    "effFitter.df.boxplot(by='recoPtCat',column=allcols,figsize=(28,28),layout=(8,3))"
   ]
  },
  {
   "cell_type": "code",
   "execution_count": null,
   "metadata": {
    "collapsed": false
   },
   "outputs": [],
   "source": [
    "plotting.scatter_hist(df[:30000],allcols,figsize=(28,28),log=True)"
   ]
  },
  {
   "cell_type": "code",
   "execution_count": null,
   "metadata": {
    "collapsed": false
   },
   "outputs": [],
   "source": [
    "effFitter.df"
   ]
  },
  {
   "cell_type": "code",
   "execution_count": 5,
   "metadata": {
    "collapsed": false
   },
   "outputs": [
    {
     "name": "stdout",
     "output_type": "stream",
     "text": [
      "cvoptimize False\n",
      "      Iter       Train Loss      OOB Improve   Remaining Time \n",
      "         1      143355.8195      -11478.0333           69.94m\n",
      "         2      144282.8560       -8364.2471           69.80m\n",
      "         3      145119.3097       -7556.7531           68.68m\n",
      "         4      145927.1634       -7281.8078           67.60m\n",
      "         5      146705.7142       -6951.0148           66.91m\n",
      "         6      147423.3380       -6553.9829           65.62m\n",
      "         7      148135.0252       -6281.0176           63.91m\n",
      "         8      148790.1948       -5955.6400           62.61m\n",
      "         9      149367.6447       -5323.9332           61.36m\n",
      "        10      149928.3224       -5012.2596           60.08m\n",
      "        20      153994.3646       -2192.3283           49.14m\n",
      "        30      155506.6150        -830.2771           41.08m\n",
      "        40      156309.1825           0.0000           34.08m\n",
      "        50 367948074966.3074           0.0000           27.79m\n",
      "        60 93699929858122751998015841565590803714348566276395237376.0000           0.0000           21.89m\n",
      "        70 249020914575678070882256924205230432746755109100607469674106273255893369022998522798014464.0000 -1422991943962222240873075608700219068324060692177538562592511101919779694205229280723468288.0000           16.21m\n",
      "        80 5639682005680168689199207322246304938933614059560225957477323337249458180370509754067237556585988209140432574106001619549234782459471662050627578494976.0000           0.0000           10.69m\n",
      "        90 1360663443705285416732275893114343321572934957729081163461765218787303474577658145492712165380799400335767141457585040656620452101206256999398225864226197267555379381292360273902221126216367753893446702445909888694537730210791039481834083237606931770114048.0000           0.0000            5.30m\n",
      "       100 1158833906295986262143950505312838624986510519485473138724973944040032686879776464525902984684699045072782802553410569137456059336305918566437404591398265782260661053043957453079090765075692590268058103479410718126004888752213992319469234937849755687976960.0000           0.0000            0.00s\n"
     ]
    }
   ],
   "source": [
    "#reload(tn)\n",
    "#if not 'recoNjets2p5' in effFitter.clfs:\n",
    "if True:\n",
    "    effFitter.split_params={}\n",
    "    # effFitter.defineBins('recoNjets2p5',boundaries=[-0.5,1.5,2.5,3.5,4.5])\n",
    "    effFitter.split = None\n",
    "    effFitter.fitBins('recoNjets2p5',[\n",
    "            'genJet2p5Pt0', 'genJet2p5Rapidity0',\n",
    "            'genJet2p5Pt1', 'genJet2p5Rapidity1',\n",
    "            'genJet2p5Pt2', 'genJet2p5Rapidity2',\n",
    "            'genJet2p5Pt3', 'genJet2p5Rapidity3',\n",
    "            'genPt','absGenRapidity'\n",
    "            ],#factorized=True,\n",
    "            trainevts=500000,max_depth=5,learning_rate=0.1,n_estimators=100,min_weight_fraction_leaf=1e-4,\n",
    "                      subsample=0.1,verbose=True,\n",
    "                     )\n",
    "    "
   ]
  },
  {
   "cell_type": "code",
   "execution_count": 6,
   "metadata": {
    "collapsed": false
   },
   "outputs": [
    {
     "data": {
      "text/plain": [
       "{'class': GradientBoostingClassifier(init=None, learning_rate=0.2, loss='deviance',\n",
       "               max_depth=5, max_features=None, max_leaf_nodes=None,\n",
       "               min_samples_leaf=1, min_samples_split=2,\n",
       "               min_weight_fraction_leaf=0.001, n_estimators=100,\n",
       "               presort='auto', random_state=None, subsample=1.0, verbose=1,\n",
       "               warm_start=False),\n",
       " 'recoNjets2p5': GradientBoostingClassifier(init=None, learning_rate=0.1, loss='deviance',\n",
       "               max_depth=5, max_features=None, max_leaf_nodes=None,\n",
       "               min_samples_leaf=1, min_samples_split=2,\n",
       "               min_weight_fraction_leaf=0.0001, n_estimators=100,\n",
       "               presort='auto', random_state=None, subsample=0.1,\n",
       "               verbose=True, warm_start=False),\n",
       " 'recoPt': GradientBoostingClassifier(init=None, learning_rate=0.1, loss='deviance',\n",
       "               max_depth=7, max_features=None, max_leaf_nodes=None,\n",
       "               min_samples_leaf=1, min_samples_split=2,\n",
       "               min_weight_fraction_leaf=0.0001, n_estimators=500,\n",
       "               presort='auto', random_state=None, subsample=1.0, verbose=1,\n",
       "               warm_start=False)}"
      ]
     },
     "execution_count": 6,
     "metadata": {},
     "output_type": "execute_result"
    }
   ],
   "source": [
    "effFitter.clfs\n",
    "## from pandas.tools import plotting\n",
    "## \n",
    "## group_by_class = df.groupby('recoPtCat')\n",
    "## recoPtCatProbs = filter(lambda x: 'recoPtCat_prob' in x, df.columns)\n",
    "## plotting.scatter_matrix(df[recoPtCatProbs],figsize=(28,16))"
   ]
  },
  {
   "cell_type": "code",
   "execution_count": 14,
   "metadata": {
    "collapsed": false
   },
   "outputs": [],
   "source": [
    "#effFitter.name = 'effFitter_test'\n",
    "tn.IO.save(effFitter)"
   ]
  },
  {
   "cell_type": "code",
   "execution_count": null,
   "metadata": {
    "collapsed": false
   },
   "outputs": [],
   "source": [
    "allcols = filter(lambda x: \"recoNjets2p5Cat_prob_\" in x and not \"prob_0\" in x, df.columns)+['recoNjets2p5Cat_prob_0']\n",
    "\n",
    "effFitter.df.boxplot(by='recoNjets2p5Cat',column=allcols,figsize=(28,28),layout=(8,3))"
   ]
  },
  {
   "cell_type": "code",
   "execution_count": null,
   "metadata": {
    "collapsed": false
   },
   "outputs": [],
   "source": [
    "plotting.scatter_hist(df,allcols,figsize=(28,28),log=True)"
   ]
  },
  {
   "cell_type": "code",
   "execution_count": null,
   "metadata": {
    "collapsed": false
   },
   "outputs": [],
   "source": [
    "effFitter.clfs['recoNjets2p5'].inputs"
   ]
  },
  {
   "cell_type": "code",
   "execution_count": null,
   "metadata": {
    "collapsed": true
   },
   "outputs": [],
   "source": [
    "#tn.IO.save(effFitter)"
   ]
  },
  {
   "cell_type": "code",
   "execution_count": null,
   "metadata": {
    "collapsed": false
   },
   "outputs": [],
   "source": [
    "effFitter.df.columns"
   ]
  },
  {
   "cell_type": "code",
   "execution_count": null,
   "metadata": {
    "collapsed": false
   },
   "outputs": [],
   "source": [
    "plt.figure(figsize=(14,8))\n",
    "plt.hexbin(y=df['recoNjets2p5Cat_prob_0'], x=df['class_prob_0'],cmap=plt.cm.Blues)\n",
    "plt.ylabel('recoNJets2p5Cat_prob_0')\n",
    "plt.xlabel('class_prob_0')\n",
    "plt.colorbar()"
   ]
  },
  {
   "cell_type": "code",
   "execution_count": null,
   "metadata": {
    "collapsed": false
   },
   "outputs": [],
   "source": [
    "#effFitter.df.plot(kind='hexbin',y='recoNjets2p5Cat_prob_0',x='genJet2p5Pt1')"
   ]
  },
  {
   "cell_type": "code",
   "execution_count": null,
   "metadata": {
    "collapsed": false
   },
   "outputs": [],
   "source": []
  },
  {
   "cell_type": "code",
   "execution_count": null,
   "metadata": {
    "collapsed": false
   },
   "outputs": [],
   "source": []
  },
  {
   "cell_type": "code",
   "execution_count": 12,
   "metadata": {
    "collapsed": false
   },
   "outputs": [],
   "source": [
    "def naive_closure(df,column,pred_postfix=\"\",first=0,logy=False):\n",
    "    nstats = np.unique(df[column]).size\n",
    "    \n",
    "    pred_cols = map(lambda x: (\"%s%s_prob_%d\" % (column, pred_postfix, x)), range(nstats) ) \n",
    "    \n",
    "    trueh = np.histogram(df[column],np.arange(-1.5,nstats-0.5))[0].ravel()\n",
    "    predh = np.array(df[pred_cols].sum(axis=0)).ravel()\n",
    "    \n",
    "    print(trueh,predh)\n",
    "    fig = plt.figure()\n",
    "    ax = fig.add_subplot(111)\n",
    "    \n",
    "    true = ax.bar(np.arange(0,2*(nstats),2)[first:],trueh[first:],color='black')\n",
    "    pred = ax.bar(np.arange(1,2*(nstats)+1,2)[first:],predh[first:],color='red')\n",
    "    if logy:\n",
    "        ax.set_yscale('log')\n",
    "        \n",
    "    plt.legend((true,pred),(\"true\",\"predicted\"))\n",
    "    \n",
    "    plt.show()"
   ]
  },
  {
   "cell_type": "code",
   "execution_count": 13,
   "metadata": {
    "collapsed": false
   },
   "outputs": [
    {
     "name": "stdout",
     "output_type": "stream",
     "text": [
      "(array([558201, 199025, 239432, 392746]), array([ 556076.19347136,  200648.41642943,  240308.16578402,\n",
      "        392371.22431519]))\n"
     ]
    },
    {
     "data": {
      "image/png": "[encoded data removed]",
      "text/plain": [
       "<matplotlib.figure.Figure at 0x7ffa768f8590>"
      ]
     },
     "metadata": {},
     "output_type": "display_data"
    },
    {
     "name": "stdout",
     "output_type": "stream",
     "text": [
      "(array([558201,  14425,  19162,  35089,  23495,  32347,  58349,  48075,\n",
      "        62801, 109150,  58273,  72424, 121909,  27466,  30652,  44207,\n",
      "         5663,   5367,   6817,  21628,  16679,  17225]), array([ 597953.82265028,   13234.60787206,   17224.77395446,\n",
      "         33523.19700482,   22132.84322002,   28716.86610803,\n",
      "         56565.6711931 ,   43980.17814193,   60126.97639476,\n",
      "        106616.20935736,   55388.73362083,   68587.86228525,\n",
      "        118978.02385363,   26607.10081879,   28573.58026366,\n",
      "         42180.15155142,    5418.78716684,    4330.59252777,\n",
      "          5971.82069197,   23150.91259322,   14461.8764889 ,\n",
      "         15679.41224091]))\n"
     ]
    },
    {
     "data": {
      "image/png": "[encoded data removed]",
      "text/plain": [
       "<matplotlib.figure.Figure at 0x7ffa756d6210>"
      ]
     },
     "metadata": {},
     "output_type": "display_data"
    },
    {
     "name": "stdout",
     "output_type": "stream",
     "text": [
      "(array([558201, 145964, 182051, 310839,  37496,  41487,  60440,  11758,\n",
      "        12232,  16521,   2898,   2859,   3849,    909,    803,   1097]), array([ 557589.39835736,  147907.19590749,  185580.64965733,\n",
      "        308840.25784586,   37362.02685706,   40562.7670745 ,\n",
      "         58175.16555534,   11530.66456061,   11597.10002226,\n",
      "         15926.76143905,    2772.11870033,    3102.0047604 ,\n",
      "          3395.13632921,    2591.94900987,     848.90050638,\n",
      "          1621.90341698]))\n"
     ]
    },
    {
     "data": {
      "image/png": "[encoded data removed]",
      "text/plain": [
       "<matplotlib.figure.Figure at 0x7ffa77030890>"
      ]
     },
     "metadata": {},
     "output_type": "display_data"
    }
   ],
   "source": [
    "df = effFitter.df \n",
    "naive_closure(df,'class')\n",
    "\n",
    "naive_closure(df,'recoPtCat')\n",
    "\n",
    "naive_closure(df,'recoNjets2p5Cat',first=1,logy=True)\n"
   ]
  }
 ],
 "metadata": {
  "kernelspec": {
   "display_name": "Python 2",
   "language": "python",
   "name": "python2"
  },
  "language_info": {
   "codemirror_mode": {
    "name": "ipython",
    "version": 2
   },
   "file_extension": ".py",
   "mimetype": "text/x-python",
   "name": "python",
   "nbconvert_exporter": "python",
   "pygments_lexer": "ipython2",
   "version": "2.7.12"
  }
 },
 "nbformat": 4,
 "nbformat_minor": 0
}
