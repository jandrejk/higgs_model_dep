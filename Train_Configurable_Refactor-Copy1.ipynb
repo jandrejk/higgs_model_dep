{
 "cells": [
  {
   "cell_type": "markdown",
   "metadata": {
    "collapsed": true
   },
   "source": [
    "# Train classifier to estimate analysis efficiency vs gen variable\n",
    "\n",
    "- Actual training code in train.py\n",
    "- Classifier based on sklearn. Default is GradientBoostedClassifier, \n",
    "    but can be specified at run time."
   ]
  },
  {
   "cell_type": "markdown",
   "metadata": {},
   "source": [
    "## Load libraries"
   ]
  },
  {
   "cell_type": "code",
   "execution_count": 1,
   "metadata": {
    "collapsed": false
   },
   "outputs": [
    {
     "data": {
      "application/javascript": [
       "require(['codemirror/mode/clike/clike'], function(Clike) { console.log('ROOTaaS - C++ CodeMirror module loaded'); });"
      ]
     },
     "metadata": {},
     "output_type": "display_data"
    },
    {
     "data": {
      "application/javascript": [
       "IPython.CodeCell.config_defaults.highlight_modes['magic_text/x-c++src'] = {'reg':[/^%%cpp/]};"
      ]
     },
     "metadata": {},
     "output_type": "display_data"
    },
    {
     "name": "stdout",
     "output_type": "stream",
     "text": [
      "Welcome to ROOTaaS 6.06/08\n"
     ]
    },
    {
     "data": {
      "text/plain": [
       "<module 'util' from 'util.pyc'>"
      ]
     },
     "execution_count": 1,
     "metadata": {},
     "output_type": "execute_result"
    }
   ],
   "source": [
    "import train as tn\n",
    "#reload(tn)\n",
    "\n",
    "import plotting\n",
    "reload(plotting)\n",
    "\n",
    "import matplotlib.pyplot as plt\n",
    "plt.style.use('seaborn-poster')\n",
    "%matplotlib inline\n",
    "\n",
    "import numpy as np\n",
    "\n",
    "from pprint import pprint\n",
    "\n",
    "import os\n",
    "import json\n",
    "import importlib\n",
    "\n",
    "import util as ut\n",
    "reload(ut)"
   ]
  },
  {
   "cell_type": "markdown",
   "metadata": {},
   "source": [
    "## Instantiate helper class\n",
    "\n",
    "Data are read from ROOT trees and converted into pandas data frames.  \n",
    "The loading function makes sure that all the needed columns have been read from the trees, otherwise it rebilds the data frame.\n"
   ]
  },
  {
   "cell_type": "markdown",
   "metadata": {},
   "source": [
    "#### In the following cell the parameters are set up. In this case a new classifier will be initiated with the name effGenVarClass and stored in the directory \"classifiers\". The training data will be read from a root tree located in dataDir. The branches of gen and reco events are the default ones (look at the help function for detailed information)."
   ]
  },
  {
   "cell_type": "code",
   "execution_count": 2,
   "metadata": {
    "collapsed": false
   },
   "outputs": [],
   "source": [
    "ut.defaultParameters(dataDir=\"/mnt/t3nfs01/data01/shome/jandrejk/higgs_model_dep/data\", \n",
    "                     classifiers=['class','recoPt','recoNjets2p5'],\n",
    "                          load = False,\n",
    "                     inputName = \"class_recoPt_recoNjets2p5_1000_tnevts\",\n",
    "                       outName = \"class_recoPt_recoNjets2p5_1000_tnevts_out\",\n",
    "                        outDir = './classifiers',\n",
    "                     # InputDir = './classifiers',\n",
    "                    defineBins = { 'recoPt' : dict(boundaries=[0.,15.,30.,45.,85.,125.,200.,350.,10000.],overflow=False), # do not add overflow automatically\n",
    "                                  'recoNjets2p5' : dict(boundaries=[-0.5,0.5,1.5,2.5,3.5,100.],overflow=False),\n",
    "                                  #'genPt' : dict(boundaries=[0.,15.,30.,45.,85.,125.,200.,350.,10000.],overflow=False), # do not add overflow automatically\n",
    "                                  #'genNjets2p5' : dict(boundaries=[-0.5,0.5,1.5,2.5,3.5,100.],overflow=False)\n",
    "                                 },\n",
    "                     dataFiles=[(0,'output_InsideAcceptance_ggF_125.root'),                   \n",
    "                                (1,'output_InsideAcceptance_ttH_125.root'),                     \n",
    "                                (2,'output_InsideAcceptance_VBF_125.root'),                            \n",
    "                                (3,'output_InsideAcceptance_VH_125.root')\n",
    "                               ]\n",
    "                    )\n"
   ]
  },
  {
   "cell_type": "markdown",
   "metadata": {},
   "source": [
    "\n",
    "In case you need help or further explanation you can execute the help function:"
   ]
  },
  {
   "cell_type": "markdown",
   "metadata": {},
   "source": [
    "#### We want to use machine learning techniques for classification. For that we need to specify the classifier we want to use like here the GradientBoostingClassifier from sklearn.ensamble. Furthermore the parameters of the used classifier have to be set, e.g. the number of training events, max. tree depth, learning rate and so forth."
   ]
  },
  {
   "cell_type": "code",
   "execution_count": 3,
   "metadata": {
    "collapsed": false,
    "slideshow": {
     "slide_type": "slide"
    }
   },
   "outputs": [],
   "source": [
    "ut.params[\"class\"] = [ \"sklearn.ensemble.GradientBoostingClassifier\", \n",
    "                      dict(trainevts=1000,\n",
    "                           max_depth=5,learning_rate=0.2,n_estimators=200,\n",
    "                        min_weight_fraction_leaf=1e-3)\n",
    "]\n",
    "\n",
    "ut.params['recoPt'] = [\"xgboost.sklearn.XGBClassifier\",\n",
    "                       { \"Xbr\" : [\"genPt\",\"absGenRapidity\"],\n",
    "                        \"trainevts\" :1000, \n",
    "                        \"max_depth\" : 5,\"learning_rate\" : 0.1,\n",
    "                        \"n_estimators\" : 500,\"min_child_weight\" : 1e-5,\n",
    "                        \"nthread\" : 2}]\n",
    "\"\"\"\n",
    ",\n",
    "                        \"cvoptimize\" : True,\"cv_params_grid\" : { \"max_depth\" : [5, 7, 10],\n",
    "                                                                 \"learning_rate\" : [0.05, 0.1, 0.2], \n",
    "                                                                 \"n_estimators\" : [250,500,700,1000],\n",
    "                                                                 \"min_child_weight\" : [1e-4, 5e-4, 1e-3],\n",
    "                                                                 \"subsample\" : [0.1, 0.2, 0.5, 1.]}, \n",
    "                        \"cv_nfolds\" : 5, \"cv_niter\" : 5,      \n",
    "\"\"\"\n",
    "ut.params['recoNjets2p5'] =  [\"xgboost.sklearn.XGBClassifier\",\n",
    "                        { \"Xbr\" : [\"genJet2p5Pt0\", \"genJet2p5Rapidity0\",\n",
    "                                    \"genJet2p5Pt1\", \"genJet2p5Rapidity1\",\n",
    "                                    \"genJet2p5Pt2\", \"genJet2p5Rapidity2\",\n",
    "                                    \"genJet2p5Pt3\", \"genJet2p5Rapidity3\",\n",
    "                                    \"genPt\",\"absGenRapidity\"\n",
    "                                ],\n",
    "            \"trainevts\" :1000, \"max_depth\" : 7,\n",
    "            \"learning_rate\" : 0.1,\"n_estimators\" : 500,\n",
    "            \"min_child_weight\" : 1e-5,\n",
    "            \"nthread\" : 2 }]\n",
    "                        "
   ]
  },
  {
   "cell_type": "code",
   "execution_count": 4,
   "metadata": {
    "collapsed": false
   },
   "outputs": [],
   "source": [
    "#ut.params"
   ]
  },
  {
   "cell_type": "markdown",
   "metadata": {},
   "source": [
    "$\\color{red}{\\text{changes in class become also active without ut.setParams(). }}$"
   ]
  },
  {
   "cell_type": "code",
   "execution_count": 1,
   "metadata": {
    "collapsed": false
   },
   "outputs": [
    {
     "ename": "NameError",
     "evalue": "name 'ut' is not defined",
     "output_type": "error",
     "traceback": [
      "\u001b[0;31m---------------------------------------------------------------------------\u001b[0m",
      "\u001b[0;31mNameError\u001b[0m                                 Traceback (most recent call last)",
      "\u001b[0;32m<ipython-input-1-8debcbea8ab1>\u001b[0m in \u001b[0;36m<module>\u001b[0;34m()\u001b[0m\n\u001b[1;32m      3\u001b[0m \u001b[0;31m?\u001b[0m \u001b[0mdiscuss\u001b[0m \u001b[0mthe\u001b[0m \u001b[0mfunction\u001b[0m \u001b[0msetParams\u001b[0m\u001b[0;34m(\u001b[0m\u001b[0;34m)\u001b[0m \u001b[0;32mwith\u001b[0m \u001b[0mPasquale\u001b[0m\u001b[0;34m\u001b[0m\u001b[0m\n\u001b[1;32m      4\u001b[0m \"\"\"\n\u001b[0;32m----> 5\u001b[0;31m \u001b[0mut\u001b[0m\u001b[0;34m.\u001b[0m\u001b[0msetParams\u001b[0m\u001b[0;34m(\u001b[0m\u001b[0;34m)\u001b[0m\u001b[0;34m\u001b[0m\u001b[0m\n\u001b[0m",
      "\u001b[0;31mNameError\u001b[0m: name 'ut' is not defined"
     ]
    }
   ],
   "source": [
    "#set the parameters \"class\" defined above\n",
    "\"\"\"\n",
    "? discuss the function setParams() with Pasquale\n",
    "\"\"\"\n",
    "ut.setParams()"
   ]
  },
  {
   "cell_type": "code",
   "execution_count": 5,
   "metadata": {
    "collapsed": false,
    "scrolled": true
   },
   "outputs": [
    {
     "name": "stdout",
     "output_type": "stream",
     "text": [
      "Create object with the name class_recoPt_recoNjets2p5_1000_tnevts and the following paramters \n",
      "The number of selected events are 572356\n",
      "The number of selected events are 766839\n",
      "The number of selected events are 1448533\n",
      "The number of selected events are 1583887\n",
      "shuffling dataset\n",
      "defining bins\n",
      "CPU times: user 2.19 s, sys: 335 ms, total: 2.52 s\n",
      "Wall time: 6 s\n"
     ]
    }
   ],
   "source": [
    "%time effFitter = ut.loadOrMake()"
   ]
  },
  {
   "cell_type": "markdown",
   "metadata": {
    "collapsed": false
   },
   "source": [
    "## Train classifiers"
   ]
  },
  {
   "cell_type": "markdown",
   "metadata": {},
   "source": [
    "# $\\color{red}{\\text{What happens in the bellow 2 cells?}}$"
   ]
  },
  {
   "cell_type": "code",
   "execution_count": 4,
   "metadata": {
    "collapsed": false
   },
   "outputs": [
    {
     "name": "stdout",
     "output_type": "stream",
     "text": [
      "Waiting for connection file: ~/.ipython/profile_short/security/ipcontroller-client.json\n"
     ]
    },
    {
     "name": "stderr",
     "output_type": "stream",
     "text": [
      "ERROR:root:Internal Python error in the inspect module.\n",
      "Below is the traceback from this internal error.\n",
      "\n"
     ]
    },
    {
     "name": "stdout",
     "output_type": "stream",
     "text": [
      "Traceback (most recent call last):\n",
      "  File \"/swshare/anaconda/lib/python2.7/site-packages/IPython/core/ultratb.py\", line 1132, in get_records\n",
      "    return _fixed_getinnerframes(etb, number_of_lines_of_context, tb_offset)\n",
      "  File \"/swshare/anaconda/lib/python2.7/site-packages/IPython/core/ultratb.py\", line 313, in wrapped\n",
      "    return f(*args, **kwargs)\n",
      "  File \"/swshare/anaconda/lib/python2.7/site-packages/IPython/core/ultratb.py\", line 358, in _fixed_getinnerframes\n",
      "    records = fix_frame_records_filenames(inspect.getinnerframes(etb, context))\n",
      "  File \"/swshare/anaconda/lib/python2.7/inspect.py\", line 1049, in getinnerframes\n",
      "    framelist.append((tb.tb_frame,) + getframeinfo(tb, context))\n",
      "  File \"/swshare/anaconda/lib/python2.7/inspect.py\", line 1009, in getframeinfo\n",
      "    filename = getsourcefile(frame) or getfile(frame)\n",
      "  File \"/swshare/anaconda/lib/python2.7/inspect.py\", line 454, in getsourcefile\n",
      "    if hasattr(getmodule(object, filename), '__loader__'):\n",
      "  File \"/swshare/anaconda/lib/python2.7/inspect.py\", line 500, in getmodule\n",
      "    os.path.realpath(f)] = module.__name__\n",
      "  File \"/swshare/anaconda/lib/python2.7/posixpath.py\", line 375, in realpath\n",
      "    path, ok = _joinrealpath('', filename, {})\n",
      "  File \"/swshare/anaconda/lib/python2.7/posixpath.py\", line 400, in _joinrealpath\n",
      "    if not islink(newpath):\n",
      "  File \"/swshare/anaconda/lib/python2.7/posixpath.py\", line 135, in islink\n",
      "    st = os.lstat(path)\n",
      "KeyboardInterrupt\n"
     ]
    },
    {
     "ename": "IndexError",
     "evalue": "string index out of range",
     "output_type": "error",
     "traceback": [
      "\u001b[0;31m\u001b[0m",
      "\u001b[0;31mIndexError\u001b[0mTraceback (most recent call last)",
      "\u001b[0;32m/swshare/anaconda/lib/python2.7/site-packages/IPython/core/interactiveshell.pyc\u001b[0m in \u001b[0;36mrun_code\u001b[0;34m(self, code_obj, result)\u001b[0m\n\u001b[1;32m   2896\u001b[0m             \u001b[0;32mif\u001b[0m \u001b[0mresult\u001b[0m \u001b[0;32mis\u001b[0m \u001b[0;32mnot\u001b[0m \u001b[0mNone\u001b[0m\u001b[0;34m:\u001b[0m\u001b[0;34m\u001b[0m\u001b[0m\n\u001b[1;32m   2897\u001b[0m                 \u001b[0mresult\u001b[0m\u001b[0;34m.\u001b[0m\u001b[0merror_in_exec\u001b[0m \u001b[0;34m=\u001b[0m \u001b[0msys\u001b[0m\u001b[0;34m.\u001b[0m\u001b[0mexc_info\u001b[0m\u001b[0;34m(\u001b[0m\u001b[0;34m)\u001b[0m\u001b[0;34m[\u001b[0m\u001b[0;36m1\u001b[0m\u001b[0;34m]\u001b[0m\u001b[0;34m\u001b[0m\u001b[0m\n\u001b[0;32m-> 2898\u001b[0;31m             \u001b[0mself\u001b[0m\u001b[0;34m.\u001b[0m\u001b[0mshowtraceback\u001b[0m\u001b[0;34m(\u001b[0m\u001b[0;34m)\u001b[0m\u001b[0;34m\u001b[0m\u001b[0m\n\u001b[0m\u001b[1;32m   2899\u001b[0m         \u001b[0;32melse\u001b[0m\u001b[0;34m:\u001b[0m\u001b[0;34m\u001b[0m\u001b[0m\n\u001b[1;32m   2900\u001b[0m             \u001b[0moutflag\u001b[0m \u001b[0;34m=\u001b[0m \u001b[0;36m0\u001b[0m\u001b[0;34m\u001b[0m\u001b[0m\n",
      "\u001b[0;32m/swshare/anaconda/lib/python2.7/site-packages/IPython/core/interactiveshell.pyc\u001b[0m in \u001b[0;36mshowtraceback\u001b[0;34m(self, exc_tuple, filename, tb_offset, exception_only)\u001b[0m\n\u001b[1;32m   1822\u001b[0m                     \u001b[0;32mexcept\u001b[0m \u001b[0mException\u001b[0m\u001b[0;34m:\u001b[0m\u001b[0;34m\u001b[0m\u001b[0m\n\u001b[1;32m   1823\u001b[0m                         stb = self.InteractiveTB.structured_traceback(etype,\n\u001b[0;32m-> 1824\u001b[0;31m                                             value, tb, tb_offset=tb_offset)\n\u001b[0m\u001b[1;32m   1825\u001b[0m \u001b[0;34m\u001b[0m\u001b[0m\n\u001b[1;32m   1826\u001b[0m                     \u001b[0mself\u001b[0m\u001b[0;34m.\u001b[0m\u001b[0m_showtraceback\u001b[0m\u001b[0;34m(\u001b[0m\u001b[0metype\u001b[0m\u001b[0;34m,\u001b[0m \u001b[0mvalue\u001b[0m\u001b[0;34m,\u001b[0m \u001b[0mstb\u001b[0m\u001b[0;34m)\u001b[0m\u001b[0;34m\u001b[0m\u001b[0m\n",
      "\u001b[0;32m/swshare/anaconda/lib/python2.7/site-packages/IPython/core/ultratb.pyc\u001b[0m in \u001b[0;36mstructured_traceback\u001b[0;34m(self, etype, value, tb, tb_offset, number_of_lines_of_context)\u001b[0m\n\u001b[1;32m   1404\u001b[0m         \u001b[0mself\u001b[0m\u001b[0;34m.\u001b[0m\u001b[0mtb\u001b[0m \u001b[0;34m=\u001b[0m \u001b[0mtb\u001b[0m\u001b[0;34m\u001b[0m\u001b[0m\n\u001b[1;32m   1405\u001b[0m         return FormattedTB.structured_traceback(\n\u001b[0;32m-> 1406\u001b[0;31m             self, etype, value, tb, tb_offset, number_of_lines_of_context)\n\u001b[0m\u001b[1;32m   1407\u001b[0m \u001b[0;34m\u001b[0m\u001b[0m\n\u001b[1;32m   1408\u001b[0m \u001b[0;34m\u001b[0m\u001b[0m\n",
      "\u001b[0;32m/swshare/anaconda/lib/python2.7/site-packages/IPython/core/ultratb.pyc\u001b[0m in \u001b[0;36mstructured_traceback\u001b[0;34m(self, etype, value, tb, tb_offset, number_of_lines_of_context)\u001b[0m\n\u001b[1;32m   1312\u001b[0m             \u001b[0;31m# Verbose modes need a full traceback\u001b[0m\u001b[0;34m\u001b[0m\u001b[0;34m\u001b[0m\u001b[0m\n\u001b[1;32m   1313\u001b[0m             return VerboseTB.structured_traceback(\n\u001b[0;32m-> 1314\u001b[0;31m                 \u001b[0mself\u001b[0m\u001b[0;34m,\u001b[0m \u001b[0metype\u001b[0m\u001b[0;34m,\u001b[0m \u001b[0mvalue\u001b[0m\u001b[0;34m,\u001b[0m \u001b[0mtb\u001b[0m\u001b[0;34m,\u001b[0m \u001b[0mtb_offset\u001b[0m\u001b[0;34m,\u001b[0m \u001b[0mnumber_of_lines_of_context\u001b[0m\u001b[0;34m\u001b[0m\u001b[0m\n\u001b[0m\u001b[1;32m   1315\u001b[0m             )\n\u001b[1;32m   1316\u001b[0m         \u001b[0;32melse\u001b[0m\u001b[0;34m:\u001b[0m\u001b[0;34m\u001b[0m\u001b[0m\n",
      "\u001b[0;32m/swshare/anaconda/lib/python2.7/site-packages/IPython/core/ultratb.pyc\u001b[0m in \u001b[0;36mstructured_traceback\u001b[0;34m(self, etype, evalue, etb, tb_offset, number_of_lines_of_context)\u001b[0m\n\u001b[1;32m   1196\u001b[0m                 \u001b[0mstructured_traceback_parts\u001b[0m \u001b[0;34m+=\u001b[0m \u001b[0mformatted_exception\u001b[0m\u001b[0;34m\u001b[0m\u001b[0m\n\u001b[1;32m   1197\u001b[0m         \u001b[0;32melse\u001b[0m\u001b[0;34m:\u001b[0m\u001b[0;34m\u001b[0m\u001b[0m\n\u001b[0;32m-> 1198\u001b[0;31m             \u001b[0mstructured_traceback_parts\u001b[0m \u001b[0;34m+=\u001b[0m \u001b[0mformatted_exception\u001b[0m\u001b[0;34m[\u001b[0m\u001b[0;36m0\u001b[0m\u001b[0;34m]\u001b[0m\u001b[0;34m\u001b[0m\u001b[0m\n\u001b[0m\u001b[1;32m   1199\u001b[0m \u001b[0;34m\u001b[0m\u001b[0m\n\u001b[1;32m   1200\u001b[0m         \u001b[0;32mreturn\u001b[0m \u001b[0mstructured_traceback_parts\u001b[0m\u001b[0;34m\u001b[0m\u001b[0m\n",
      "\u001b[0;31mIndexError\u001b[0m: string index out of range"
     ]
    }
   ],
   "source": [
    "#print(ut.params.get(\"setupJoblib\",False))\n",
    "if ut.params.get(\"setupJoblib\",True):\n",
    "#    print('hi')\n",
    "    ut.setupJoblib(ipp_profile=ut.params.get('ippProfile','short'))"
   ]
  },
  {
   "cell_type": "markdown",
   "metadata": {},
   "source": [
    "###  make sure that the trained classifers have been evaluated"
   ]
  },
  {
   "cell_type": "code",
   "execution_count": 6,
   "metadata": {
    "collapsed": false,
    "scrolled": true
   },
   "outputs": [
    {
     "name": "stdout",
     "output_type": "stream",
     "text": [
      "Index([u'absweight', u'class', u'genJet2p5Pt0', u'genJet2p5Pt1',\n",
      "       u'genJet2p5Pt2', u'genJet2p5Pt3', u'genJet2p5Rapidity0',\n",
      "       u'genJet2p5Rapidity1', u'genJet2p5Rapidity2', u'genJet2p5Rapidity3',\n",
      "       u'genNjets2p5', u'genPt', u'genRapidity', u'recoNjets2p5', u'recoPt',\n",
      "       u'recoRapidity', u'weight', u'proc', u'absGenRapidity', u'recoPtBin',\n",
      "       u'recoPtCat', u'recoNjets2p5Bin', u'recoNjets2p5Cat', u'class_prob_0',\n",
      "       u'class_prob_1', u'class_prob_2', u'class_prob_3', u'recoPtCat_prob_0',\n",
      "       u'recoPtCat_prob_1', u'recoPtCat_prob_2', u'recoPtCat_prob_3',\n",
      "       u'recoPtCat_prob_4', u'recoPtCat_prob_5', u'recoPtCat_prob_6',\n",
      "       u'recoPtCat_prob_7', u'recoPtCat_prob_8', u'recoPtCat_prob_9',\n",
      "       u'recoPtCat_prob_10', u'recoPtCat_prob_11', u'recoPtCat_prob_12',\n",
      "       u'recoPtCat_prob_13', u'recoPtCat_prob_14', u'recoPtCat_prob_15',\n",
      "       u'recoPtCat_prob_16', u'recoPtCat_prob_17', u'recoPtCat_prob_18',\n",
      "       u'recoPtCat_prob_19', u'recoPtCat_prob_20', u'recoPtCat_prob_21',\n",
      "       u'recoPtCat_prob_22', u'recoPtCat_prob_23', u'recoPtCat_prob_24'],\n",
      "      dtype='object')\n"
     ]
    }
   ],
   "source": [
    "ut.runEvaluation(effFitter)"
   ]
  },
  {
   "cell_type": "markdown",
   "metadata": {},
   "source": [
    "### Run the actual training"
   ]
  },
  {
   "cell_type": "code",
   "execution_count": 7,
   "metadata": {
    "collapsed": false
   },
   "outputs": [
    {
     "name": "stdout",
     "output_type": "stream",
     "text": [
      "We need to train the following classifiers recoNjets2p5\n",
      "Fitting recoNjets2p5\n",
      "<class 'xgboost.sklearn.XGBClassifier'>\n",
      "{'nthread': 16, 'learning_rate': 0.1, 'trainevts': 100000, 'min_child_weight': 1e-05, 'Xbr': ['genJet2p5Pt0', 'genJet2p5Rapidity0', 'genJet2p5Pt1', 'genJet2p5Rapidity1', 'genJet2p5Pt2', 'genJet2p5Rapidity2', 'genJet2p5Pt3', 'genJet2p5Rapidity3', 'genPt', 'absGenRapidity'], 'n_estimators': 500, 'max_depth': 7}\n",
      "['genJet2p5Pt0', 'genJet2p5Rapidity0', 'genJet2p5Pt1', 'genJet2p5Rapidity1', 'genJet2p5Pt2', 'genJet2p5Rapidity2', 'genJet2p5Pt3', 'genJet2p5Rapidity3', 'genPt', 'absGenRapidity', 'class_prob_0', 'class_prob_1', 'class_prob_2', 'class_prob_3']\n",
      "recoNjets2p5Cat\n",
      "cvoptimize False\n",
      "((100000, 14), 1400000)\n",
      "((100000,), 100000)\n",
      "((100000,), 100000)\n",
      "[[  4.70493698e+01   1.35553241e+00   0.00000000e+00   0.00000000e+00\n",
      "    0.00000000e+00   0.00000000e+00   0.00000000e+00   0.00000000e+00\n",
      "    9.37878723e+01   8.03131044e-01   3.86127047e-01   1.17574288e-01\n",
      "    2.57626153e-01   2.38672511e-01]\n",
      " [  4.31782570e+01  -7.35233724e-01   0.00000000e+00   0.00000000e+00\n",
      "    0.00000000e+00   0.00000000e+00   0.00000000e+00   0.00000000e+00\n",
      "    5.20580215e+01   1.77781522e-01   2.92436416e-01   3.49667909e-01\n",
      "    2.64177098e-01   9.37185776e-02]\n",
      " [  0.00000000e+00   0.00000000e+00   0.00000000e+00   0.00000000e+00\n",
      "    0.00000000e+00   0.00000000e+00   0.00000000e+00   0.00000000e+00\n",
      "    1.74987076e+02   2.44922504e-01   3.34279070e-01   4.38194181e-01\n",
      "    1.51797324e-01   7.57294252e-02]]\n",
      "[ 7.  2. -1.]\n",
      "[  3.46860725e-05   1.33893293e-04   4.42525379e-05]\n",
      "CPU times: user 1h 32min 2s, sys: 1min 30s, total: 1h 33min 33s\n",
      "Wall time: 6min 1s\n"
     ]
    }
   ],
   "source": [
    "#reload(tn)\n",
    "%time ut.runTraining(effFitter)"
   ]
  },
  {
   "cell_type": "markdown",
   "metadata": {},
   "source": [
    "## Save the output"
   ]
  },
  {
   "cell_type": "code",
   "execution_count": 8,
   "metadata": {
    "collapsed": false
   },
   "outputs": [
    {
     "name": "stdout",
     "output_type": "stream",
     "text": [
      "./classifiers/effGenVarClassBinnedRecoPtBinnedRecoNjets2p5_out.pkl.gz\n",
      "CPU times: user 32.2 s, sys: 6.29 s, total: 38.5 s\n",
      "Wall time: 42 s\n"
     ]
    }
   ],
   "source": [
    "#reload(tn)\n",
    "%time tn.IO.save(effFitter)"
   ]
  },
  {
   "cell_type": "markdown",
   "metadata": {},
   "source": [
    "# Additional cells"
   ]
  },
  {
   "cell_type": "code",
   "execution_count": 5,
   "metadata": {
    "collapsed": true
   },
   "outputs": [],
   "source": [
    "#df = effFitter.df"
   ]
  },
  {
   "cell_type": "code",
   "execution_count": 6,
   "metadata": {
    "collapsed": false,
    "scrolled": true
   },
   "outputs": [],
   "source": [
    "#df.size"
   ]
  },
  {
   "cell_type": "markdown",
   "metadata": {},
   "source": [
    "do some plotting of the event features"
   ]
  },
  {
   "cell_type": "code",
   "execution_count": 7,
   "metadata": {
    "collapsed": true
   },
   "outputs": [],
   "source": [
    "#df_reduced = df[['genPt','absGenRapidity','class','recoPt']][0:10000]"
   ]
  },
  {
   "cell_type": "code",
   "execution_count": 8,
   "metadata": {
    "collapsed": false
   },
   "outputs": [],
   "source": [
    "#class_0 = df_reduced[df_reduced['class'] == -1]\n",
    "#class_1 = df_reduced[df_reduced['class'] ==  0]\n",
    "#class_2 = df_reduced[df_reduced['class'] ==  1]\n",
    "#class_3 = df_reduced[df_reduced['class'] ==  2]\n"
   ]
  },
  {
   "cell_type": "code",
   "execution_count": 16,
   "metadata": {
    "collapsed": false
   },
   "outputs": [],
   "source": [
    "#fig = plt.figure(figsize=(12,12))\n",
    "#plt.plot(class_0['absGenRapidity'],class_0['genPt'],'r.',label='class -1')\n",
    "#plt.plot(class_1['absGenRapidity'],class_1['genPt'],'g.',label='class  0')\n",
    "#plt.plot(class_2['absGenRapidity'],class_2['genPt'],'b.',label='class  1')\n",
    "#plt.plot(class_3['absGenRapidity'],class_3['genPt'],'k.',label='class  2')\n",
    "#plt.legend(loc='best')\n",
    "#plt.xlabel(r'$|y|$')\n",
    "#plt.ylabel(r'$p_T$')\n",
    "#lt.show()"
   ]
  },
  {
   "cell_type": "code",
   "execution_count": 9,
   "metadata": {
    "collapsed": false
   },
   "outputs": [],
   "source": [
    "#plt.plot(class_2['recoPt'],class_2['genPt'],'r.')"
   ]
  },
  {
   "cell_type": "code",
   "execution_count": 10,
   "metadata": {
    "collapsed": false
   },
   "outputs": [
    {
     "data": {
      "text/plain": [
       "'\\nc1 = np.divide(class_1[\\'recoPt\\'],class_1[\\'genPt\\'])\\nc2 = np.divide(class_2[\\'recoPt\\'],class_2[\\'genPt\\'])\\nc3 = np.divide(class_3[\\'recoPt\\'],class_3[\\'genPt\\'])\\n\\n\\nplt.hist(c1,bins=np.linspace(0.6,1.4,100),log=True,alpha=0.5,normed=True,label=\\'1\\')\\nplt.hist(c2,bins=np.linspace(0.6,1.4,100),log=True,alpha=0.5,normed=True,label=\\'2\\')\\nplt.hist(c3,bins=np.linspace(0.6,1.4,100),log=True,alpha=0.5,normed=True,label=\\'3\\')\\nplt.xlim(0.6,1.4)\\n\\nplt.legend(loc=\\'best\\')\\nplt.show()\\n\\nprint(\"rms of class 1 \" +str(np.std(c1,ddof=1)))\\nprint(\"rms of class 2 \" +str(np.std(c2,ddof=1)))\\nprint(\"rms of class 3 \" +str(np.std(c3,ddof=1)))\\n'"
      ]
     },
     "execution_count": 10,
     "metadata": {},
     "output_type": "execute_result"
    }
   ],
   "source": [
    "\"\"\"\n",
    "c1 = np.divide(class_1['recoPt'],class_1['genPt'])\n",
    "c2 = np.divide(class_2['recoPt'],class_2['genPt'])\n",
    "c3 = np.divide(class_3['recoPt'],class_3['genPt'])\n",
    "\n",
    "\n",
    "plt.hist(c1,bins=np.linspace(0.6,1.4,100),log=True,alpha=0.5,normed=True,label='1')\n",
    "plt.hist(c2,bins=np.linspace(0.6,1.4,100),log=True,alpha=0.5,normed=True,label='2')\n",
    "plt.hist(c3,bins=np.linspace(0.6,1.4,100),log=True,alpha=0.5,normed=True,label='3')\n",
    "plt.xlim(0.6,1.4)\n",
    "\n",
    "plt.legend(loc='best')\n",
    "plt.show()\n",
    "\n",
    "print(\"rms of class 1 \" +str(np.std(c1,ddof=1)))\n",
    "print(\"rms of class 2 \" +str(np.std(c2,ddof=1)))\n",
    "print(\"rms of class 3 \" +str(np.std(c3,ddof=1)))\n",
    "\"\"\""
   ]
  },
  {
   "cell_type": "code",
   "execution_count": 11,
   "metadata": {
    "collapsed": false,
    "scrolled": false
   },
   "outputs": [],
   "source": [
    "#f, axarr = plt.subplots(2, 2,figsize=(10,10), sharex='all', sharey='all')\n",
    "\n",
    "#plt.ylim(0,800)\n",
    "#plt.xlim(0,2.5)\n",
    "#plt.xlabel(r'$|y|$')\n",
    "#plt.ylabel(r'$p_T$')\n",
    "#f.figure(figuresize=(10,10))\n",
    "#axarr[0, 0].plot(class_0['recoPt'],class_0['genPt'],'r.')\n",
    "#axarr[0, 0].set_title('class_0')\n",
    "\n",
    "#axarr[0, 1].plot(class_1['absGenRapidity'],class_1['genPt'],'g.')\n",
    "#axarr[0, 1].set_title('class_1')\n",
    "#axarr[1, 0].plot(class_2['absGenRapidity'],class_2['genPt'],'b.')\n",
    "#axarr[1, 0].set_title('class_2')\n",
    "#axarr[1, 1].plot(class_3['absGenRapidity'],class_3['genPt'],'k.')\n",
    "#axarr[1, 1].set_title('class_3')\n",
    "\n",
    "#plt.show()"
   ]
  },
  {
   "cell_type": "code",
   "execution_count": 12,
   "metadata": {
    "collapsed": false
   },
   "outputs": [],
   "source": [
    "#effFitter.df[['recoPtCat','recoPt']][:10000].plot(kind='scatter',x='recoPt',y='recoPtCat')"
   ]
  },
  {
   "cell_type": "code",
   "execution_count": 13,
   "metadata": {
    "collapsed": false
   },
   "outputs": [],
   "source": [
    "#df[['class','genPt','absGenRapidity','class_prob_0','class_prob_1','class_prob_2','class_prob_3','genPtCat']][0:5]"
   ]
  },
  {
   "cell_type": "code",
   "execution_count": 14,
   "metadata": {
    "collapsed": false,
    "scrolled": false
   },
   "outputs": [],
   "source": [
    "#df[['recoPtBin','recoPtCat','genPtBin','genPtCat','recoNjets2p5Bin','recoNjets2p5Cat','genNjets2p5Bin','genNjets2p5Cat']][0:5]"
   ]
  },
  {
   "cell_type": "code",
   "execution_count": 15,
   "metadata": {
    "collapsed": false
   },
   "outputs": [],
   "source": [
    "#df[['genPt','genPtBin','class','genPtCat']][0:10]"
   ]
  },
  {
   "cell_type": "code",
   "execution_count": 16,
   "metadata": {
    "collapsed": false
   },
   "outputs": [],
   "source": [
    "#df.loc[df['genPtCat'] == -1]"
   ]
  },
  {
   "cell_type": "code",
   "execution_count": 17,
   "metadata": {
    "collapsed": false
   },
   "outputs": [],
   "source": [
    "#df[['recoPtCat','recoPt']][:10000].plot(kind='scatter',x='recoPt',y='recoPtCat')"
   ]
  },
  {
   "cell_type": "code",
   "execution_count": 18,
   "metadata": {
    "collapsed": false
   },
   "outputs": [],
   "source": [
    "#df[['recoPt']][:10000].plot(kind='hist')"
   ]
  },
  {
   "cell_type": "code",
   "execution_count": 19,
   "metadata": {
    "collapsed": false
   },
   "outputs": [],
   "source": [
    "#type(effFitter)"
   ]
  },
  {
   "cell_type": "markdown",
   "metadata": {},
   "source": [
    "### Reload the above effieciency fitter and list some features"
   ]
  },
  {
   "cell_type": "code",
   "execution_count": 20,
   "metadata": {
    "collapsed": false
   },
   "outputs": [],
   "source": [
    "#%time tn.IO.load(effFitter.name,effFitter.outdir)"
   ]
  },
  {
   "cell_type": "markdown",
   "metadata": {},
   "source": [
    "\"pretty\" print the input features of the classifier"
   ]
  },
  {
   "cell_type": "code",
   "execution_count": 21,
   "metadata": {
    "collapsed": false
   },
   "outputs": [],
   "source": [
    "#pprint(effFitter.clfs)"
   ]
  },
  {
   "cell_type": "markdown",
   "metadata": {},
   "source": [
    "\"pretty\" print the columns of the classifier after being exported to a pandas dataframe"
   ]
  },
  {
   "cell_type": "code",
   "execution_count": 22,
   "metadata": {
    "collapsed": false
   },
   "outputs": [],
   "source": [
    "#pprint(effFitter.df.columns)"
   ]
  },
  {
   "cell_type": "code",
   "execution_count": 23,
   "metadata": {
    "collapsed": true
   },
   "outputs": [],
   "source": [
    "#df = effFitter.df"
   ]
  },
  {
   "cell_type": "markdown",
   "metadata": {},
   "source": [
    "Display the first 3 rows of the dataframe"
   ]
  },
  {
   "cell_type": "code",
   "execution_count": 24,
   "metadata": {
    "collapsed": false
   },
   "outputs": [],
   "source": [
    "#df[0:3]"
   ]
  },
  {
   "cell_type": "markdown",
   "metadata": {
    "collapsed": false
   },
   "source": [
    "# Additional code"
   ]
  },
  {
   "cell_type": "code",
   "execution_count": 25,
   "metadata": {
    "collapsed": true
   },
   "outputs": [],
   "source": [
    "# set default parameters\n",
    "# ut.defaultParameters(clean=['class'],classifiers=['class'],setupJoblib=True)\n",
    "# ut.params[\"class\"]=[\"xgboost.sklearn.XGBClassifier\",\n",
    "#                     { \"trainevts\" :-1, \"max_depth\" : 5,\n",
    "#                         \"learning_rate\" : 0.2,\"n_estimators\" : 250,\n",
    "#                         \"min_child_weight\" : 5e-4,\n",
    "#                         \"nthread\" : 16,\n",
    "#                         \"cvoptimize\" : True,\n",
    "#                         \"cv_params_grid\" : { \n",
    "#                             \"max_depth\" : [3, 5, 7, 10],\n",
    "#                             \"learning_rate\" : [0.05, 0.1, 0.2], \"n_estimators\" : [100,250,500],\n",
    "#                              \"min_child_weight\" : [1e-4, 5e-4, 1e-3],\n",
    "#                             \"subsample\" : [0.1, 0.2, 0.5, 1.]\n",
    "#                         },\n",
    "#                     \"cv_nfolds\" : 5, \"cv_niter\" : 100, \"cv_verbose\" : 20\n",
    "#                     }\n",
    "#                     ]\n",
    "\n",
    "\n",
    "\n",
    "# ut.params[\"recoPt\"]= [\"xgboost.sklearn.XGBClassifier\",\n",
    "#           { \"Xbr\" : [\"genPt\",\"absGenRapidity\"],\n",
    "#             \"trainevts\" :-1, \"max_depth\" : 5,\n",
    "#             \"learning_rate\" : 0.1,\"n_estimators\" : 500,\n",
    "#             \"min_child_weight\" : 1e-5,\n",
    "#             \"nthread\" : 16,\n",
    "#             \"cvoptimize\" : True,\n",
    "#             \"cv_params_grid\" : { \n",
    "#                     \"max_depth\" : [5, 7, 10],\n",
    "#                     \"learning_rate\" : [0.05, 0.1, 0.2], \"n_estimators\" : [250,500,700,1000],\n",
    "#                     \"min_child_weight\" : [1e-4, 5e-4, 1e-3],\n",
    "#                     \"subsample\" : [0.1, 0.2, 0.5, 1.]\n",
    "#                  },\n",
    "#             \"cv_nfolds\" : 4, \"cv_niter\" : 50, \"cv_verbose\" : 20      \n",
    "#           }\n",
    "#         ]\n",
    "# ut.params[\"outName\"] = \"addRecoPt\"\n",
    "\n",
    "# load additional parameters \n",
    "# a list of json files to be loaded can be specified through the the environmental variable my_train_config "
   ]
  },
  {
   "cell_type": "code",
   "execution_count": null,
   "metadata": {
    "collapsed": true
   },
   "outputs": [],
   "source": []
  },
  {
   "cell_type": "code",
   "execution_count": null,
   "metadata": {
    "collapsed": true
   },
   "outputs": [],
   "source": []
  }
 ],
 "metadata": {
  "anaconda-cloud": {},
  "kernelspec": {
   "display_name": "Python [default]",
   "language": "python",
   "name": "python2"
  },
  "language_info": {
   "codemirror_mode": {
    "name": "ipython",
    "version": 2
   },
   "file_extension": ".py",
   "mimetype": "text/x-python",
   "name": "python",
   "nbconvert_exporter": "python",
   "pygments_lexer": "ipython2",
   "version": "2.7.12"
  }
 },
 "nbformat": 4,
 "nbformat_minor": 0
}
