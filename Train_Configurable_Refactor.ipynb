{
 "cells": [
  {
   "cell_type": "markdown",
   "metadata": {
    "collapsed": true
   },
   "source": [
    "# Train classifier to estimate analysis efficiency vs gen variable\n",
    "\n",
    "- Actual training code in train.py\n",
    "- Classifier based on sklearn. Default is GradientBoostedClassifier, \n",
    "    but can be specified at run time."
   ]
  },
  {
   "cell_type": "markdown",
   "metadata": {},
   "source": [
    "## Load libraries"
   ]
  },
  {
   "cell_type": "code",
   "execution_count": 1,
   "metadata": {
    "collapsed": false
   },
   "outputs": [
    {
     "data": {
      "application/javascript": [
       "\n",
       "require(['notebook'],\n",
       "  function() {\n",
       "    IPython.CodeCell.config_defaults.highlight_modes['magic_text/x-c++src'] = {'reg':[/^%%cpp/]};\n",
       "    console.log(\"JupyROOT - %%cpp magic configured\");\n",
       "  }\n",
       ");\n"
      ]
     },
     "metadata": {},
     "output_type": "display_data"
    },
    {
     "name": "stdout",
     "output_type": "stream",
     "text": [
      "Welcome to JupyROOT 6.08/06\n"
     ]
    },
    {
     "data": {
      "text/plain": [
       "<module 'util' from 'util.pyc'>"
      ]
     },
     "execution_count": 1,
     "metadata": {},
     "output_type": "execute_result"
    }
   ],
   "source": [
    "import train as tn\n",
    "reload(tn)\n",
    "\n",
    "import plotting\n",
    "reload(plotting)\n",
    "\n",
    "import matplotlib.pyplot as plt\n",
    "plt.style.use('seaborn-poster')\n",
    "%matplotlib inline\n",
    "\n",
    "import numpy as np\n",
    "\n",
    "from pprint import pprint\n",
    "\n",
    "import os\n",
    "import json\n",
    "import importlib\n",
    "\n",
    "import util as ut\n",
    "reload(ut)"
   ]
  },
  {
   "cell_type": "code",
   "execution_count": 9,
   "metadata": {
    "collapsed": false
   },
   "outputs": [
    {
     "data": {
      "text/plain": [
       "<module 'util' from 'util.py'>"
      ]
     },
     "execution_count": 9,
     "metadata": {},
     "output_type": "execute_result"
    }
   ],
   "source": [
    "import util as ut\n",
    "reload(ut)"
   ]
  },
  {
   "cell_type": "markdown",
   "metadata": {},
   "source": [
    "## Instantiate helper class\n",
    "\n",
    "Data are read from ROOT trees and converted into pandas data frames.  \n",
    "The loading function makes sure that all the needed columns have been read from the trees, otherwise it rebilds the data frame.\n"
   ]
  },
  {
   "cell_type": "markdown",
   "metadata": {},
   "source": [
    "#### In the following cell the parameters are set up. In this case a new classifier will be initiated with the name effGenVarClass and stored in the directory \"classifiers\". The training data will be read from a root tree located in dataDir. The branches of gen and reco events are the default ones (look at the help function for detailed information)."
   ]
  },
  {
   "cell_type": "code",
   "execution_count": 29,
   "metadata": {
    "collapsed": false
   },
   "outputs": [
    {
     "data": {
      "text/plain": [
       "<module 'util' from 'util.py'>"
      ]
     },
     "execution_count": 29,
     "metadata": {},
     "output_type": "execute_result"
    }
   ],
   "source": [
    "reload(ut)\n",
    "#help(ut.defaultParameters)"
   ]
  },
  {
   "cell_type": "code",
   "execution_count": 30,
   "metadata": {
    "collapsed": false
   },
   "outputs": [],
   "source": [
    "ut.defaultParameters(dataDir=\"./data\", \n",
    "                     classifiers=['class'],\n",
    "                          load = False,\n",
    "                     inputName = \"effGenVarClass_test\",\n",
    "                       outName = \"effGenVarClass_test_out\",\n",
    "                        outDir = './classifiers',\n",
    "                      InputDir = './classifiers')"
   ]
  },
  {
   "cell_type": "code",
   "execution_count": 31,
   "metadata": {
    "collapsed": false
   },
   "outputs": [
    {
     "data": {
      "text/plain": [
       "{'InputDir': './classifiers',\n",
       " 'classifiers': ['class'],\n",
       " 'clean': [],\n",
       " 'dataDir': './data',\n",
       " 'dataFname': 'output_InsideAcceptance_125.root',\n",
       " 'defineBins': {},\n",
       " 'forceMake': False,\n",
       " 'genBranches': ['genPt',\n",
       "  'genRapidity',\n",
       "  'genJet2p5Pt0',\n",
       "  'genJet2p5Rapidity0',\n",
       "  'genJet2p5Pt1',\n",
       "  'genJet2p5Rapidity1',\n",
       "  'genJet2p5Pt2',\n",
       "  'genJet2p5Rapidity2',\n",
       "  'genJet2p5Pt3',\n",
       "  'genJet2p5Rapidity3',\n",
       "  'weight',\n",
       "  'genNjets2p5'],\n",
       " 'inputDir': '.',\n",
       " 'inputName': 'effGenVarClass_test',\n",
       " 'load': False,\n",
       " 'ncats': 3,\n",
       " 'outDir': './classifiers',\n",
       " 'outName': 'effGenVarClass_test_out',\n",
       " 'pfx': 'genDiphotonDumper/trees/InsideAcceptance_125_13TeV',\n",
       " 'recoBranches': ['recoPt', 'recoRapidity', 'recoNjets2p5'],\n",
       " 'rndseed': 9347865,\n",
       " 'rndseed2': 2315645,\n",
       " 'split_frac': 0.75}"
      ]
     },
     "execution_count": 31,
     "metadata": {},
     "output_type": "execute_result"
    }
   ],
   "source": [
    "ut.params"
   ]
  },
  {
   "cell_type": "markdown",
   "metadata": {},
   "source": [
    "In case you need help or further explanation you can execute the help function:"
   ]
  },
  {
   "cell_type": "markdown",
   "metadata": {},
   "source": [
    "#### We want to use machine learning techniques for classification. For that we need to specify the classifier we want to use like here the GradientBoostingClassifier from sklearn.ensamble. Furthermore the parameters of the used classifier have to be set, e.g. the number of training events, max. tree depth, learning rate and so forth."
   ]
  },
  {
   "cell_type": "code",
   "execution_count": 32,
   "metadata": {
    "collapsed": false,
    "slideshow": {
     "slide_type": "slide"
    }
   },
   "outputs": [],
   "source": [
    "ut.params[\"class\"] = [ \"sklearn.ensemble.GradientBoostingClassifier\", \n",
    "                      dict(trainevts=1000,\n",
    "                           max_depth=5,learning_rate=0.2,n_estimators=200,\n",
    "                        min_weight_fraction_leaf=1e-3)\n",
    "]\n"
   ]
  },
  {
   "cell_type": "code",
   "execution_count": 33,
   "metadata": {
    "collapsed": false
   },
   "outputs": [
    {
     "data": {
      "text/plain": [
       "{'InputDir': './classifiers',\n",
       " 'class': ['sklearn.ensemble.GradientBoostingClassifier',\n",
       "  {'learning_rate': 0.2,\n",
       "   'max_depth': 5,\n",
       "   'min_weight_fraction_leaf': 0.001,\n",
       "   'n_estimators': 200,\n",
       "   'trainevts': 1000}],\n",
       " 'classifiers': ['class'],\n",
       " 'clean': [],\n",
       " 'dataDir': './data',\n",
       " 'dataFname': 'output_InsideAcceptance_125.root',\n",
       " 'defineBins': {},\n",
       " 'forceMake': False,\n",
       " 'genBranches': ['genPt',\n",
       "  'genRapidity',\n",
       "  'genJet2p5Pt0',\n",
       "  'genJet2p5Rapidity0',\n",
       "  'genJet2p5Pt1',\n",
       "  'genJet2p5Rapidity1',\n",
       "  'genJet2p5Pt2',\n",
       "  'genJet2p5Rapidity2',\n",
       "  'genJet2p5Pt3',\n",
       "  'genJet2p5Rapidity3',\n",
       "  'weight',\n",
       "  'genNjets2p5'],\n",
       " 'inputDir': '.',\n",
       " 'inputName': 'effGenVarClass_test',\n",
       " 'load': False,\n",
       " 'ncats': 3,\n",
       " 'outDir': './classifiers',\n",
       " 'outName': 'effGenVarClass_test_out',\n",
       " 'pfx': 'genDiphotonDumper/trees/InsideAcceptance_125_13TeV',\n",
       " 'recoBranches': ['recoPt', 'recoRapidity', 'recoNjets2p5'],\n",
       " 'rndseed': 9347865,\n",
       " 'rndseed2': 2315645,\n",
       " 'split_frac': 0.75}"
      ]
     },
     "execution_count": 33,
     "metadata": {},
     "output_type": "execute_result"
    }
   ],
   "source": [
    "ut.params"
   ]
  },
  {
   "cell_type": "markdown",
   "metadata": {},
   "source": [
    "$\\color{red}{\\text{changes in class become also active without ut.setParams(). }}$"
   ]
  },
  {
   "cell_type": "code",
   "execution_count": 13,
   "metadata": {
    "collapsed": false
   },
   "outputs": [
    {
     "name": "stdout",
     "output_type": "stream",
     "text": [
      "entered config files named my_train_config\n",
      "None\n"
     ]
    }
   ],
   "source": [
    "#set the parameters \"class\" defined above\n",
    "\"\"\"\n",
    "? discuss the function setParams() with Pasquale\n",
    "\"\"\"\n",
    "ut.setParams()"
   ]
  },
  {
   "cell_type": "code",
   "execution_count": 34,
   "metadata": {
    "collapsed": false,
    "scrolled": false
   },
   "outputs": [
    {
     "name": "stdout",
     "output_type": "stream",
     "text": [
      "Create object with the name effGenVarClass_test and the following paramters \n",
      "{'InputDir': './classifiers',\n",
      " 'class': ['sklearn.ensemble.GradientBoostingClassifier',\n",
      "           {'learning_rate': 0.2,\n",
      "            'max_depth': 5,\n",
      "            'min_weight_fraction_leaf': 0.001,\n",
      "            'n_estimators': 200,\n",
      "            'trainevts': 1000}],\n",
      " 'classifiers': ['class'],\n",
      " 'clean': [],\n",
      " 'dataDir': './data',\n",
      " 'dataFname': 'output_InsideAcceptance_125.root',\n",
      " 'defineBins': {},\n",
      " 'forceMake': False,\n",
      " 'genBranches': ['genPt',\n",
      "                 'genRapidity',\n",
      "                 'genJet2p5Pt0',\n",
      "                 'genJet2p5Rapidity0',\n",
      "                 'genJet2p5Pt1',\n",
      "                 'genJet2p5Rapidity1',\n",
      "                 'genJet2p5Pt2',\n",
      "                 'genJet2p5Rapidity2',\n",
      "                 'genJet2p5Pt3',\n",
      "                 'genJet2p5Rapidity3',\n",
      "                 'weight',\n",
      "                 'genNjets2p5'],\n",
      " 'inputDir': '.',\n",
      " 'inputName': 'effGenVarClass_test',\n",
      " 'load': False,\n",
      " 'ncats': 3,\n",
      " 'outDir': './classifiers',\n",
      " 'outName': 'effGenVarClass_test_out',\n",
      " 'pfx': 'genDiphotonDumper/trees/InsideAcceptance_125_13TeV',\n",
      " 'recoBranches': ['recoPt', 'recoRapidity', 'recoNjets2p5'],\n",
      " 'rndseed': 9347865,\n",
      " 'rndseed2': 2315645,\n",
      " 'split_frac': 0.75}\n",
      "The number of selected events are 1389404\n",
      "shuffling dataset\n",
      "defining bins\n",
      "CPU times: user 5.65 s, sys: 312 ms, total: 5.96 s\n",
      "Wall time: 5.94 s\n"
     ]
    }
   ],
   "source": [
    "reload(tn)\n",
    "%time effFitter = ut.loadOrMake()"
   ]
  },
  {
   "cell_type": "code",
   "execution_count": 28,
   "metadata": {
    "collapsed": false
   },
   "outputs": [
    {
     "data": {
      "text/plain": [
       "train.EfficiencyFitter"
      ]
     },
     "execution_count": 28,
     "metadata": {},
     "output_type": "execute_result"
    }
   ],
   "source": []
  },
  {
   "cell_type": "markdown",
   "metadata": {
    "collapsed": false
   },
   "source": [
    "## Train classifiers"
   ]
  },
  {
   "cell_type": "markdown",
   "metadata": {},
   "source": [
    "# $\\color{red}{\\text{What happens in the bellow 2 cells?}}$"
   ]
  },
  {
   "cell_type": "code",
   "execution_count": 35,
   "metadata": {
    "collapsed": false
   },
   "outputs": [
    {
     "name": "stdout",
     "output_type": "stream",
     "text": [
      "False\n"
     ]
    }
   ],
   "source": [
    "print(ut.params.get(\"setupJoblib\",False))\n",
    "if ut.params.get(\"setupJoblib\",False):\n",
    "    print('hi')\n",
    "    #ut.setupJoblib(ipp_profile=ut.params.get('ippProfile','gcc49'))"
   ]
  },
  {
   "cell_type": "markdown",
   "metadata": {},
   "source": [
    "###  make sure that the trained classifers have been evaluated"
   ]
  },
  {
   "cell_type": "code",
   "execution_count": 36,
   "metadata": {
    "collapsed": false,
    "scrolled": true
   },
   "outputs": [
    {
     "name": "stdout",
     "output_type": "stream",
     "text": [
      "Index([u'absweight', u'class', u'genJet2p5Pt0', u'genJet2p5Pt1',\n",
      "       u'genJet2p5Pt2', u'genJet2p5Pt3', u'genJet2p5Rapidity0',\n",
      "       u'genJet2p5Rapidity1', u'genJet2p5Rapidity2', u'genJet2p5Rapidity3',\n",
      "       u'genNjets2p5', u'genPt', u'genRapidity', u'recoNjets2p5', u'recoPt',\n",
      "       u'recoRapidity', u'weight', u'proc', u'absGenRapidity'],\n",
      "      dtype='object')\n"
     ]
    }
   ],
   "source": [
    "ut.runEvaluation(effFitter)"
   ]
  },
  {
   "cell_type": "markdown",
   "metadata": {},
   "source": [
    "### Run the actual training"
   ]
  },
  {
   "cell_type": "code",
   "execution_count": 37,
   "metadata": {
    "collapsed": false
   },
   "outputs": [
    {
     "name": "stdout",
     "output_type": "stream",
     "text": [
      "We need to train the following classifiers class\n",
      "Fitting class\n",
      "<class 'sklearn.ensemble.gradient_boosting.GradientBoostingClassifier'>\n",
      "{'n_estimators': 200, 'learning_rate': 0.2, 'min_weight_fraction_leaf': 0.001, 'max_depth': 5, 'trainevts': 1000}\n",
      "cvoptimize False\n",
      "((1000, 2), 2000)\n",
      "((1000,), 1000)\n",
      "((1000,), 1000)\n",
      "[[  93.78787231    0.80313104]\n",
      " [  52.05802155    0.17778152]\n",
      " [ 174.98707581    0.2449225 ]]\n",
      "[ 1  2 -1]\n",
      "[  3.46860725e-05   1.33893293e-04   4.42525379e-05]\n",
      "CPU times: user 1min 14s, sys: 236 ms, total: 1min 14s\n",
      "Wall time: 1min 14s\n"
     ]
    }
   ],
   "source": [
    "reload(tn)\n",
    "%time ut.runTraining(effFitter)"
   ]
  },
  {
   "cell_type": "markdown",
   "metadata": {},
   "source": [
    "## Save the output"
   ]
  },
  {
   "cell_type": "code",
   "execution_count": null,
   "metadata": {
    "collapsed": false
   },
   "outputs": [],
   "source": [
    "%time tn.IO.save(effFitter)"
   ]
  },
  {
   "cell_type": "markdown",
   "metadata": {},
   "source": [
    "### Reload the above effieciency fitter and list some features"
   ]
  },
  {
   "cell_type": "code",
   "execution_count": null,
   "metadata": {
    "collapsed": false
   },
   "outputs": [],
   "source": [
    "%time tn.IO.load(effFitter.name,effFitter.outdir)"
   ]
  },
  {
   "cell_type": "markdown",
   "metadata": {},
   "source": [
    "\"pretty\" print the input features of the classifier"
   ]
  },
  {
   "cell_type": "code",
   "execution_count": null,
   "metadata": {
    "collapsed": false
   },
   "outputs": [],
   "source": [
    "pprint(effFitter.clfs)"
   ]
  },
  {
   "cell_type": "markdown",
   "metadata": {},
   "source": [
    "\"pretty\" print the columns of the classifier after being exported to a pandas dataframe"
   ]
  },
  {
   "cell_type": "code",
   "execution_count": null,
   "metadata": {
    "collapsed": false
   },
   "outputs": [],
   "source": [
    "pprint(effFitter.df.columns)"
   ]
  },
  {
   "cell_type": "code",
   "execution_count": null,
   "metadata": {
    "collapsed": true
   },
   "outputs": [],
   "source": [
    "df = effFitter.df"
   ]
  },
  {
   "cell_type": "markdown",
   "metadata": {},
   "source": [
    "Display the first 3 rows of the dataframe"
   ]
  },
  {
   "cell_type": "code",
   "execution_count": null,
   "metadata": {
    "collapsed": false
   },
   "outputs": [],
   "source": [
    "df[0:3]"
   ]
  },
  {
   "cell_type": "markdown",
   "metadata": {
    "collapsed": false
   },
   "source": [
    "# Additional code"
   ]
  },
  {
   "cell_type": "code",
   "execution_count": null,
   "metadata": {
    "collapsed": true
   },
   "outputs": [],
   "source": [
    "# set default parameters\n",
    "# ut.defaultParameters(clean=['class'],classifiers=['class'],setupJoblib=True)\n",
    "# ut.params[\"class\"]=[\"xgboost.sklearn.XGBClassifier\",\n",
    "#                     { \"trainevts\" :-1, \"max_depth\" : 5,\n",
    "#                         \"learning_rate\" : 0.2,\"n_estimators\" : 250,\n",
    "#                         \"min_child_weight\" : 5e-4,\n",
    "#                         \"nthread\" : 16,\n",
    "#                         \"cvoptimize\" : True,\n",
    "#                         \"cv_params_grid\" : { \n",
    "#                             \"max_depth\" : [3, 5, 7, 10],\n",
    "#                             \"learning_rate\" : [0.05, 0.1, 0.2], \"n_estimators\" : [100,250,500],\n",
    "#                              \"min_child_weight\" : [1e-4, 5e-4, 1e-3],\n",
    "#                             \"subsample\" : [0.1, 0.2, 0.5, 1.]\n",
    "#                         },\n",
    "#                     \"cv_nfolds\" : 5, \"cv_niter\" : 100, \"cv_verbose\" : 20\n",
    "#                     }\n",
    "#                     ]\n",
    "\n",
    "\n",
    "\n",
    "# ut.params[\"recoPt\"]= [\"xgboost.sklearn.XGBClassifier\",\n",
    "#           { \"Xbr\" : [\"genPt\",\"absGenRapidity\"],\n",
    "#             \"trainevts\" :-1, \"max_depth\" : 5,\n",
    "#             \"learning_rate\" : 0.1,\"n_estimators\" : 500,\n",
    "#             \"min_child_weight\" : 1e-5,\n",
    "#             \"nthread\" : 16,\n",
    "#             \"cvoptimize\" : True,\n",
    "#             \"cv_params_grid\" : { \n",
    "#                     \"max_depth\" : [5, 7, 10],\n",
    "#                     \"learning_rate\" : [0.05, 0.1, 0.2], \"n_estimators\" : [250,500,700,1000],\n",
    "#                     \"min_child_weight\" : [1e-4, 5e-4, 1e-3],\n",
    "#                     \"subsample\" : [0.1, 0.2, 0.5, 1.]\n",
    "#                  },\n",
    "#             \"cv_nfolds\" : 4, \"cv_niter\" : 50, \"cv_verbose\" : 20      \n",
    "#           }\n",
    "#         ]\n",
    "# ut.params[\"outName\"] = \"addRecoPt\"\n",
    "\n",
    "# load additional parameters \n",
    "# a list of json files to be loaded can be specified through the the environmental variable my_train_config "
   ]
  },
  {
   "cell_type": "code",
   "execution_count": null,
   "metadata": {
    "collapsed": true
   },
   "outputs": [],
   "source": []
  }
 ],
 "metadata": {
  "anaconda-cloud": {},
  "kernelspec": {
   "display_name": "Python 2",
   "language": "python",
   "name": "python2"
  },
  "language_info": {
   "codemirror_mode": {
    "name": "ipython",
    "version": 2
   },
   "file_extension": ".py",
   "mimetype": "text/x-python",
   "name": "python",
   "nbconvert_exporter": "python",
   "pygments_lexer": "ipython2",
   "version": "2.7.13"
  }
 },
 "nbformat": 4,
 "nbformat_minor": 0
}
