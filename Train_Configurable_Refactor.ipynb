{
 "cells": [
  {
   "cell_type": "markdown",
   "metadata": {},
   "source": [
    "# Train classifier to estimate analysis efficiency vs gen variable\n",
    "\n",
    "- Actual training code in training.py\n",
    "- Classifier based on sklearn. Default is GradientBoostedClassifier, \n",
    "    but can be specified at run time."
   ]
  },
  {
   "cell_type": "markdown",
   "metadata": {},
   "source": [
    "## Load libraries"
   ]
  },
  {
   "cell_type": "code",
   "execution_count": 1,
   "metadata": {
    "collapsed": false
   },
   "outputs": [
    {
     "data": {
      "application/javascript": [
       "require(['codemirror/mode/clike/clike'], function(Clike) { console.log('ROOTaaS - C++ CodeMirror module loaded'); });"
      ]
     },
     "metadata": {},
     "output_type": "display_data"
    },
    {
     "data": {
      "application/javascript": [
       "IPython.CodeCell.config_defaults.highlight_modes['magic_text/x-c++src'] = {'reg':[/^%%cpp/]};"
      ]
     },
     "metadata": {},
     "output_type": "display_data"
    },
    {
     "name": "stdout",
     "output_type": "stream",
     "text": [
      "Welcome to ROOTaaS 6.06/08\n"
     ]
    },
    {
     "data": {
      "text/plain": [
       "<module 'util' from 'util.pyc'>"
      ]
     },
     "execution_count": 1,
     "metadata": {},
     "output_type": "execute_result"
    }
   ],
   "source": [
    "import train as tn\n",
    "reload(tn)\n",
    "\n",
    "import plotting\n",
    "reload(plotting)\n",
    "\n",
    "import matplotlib.pyplot as plt\n",
    "#plt.style.use('seaborn-ticks')\n",
    "plt.style.use('seaborn-poster')\n",
    "%matplotlib inline\n",
    "#%matplotlib notebook\n",
    "\n",
    "import numpy as np\n",
    "\n",
    "from pprint import pprint\n",
    "\n",
    "import os\n",
    "import json\n",
    "import importlib\n",
    "\n",
    "import util as ut\n",
    "reload(ut)"
   ]
  },
  {
   "cell_type": "markdown",
   "metadata": {},
   "source": [
    "## Instantiate helper class\n",
    "\n",
    "Data are read from ROOT trees and converted into pandas data frames.  \n",
    "The loading function makes sure that all the needed columns have been read from the trees, otherwise it rebilds the data frame.\n"
   ]
  },
  {
   "cell_type": "code",
   "execution_count": 2,
   "metadata": {
    "collapsed": false,
    "slideshow": {
     "slide_type": "slide"
    }
   },
   "outputs": [],
   "source": [
    "# set default parameters\n",
    "# ut.defaultParameters(clean=['class'],classifiers=['class'],setupJoblib=True)\n",
    "# ut.params[\"class\"]=[\"xgboost.sklearn.XGBClassifier\",\n",
    "#                     { \"trainevts\" :-1, \"max_depth\" : 5,\n",
    "#                         \"learning_rate\" : 0.2,\"n_estimators\" : 250,\n",
    "#                         \"min_child_weight\" : 5e-4,\n",
    "#                         \"nthread\" : 16,\n",
    "#                         \"cvoptimize\" : True,\n",
    "#                         \"cv_params_grid\" : { \n",
    "#                             \"max_depth\" : [3, 5, 7, 10],\n",
    "#                             \"learning_rate\" : [0.05, 0.1, 0.2], \"n_estimators\" : [100,250,500],\n",
    "#                              \"min_child_weight\" : [1e-4, 5e-4, 1e-3],\n",
    "#                             \"subsample\" : [0.1, 0.2, 0.5, 1.]\n",
    "#                         },\n",
    "#                     \"cv_nfolds\" : 5, \"cv_niter\" : 100, \"cv_verbose\" : 20\n",
    "#                     }\n",
    "#                     ]\n",
    "\n",
    "ut.defaultParameters(clean=['recoPt'],classifiers=['recoPt'],setupJoblib=True)\n",
    "ut.params[\"recoPt\"]= [\"xgboost.sklearn.XGBClassifier\",\n",
    "          { \"Xbr\" : [\"genPt\",\"absGenRapidity\"],\n",
    "            \"trainevts\" :-1, \"max_depth\" : 5,\n",
    "            \"learning_rate\" : 0.1,\"n_estimators\" : 500,\n",
    "            \"min_child_weight\" : 1e-5,\n",
    "            \"nthread\" : 16,\n",
    "            \"cvoptimize\" : True,\n",
    "            \"cv_params_grid\" : { \n",
    "                    \"max_depth\" : [5, 7, 10],\n",
    "                    \"learning_rate\" : [0.05, 0.1, 0.2], \"n_estimators\" : [250,500,700,1000],\n",
    "                    \"min_child_weight\" : [1e-4, 5e-4, 1e-3],\n",
    "                    \"subsample\" : [0.1, 0.2, 0.5, 1.]\n",
    "                 },\n",
    "            \"cv_nfolds\" : 4, \"cv_niter\" : 50, \"cv_verbose\" : 20      \n",
    "          }\n",
    "        ]\n",
    "ut.params[\"outName\"] = \"addRecoPt\"\n",
    "\n",
    "# load additional parameters \n",
    "# a list of json files to be loaded can be specified through the the environmental variable my_train_config \n",
    "ut.setParams()"
   ]
  },
  {
   "cell_type": "code",
   "execution_count": 3,
   "metadata": {
    "collapsed": false
   },
   "outputs": [
    {
     "name": "stderr",
     "output_type": "stream",
     "text": [
      "/mnt/t3nfs01/data01/shome/musella/miniconda2/lib/python2.7/site-packages/sklearn/cross_validation.py:44: DeprecationWarning: This module was deprecated in version 0.18 in favor of the model_selection module into which all the refactored classes and functions are moved. Also note that the interface of the new CV iterators are different from that of this module. This module will be removed in 0.20.\n",
      "  \"This module will be removed in 0.20.\", DeprecationWarning)\n"
     ]
    },
    {
     "name": "stdout",
     "output_type": "stream",
     "text": [
      "{'classifiers': ['recoPt'],\n",
      " 'clean': ['recoPt'],\n",
      " 'dataDir': 'root://t3dcachedb03.psi.ch//pnfs/psi.ch/cms/trivcat/store/user/musella/mod_dep_005',\n",
      " 'dataFname': 'output_InsideAcceptance_125.root',\n",
      " 'forceMake': False,\n",
      " 'genBranches': ['genPt',\n",
      "                 'genRapidity',\n",
      "                 'genJet2p5Pt0',\n",
      "                 'genJet2p5Rapidity0',\n",
      "                 'genJet2p5Pt1',\n",
      "                 'genJet2p5Rapidity1',\n",
      "                 'genJet2p5Pt2',\n",
      "                 'genJet2p5Rapidity2',\n",
      "                 'genJet2p5Pt3',\n",
      "                 'genJet2p5Rapidity3',\n",
      "                 'weight',\n",
      "                 'genNjets2p5'],\n",
      " 'inputDir': '.',\n",
      " 'inputName': 'effFitter',\n",
      " 'load': True,\n",
      " 'ncats': 3,\n",
      " 'outDir': '.',\n",
      " 'outName': 'addRecoPt',\n",
      " 'pfx': 'genDiphotonDumper/trees/InsideAcceptance_125_13TeV',\n",
      " 'recoBranches': ['recoPt', 'recoRapidity', 'recoNjets2p5'],\n",
      " 'recoPt': ['xgboost.sklearn.XGBClassifier',\n",
      "            {'Xbr': ['genPt', 'absGenRapidity'],\n",
      "             'cv_nfolds': 4,\n",
      "             'cv_niter': 50,\n",
      "             'cv_params_grid': {'learning_rate': [0.05, 0.1, 0.2],\n",
      "                                'max_depth': [5, 7, 10],\n",
      "                                'min_child_weight': [0.0001, 0.0005, 0.001],\n",
      "                                'n_estimators': [250, 500, 700, 1000],\n",
      "                                'subsample': [0.1, 0.2, 0.5, 1.0]},\n",
      "             'cv_verbose': 20,\n",
      "             'cvoptimize': True,\n",
      "             'learning_rate': 0.1,\n",
      "             'max_depth': 5,\n",
      "             'min_child_weight': 1e-05,\n",
      "             'n_estimators': 500,\n",
      "             'nthread': 16,\n",
      "             'trainevts': -1}],\n",
      " 'rndseed': 9347865,\n",
      " 'rndseed2': 2315645,\n",
      " 'setupJoblib': True,\n",
      " 'split_frac': 0.75}\n",
      "loading pickle ./effFitter.pkl.gz\n",
      "loading data ./effFitter.root\n",
      "<train.EfficiencyFitter object at 0x7fca16abb510>\n",
      "Index([u'absweight', u'class', u'genJet2p5Pt0', u'genJet2p5Pt1',\n",
      "       u'genJet2p5Pt2', u'genJet2p5Pt3', u'genJet2p5Rapidity0',\n",
      "       u'genJet2p5Rapidity1', u'genJet2p5Rapidity2', u'genJet2p5Rapidity3',\n",
      "       u'genNjets2p5', u'genPt', u'genRapidity', u'recoNjets2p5', u'recoPt',\n",
      "       u'recoRapidity', u'weight', u'absGenRapidity', u'recoPtBin',\n",
      "       u'recoPtCat', u'recoNjets2p5Bin', u'recoNjets2p5Cat', u'class_prob_0',\n",
      "       u'class_prob_1', u'class_prob_2', u'class_prob_3'],\n",
      "      dtype='object')\n",
      "{'class': XGBClassifier(base_score=0.5, colsample_bylevel=1, colsample_bytree=1,\n",
      "       gamma=0, learning_rate=0.05, max_delta_step=0, max_depth=3,\n",
      "       min_child_weight=0.0005, missing=nan, n_estimators=500, nthread=16,\n",
      "       objective='multi:softprob', reg_alpha=0, reg_lambda=1,\n",
      "       scale_pos_weight=1, seed=0, silent=True, subsample=0.5)}\n"
     ]
    }
   ],
   "source": [
    "effFitter = ut.loadOrMake()"
   ]
  },
  {
   "cell_type": "markdown",
   "metadata": {
    "collapsed": false
   },
   "source": [
    "## Train classifiers"
   ]
  },
  {
   "cell_type": "code",
   "execution_count": 4,
   "metadata": {
    "collapsed": false
   },
   "outputs": [
    {
     "name": "stdout",
     "output_type": "stream",
     "text": [
      "Waiting for connection file: ~/.ipython/profile_gcc49/security/ipcontroller-client.json\n"
     ]
    },
    {
     "ename": "IOError",
     "evalue": "Connection file '~/.ipython/profile_gcc49/security/ipcontroller-client.json' not found.\nYou have attempted to connect to an IPython Cluster but no Controller could be found.\nPlease double-check your configuration and ensure that a cluster is running.",
     "output_type": "error",
     "traceback": [
      "\u001b[0;31m\u001b[0m",
      "\u001b[0;31mIOError\u001b[0mTraceback (most recent call last)",
      "\u001b[0;32m<ipython-input-4-99d6345f9400>\u001b[0m in \u001b[0;36m<module>\u001b[0;34m()\u001b[0m\n\u001b[1;32m      1\u001b[0m \u001b[0;32mif\u001b[0m \u001b[0mut\u001b[0m\u001b[0;34m.\u001b[0m\u001b[0mparams\u001b[0m\u001b[0;34m.\u001b[0m\u001b[0mget\u001b[0m\u001b[0;34m(\u001b[0m\u001b[0;34m\"setupJoblib\"\u001b[0m\u001b[0;34m,\u001b[0m\u001b[0mFalse\u001b[0m\u001b[0;34m)\u001b[0m\u001b[0;34m:\u001b[0m\u001b[0;34m\u001b[0m\u001b[0m\n\u001b[0;32m----> 2\u001b[0;31m     \u001b[0mut\u001b[0m\u001b[0;34m.\u001b[0m\u001b[0msetupJoblib\u001b[0m\u001b[0;34m(\u001b[0m\u001b[0mipp_profile\u001b[0m\u001b[0;34m=\u001b[0m\u001b[0mut\u001b[0m\u001b[0;34m.\u001b[0m\u001b[0mparams\u001b[0m\u001b[0;34m.\u001b[0m\u001b[0mget\u001b[0m\u001b[0;34m(\u001b[0m\u001b[0;34m'ippProfile'\u001b[0m\u001b[0;34m,\u001b[0m\u001b[0;34m'gcc49'\u001b[0m\u001b[0;34m)\u001b[0m\u001b[0;34m)\u001b[0m\u001b[0;34m\u001b[0m\u001b[0m\n\u001b[0m",
      "\u001b[0;32m/mnt/t3nfs01/data01/shome/musella/Analysis/jupyter/higgs_model_dep/util.pyc\u001b[0m in \u001b[0;36msetupJoblib\u001b[0;34m(ipp_profile)\u001b[0m\n\u001b[1;32m    124\u001b[0m     \u001b[0;32mfrom\u001b[0m \u001b[0mipyparallel\u001b[0m\u001b[0;34m.\u001b[0m\u001b[0mjoblib\u001b[0m \u001b[0;32mimport\u001b[0m \u001b[0mIPythonParallelBackend\u001b[0m\u001b[0;34m\u001b[0m\u001b[0m\n\u001b[1;32m    125\u001b[0m     \u001b[0;32mglobal\u001b[0m \u001b[0mjoblib_rc\u001b[0m\u001b[0;34m,\u001b[0m\u001b[0mjoblib_view\u001b[0m\u001b[0;34m,\u001b[0m\u001b[0mjoblib_be\u001b[0m\u001b[0;34m\u001b[0m\u001b[0m\n\u001b[0;32m--> 126\u001b[0;31m     \u001b[0mjoblib_rc\u001b[0m \u001b[0;34m=\u001b[0m \u001b[0mipp\u001b[0m\u001b[0;34m.\u001b[0m\u001b[0mClient\u001b[0m\u001b[0;34m(\u001b[0m\u001b[0mprofile\u001b[0m\u001b[0;34m=\u001b[0m\u001b[0mipp_profile\u001b[0m\u001b[0;34m)\u001b[0m\u001b[0;34m\u001b[0m\u001b[0m\n\u001b[0m\u001b[1;32m    127\u001b[0m     \u001b[0mjoblib_view\u001b[0m \u001b[0;34m=\u001b[0m \u001b[0mjoblib_rc\u001b[0m\u001b[0;34m.\u001b[0m\u001b[0mload_balanced_view\u001b[0m\u001b[0;34m(\u001b[0m\u001b[0;34m)\u001b[0m\u001b[0;34m\u001b[0m\u001b[0m\n\u001b[1;32m    128\u001b[0m     \u001b[0mjoblib_be\u001b[0m \u001b[0;34m=\u001b[0m \u001b[0mIPythonParallelBackend\u001b[0m\u001b[0;34m(\u001b[0m\u001b[0mview\u001b[0m\u001b[0;34m=\u001b[0m\u001b[0mjoblib_view\u001b[0m\u001b[0;34m)\u001b[0m\u001b[0;34m\u001b[0m\u001b[0m\n",
      "\u001b[0;32m/mnt/t3nfs01/data01/shome/musella/miniconda2/lib/python2.7/site-packages/ipyparallel/client/client.pyc\u001b[0m in \u001b[0;36m__init__\u001b[0;34m(self, url_file, profile, profile_dir, ipython_dir, context, debug, sshserver, sshkey, password, paramiko, timeout, cluster_id, **extra_args)\u001b[0m\n\u001b[1;32m    395\u001b[0m                         \u001b[0mno_file_msg\u001b[0m\u001b[0;34m,\u001b[0m\u001b[0;34m\u001b[0m\u001b[0m\n\u001b[1;32m    396\u001b[0m                     ])\n\u001b[0;32m--> 397\u001b[0;31m                     \u001b[0;32mraise\u001b[0m \u001b[0mIOError\u001b[0m\u001b[0;34m(\u001b[0m\u001b[0mmsg\u001b[0m\u001b[0;34m)\u001b[0m\u001b[0;34m\u001b[0m\u001b[0m\n\u001b[0m\u001b[1;32m    398\u001b[0m         \u001b[0;32mif\u001b[0m \u001b[0murl_file\u001b[0m \u001b[0;32mis\u001b[0m \u001b[0mNone\u001b[0m\u001b[0;34m:\u001b[0m\u001b[0;34m\u001b[0m\u001b[0m\n\u001b[1;32m    399\u001b[0m             \u001b[0;32mraise\u001b[0m \u001b[0mIOError\u001b[0m\u001b[0;34m(\u001b[0m\u001b[0mno_file_msg\u001b[0m\u001b[0;34m)\u001b[0m\u001b[0;34m\u001b[0m\u001b[0m\n",
      "\u001b[0;31mIOError\u001b[0m: Connection file '~/.ipython/profile_gcc49/security/ipcontroller-client.json' not found.\nYou have attempted to connect to an IPython Cluster but no Controller could be found.\nPlease double-check your configuration and ensure that a cluster is running."
     ]
    }
   ],
   "source": [
    "if ut.params.get(\"setupJoblib\",False):\n",
    "    ut.setupJoblib(ipp_profile=ut.params.get('ippProfile','gcc49'))"
   ]
  },
  {
   "cell_type": "markdown",
   "metadata": {},
   "source": [
    "###  make sure that the trained classifers have been evaluated"
   ]
  },
  {
   "cell_type": "code",
   "execution_count": null,
   "metadata": {
    "collapsed": false
   },
   "outputs": [],
   "source": [
    "ut.runEvaluation(effFitter)"
   ]
  },
  {
   "cell_type": "markdown",
   "metadata": {},
   "source": [
    "### Run the actual training"
   ]
  },
  {
   "cell_type": "code",
   "execution_count": null,
   "metadata": {
    "collapsed": false
   },
   "outputs": [],
   "source": [
    "ut.runTraining(effFitter)"
   ]
  },
  {
   "cell_type": "code",
   "execution_count": null,
   "metadata": {
    "collapsed": false
   },
   "outputs": [],
   "source": [
    "effFitter"
   ]
  },
  {
   "cell_type": "markdown",
   "metadata": {},
   "source": [
    "## save output"
   ]
  },
  {
   "cell_type": "code",
   "execution_count": null,
   "metadata": {
    "collapsed": false
   },
   "outputs": [],
   "source": [
    "pprint(effFitter.clfs)\n",
    "pprint(effFitter.df.columns)"
   ]
  },
  {
   "cell_type": "code",
   "execution_count": null,
   "metadata": {
    "collapsed": false
   },
   "outputs": [],
   "source": [
    "%time tn.IO.save(effFitter)"
   ]
  },
  {
   "cell_type": "code",
   "execution_count": null,
   "metadata": {
    "collapsed": false
   },
   "outputs": [],
   "source": []
  },
  {
   "cell_type": "code",
   "execution_count": null,
   "metadata": {
    "collapsed": false
   },
   "outputs": [],
   "source": [
    "%time tn.IO.load(effFitter.name,effFitter.outdir)"
   ]
  },
  {
   "cell_type": "code",
   "execution_count": null,
   "metadata": {
    "collapsed": false
   },
   "outputs": [],
   "source": []
  },
  {
   "cell_type": "code",
   "execution_count": null,
   "metadata": {
    "collapsed": true
   },
   "outputs": [],
   "source": []
  }
 ],
 "metadata": {
  "anaconda-cloud": {},
  "kernelspec": {
   "display_name": "Python [default]",
   "language": "python",
   "name": "python2"
  },
  "language_info": {
   "codemirror_mode": {
    "name": "ipython",
    "version": 2
   },
   "file_extension": ".py",
   "mimetype": "text/x-python",
   "name": "python",
   "nbconvert_exporter": "python",
   "pygments_lexer": "ipython2",
   "version": "2.7.12"
  }
 },
 "nbformat": 4,
 "nbformat_minor": 0
}
