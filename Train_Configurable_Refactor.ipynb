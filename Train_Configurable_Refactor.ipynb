{
 "cells": [
  {
   "cell_type": "markdown",
   "metadata": {
    "collapsed": true
   },
   "source": [
    "# Train classifier to estimate analysis efficiency vs gen variable\n",
    "\n",
    "- Actual training code in train.py\n",
    "- Classifier based on sklearn. Default is GradientBoostedClassifier, \n",
    "    but can be specified at run time."
   ]
  },
  {
   "cell_type": "markdown",
   "metadata": {},
   "source": [
    "## Load libraries"
   ]
  },
  {
   "cell_type": "code",
   "execution_count": 1,
   "metadata": {
    "collapsed": false
   },
   "outputs": [
    {
     "data": {
      "application/javascript": [
       "require(['codemirror/mode/clike/clike'], function(Clike) { console.log('ROOTaaS - C++ CodeMirror module loaded'); });"
      ]
     },
     "metadata": {},
     "output_type": "display_data"
    },
    {
     "data": {
      "application/javascript": [
       "IPython.CodeCell.config_defaults.highlight_modes['magic_text/x-c++src'] = {'reg':[/^%%cpp/]};"
      ]
     },
     "metadata": {},
     "output_type": "display_data"
    },
    {
     "name": "stdout",
     "output_type": "stream",
     "text": [
      "Welcome to ROOTaaS 6.06/08\n"
     ]
    },
    {
     "data": {
      "text/plain": [
       "<module 'util' from 'util.pyc'>"
      ]
     },
     "execution_count": 1,
     "metadata": {},
     "output_type": "execute_result"
    }
   ],
   "source": [
    "import train as tn\n",
    "#reload(tn)\n",
    "\n",
    "import plotting\n",
    "reload(plotting)\n",
    "\n",
    "import matplotlib.pyplot as plt\n",
    "plt.style.use('seaborn-poster')\n",
    "%matplotlib inline\n",
    "\n",
    "import numpy as np\n",
    "\n",
    "from pprint import pprint\n",
    "\n",
    "import os\n",
    "import json\n",
    "import importlib\n",
    "\n",
    "import util as ut\n",
    "reload(ut)"
   ]
  },
  {
   "cell_type": "markdown",
   "metadata": {},
   "source": [
    "## Instantiate helper class\n",
    "\n",
    "Data are read from ROOT trees and converted into pandas data frames.  \n",
    "The loading function makes sure that all the needed columns have been read from the trees, otherwise it rebilds the data frame.\n"
   ]
  },
  {
   "cell_type": "markdown",
   "metadata": {},
   "source": [
    "#### In the following cell the parameters are set up. In this case a new classifier will be initiated with the name effGenVarClass and stored in the directory \"classifiers\". The training data will be read from a root tree located in dataDir. The branches of gen and reco events are the default ones (look at the help function for detailed information)."
   ]
  },
  {
   "cell_type": "code",
   "execution_count": 2,
   "metadata": {
    "collapsed": true
   },
   "outputs": [],
   "source": [
    "ut.defaultParameters(dataDir=\"/mnt/t3nfs01/data01/shome/jandrejk/higgs_model_dep/data\", \n",
    "                     classifiers=['class','recoPt','recoNjets2p5'],\n",
    "                          load = False,\n",
    "                     inputName = \"2clfs_GenIsoAdded\",\n",
    "                       outName = \"3clfs_GenIsoAdded_out\",\n",
    "                        outDir = './classifiers',\n",
    "                    inputDir = '/mnt/t3nfs01/data01/shome/jandrejk/higgs_model_dep/classifiers',\n",
    "                    defineBins = { 'recoPt' : dict(boundaries=[0.,15.,30.,45.,85.,125.,200.,350.,10000.],overflow=False), # do not add overflow automatically\n",
    "                                  'recoNjets2p5' : dict(boundaries=[-0.5,0.5,1.5,2.5,3.5,100.],overflow=False)\n",
    "                    #              #'genPt' : dict(boundaries=[0.,15.,30.,45.,85.,125.,200.,350.,10000.],overflow=False), # do not add overflow automatically\n",
    "                    #              #'genNjets2p5' : dict(boundaries=[-0.5,0.5,1.5,2.5,3.5,100.],overflow=False)\n",
    "                                 },\n",
    "                     dataFiles=[(0,'output_InsideAcceptance_ggF_125.root'),                   \n",
    "                                (1,'output_InsideAcceptance_ttH_125.root'),                     \n",
    "                                (2,'output_InsideAcceptance_VBF_125.root'),                            \n",
    "                                (3,'output_InsideAcceptance_VH_125.root')\n",
    "                               ]\n",
    "                    )\n"
   ]
  },
  {
   "cell_type": "markdown",
   "metadata": {},
   "source": [
    "\n",
    "In case you need help or further explanation you can execute the help function:"
   ]
  },
  {
   "cell_type": "markdown",
   "metadata": {},
   "source": [
    "#### We want to use machine learning techniques for classification. For that we need to specify the classifier we want to use like here the GradientBoostingClassifier from sklearn.ensamble. Furthermore the parameters of the used classifier have to be set, e.g. the number of training events, max. tree depth, learning rate and so forth."
   ]
  },
  {
   "cell_type": "code",
   "execution_count": 7,
   "metadata": {
    "collapsed": false
   },
   "outputs": [],
   "source": [
    "ut.params[\"class\"] = [ \"sklearn.ensemble.GradientBoostingClassifier\", \n",
    "                      dict(trainevts= -1,\n",
    "                           max_depth=5,learning_rate=0.2,n_estimators=200,\n",
    "                        min_weight_fraction_leaf=1e-3)\n",
    "]\n",
    "\n",
    "\n",
    "ut.params['recoPt'] = [\"xgboost.sklearn.XGBClassifier\",\n",
    "                       { \"Xbr\" : [\"genPt\",\"absGenRapidity\"],#,'genLeadGenIso','genSubleadGenIso'],\n",
    "                        \"trainevts\" : -1, \n",
    "                        \"max_depth\" : 5,\"learning_rate\" : 0.1,\n",
    "                        \"n_estimators\" : 500,\"min_child_weight\" : 1e-5,\n",
    "                        \"nthread\" : 4}]\n",
    "\n",
    "\"\"\",\n",
    "                        \"cvoptimize\" : True,\"cv_params_grid\" : { \"max_depth\" : [5, 7, 10],\n",
    "                                                                 \"learning_rate\" : [0.05, 0.1, 0.2], \n",
    "                                                                 \"n_estimators\" : [250,500,700,1000],\n",
    "                                                                 \"min_child_weight\" : [1e-4, 5e-4, 1e-3],\n",
    "                                                                 \"subsample\" : [0.1, 0.2, 0.5, 1.]}, \n",
    "                        \"cv_nfolds\" : 5, \"cv_niter\" : 5,      \n",
    "\"\"\"\n",
    "\n",
    "ut.params['recoNjets2p5'] =  [\"xgboost.sklearn.XGBClassifier\",\n",
    "                        { \"Xbr\" : [\"genJet2p5Pt0\",  \"absGenJet2p5Rapidity0\",\n",
    "                                    \"genJet2p5Pt1\", \"absGenJet2p5Rapidity1\",\n",
    "                                    \"genJet2p5Pt2\", \"absGenJet2p5Rapidity2\",\n",
    "                                    \"genJet2p5Pt3\", \"absGenJet2p5Rapidity3\",\n",
    "                                   \"genJet2p5Pt4\",  \"absGenJet2p5Rapidity4\",\n",
    "                                    \"genPt\",\"absGenRapidity\",\"genNjets2p5\"\n",
    "                                ],\n",
    "            \"trainevts\" : -1, \"max_depth\" : 7,\n",
    "            \"learning_rate\" : 0.1,\"n_estimators\" : 500,\n",
    "            \"min_child_weight\" : 1e-5,\n",
    "            \"nthread\" : 4 }]"
   ]
  },
  {
   "cell_type": "code",
   "execution_count": 8,
   "metadata": {
    "collapsed": false
   },
   "outputs": [],
   "source": [
    "#ut.params"
   ]
  },
  {
   "cell_type": "markdown",
   "metadata": {},
   "source": [
    "$\\color{red}{\\text{changes in class become also active without ut.setParams(). }}$"
   ]
  },
  {
   "cell_type": "code",
   "execution_count": 4,
   "metadata": {
    "collapsed": false
   },
   "outputs": [
    {
     "name": "stdout",
     "output_type": "stream",
     "text": [
      "entered config files named my_train_config\n",
      "hi\n",
      "None\n"
     ]
    }
   ],
   "source": [
    "#set the parameters \"class\" defined above\n",
    "\"\"\"\n",
    "? discuss the function setParams() with Pasquale\n",
    "\"\"\"\n",
    "ut.setParams()\n",
    "# manual fix in order that the json file doesn't overwrite inputDir\n",
    "ut.params['inputDir'] = \"/mnt/t3nfs01/data01/shome/jandrejk/higgs_model_dep/classifiers\""
   ]
  },
  {
   "cell_type": "code",
   "execution_count": 5,
   "metadata": {
    "collapsed": false,
    "scrolled": true
   },
   "outputs": [
    {
     "name": "stdout",
     "output_type": "stream",
     "text": [
      "Create object with the name 2clfs_GenIsoAdded and the following paramters \n",
      "The number of selected events are 572356\n",
      "The number of selected events are 766839\n",
      "The number of selected events are 1448533\n",
      "The number of selected events are 1583887\n",
      "shuffling dataset\n",
      "defining bins\n",
      "CPU times: user 130 ms, sys: 11.9 s, total: 12 s\n",
      "Wall time: 35.8 s\n"
     ]
    }
   ],
   "source": [
    "%time effFitter = ut.loadOrMake()"
   ]
  },
  {
   "cell_type": "markdown",
   "metadata": {
    "collapsed": false
   },
   "source": [
    "## Train classifiers"
   ]
  },
  {
   "cell_type": "markdown",
   "metadata": {},
   "source": [
    "# $\\color{red}{\\text{What happens in the bellow 2 cells?}}$"
   ]
  },
  {
   "cell_type": "code",
   "execution_count": 7,
   "metadata": {
    "collapsed": false
   },
   "outputs": [],
   "source": [
    "#if ut.params.get(\"setupJoblib\",True):\n",
    "#   ut.setupJoblib(ipp_profile=ut.params.get('ippProfile','short'))"
   ]
  },
  {
   "cell_type": "markdown",
   "metadata": {},
   "source": [
    "###  make sure that the trained classifers have been evaluated"
   ]
  },
  {
   "cell_type": "code",
   "execution_count": 7,
   "metadata": {
    "collapsed": false,
    "scrolled": true
   },
   "outputs": [
    {
     "name": "stdout",
     "output_type": "stream",
     "text": [
      "Index([u'absweight', u'class', u'genJet2p5Pt0', u'genJet2p5Pt1',\n",
      "       u'genJet2p5Pt2', u'genJet2p5Pt3', u'genJet2p5Pt4',\n",
      "       u'genJet2p5Rapidity0', u'genJet2p5Rapidity1', u'genJet2p5Rapidity2',\n",
      "       u'genJet2p5Rapidity3', u'genJet2p5Rapidity4', u'genLeadGenIso',\n",
      "       u'genNjets2p5', u'genPt', u'genRapidity', u'genSubleadGenIso',\n",
      "       u'recoNjets2p5', u'recoPt', u'recoRapidity', u'weight', u'proc',\n",
      "       u'absGenRapidity', u'absGenJet2p5Rapidity0', u'absGenJet2p5Rapidity1',\n",
      "       u'absGenJet2p5Rapidity2', u'absGenJet2p5Rapidity3', u'recoPtBin',\n",
      "       u'recoPtCat', u'recoNjets2p5Bin', u'recoNjets2p5Cat', u'class_prob_0',\n",
      "       u'class_prob_1', u'class_prob_2', u'class_prob_3', u'recoPtCat_prob_0',\n",
      "       u'recoPtCat_prob_1', u'recoPtCat_prob_2', u'recoPtCat_prob_3',\n",
      "       u'recoPtCat_prob_4', u'recoPtCat_prob_5', u'recoPtCat_prob_6',\n",
      "       u'recoPtCat_prob_7', u'recoPtCat_prob_8', u'recoPtCat_prob_9',\n",
      "       u'recoPtCat_prob_10', u'recoPtCat_prob_11', u'recoPtCat_prob_12',\n",
      "       u'recoPtCat_prob_13', u'recoPtCat_prob_14', u'recoPtCat_prob_15',\n",
      "       u'recoPtCat_prob_16', u'recoPtCat_prob_17', u'recoPtCat_prob_18',\n",
      "       u'recoPtCat_prob_19', u'recoPtCat_prob_20', u'recoPtCat_prob_21',\n",
      "       u'recoPtCat_prob_22', u'recoPtCat_prob_23', u'recoPtCat_prob_24'],\n",
      "      dtype='object')\n"
     ]
    }
   ],
   "source": [
    "ut.runEvaluation(effFitter)"
   ]
  },
  {
   "cell_type": "markdown",
   "metadata": {},
   "source": [
    "### Run the actual training"
   ]
  },
  {
   "cell_type": "code",
   "execution_count": 15,
   "metadata": {
    "collapsed": false
   },
   "outputs": [
    {
     "name": "stdout",
     "output_type": "stream",
     "text": [
      "We need to train the following classifiers recoNjets2p5\n",
      "Fitting recoNjets2p5\n",
      "<class 'xgboost.sklearn.XGBClassifier'>\n",
      "{'nthread': 2, 'learning_rate': 0.1, 'trainevts': 20, 'min_child_weight': 1e-05, 'Xbr': ['genJet2p5Pt0', 'genJet2p5Rapidity0', 'genJet2p5Pt1', 'genJet2p5Rapidity1', 'genJet2p5Pt2', 'genJet2p5Rapidity2', 'genJet2p5Pt3', 'genJet2p5Rapidity3', 'genJet2p5Pt4', 'genJet2p5Rapidity4', 'genPt', 'absGenRapidity', 'genNjets2p5'], 'n_estimators': 500, 'max_depth': 7}\n",
      "['genJet2p5Pt0', 'genJet2p5Rapidity0', 'genJet2p5Pt1', 'genJet2p5Rapidity1', 'genJet2p5Pt2', 'genJet2p5Rapidity2', 'genJet2p5Pt3', 'genJet2p5Rapidity3', 'genJet2p5Pt4', 'genJet2p5Rapidity4', 'genPt', 'absGenRapidity', 'genNjets2p5', 'class_prob_0', 'class_prob_1', 'class_prob_2', 'class_prob_3']\n",
      "recoNjets2p5Cat\n",
      "cvoptimize False\n",
      "((20, 17), 340)\n",
      "((20,), 20)\n",
      "((20,), 20)\n",
      "[[  6.04053230e+01  -1.58305466e+00   0.00000000e+00   0.00000000e+00\n",
      "    0.00000000e+00   0.00000000e+00   0.00000000e+00   0.00000000e+00\n",
      "    0.00000000e+00   0.00000000e+00   4.78662491e+01   2.79784262e-01\n",
      "    1.00000000e+00   2.42223729e-01   3.64622288e-01   2.76909900e-01\n",
      "    1.16244083e-01]\n",
      " [  3.76211548e+01  -1.48232013e-01   0.00000000e+00   0.00000000e+00\n",
      "    0.00000000e+00   0.00000000e+00   0.00000000e+00   0.00000000e+00\n",
      "    0.00000000e+00   0.00000000e+00   3.81379356e+01   2.39786124e+00\n",
      "    1.00000000e+00   3.30942065e-01   2.86936416e-04   6.70391301e-04\n",
      "    6.68100607e-01]\n",
      " [  3.86031837e+01   2.32529140e+00   0.00000000e+00   0.00000000e+00\n",
      "    0.00000000e+00   0.00000000e+00   0.00000000e+00   0.00000000e+00\n",
      "    0.00000000e+00   0.00000000e+00   1.92517136e+02   1.06277466e-02\n",
      "    1.00000000e+00   2.14122405e-01   5.38771157e-01   1.70434123e-01\n",
      "    7.66723156e-02]]\n",
      "[ 3. -1.  3.]\n",
      "[  3.46337474e-05   2.94910307e-04   4.54608926e-05]\n",
      "CPU times: user 1min 44s, sys: 300 ms, total: 1min 45s\n",
      "Wall time: 56.7 s\n"
     ]
    }
   ],
   "source": [
    "#reload(tn)\n",
    "#try negative weights\n",
    "%time ut.runTraining(effFitter,useAbsWeight=True)"
   ]
  },
  {
   "cell_type": "markdown",
   "metadata": {},
   "source": [
    "## Save the output"
   ]
  },
  {
   "cell_type": "code",
   "execution_count": 10,
   "metadata": {
    "collapsed": false
   },
   "outputs": [
    {
     "name": "stdout",
     "output_type": "stream",
     "text": [
      "./Train_Configurable_Refactor_higgs_model_dep_2255084.pkl.gz\n",
      "CPU times: user 9.95 s, sys: 237 ms, total: 10.2 s\n",
      "Wall time: 10.9 s\n"
     ]
    }
   ],
   "source": [
    "#reload(tn)\n",
    "%time tn.IO.save(effFitter)"
   ]
  },
  {
   "cell_type": "code",
   "execution_count": 11,
   "metadata": {
    "collapsed": true
   },
   "outputs": [],
   "source": []
  }
 ],
 "metadata": {
  "anaconda-cloud": {},
  "kernelspec": {
   "display_name": "Python [default]",
   "language": "python",
   "name": "python2"
  },
  "language_info": {
   "codemirror_mode": {
    "name": "ipython",
    "version": 2
   },
   "file_extension": ".py",
   "mimetype": "text/x-python",
   "name": "python",
   "nbconvert_exporter": "python",
   "pygments_lexer": "ipython2",
   "version": "2.7.12"
  }
 },
 "nbformat": 4,
 "nbformat_minor": 0
}
