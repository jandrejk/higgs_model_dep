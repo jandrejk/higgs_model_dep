{
 "cells": [
  {
   "cell_type": "markdown",
   "metadata": {
    "collapsed": true
   },
   "source": [
    "# Train classifier to estimate analysis efficiency vs gen variable\n",
    "\n",
    "- Actual training code in train.py\n",
    "- Classifier based on sklearn. Default is GradientBoostedClassifier, \n",
    "    but can be specified at run time."
   ]
  },
  {
   "cell_type": "markdown",
   "metadata": {},
   "source": [
    "## Load libraries"
   ]
  },
  {
   "cell_type": "code",
   "execution_count": 1,
   "metadata": {
    "collapsed": false
   },
   "outputs": [
    {
     "data": {
      "application/javascript": [
       "require(['codemirror/mode/clike/clike'], function(Clike) { console.log('ROOTaaS - C++ CodeMirror module loaded'); });"
      ]
     },
     "metadata": {},
     "output_type": "display_data"
    },
    {
     "data": {
      "application/javascript": [
       "IPython.CodeCell.config_defaults.highlight_modes['magic_text/x-c++src'] = {'reg':[/^%%cpp/]};"
      ]
     },
     "metadata": {},
     "output_type": "display_data"
    },
    {
     "name": "stdout",
     "output_type": "stream",
     "text": [
      "Welcome to ROOTaaS 6.06/08\n"
     ]
    },
    {
     "data": {
      "text/plain": [
       "<module 'util' from 'util.pyc'>"
      ]
     },
     "execution_count": 1,
     "metadata": {},
     "output_type": "execute_result"
    }
   ],
   "source": [
    "import train as tn\n",
    "#reload(tn)\n",
    "\n",
    "import plotting\n",
    "reload(plotting)\n",
    "\n",
    "import matplotlib.pyplot as plt\n",
    "plt.style.use('seaborn-poster')\n",
    "%matplotlib inline\n",
    "\n",
    "import numpy as np\n",
    "\n",
    "from pprint import pprint\n",
    "\n",
    "import os\n",
    "import json\n",
    "import importlib\n",
    "\n",
    "import util as ut\n",
    "reload(ut)"
   ]
  },
  {
   "cell_type": "markdown",
   "metadata": {},
   "source": [
    "## Instantiate helper class\n",
    "\n",
    "Data are read from ROOT trees and converted into pandas data frames.  \n",
    "The loading function makes sure that all the needed columns have been read from the trees, otherwise it rebilds the data frame.\n"
   ]
  },
  {
   "cell_type": "markdown",
   "metadata": {},
   "source": [
    "#### In the following cell the parameters are set up. In this case a new classifier will be initiated with the name effGenVarClass and stored in the directory \"classifiers\". The training data will be read from a root tree located in dataDir. The branches of gen and reco events are the default ones (look at the help function for detailed information)."
   ]
  },
  {
   "cell_type": "code",
   "execution_count": 2,
   "metadata": {
    "collapsed": false
   },
   "outputs": [],
   "source": [
    "ut.defaultParameters(dataDir=\"/mnt/t3nfs01/data01/shome/jandrejk/higgs_model_dep/data\", \n",
    "                     classifiers=['class'],#,'recoPt'],#,'recoNjets2p5'],\n",
    "                          load = False,\n",
    "                     inputName = \"class_tnevts_iso\",\n",
    "                       outName = \"class_tnevts_iso_out\",\n",
    "                        outDir = './classifiers',\n",
    "                     # InputDir = './classifiers',\n",
    "                    defineBins = { 'recoPt' : dict(boundaries=[0.,15.,30.,45.,85.,125.,200.,350.,10000.],overflow=False), # do not add overflow automatically\n",
    "                                  'recoNjets2p5' : dict(boundaries=[-0.5,0.5,1.5,2.5,3.5,100.],overflow=False)\n",
    "                    #              #'genPt' : dict(boundaries=[0.,15.,30.,45.,85.,125.,200.,350.,10000.],overflow=False), # do not add overflow automatically\n",
    "                    #              #'genNjets2p5' : dict(boundaries=[-0.5,0.5,1.5,2.5,3.5,100.],overflow=False)\n",
    "                                 },\n",
    "                     dataFiles=[(0,'output_InsideAcceptance_ggF_125.root'),                   \n",
    "                                (1,'output_InsideAcceptance_ttH_125.root'),                     \n",
    "                                (2,'output_InsideAcceptance_VBF_125.root'),                            \n",
    "                                (3,'output_InsideAcceptance_VH_125.root')\n",
    "                               ]\n",
    "                    )"
   ]
  },
  {
   "cell_type": "markdown",
   "metadata": {},
   "source": [
    "\n",
    "In case you need help or further explanation you can execute the help function:"
   ]
  },
  {
   "cell_type": "markdown",
   "metadata": {},
   "source": [
    "#### We want to use machine learning techniques for classification. For that we need to specify the classifier we want to use like here the GradientBoostingClassifier from sklearn.ensamble. Furthermore the parameters of the used classifier have to be set, e.g. the number of training events, max. tree depth, learning rate and so forth."
   ]
  },
  {
   "cell_type": "code",
   "execution_count": 3,
   "metadata": {
    "collapsed": false,
    "slideshow": {
     "slide_type": "slide"
    }
   },
   "outputs": [],
   "source": [
    "ut.params[\"class\"] = [ \"sklearn.ensemble.GradientBoostingClassifier\", \n",
    "                      dict(trainevts= 5,\n",
    "                           max_depth=5,learning_rate=0.2,n_estimators=200,\n",
    "                        min_weight_fraction_leaf=1e-3)\n",
    "]\n",
    "\n",
    "\"\"\"\n",
    "ut.params['recoPt'] = [\"xgboost.sklearn.XGBClassifier\",\n",
    "                       { \"Xbr\" : [\"genPt\",\"absGenRapidity\"],#,'genLeadGenIso','genSubleadGenIso'],\n",
    "                        \"trainevts\" : 5, \n",
    "                        \"max_depth\" : 5,\"learning_rate\" : 0.1,\n",
    "                        \"n_estimators\" : 500,\"min_child_weight\" : 1e-5,\n",
    "                        \"nthread\" : 1}]\n",
    "\n",
    "\"\"\"\n",
    "\n",
    "\"\"\",\n",
    "                        \"cvoptimize\" : True,\"cv_params_grid\" : { \"max_depth\" : [5, 7, 10],\n",
    "                                                                 \"learning_rate\" : [0.05, 0.1, 0.2], \n",
    "                                                                 \"n_estimators\" : [250,500,700,1000],\n",
    "                                                                 \"min_child_weight\" : [1e-4, 5e-4, 1e-3],\n",
    "                                                                 \"subsample\" : [0.1, 0.2, 0.5, 1.]}, \n",
    "                        \"cv_nfolds\" : 5, \"cv_niter\" : 5,      \n",
    "\"\"\"\n",
    "\n",
    "\n",
    "\"\"\"\n",
    "ut.params['recoNjets2p5'] =  [\"xgboost.sklearn.XGBClassifier\",\n",
    "                        { \"Xbr\" : [\"genJet2p5Pt0\", \"genJet2p5Rapidity0\",\n",
    "                                    \"genJet2p5Pt1\", \"genJet2p5Rapidity1\",\n",
    "                                    \"genJet2p5Pt2\", \"genJet2p5Rapidity2\",\n",
    "                                    \"genJet2p5Pt3\", \"genJet2p5Rapidity3\",\n",
    "                                   \"genJet2p5Pt4\", \"genJet2p5Rapidity4\",\n",
    "                                    \"genPt\",\"absGenRapidity\",\"genNjets2p5\"\n",
    "                                ],\n",
    "            \"trainevts\" : 5, \"max_depth\" : 7,\n",
    "            \"learning_rate\" : 0.1,\"n_estimators\" : 500,\n",
    "            \"min_child_weight\" : 1e-5,\n",
    "            \"nthread\" : 1 }]\n",
    "\"\"\""
   ]
  },
  {
   "cell_type": "code",
   "execution_count": 4,
   "metadata": {
    "collapsed": false
   },
   "outputs": [],
   "source": [
    "#ut.params"
   ]
  },
  {
   "cell_type": "markdown",
   "metadata": {},
   "source": [
    "$\\color{red}{\\text{changes in class become also active without ut.setParams(). }}$"
   ]
  },
  {
   "cell_type": "code",
   "execution_count": 5,
   "metadata": {
    "collapsed": false
   },
   "outputs": [
    {
     "name": "stdout",
     "output_type": "stream",
     "text": [
      "entered config files named my_train_config\n",
      "hi\n",
      "None\n"
     ]
    }
   ],
   "source": [
    "#set the parameters \"class\" defined above\n",
    "\"\"\"\n",
    "? discuss the function setParams() with Pasquale\n",
    "\"\"\"\n",
    "ut.setParams()\n",
    "# manual fix such that the json file doesn't pick the wrong inputDir\n",
    "#ut.params['inputDir'] = '/mnt/t3nfs01/data01/shome/jandrejk/higgs_model_dep/classifiers' "
   ]
  },
  {
   "cell_type": "code",
   "execution_count": 6,
   "metadata": {
    "collapsed": false,
    "scrolled": true
   },
   "outputs": [
    {
     "name": "stdout",
     "output_type": "stream",
     "text": [
      "Create object with the name class_tnevts_iso and the following paramters \n",
      "The number of selected events are 572356\n",
      "The number of selected events are 766839\n",
      "The number of selected events are 1448533\n",
      "The number of selected events are 1583887\n",
      "shuffling dataset\n",
      "defining bins\n",
      "CPU times: user 2.92 s, sys: 416 ms, total: 3.33 s\n",
      "Wall time: 3.37 s\n"
     ]
    }
   ],
   "source": [
    "%time effFitter = ut.loadOrMake()"
   ]
  },
  {
   "cell_type": "markdown",
   "metadata": {
    "collapsed": false
   },
   "source": [
    "## Train classifiers"
   ]
  },
  {
   "cell_type": "markdown",
   "metadata": {},
   "source": [
    "# $\\color{red}{\\text{What happens in the bellow 2 cells?}}$"
   ]
  },
  {
   "cell_type": "code",
   "execution_count": 8,
   "metadata": {
    "collapsed": false
   },
   "outputs": [],
   "source": [
    "#if ut.params.get(\"setupJoblib\",True):\n",
    "#    ut.setupJoblib(ipp_profile=ut.params.get('ippProfile','short'))"
   ]
  },
  {
   "cell_type": "markdown",
   "metadata": {},
   "source": [
    "###  make sure that the trained classifers have been evaluated"
   ]
  },
  {
   "cell_type": "code",
   "execution_count": 7,
   "metadata": {
    "collapsed": false,
    "scrolled": false
   },
   "outputs": [
    {
     "name": "stdout",
     "output_type": "stream",
     "text": [
      "Index([u'absweight', u'class', u'genJet2p5Pt0', u'genJet2p5Pt1',\n",
      "       u'genJet2p5Pt2', u'genJet2p5Pt3', u'genJet2p5Pt4',\n",
      "       u'genJet2p5Rapidity0', u'genJet2p5Rapidity1', u'genJet2p5Rapidity2',\n",
      "       u'genJet2p5Rapidity3', u'genJet2p5Rapidity4', u'genLeadGenIso',\n",
      "       u'genNjets2p5', u'genPt', u'genRapidity', u'genSubleadGenIso',\n",
      "       u'recoNjets2p5', u'recoPt', u'recoRapidity', u'weight', u'proc',\n",
      "       u'absGenRapidity', u'absGenJet2p5Rapidity0', u'absGenJet2p5Rapidity1',\n",
      "       u'absGenJet2p5Rapidity2', u'absGenJet2p5Rapidity3', u'recoPtBin',\n",
      "       u'recoPtCat', u'recoNjets2p5Bin', u'recoNjets2p5Cat'],\n",
      "      dtype='object')\n"
     ]
    }
   ],
   "source": [
    "ut.runEvaluation(effFitter)"
   ]
  },
  {
   "cell_type": "markdown",
   "metadata": {},
   "source": [
    "### Run the actual training"
   ]
  },
  {
   "cell_type": "code",
   "execution_count": 8,
   "metadata": {
    "collapsed": false
   },
   "outputs": [
    {
     "name": "stdout",
     "output_type": "stream",
     "text": [
      "We need to train the following classifiers class recoPt\n",
      "Fitting class\n",
      "<class 'sklearn.ensemble.gradient_boosting.GradientBoostingClassifier'>\n",
      "{'n_estimators': 200, 'learning_rate': 0.2, 'min_weight_fraction_leaf': 0.001, 'max_depth': 5, 'trainevts': 5}\n",
      "['genPt', 'absGenRapidity', 'genLeadGenIso', 'genSubleadGenIso']\n",
      "class\n",
      "cvoptimize False\n",
      "((5, 4), 20)\n",
      "((5,), 5)\n",
      "((5,), 5)\n",
      "[[  4.78662491e+01   2.79784262e-01   0.00000000e+00   0.00000000e+00]\n",
      " [  3.81379356e+01   2.39786124e+00   2.69890815e-01   0.00000000e+00]\n",
      " [  1.92517136e+02   1.06277466e-02   4.29443359e-01   1.01318359e-01]]\n",
      "[ 0 -1  0]\n",
      "[  3.46337474e-05   2.94910307e-04   4.54608926e-05]\n",
      "Fitting recoPt\n",
      "<class 'xgboost.sklearn.XGBClassifier'>\n",
      "{'nthread': 1, 'learning_rate': 0.1, 'trainevts': 5, 'min_child_weight': 1e-05, 'Xbr': ['genPt', 'absGenRapidity'], 'n_estimators': 500, 'max_depth': 5}\n",
      "['genPt', 'absGenRapidity', 'class_prob_0', 'class_prob_1']\n",
      "recoPtCat\n",
      "cvoptimize False\n",
      "((5, 4), 20)\n",
      "((5,), 5)\n",
      "((5,), 5)\n",
      "[[  4.78662491e+01   2.79784262e-01   5.30934940e-04   9.99469065e-01]\n",
      " [  3.81379356e+01   2.39786124e+00   9.99858875e-01   1.41124797e-04]\n",
      " [  1.92517136e+02   1.06277466e-02   5.30934940e-04   9.99469065e-01]]\n",
      "[  9.  -1.  15.]\n",
      "[  3.46337474e-05   2.94910307e-04   4.54608926e-05]\n",
      "CPU times: user 22.9 s, sys: 251 ms, total: 23.2 s\n",
      "Wall time: 23.2 s\n"
     ]
    }
   ],
   "source": [
    "#reload(tn)\n",
    "%time ut.runTraining(effFitter)"
   ]
  },
  {
   "cell_type": "markdown",
   "metadata": {},
   "source": [
    "## Save the output"
   ]
  },
  {
   "cell_type": "code",
   "execution_count": 9,
   "metadata": {
    "collapsed": false
   },
   "outputs": [
    {
     "name": "stdout",
     "output_type": "stream",
     "text": [
      "./classifiers/class_tnevts_iso_out.pkl.gz\n",
      "CPU times: user 5.84 s, sys: 164 ms, total: 6.01 s\n",
      "Wall time: 6.27 s\n"
     ]
    }
   ],
   "source": [
    "#reload(tn)\n",
    "%time tn.IO.save(effFitter)"
   ]
  },
  {
   "cell_type": "code",
   "execution_count": null,
   "metadata": {
    "collapsed": true
   },
   "outputs": [],
   "source": []
  }
 ],
 "metadata": {
  "anaconda-cloud": {},
  "kernelspec": {
   "display_name": "Python [default]",
   "language": "python",
   "name": "python2"
  },
  "language_info": {
   "codemirror_mode": {
    "name": "ipython",
    "version": 2
   },
   "file_extension": ".py",
   "mimetype": "text/x-python",
   "name": "python",
   "nbconvert_exporter": "python",
   "pygments_lexer": "ipython2",
   "version": "2.7.12"
  }
 },
 "nbformat": 4,
 "nbformat_minor": 0
}
