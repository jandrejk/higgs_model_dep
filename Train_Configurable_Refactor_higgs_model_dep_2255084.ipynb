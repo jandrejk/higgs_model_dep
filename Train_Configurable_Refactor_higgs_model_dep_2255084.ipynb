{
 "cells": [
  {
   "cell_type": "markdown",
   "metadata": {
    "collapsed": true
   },
   "source": [
    "# Train classifier to estimate analysis efficiency vs gen variable\n",
    "\n",
    "- Actual training code in train.py\n",
    "- Classifier based on sklearn. Default is GradientBoostedClassifier, \n",
    "    but can be specified at run time."
   ]
  },
  {
   "cell_type": "markdown",
   "metadata": {},
   "source": [
    "## Load libraries"
   ]
  },
  {
   "cell_type": "code",
   "execution_count": 1,
   "metadata": {
    "collapsed": false
   },
   "outputs": [
    {
     "data": {
      "application/javascript": [
       "require(['codemirror/mode/clike/clike'], function(Clike) { console.log('ROOTaaS - C++ CodeMirror module loaded'); });"
      ]
     },
     "metadata": {},
     "output_type": "display_data"
    },
    {
     "data": {
      "application/javascript": [
       "IPython.CodeCell.config_defaults.highlight_modes['magic_text/x-c++src'] = {'reg':[/^%%cpp/]};"
      ]
     },
     "metadata": {},
     "output_type": "display_data"
    },
    {
     "name": "stdout",
     "output_type": "stream",
     "text": [
      "Welcome to ROOTaaS 6.06/08\n"
     ]
    },
    {
     "data": {
      "text/plain": [
       "<module 'util' from '/mnt/t3nfs01/data01/shome/jandrejk/higgs_model_dep/util.pyc'>"
      ]
     },
     "execution_count": 1,
     "metadata": {},
     "output_type": "execute_result"
    }
   ],
   "source": [
    "import train as tn\n",
    "#reload(tn)\n",
    "\n",
    "import plotting\n",
    "reload(plotting)\n",
    "\n",
    "import matplotlib.pyplot as plt\n",
    "plt.style.use('seaborn-poster')\n",
    "%matplotlib inline\n",
    "\n",
    "import numpy as np\n",
    "\n",
    "from pprint import pprint\n",
    "\n",
    "import os\n",
    "import json\n",
    "import importlib\n",
    "\n",
    "import util as ut\n",
    "reload(ut)"
   ]
  },
  {
   "cell_type": "markdown",
   "metadata": {},
   "source": [
    "## Instantiate helper class\n",
    "\n",
    "Data are read from ROOT trees and converted into pandas data frames.  \n",
    "The loading function makes sure that all the needed columns have been read from the trees, otherwise it rebilds the data frame.\n"
   ]
  },
  {
   "cell_type": "markdown",
   "metadata": {},
   "source": [
    "#### In the following cell the parameters are set up. In this case a new classifier will be initiated with the name effGenVarClass and stored in the directory \"classifiers\". The training data will be read from a root tree located in dataDir. The branches of gen and reco events are the default ones (look at the help function for detailed information)."
   ]
  },
  {
   "cell_type": "code",
   "execution_count": 2,
   "metadata": {
    "collapsed": false
   },
   "outputs": [],
   "source": [
    "ut.defaultParameters(dataDir=\"/mnt/t3nfs01/data01/shome/jandrejk/higgs_model_dep/data\", \n",
    "                     classifiers=['class'],#,'recoPt','recoNjets2p5'],\n",
    "                          load = False,\n",
    "                     inputName = \"class_tnevts_etaLead_etaSublead\",\n",
    "                       outName = \"class_tnevts_etaLead_etaSublead_out\",\n",
    "                        outDir = './classifiers',\n",
    "                     # InputDir = './classifiers',\n",
    "                    #defineBins = { 'recoPt' : dict(boundaries=[0.,15.,30.,45.,85.,125.,200.,350.,10000.],overflow=False), # do not add overflow automatically\n",
    "                    #              'recoNjets2p5' : dict(boundaries=[-0.5,0.5,1.5,2.5,3.5,100.],overflow=False),\n",
    "                    #              #'genPt' : dict(boundaries=[0.,15.,30.,45.,85.,125.,200.,350.,10000.],overflow=False), # do not add overflow automatically\n",
    "                    #              #'genNjets2p5' : dict(boundaries=[-0.5,0.5,1.5,2.5,3.5,100.],overflow=False)\n",
    "                    #             },\n",
    "                     dataFiles=[(0,'output_InsideAcceptance_ggF_125.root'),                   \n",
    "                                (1,'output_InsideAcceptance_ttH_125.root'),                     \n",
    "                                (2,'output_InsideAcceptance_VBF_125.root'),                            \n",
    "                                (3,'output_InsideAcceptance_VH_125.root')\n",
    "                               ]\n",
    "                    )\n"
   ]
  },
  {
   "cell_type": "markdown",
   "metadata": {},
   "source": [
    "\n",
    "In case you need help or further explanation you can execute the help function:"
   ]
  },
  {
   "cell_type": "markdown",
   "metadata": {},
   "source": [
    "#### We want to use machine learning techniques for classification. For that we need to specify the classifier we want to use like here the GradientBoostingClassifier from sklearn.ensamble. Furthermore the parameters of the used classifier have to be set, e.g. the number of training events, max. tree depth, learning rate and so forth."
   ]
  },
  {
   "cell_type": "code",
   "execution_count": 3,
   "metadata": {
    "collapsed": false,
    "slideshow": {
     "slide_type": "slide"
    }
   },
   "outputs": [
    {
     "data": {
      "text/plain": [
       "'ut.params[\\'recoNjets2p5\\'] =  [\"xgboost.sklearn.XGBClassifier\",\\n                        { \"Xbr\" : [\"genJet2p5Pt0\", \"genJet2p5Rapidity0\",\\n                                    \"genJet2p5Pt1\", \"genJet2p5Rapidity1\",\\n                                    \"genJet2p5Pt2\", \"genJet2p5Rapidity2\",\\n                                    \"genJet2p5Pt3\", \"genJet2p5Rapidity3\",\\n                                    \"genPt\",\"absGenRapidity\"\\n                                ],\\n            \"trainevts\" : 10, \"max_depth\" : 7,\\n            \"learning_rate\" : 0.1,\"n_estimators\" : 500,\\n            \"min_child_weight\" : 1e-5,\\n            \"nthread\" : 1 }]\\n'"
      ]
     },
     "execution_count": 3,
     "metadata": {},
     "output_type": "execute_result"
    }
   ],
   "source": [
    "ut.params[\"class\"] = [ \"sklearn.ensemble.GradientBoostingClassifier\", \n",
    "                      dict(trainevts= 100,\n",
    "                           max_depth=5,learning_rate=0.2,n_estimators=200,\n",
    "                        min_weight_fraction_leaf=1e-3)\n",
    "]\n",
    "\n",
    "\n",
    "\"\"\"ut.params['recoPt'] = [\"xgboost.sklearn.XGBClassifier\",\n",
    "                       { \"Xbr\" : [\"genPt\",\"absGenRapidity\"],\n",
    "                        \"trainevts\" : 10, \n",
    "                        \"max_depth\" : 5,\"learning_rate\" : 0.1,\n",
    "                        \"n_estimators\" : 500,\"min_child_weight\" : 1e-5,\n",
    "                        \"nthread\" : 1}]\n",
    "\"\"\"\n",
    "\"\"\"\n",
    ",\n",
    "                        \"cvoptimize\" : True,\"cv_params_grid\" : { \"max_depth\" : [5, 7, 10],\n",
    "                                                                 \"learning_rate\" : [0.05, 0.1, 0.2], \n",
    "                                                                 \"n_estimators\" : [250,500,700,1000],\n",
    "                                                                 \"min_child_weight\" : [1e-4, 5e-4, 1e-3],\n",
    "                                                                 \"subsample\" : [0.1, 0.2, 0.5, 1.]}, \n",
    "                        \"cv_nfolds\" : 5, \"cv_niter\" : 5,      \n",
    "\"\"\"\n",
    "\n",
    "\"\"\"ut.params['recoNjets2p5'] =  [\"xgboost.sklearn.XGBClassifier\",\n",
    "                        { \"Xbr\" : [\"genJet2p5Pt0\", \"genJet2p5Rapidity0\",\n",
    "                                    \"genJet2p5Pt1\", \"genJet2p5Rapidity1\",\n",
    "                                    \"genJet2p5Pt2\", \"genJet2p5Rapidity2\",\n",
    "                                    \"genJet2p5Pt3\", \"genJet2p5Rapidity3\",\n",
    "                                    \"genPt\",\"absGenRapidity\"\n",
    "                                ],\n",
    "            \"trainevts\" : 10, \"max_depth\" : 7,\n",
    "            \"learning_rate\" : 0.1,\"n_estimators\" : 500,\n",
    "            \"min_child_weight\" : 1e-5,\n",
    "            \"nthread\" : 1 }]\n",
    "\"\"\""
   ]
  },
  {
   "cell_type": "code",
   "execution_count": 4,
   "metadata": {
    "collapsed": false
   },
   "outputs": [],
   "source": [
    "#ut.params"
   ]
  },
  {
   "cell_type": "markdown",
   "metadata": {},
   "source": [
    "$\\color{red}{\\text{changes in class become also active without ut.setParams(). }}$"
   ]
  },
  {
   "cell_type": "code",
   "execution_count": 5,
   "metadata": {
    "collapsed": false
   },
   "outputs": [
    {
     "name": "stdout",
     "output_type": "stream",
     "text": [
      "entered config files named my_train_config\n",
      "io.json\n",
      "load some params\n",
      "reading io.json\n"
     ]
    }
   ],
   "source": [
    "#set the parameters \"class\" defined above\n",
    "\"\"\"\n",
    "? discuss the function setParams() with Pasquale\n",
    "\"\"\"\n",
    "ut.setParams()"
   ]
  },
  {
   "cell_type": "code",
   "execution_count": 6,
   "metadata": {
    "collapsed": false,
    "scrolled": true
   },
   "outputs": [
    {
     "name": "stdout",
     "output_type": "stream",
     "text": [
      "Create object with the name class_tnevts_etaLead_etaSublead and the following paramters \n",
      "The number of selected events are 572356\n",
      "The number of selected events are 766839\n",
      "The number of selected events are 1448533\n",
      "The number of selected events are 1583887\n",
      "shuffling dataset\n",
      "defining bins\n",
      "CPU times: user 3.52 s, sys: 388 ms, total: 3.9 s\n",
      "Wall time: 5.57 s\n"
     ]
    }
   ],
   "source": [
    "%time effFitter = ut.loadOrMake()"
   ]
  },
  {
   "cell_type": "markdown",
   "metadata": {
    "collapsed": false
   },
   "source": [
    "## Train classifiers"
   ]
  },
  {
   "cell_type": "markdown",
   "metadata": {},
   "source": [
    "# $\\color{red}{\\text{What happens in the bellow 2 cells?}}$"
   ]
  },
  {
   "cell_type": "code",
   "execution_count": 7,
   "metadata": {
    "collapsed": false
   },
   "outputs": [
    {
     "name": "stdout",
     "output_type": "stream",
     "text": [
      "Waiting for connection file: ~/.ipython/profile_short/security/ipcontroller-client.json\n"
     ]
    },
    {
     "ename": "IOError",
     "evalue": "Connection file '~/.ipython/profile_short/security/ipcontroller-client.json' not found.\nYou have attempted to connect to an IPython Cluster but no Controller could be found.\nPlease double-check your configuration and ensure that a cluster is running.",
     "output_type": "error",
     "traceback": [
      "\u001b[0;31m\u001b[0m",
      "\u001b[0;31mIOError\u001b[0mTraceback (most recent call last)",
      "\u001b[0;32m<ipython-input-7-b8292c05effc>\u001b[0m in \u001b[0;36m<module>\u001b[0;34m()\u001b[0m\n\u001b[1;32m      1\u001b[0m \u001b[0;32mif\u001b[0m \u001b[0mut\u001b[0m\u001b[0;34m.\u001b[0m\u001b[0mparams\u001b[0m\u001b[0;34m.\u001b[0m\u001b[0mget\u001b[0m\u001b[0;34m(\u001b[0m\u001b[0;34m\"setupJoblib\"\u001b[0m\u001b[0;34m,\u001b[0m\u001b[0mTrue\u001b[0m\u001b[0;34m)\u001b[0m\u001b[0;34m:\u001b[0m\u001b[0;34m\u001b[0m\u001b[0m\n\u001b[0;32m----> 2\u001b[0;31m     \u001b[0mut\u001b[0m\u001b[0;34m.\u001b[0m\u001b[0msetupJoblib\u001b[0m\u001b[0;34m(\u001b[0m\u001b[0mipp_profile\u001b[0m\u001b[0;34m=\u001b[0m\u001b[0mut\u001b[0m\u001b[0;34m.\u001b[0m\u001b[0mparams\u001b[0m\u001b[0;34m.\u001b[0m\u001b[0mget\u001b[0m\u001b[0;34m(\u001b[0m\u001b[0;34m'ippProfile'\u001b[0m\u001b[0;34m,\u001b[0m\u001b[0;34m'short'\u001b[0m\u001b[0;34m)\u001b[0m\u001b[0;34m)\u001b[0m\u001b[0;34m\u001b[0m\u001b[0m\n\u001b[0m",
      "\u001b[0;32m/mnt/t3nfs01/data01/shome/jandrejk/higgs_model_dep/util.pyc\u001b[0m in \u001b[0;36msetupJoblib\u001b[0;34m(ipp_profile)\u001b[0m\n\u001b[1;32m    241\u001b[0m     \u001b[0;32mfrom\u001b[0m \u001b[0mipyparallel\u001b[0m\u001b[0;34m.\u001b[0m\u001b[0mjoblib\u001b[0m \u001b[0;32mimport\u001b[0m \u001b[0mIPythonParallelBackend\u001b[0m\u001b[0;34m\u001b[0m\u001b[0m\n\u001b[1;32m    242\u001b[0m     \u001b[0;32mglobal\u001b[0m \u001b[0mjoblib_rc\u001b[0m\u001b[0;34m,\u001b[0m\u001b[0mjoblib_view\u001b[0m\u001b[0;34m,\u001b[0m\u001b[0mjoblib_be\u001b[0m\u001b[0;34m\u001b[0m\u001b[0m\n\u001b[0;32m--> 243\u001b[0;31m     \u001b[0mjoblib_rc\u001b[0m \u001b[0;34m=\u001b[0m \u001b[0mipp\u001b[0m\u001b[0;34m.\u001b[0m\u001b[0mClient\u001b[0m\u001b[0;34m(\u001b[0m\u001b[0mprofile\u001b[0m\u001b[0;34m=\u001b[0m\u001b[0mipp_profile\u001b[0m\u001b[0;34m)\u001b[0m\u001b[0;34m\u001b[0m\u001b[0m\n\u001b[0m\u001b[1;32m    244\u001b[0m     \u001b[0mjoblib_view\u001b[0m \u001b[0;34m=\u001b[0m \u001b[0mjoblib_rc\u001b[0m\u001b[0;34m.\u001b[0m\u001b[0mload_balanced_view\u001b[0m\u001b[0;34m(\u001b[0m\u001b[0;34m)\u001b[0m\u001b[0;34m\u001b[0m\u001b[0m\n\u001b[1;32m    245\u001b[0m     \u001b[0mjoblib_be\u001b[0m \u001b[0;34m=\u001b[0m \u001b[0mIPythonParallelBackend\u001b[0m\u001b[0;34m(\u001b[0m\u001b[0mview\u001b[0m\u001b[0;34m=\u001b[0m\u001b[0mjoblib_view\u001b[0m\u001b[0;34m)\u001b[0m\u001b[0;34m\u001b[0m\u001b[0m\n",
      "\u001b[0;32m/swshare/anaconda/lib/python2.7/site-packages/ipyparallel/client/client.pyc\u001b[0m in \u001b[0;36m__init__\u001b[0;34m(self, url_file, profile, profile_dir, ipython_dir, context, debug, sshserver, sshkey, password, paramiko, timeout, cluster_id, **extra_args)\u001b[0m\n\u001b[1;32m    395\u001b[0m                         \u001b[0mno_file_msg\u001b[0m\u001b[0;34m,\u001b[0m\u001b[0;34m\u001b[0m\u001b[0m\n\u001b[1;32m    396\u001b[0m                     ])\n\u001b[0;32m--> 397\u001b[0;31m                     \u001b[0;32mraise\u001b[0m \u001b[0mIOError\u001b[0m\u001b[0;34m(\u001b[0m\u001b[0mmsg\u001b[0m\u001b[0;34m)\u001b[0m\u001b[0;34m\u001b[0m\u001b[0m\n\u001b[0m\u001b[1;32m    398\u001b[0m         \u001b[0;32mif\u001b[0m \u001b[0murl_file\u001b[0m \u001b[0;32mis\u001b[0m \u001b[0mNone\u001b[0m\u001b[0;34m:\u001b[0m\u001b[0;34m\u001b[0m\u001b[0m\n\u001b[1;32m    399\u001b[0m             \u001b[0;32mraise\u001b[0m \u001b[0mIOError\u001b[0m\u001b[0;34m(\u001b[0m\u001b[0mno_file_msg\u001b[0m\u001b[0;34m)\u001b[0m\u001b[0;34m\u001b[0m\u001b[0m\n",
      "\u001b[0;31mIOError\u001b[0m: Connection file '~/.ipython/profile_short/security/ipcontroller-client.json' not found.\nYou have attempted to connect to an IPython Cluster but no Controller could be found.\nPlease double-check your configuration and ensure that a cluster is running."
     ]
    }
   ],
   "source": [
    "if ut.params.get(\"setupJoblib\",True):\n",
    "    ut.setupJoblib(ipp_profile=ut.params.get('ippProfile','short'))"
   ]
  },
  {
   "cell_type": "markdown",
   "metadata": {},
   "source": [
    "###  make sure that the trained classifers have been evaluated"
   ]
  },
  {
   "cell_type": "code",
   "execution_count": 8,
   "metadata": {
    "collapsed": false,
    "scrolled": true
   },
   "outputs": [
    {
     "name": "stdout",
     "output_type": "stream",
     "text": [
      "Index([u'absweight', u'class', u'genJet2p5Pt0', u'genJet2p5Pt1',\n",
      "       u'genJet2p5Pt2', u'genJet2p5Pt3', u'genJet2p5Rapidity0',\n",
      "       u'genJet2p5Rapidity1', u'genJet2p5Rapidity2', u'genJet2p5Rapidity3',\n",
      "       u'genLeadEta', u'genNjets2p5', u'genPt', u'genRapidity',\n",
      "       u'genSubleadEta', u'recoNjets2p5', u'recoPt', u'recoRapidity',\n",
      "       u'weight', u'proc', u'absGenRapidity', u'absGenJet2p5Rapidity0',\n",
      "       u'absGenJet2p5Rapidity1', u'absGenJet2p5Rapidity2',\n",
      "       u'absGenJet2p5Rapidity3'],\n",
      "      dtype='object')\n"
     ]
    }
   ],
   "source": [
    "ut.runEvaluation(effFitter)"
   ]
  },
  {
   "cell_type": "markdown",
   "metadata": {},
   "source": [
    "### Run the actual training"
   ]
  },
  {
   "cell_type": "code",
   "execution_count": 9,
   "metadata": {
    "collapsed": false
   },
   "outputs": [
    {
     "name": "stdout",
     "output_type": "stream",
     "text": [
      "We need to train the following classifiers class\n",
      "Fitting class\n",
      "<class 'sklearn.ensemble.gradient_boosting.GradientBoostingClassifier'>\n",
      "{'n_estimators': 200, 'learning_rate': 0.2, 'min_weight_fraction_leaf': 0.001, 'max_depth': 5, 'trainevts': 100}\n",
      "['genPt', 'absGenRapidity', 'genLeadEta', 'genSubleadEta']\n",
      "class\n",
      "cvoptimize False\n",
      "((100, 4), 400)\n",
      "((100,), 100)\n",
      "((100,), 100)\n",
      "[[  4.78662491e+01   2.79784262e-01   7.23288655e-02   7.06442535e-01]\n",
      " [  3.81379356e+01   2.39786124e+00  -2.38502049e+00  -2.41999459e+00]\n",
      " [  1.92517136e+02   1.06277466e-02   3.24289680e-01  -5.44572234e-01]]\n",
      "[ 0 -1  0]\n",
      "[  3.46337474e-05   2.94910307e-04   4.54608926e-05]\n",
      "CPU times: user 14.4 s, sys: 150 ms, total: 14.6 s\n",
      "Wall time: 14.6 s\n"
     ]
    }
   ],
   "source": [
    "#reload(tn)\n",
    "%time ut.runTraining(effFitter)"
   ]
  },
  {
   "cell_type": "markdown",
   "metadata": {},
   "source": [
    "## Save the output"
   ]
  },
  {
   "cell_type": "code",
   "execution_count": 10,
   "metadata": {
    "collapsed": false
   },
   "outputs": [
    {
     "name": "stdout",
     "output_type": "stream",
     "text": [
      "./Train_Configurable_Refactor_higgs_model_dep_2255084.pkl.gz\n",
      "CPU times: user 9.95 s, sys: 237 ms, total: 10.2 s\n",
      "Wall time: 10.9 s\n"
     ]
    }
   ],
   "source": [
    "#reload(tn)\n",
    "%time tn.IO.save(effFitter)"
   ]
  },
  {
   "cell_type": "code",
   "execution_count": 11,
   "metadata": {
    "collapsed": true
   },
   "outputs": [],
   "source": []
  }
 ],
 "metadata": {
  "anaconda-cloud": {},
  "kernelspec": {
   "display_name": "Python [default]",
   "language": "python",
   "name": "python2"
  },
  "language_info": {
   "codemirror_mode": {
    "name": "ipython",
    "version": 2
   },
   "file_extension": ".py",
   "mimetype": "text/x-python",
   "name": "python",
   "nbconvert_exporter": "python",
   "pygments_lexer": "ipython2",
   "version": "2.7.12"
  }
 },
 "nbformat": 4,
 "nbformat_minor": 0
}
