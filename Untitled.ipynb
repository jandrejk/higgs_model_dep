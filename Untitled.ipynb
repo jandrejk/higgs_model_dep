{
 "cells": [
  {
   "cell_type": "markdown",
   "metadata": {},
   "source": [
    "# Data frame manipulation"
   ]
  },
  {
   "cell_type": "code",
   "execution_count": 1,
   "metadata": {
    "collapsed": true
   },
   "outputs": [],
   "source": [
    "import pandas as pd\n",
    "import numpy as np\n",
    "import matplotlib.pyplot as plt"
   ]
  },
  {
   "cell_type": "code",
   "execution_count": 2,
   "metadata": {
    "collapsed": false
   },
   "outputs": [],
   "source": [
    "df = pd.read_csv('fullDataFrame')"
   ]
  },
  {
   "cell_type": "code",
   "execution_count": 3,
   "metadata": {
    "collapsed": false,
    "scrolled": true
   },
   "outputs": [
    {
     "data": {
      "text/plain": [
       "Index([u'random_index', u'absweight', u'class', u'genJet2p5Pt0',\n",
       "       u'genJet2p5Pt1', u'genJet2p5Pt2', u'genJet2p5Pt3',\n",
       "       u'genJet2p5Rapidity0', u'genJet2p5Rapidity1', u'genJet2p5Rapidity2',\n",
       "       u'genJet2p5Rapidity3', u'genNjets2p5', u'genPt', u'genRapidity',\n",
       "       u'recoNjets2p5', u'recoPt', u'recoRapidity', u'weight', u'proc',\n",
       "       u'absGenRapidity', u'genNjets2p5Bin', u'genNjets2p5Cat', u'recoPtBin',\n",
       "       u'recoPtCat', u'recoNjets2p5Bin', u'recoNjets2p5Cat', u'genPtBin',\n",
       "       u'genPtCat', u'class_prob_0', u'class_prob_1', u'class_prob_2',\n",
       "       u'class_prob_3'],\n",
       "      dtype='object')"
      ]
     },
     "execution_count": 3,
     "metadata": {},
     "output_type": "execute_result"
    }
   ],
   "source": [
    "df.columns"
   ]
  },
  {
   "cell_type": "code",
   "execution_count": 4,
   "metadata": {
    "collapsed": false
   },
   "outputs": [
    {
     "data": {
      "text/html": [
       "<div>\n",
       "<table border=\"1\" class=\"dataframe\">\n",
       "  <thead>\n",
       "    <tr style=\"text-align: right;\">\n",
       "      <th></th>\n",
       "      <th>class</th>\n",
       "      <th>class_prob_0</th>\n",
       "      <th>class_prob_1</th>\n",
       "      <th>class_prob_2</th>\n",
       "      <th>class_prob_3</th>\n",
       "    </tr>\n",
       "  </thead>\n",
       "  <tbody>\n",
       "    <tr>\n",
       "      <th>0</th>\n",
       "      <td>0</td>\n",
       "      <td>0.292002</td>\n",
       "      <td>0.415458</td>\n",
       "      <td>0.197724</td>\n",
       "      <td>0.094816</td>\n",
       "    </tr>\n",
       "    <tr>\n",
       "      <th>1</th>\n",
       "      <td>2</td>\n",
       "      <td>0.396636</td>\n",
       "      <td>0.000598</td>\n",
       "      <td>0.002234</td>\n",
       "      <td>0.600532</td>\n",
       "    </tr>\n",
       "    <tr>\n",
       "      <th>2</th>\n",
       "      <td>-1</td>\n",
       "      <td>0.529773</td>\n",
       "      <td>0.000918</td>\n",
       "      <td>0.003988</td>\n",
       "      <td>0.465321</td>\n",
       "    </tr>\n",
       "    <tr>\n",
       "      <th>3</th>\n",
       "      <td>-1</td>\n",
       "      <td>0.433532</td>\n",
       "      <td>0.000767</td>\n",
       "      <td>0.003195</td>\n",
       "      <td>0.562505</td>\n",
       "    </tr>\n",
       "    <tr>\n",
       "      <th>4</th>\n",
       "      <td>1</td>\n",
       "      <td>0.292969</td>\n",
       "      <td>0.291077</td>\n",
       "      <td>0.261740</td>\n",
       "      <td>0.154214</td>\n",
       "    </tr>\n",
       "  </tbody>\n",
       "</table>\n",
       "</div>"
      ],
      "text/plain": [
       "   class  class_prob_0  class_prob_1  class_prob_2  class_prob_3\n",
       "0      0      0.292002      0.415458      0.197724      0.094816\n",
       "1      2      0.396636      0.000598      0.002234      0.600532\n",
       "2     -1      0.529773      0.000918      0.003988      0.465321\n",
       "3     -1      0.433532      0.000767      0.003195      0.562505\n",
       "4      1      0.292969      0.291077      0.261740      0.154214"
      ]
     },
     "execution_count": 4,
     "metadata": {},
     "output_type": "execute_result"
    }
   ],
   "source": [
    "df[['class','class_prob_0', 'class_prob_1', 'class_prob_2', 'class_prob_3']][0:5]"
   ]
  },
  {
   "cell_type": "code",
   "execution_count": 5,
   "metadata": {
    "collapsed": false
   },
   "outputs": [
    {
     "data": {
      "text/html": [
       "<div>\n",
       "<table border=\"1\" class=\"dataframe\">\n",
       "  <thead>\n",
       "    <tr style=\"text-align: right;\">\n",
       "      <th></th>\n",
       "      <th>class</th>\n",
       "      <th>genPt</th>\n",
       "      <th>genPtBin</th>\n",
       "      <th>genPtCat</th>\n",
       "      <th>recoPt</th>\n",
       "      <th>recoPtBin</th>\n",
       "      <th>recoPtCat</th>\n",
       "    </tr>\n",
       "  </thead>\n",
       "  <tbody>\n",
       "    <tr>\n",
       "      <th>0</th>\n",
       "      <td>0</td>\n",
       "      <td>86.039467</td>\n",
       "      <td>4</td>\n",
       "      <td>12.0</td>\n",
       "      <td>85.973427</td>\n",
       "      <td>4.0</td>\n",
       "      <td>12.0</td>\n",
       "    </tr>\n",
       "    <tr>\n",
       "      <th>1</th>\n",
       "      <td>2</td>\n",
       "      <td>30.278671</td>\n",
       "      <td>2</td>\n",
       "      <td>8.0</td>\n",
       "      <td>26.335405</td>\n",
       "      <td>1.0</td>\n",
       "      <td>5.0</td>\n",
       "    </tr>\n",
       "    <tr>\n",
       "      <th>2</th>\n",
       "      <td>-1</td>\n",
       "      <td>61.846340</td>\n",
       "      <td>3</td>\n",
       "      <td>8.0</td>\n",
       "      <td>NaN</td>\n",
       "      <td>NaN</td>\n",
       "      <td>-1.0</td>\n",
       "    </tr>\n",
       "    <tr>\n",
       "      <th>3</th>\n",
       "      <td>-1</td>\n",
       "      <td>65.743965</td>\n",
       "      <td>3</td>\n",
       "      <td>8.0</td>\n",
       "      <td>NaN</td>\n",
       "      <td>NaN</td>\n",
       "      <td>-1.0</td>\n",
       "    </tr>\n",
       "    <tr>\n",
       "      <th>4</th>\n",
       "      <td>1</td>\n",
       "      <td>101.030113</td>\n",
       "      <td>4</td>\n",
       "      <td>13.0</td>\n",
       "      <td>100.852081</td>\n",
       "      <td>4.0</td>\n",
       "      <td>13.0</td>\n",
       "    </tr>\n",
       "    <tr>\n",
       "      <th>5</th>\n",
       "      <td>2</td>\n",
       "      <td>80.402245</td>\n",
       "      <td>3</td>\n",
       "      <td>11.0</td>\n",
       "      <td>81.909470</td>\n",
       "      <td>3.0</td>\n",
       "      <td>11.0</td>\n",
       "    </tr>\n",
       "    <tr>\n",
       "      <th>6</th>\n",
       "      <td>2</td>\n",
       "      <td>209.531281</td>\n",
       "      <td>6</td>\n",
       "      <td>20.0</td>\n",
       "      <td>211.231812</td>\n",
       "      <td>6.0</td>\n",
       "      <td>20.0</td>\n",
       "    </tr>\n",
       "    <tr>\n",
       "      <th>7</th>\n",
       "      <td>-1</td>\n",
       "      <td>19.514690</td>\n",
       "      <td>1</td>\n",
       "      <td>2.0</td>\n",
       "      <td>NaN</td>\n",
       "      <td>NaN</td>\n",
       "      <td>-1.0</td>\n",
       "    </tr>\n",
       "    <tr>\n",
       "      <th>8</th>\n",
       "      <td>-1</td>\n",
       "      <td>17.724012</td>\n",
       "      <td>1</td>\n",
       "      <td>2.0</td>\n",
       "      <td>NaN</td>\n",
       "      <td>NaN</td>\n",
       "      <td>-1.0</td>\n",
       "    </tr>\n",
       "    <tr>\n",
       "      <th>9</th>\n",
       "      <td>-1</td>\n",
       "      <td>7.367871</td>\n",
       "      <td>0</td>\n",
       "      <td>-1.0</td>\n",
       "      <td>NaN</td>\n",
       "      <td>NaN</td>\n",
       "      <td>-1.0</td>\n",
       "    </tr>\n",
       "  </tbody>\n",
       "</table>\n",
       "</div>"
      ],
      "text/plain": [
       "   class       genPt  genPtBin  genPtCat      recoPt  recoPtBin  recoPtCat\n",
       "0      0   86.039467         4      12.0   85.973427        4.0       12.0\n",
       "1      2   30.278671         2       8.0   26.335405        1.0        5.0\n",
       "2     -1   61.846340         3       8.0         NaN        NaN       -1.0\n",
       "3     -1   65.743965         3       8.0         NaN        NaN       -1.0\n",
       "4      1  101.030113         4      13.0  100.852081        4.0       13.0\n",
       "5      2   80.402245         3      11.0   81.909470        3.0       11.0\n",
       "6      2  209.531281         6      20.0  211.231812        6.0       20.0\n",
       "7     -1   19.514690         1       2.0         NaN        NaN       -1.0\n",
       "8     -1   17.724012         1       2.0         NaN        NaN       -1.0\n",
       "9     -1    7.367871         0      -1.0         NaN        NaN       -1.0"
      ]
     },
     "execution_count": 5,
     "metadata": {},
     "output_type": "execute_result"
    }
   ],
   "source": [
    "df[['class','genPt', 'genPtBin', 'genPtCat', 'recoPt', 'recoPtBin', 'recoPtCat']][0:10]"
   ]
  },
  {
   "cell_type": "code",
   "execution_count": 6,
   "metadata": {
    "collapsed": false
   },
   "outputs": [
    {
     "data": {
      "text/html": [
       "<div>\n",
       "<table border=\"1\" class=\"dataframe\">\n",
       "  <thead>\n",
       "    <tr style=\"text-align: right;\">\n",
       "      <th></th>\n",
       "      <th>class</th>\n",
       "      <th>genNjets2p5</th>\n",
       "      <th>genNjets2p5Bin</th>\n",
       "      <th>genNjets2p5Cat</th>\n",
       "      <th>recoNjets2p5</th>\n",
       "      <th>recoNjets2p5Bin</th>\n",
       "      <th>recoNjets2p5Cat</th>\n",
       "    </tr>\n",
       "  </thead>\n",
       "  <tbody>\n",
       "    <tr>\n",
       "      <th>0</th>\n",
       "      <td>0</td>\n",
       "      <td>1.0</td>\n",
       "      <td>1</td>\n",
       "      <td>3.0</td>\n",
       "      <td>1.0</td>\n",
       "      <td>1.0</td>\n",
       "      <td>3.0</td>\n",
       "    </tr>\n",
       "    <tr>\n",
       "      <th>1</th>\n",
       "      <td>2</td>\n",
       "      <td>0.0</td>\n",
       "      <td>0</td>\n",
       "      <td>2.0</td>\n",
       "      <td>0.0</td>\n",
       "      <td>0.0</td>\n",
       "      <td>2.0</td>\n",
       "    </tr>\n",
       "    <tr>\n",
       "      <th>2</th>\n",
       "      <td>-1</td>\n",
       "      <td>1.0</td>\n",
       "      <td>1</td>\n",
       "      <td>2.0</td>\n",
       "      <td>NaN</td>\n",
       "      <td>NaN</td>\n",
       "      <td>-1.0</td>\n",
       "    </tr>\n",
       "    <tr>\n",
       "      <th>3</th>\n",
       "      <td>-1</td>\n",
       "      <td>1.0</td>\n",
       "      <td>1</td>\n",
       "      <td>2.0</td>\n",
       "      <td>NaN</td>\n",
       "      <td>NaN</td>\n",
       "      <td>-1.0</td>\n",
       "    </tr>\n",
       "    <tr>\n",
       "      <th>4</th>\n",
       "      <td>1</td>\n",
       "      <td>2.0</td>\n",
       "      <td>2</td>\n",
       "      <td>7.0</td>\n",
       "      <td>2.0</td>\n",
       "      <td>2.0</td>\n",
       "      <td>7.0</td>\n",
       "    </tr>\n",
       "    <tr>\n",
       "      <th>5</th>\n",
       "      <td>2</td>\n",
       "      <td>1.0</td>\n",
       "      <td>1</td>\n",
       "      <td>5.0</td>\n",
       "      <td>1.0</td>\n",
       "      <td>1.0</td>\n",
       "      <td>5.0</td>\n",
       "    </tr>\n",
       "    <tr>\n",
       "      <th>6</th>\n",
       "      <td>2</td>\n",
       "      <td>0.0</td>\n",
       "      <td>0</td>\n",
       "      <td>2.0</td>\n",
       "      <td>0.0</td>\n",
       "      <td>0.0</td>\n",
       "      <td>2.0</td>\n",
       "    </tr>\n",
       "    <tr>\n",
       "      <th>7</th>\n",
       "      <td>-1</td>\n",
       "      <td>0.0</td>\n",
       "      <td>0</td>\n",
       "      <td>-1.0</td>\n",
       "      <td>NaN</td>\n",
       "      <td>NaN</td>\n",
       "      <td>-1.0</td>\n",
       "    </tr>\n",
       "    <tr>\n",
       "      <th>8</th>\n",
       "      <td>-1</td>\n",
       "      <td>0.0</td>\n",
       "      <td>0</td>\n",
       "      <td>-1.0</td>\n",
       "      <td>NaN</td>\n",
       "      <td>NaN</td>\n",
       "      <td>-1.0</td>\n",
       "    </tr>\n",
       "    <tr>\n",
       "      <th>9</th>\n",
       "      <td>-1</td>\n",
       "      <td>0.0</td>\n",
       "      <td>0</td>\n",
       "      <td>-1.0</td>\n",
       "      <td>NaN</td>\n",
       "      <td>NaN</td>\n",
       "      <td>-1.0</td>\n",
       "    </tr>\n",
       "  </tbody>\n",
       "</table>\n",
       "</div>"
      ],
      "text/plain": [
       "   class  genNjets2p5  genNjets2p5Bin  genNjets2p5Cat  recoNjets2p5  \\\n",
       "0      0          1.0               1             3.0           1.0   \n",
       "1      2          0.0               0             2.0           0.0   \n",
       "2     -1          1.0               1             2.0           NaN   \n",
       "3     -1          1.0               1             2.0           NaN   \n",
       "4      1          2.0               2             7.0           2.0   \n",
       "5      2          1.0               1             5.0           1.0   \n",
       "6      2          0.0               0             2.0           0.0   \n",
       "7     -1          0.0               0            -1.0           NaN   \n",
       "8     -1          0.0               0            -1.0           NaN   \n",
       "9     -1          0.0               0            -1.0           NaN   \n",
       "\n",
       "   recoNjets2p5Bin  recoNjets2p5Cat  \n",
       "0              1.0              3.0  \n",
       "1              0.0              2.0  \n",
       "2              NaN             -1.0  \n",
       "3              NaN             -1.0  \n",
       "4              2.0              7.0  \n",
       "5              1.0              5.0  \n",
       "6              0.0              2.0  \n",
       "7              NaN             -1.0  \n",
       "8              NaN             -1.0  \n",
       "9              NaN             -1.0  "
      ]
     },
     "execution_count": 6,
     "metadata": {},
     "output_type": "execute_result"
    }
   ],
   "source": [
    "df[['class','genNjets2p5', 'genNjets2p5Bin', 'genNjets2p5Cat', 'recoNjets2p5', 'recoNjets2p5Bin', 'recoNjets2p5Cat']][0:10]"
   ]
  },
  {
   "cell_type": "code",
   "execution_count": 7,
   "metadata": {
    "collapsed": true
   },
   "outputs": [],
   "source": [
    "df2 = df[:1000]"
   ]
  },
  {
   "cell_type": "code",
   "execution_count": 8,
   "metadata": {
    "collapsed": false
   },
   "outputs": [],
   "source": [
    "q = df2['recoPtCat'].values"
   ]
  },
  {
   "cell_type": "code",
   "execution_count": 9,
   "metadata": {
    "collapsed": false
   },
   "outputs": [
    {
     "data": {
      "text/plain": [
       "array([ -1.5,  -0.5,   0.5,   1.5,   2.5,   3.5,   4.5,   5.5,   6.5,\n",
       "         7.5,   8.5,   9.5,  10.5,  11.5,  12.5,  13.5,  14.5,  15.5,\n",
       "        16.5,  17.5,  18.5,  19.5,  20.5,  21.5,  22.5,  23.5,  24.5,  25.5])"
      ]
     },
     "execution_count": 9,
     "metadata": {},
     "output_type": "execute_result"
    }
   ],
   "source": [
    "np.arange(-1.5,26.5,1)"
   ]
  },
  {
   "cell_type": "code",
   "execution_count": 10,
   "metadata": {
    "collapsed": false
   },
   "outputs": [
    {
     "data": {
      "image/png": "[encoded data removed]",
      "text/plain": [
       "<matplotlib.figure.Figure at 0x7f8722b96810>"
      ]
     },
     "metadata": {},
     "output_type": "display_data"
    }
   ],
   "source": [
    "#df_class0 = df[df['class']==0]\n",
    "plt.figure(figsize=(10,7))\n",
    "\n",
    "plt.hist(q,bins=np.arange(-1.5,26.5,1),log=True,edgecolor='k')#,label=True)\n",
    "plt.xlabel('recoPtCat')\n",
    "plt.ylabel('No. of events')\n",
    "plt.show()"
   ]
  },
  {
   "cell_type": "code",
   "execution_count": null,
   "metadata": {
    "collapsed": true
   },
   "outputs": [],
   "source": []
  }
 ],
 "metadata": {
  "kernelspec": {
   "display_name": "Python 2",
   "language": "python",
   "name": "python2"
  },
  "language_info": {
   "codemirror_mode": {
    "name": "ipython",
    "version": 2
   },
   "file_extension": ".py",
   "mimetype": "text/x-python",
   "name": "python",
   "nbconvert_exporter": "python",
   "pygments_lexer": "ipython2",
   "version": "2.7.13"
  }
 },
 "nbformat": 4,
 "nbformat_minor": 2
}
