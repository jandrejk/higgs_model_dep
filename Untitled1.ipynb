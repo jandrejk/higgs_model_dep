{
 "cells": [
  {
   "cell_type": "code",
   "execution_count": 1,
   "metadata": {
    "collapsed": false
   },
   "outputs": [
    {
     "name": "stdout",
     "output_type": "stream",
     "text": [
      "\n"
     ]
    }
   ],
   "source": [
    "from ipywidgets import *\n",
    "from IPython.display import display\n",
    "\n",
    "datasets=[{\"property\":1},{\"property\":2},{\"property\":3},{\"property\":4},{\"property\":5}]\n",
    "\n",
    "def read_dataset(dataset_id):\n",
    "    return datasets[dataset_id]\n",
    "\n",
    "def fun1(dataset_id):\n",
    "    dataset = read_dataset(dataset_id)\n",
    "    sliders = interactive(fun2, data=fixed(dataset), var=(0,dataset[\"property\"],0.1)) # note I am now using interactive, instead of interact, because I need the close() function\n",
    "    close_button = widgets.Button(description=\"Remove sliders\")\n",
    "    def remove_sliders(b):\n",
    "        sliders.close()\n",
    "        b.close()\n",
    "    close_button.on_click(remove_sliders)\n",
    "    display(sliders)\n",
    "    display(close_button)\n",
    "\n",
    "def fun2(data, var):\n",
    "    print\n",
    "    # something\n",
    "\n",
    "interact(fun1, dataset_id=(0,5,1))"
   ]
  },
  {
   "cell_type": "code",
   "execution_count": 5,
   "metadata": {
    "collapsed": false
   },
   "outputs": [
    {
     "ename": "ImportError",
     "evalue": "cannot import name interact",
     "output_type": "error",
     "traceback": [
      "\u001b[0;31m---------------------------------------------------------------------------\u001b[0m",
      "\u001b[0;31mImportError\u001b[0m                               Traceback (most recent call last)",
      "\u001b[0;32m<ipython-input-5-bd5223071ecb>\u001b[0m in \u001b[0;36m<module>\u001b[0;34m()\u001b[0m\n\u001b[0;32m----> 1\u001b[0;31m \u001b[0;32mfrom\u001b[0m \u001b[0mIPython\u001b[0m\u001b[0;34m.\u001b[0m\u001b[0mhtml\u001b[0m \u001b[0;32mimport\u001b[0m \u001b[0mwidgets\u001b[0m\u001b[0;34m,\u001b[0m\u001b[0minteract\u001b[0m\u001b[0;34m\u001b[0m\u001b[0m\n\u001b[0m\u001b[1;32m      2\u001b[0m \u001b[0;32mfrom\u001b[0m \u001b[0mIPython\u001b[0m\u001b[0;34m.\u001b[0m\u001b[0mdisplay\u001b[0m \u001b[0;32mimport\u001b[0m \u001b[0mdisplay\u001b[0m\u001b[0;34m\u001b[0m\u001b[0m\n\u001b[1;32m      3\u001b[0m \u001b[0;34m\u001b[0m\u001b[0m\n\u001b[1;32m      4\u001b[0m \u001b[0;32mdef\u001b[0m \u001b[0mfunc\u001b[0m\u001b[0;34m(\u001b[0m\u001b[0mbtn\u001b[0m\u001b[0;34m)\u001b[0m\u001b[0;34m:\u001b[0m\u001b[0;34m\u001b[0m\u001b[0m\n\u001b[1;32m      5\u001b[0m     \u001b[0;32mprint\u001b[0m\u001b[0;34m(\u001b[0m\u001b[0;34m'Hi!'\u001b[0m\u001b[0;34m)\u001b[0m\u001b[0;34m\u001b[0m\u001b[0m\n",
      "\u001b[0;31mImportError\u001b[0m: cannot import name interact"
     ]
    }
   ],
   "source": [
    "from IPython.html import widgets\n",
    "from IPython.display import display\n",
    "\n",
    "def func(btn):\n",
    "    print('Hi!')\n",
    "\n",
    "btn = widgets.Button(description=\"Click me!\")\n",
    "btn.on_click(func)\n",
    "display(btn)"
   ]
  },
  {
   "cell_type": "code",
   "execution_count": 21,
   "metadata": {
    "collapsed": true
   },
   "outputs": [],
   "source": [
    "from ipywidgets import interact, fixed, interactive, widgets, interact_manual\n",
    "from IPython.display import display, clear_output\n"
   ]
  },
  {
   "cell_type": "code",
   "execution_count": 28,
   "metadata": {
    "collapsed": true
   },
   "outputs": [],
   "source": [
    "w_Load = widgets.ToggleButton(\n",
    "    value=False,\n",
    "    description='Click me',\n",
    "    disabled=False,\n",
    "    button_style='', # 'success', 'info', 'warning', 'danger' or ''\n",
    "    tooltip='Description',\n",
    "    icon='check'\n",
    ")\n",
    "\n",
    "w_check = widgets.Checkbox(\n",
    "    value=False,\n",
    "    description='Load classifier',\n",
    "    disabled=False\n",
    ")\n"
   ]
  },
  {
   "cell_type": "code",
   "execution_count": 54,
   "metadata": {
    "collapsed": true
   },
   "outputs": [],
   "source": [
    "import time"
   ]
  },
  {
   "cell_type": "code",
   "execution_count": 55,
   "metadata": {
    "collapsed": false
   },
   "outputs": [],
   "source": [
    "def f(x,b) :\n",
    "    w = widgets.FloatProgress(\n",
    "    min=0,\n",
    "    max=10,\n",
    "    description='Loading:',\n",
    "    bar_style='info',\n",
    "    orientation='horizontal'\n",
    ")\n",
    "    display(w)\n",
    "    for i in xrange(x) :\n",
    "        time.sleep(1)\n",
    "        w.value += 10./x"
   ]
  },
  {
   "cell_type": "code",
   "execution_count": 56,
   "metadata": {
    "collapsed": false
   },
   "outputs": [
    {
     "data": {
      "text/plain": [
       "<function __main__.f>"
      ]
     },
     "execution_count": 56,
     "metadata": {},
     "output_type": "execute_result"
    }
   ],
   "source": [
    "interact(f,prog=w,b=w_check,x=(0,8))"
   ]
  },
  {
   "cell_type": "code",
   "execution_count": 57,
   "metadata": {
    "collapsed": true
   },
   "outputs": [],
   "source": [
    "w = widgets.SelectionSlider(\n",
    "    options=['scrambled', 'sunny side up', 'poached', 'over easy'],\n",
    "    value='sunny side up',\n",
    "    description='I like my eggs ...',\n",
    "    disabled=False,\n",
    "    continuous_update=False,\n",
    "    orientation='horizontal',\n",
    "    readout=True,\n",
    "#     readout_format='i',\n",
    "#     slider_color='black'\n",
    ")"
   ]
  },
  {
   "cell_type": "code",
   "execution_count": 58,
   "metadata": {
    "collapsed": true
   },
   "outputs": [],
   "source": [
    "w"
   ]
  },
  {
   "cell_type": "code",
   "execution_count": null,
   "metadata": {
    "collapsed": true
   },
   "outputs": [],
   "source": []
  }
 ],
 "metadata": {
  "anaconda-cloud": {},
  "kernelspec": {
   "display_name": "Python [default]",
   "language": "python",
   "name": "python2"
  },
  "language_info": {
   "codemirror_mode": {
    "name": "ipython",
    "version": 2
   },
   "file_extension": ".py",
   "mimetype": "text/x-python",
   "name": "python",
   "nbconvert_exporter": "python",
   "pygments_lexer": "ipython2",
   "version": "2.7.12"
  },
  "widgets": {
   "state": {
    "010da6aabff44bc995fbe82d40f229cc": {
     "views": [
      {
       "cell_index": 6
      }
     ]
    },
    "0114693fb4da441e908bdb98cb0ed15c": {
     "views": [
      {
       "cell_index": 5
      }
     ]
    },
    "0c1ebed31e824097a93f51da8452986d": {
     "views": [
      {
       "cell_index": 6
      }
     ]
    },
    "1a694b2b6dce4893a4faead0e35b9f24": {
     "views": [
      {
       "cell_index": 8
      }
     ]
    },
    "1c6137df18d5471fa8526e1aac931bb3": {
     "views": [
      {
       "cell_index": 6
      }
     ]
    },
    "264fe21921464e2489a52d6d0fba85ee": {
     "views": [
      {
       "cell_index": 6
      }
     ]
    },
    "35431fcb18a648cb9195d443bbe64255": {
     "views": [
      {
       "cell_index": 6
      }
     ]
    },
    "42a56bcc31a8482e8ca76499beb3915e": {
     "views": [
      {
       "cell_index": 6
      }
     ]
    },
    "68982b66ab6a4622a5270611f3e491fd": {
     "views": [
      {
       "cell_index": 6
      }
     ]
    },
    "6cc8417c08174081b384227fa1eff5ff": {
     "views": [
      {
       "cell_index": 6
      }
     ]
    },
    "79989014d2154b5c944f62b8882a89f2": {
     "views": [
      {
       "cell_index": 6
      }
     ]
    },
    "827bde1b39ac442f9f066c854e1983f7": {
     "views": [
      {
       "cell_index": 6
      }
     ]
    },
    "c6f755195b0f4980b84352db0abb5827": {
     "views": [
      {
       "cell_index": 6
      }
     ]
    },
    "da447df3763c4d74b37dc932328f77f4": {
     "views": [
      {
       "cell_index": 6
      }
     ]
    },
    "da7894fe80964f40a60fd9ffe536bc5f": {
     "views": [
      {
       "cell_index": 5
      }
     ]
    },
    "f1720452d08c494c9aedfa9f6545f098": {
     "views": [
      {
       "cell_index": 6
      }
     ]
    },
    "f237c06ad8c349ef95910e63d0f7dbd7": {
     "views": [
      {
       "cell_index": 6
      }
     ]
    },
    "fe270483b4f34e9cadb9005e217bcebf": {
     "views": [
      {
       "cell_index": 6
      }
     ]
    }
   },
   "version": "1.2.0"
  }
 },
 "nbformat": 4,
 "nbformat_minor": 1
}
