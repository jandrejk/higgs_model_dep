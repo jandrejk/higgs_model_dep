{
 "cells": [
  {
   "cell_type": "code",
   "execution_count": 1,
   "metadata": {
    "collapsed": true
   },
   "outputs": [],
   "source": [
    "import numpy as np\n",
    "import matplotlib.pyplot as plt\n",
    "import matplotlib.ticker as mtick\n",
    "#import random "
   ]
  },
  {
   "cell_type": "code",
   "execution_count": 26,
   "metadata": {
    "collapsed": true
   },
   "outputs": [],
   "source": [
    "def OrderPerCategory (array,n) :\n",
    "    re_ordered = np.array([])\n",
    "    for i in xrange(n) :\n",
    "        re_ordered = np.append(re_ordered,array[i::n]) \n",
    "    return re_ordered"
   ]
  },
  {
   "cell_type": "code",
   "execution_count": 27,
   "metadata": {
    "collapsed": true
   },
   "outputs": [],
   "source": [
    "a = np.arange(9)"
   ]
  },
  {
   "cell_type": "code",
   "execution_count": 28,
   "metadata": {
    "collapsed": false
   },
   "outputs": [
    {
     "name": "stdout",
     "output_type": "stream",
     "text": [
      "[ 0.  3.  6.  1.  4.  7.  2.  5.  8.]\n"
     ]
    }
   ],
   "source": [
    "print(OrderPerCategory(a,3))"
   ]
  },
  {
   "cell_type": "code",
   "execution_count": 9,
   "metadata": {
    "collapsed": false
   },
   "outputs": [
    {
     "data": {
      "text/plain": [
       "array([0, 3, 6])"
      ]
     },
     "execution_count": 9,
     "metadata": {},
     "output_type": "execute_result"
    }
   ],
   "source": [
    "a[0::3]"
   ]
  },
  {
   "cell_type": "code",
   "execution_count": 8,
   "metadata": {
    "collapsed": false
   },
   "outputs": [
    {
     "data": {
      "text/plain": [
       "array([1, 4, 7])"
      ]
     },
     "execution_count": 8,
     "metadata": {},
     "output_type": "execute_result"
    }
   ],
   "source": [
    "a[1::3]"
   ]
  },
  {
   "cell_type": "code",
   "execution_count": null,
   "metadata": {
    "collapsed": true
   },
   "outputs": [],
   "source": []
  },
  {
   "cell_type": "code",
   "execution_count": null,
   "metadata": {
    "collapsed": true
   },
   "outputs": [],
   "source": []
  },
  {
   "cell_type": "code",
   "execution_count": null,
   "metadata": {
    "collapsed": true
   },
   "outputs": [],
   "source": []
  },
  {
   "cell_type": "code",
   "execution_count": 2,
   "metadata": {
    "collapsed": true
   },
   "outputs": [],
   "source": [
    "def GetPoissonSample (N_samples,lam=None) :\n",
    "    if (lam == None) :\n",
    "        lam = N_samples\n",
    "    return np.random.poisson(lam=lam,size=N_samples)"
   ]
  },
  {
   "cell_type": "code",
   "execution_count": 3,
   "metadata": {
    "collapsed": true
   },
   "outputs": [],
   "source": [
    "def GetPlusMinus (N_samples, fraction=.6) :\n",
    "    N_pos = int(N_samples*fraction)\n",
    "    N_neg = N_samples - N_pos\n",
    "    \n",
    "    array = np.array(np.hstack((np.zeros(N_neg)-1,np.ones(N_pos))))\n",
    "    np.random.shuffle(array)\n",
    "\n",
    "    return array\n",
    "    \n"
   ]
  },
  {
   "cell_type": "code",
   "execution_count": 4,
   "metadata": {
    "collapsed": true
   },
   "outputs": [],
   "source": [
    "def GetGaussWeight (N_samples) :\n",
    "    abs_Gauss = abs(np.random.randn(N_samples)) \n",
    "    \n",
    "    return abs_Gauss * 10**(-5)"
   ]
  },
  {
   "cell_type": "code",
   "execution_count": 5,
   "metadata": {
    "collapsed": true
   },
   "outputs": [],
   "source": [
    "def Plot (histos, titles=None) :\n",
    "    N_hist = len(histos)\n",
    "    fig = plt.figure(figsize=(8,8))\n",
    "    \n",
    "    \n",
    "    fig = plt.figure()\n",
    "\n",
    "    for i in xrange(N_hist) :\n",
    "        plt.subplot('22'+str(i+1))\n",
    "        plt.hist(histos[i],bins=20)\n",
    "        if (titles != None) :\n",
    "            plt.title(titles[i])\n",
    "        if (i != 3) :\n",
    "            plt.ticklabel_format(style='sci', axis='x', scilimits=(0,0),useOffset=False)\n",
    "    plt.tight_layout()\n",
    "    plt.show()"
   ]
  },
  {
   "cell_type": "code",
   "execution_count": 20,
   "metadata": {
    "collapsed": false
   },
   "outputs": [],
   "source": [
    "N = 100\n",
    "x_axis = np.arange(N)\n",
    "Pois = GetPoissonSample(N)\n",
    "pm = GetPlusMinus(N,fraction=0.7)\n",
    "GaussWeights = GetGaussWeight(N)\n",
    "\n",
    "weights = np.multiply(pm,GaussWeights,)\n",
    "\n",
    "dist = np.multiply(Pois,weights)"
   ]
  },
  {
   "cell_type": "code",
   "execution_count": 21,
   "metadata": {
    "collapsed": false
   },
   "outputs": [
    {
     "data": {
      "text/plain": [
       "<matplotlib.figure.Figure at 0x7fa887bbd890>"
      ]
     },
     "metadata": {},
     "output_type": "display_data"
    },
    {
     "data": {
      "image/png": "[encoded data removed]",
      "text/plain": [
       "<matplotlib.figure.Figure at 0x7fa887bee7d0>"
      ]
     },
     "metadata": {},
     "output_type": "display_data"
    }
   ],
   "source": [
    "Plot([pm,GaussWeights,weights,Pois],['PlusMinus','GaussAbsWeights','weights','Poisson dist'])"
   ]
  },
  {
   "cell_type": "code",
   "execution_count": 22,
   "metadata": {
    "collapsed": false
   },
   "outputs": [
    {
     "data": {
      "text/plain": [
       "'\\ndef Experiment (N_entriesPerBin) :\\n    N = N_entriesPerBin\\n    \\n    Pois = GetPoissonSample(N)\\n    pm = GetPlusMinus(N)\\n    GaussWeights = GetGaussWeight(N)\\n    weights = np.multiply(pm,GaussWeights)\\n\\n    weighted_poisson_sum = np.dot(Pois,weights)\\n    weighted2_poisson_sum = np.dot(Pois,weights**2)\\n    return weighted_poisson_sum, weighted2_poisson_sum\\n'"
      ]
     },
     "execution_count": 22,
     "metadata": {},
     "output_type": "execute_result"
    }
   ],
   "source": [
    "\"\"\"\n",
    "def Experiment (N_entriesPerBin) :\n",
    "    N = N_entriesPerBin\n",
    "    \n",
    "    Pois = GetPoissonSample(N)\n",
    "    pm = GetPlusMinus(N)\n",
    "    GaussWeights = GetGaussWeight(N)\n",
    "    weights = np.multiply(pm,GaussWeights)\n",
    "\n",
    "    weighted_poisson_sum = np.dot(Pois,weights)\n",
    "    weighted2_poisson_sum = np.dot(Pois,weights**2)\n",
    "    return weighted_poisson_sum, weighted2_poisson_sum\n",
    "\"\"\""
   ]
  },
  {
   "cell_type": "code",
   "execution_count": 23,
   "metadata": {
    "collapsed": false
   },
   "outputs": [
    {
     "data": {
      "text/plain": [
       "\"\\n# start the toy experiment\\nN_experiments = 1000\\nN_ent = 100\\n\\nfor q in xrange(1) :\\n    out = []\\n    out_err = []\\n    for j in xrange(N_experiments) :\\n        a,b = Experiment(N_ent)\\n        out.append(a)\\n        out_err.append(b)\\n        \\n    print('mean ', np.mean(out))\\n    print('rms ', np.std(out,ddof=-1))\\n    print('mean error ', np.mean(out_err))\\n    print('--------------')\\n    plt.hist(out,bins=50,alpha=0.6)\\nplt.show()\""
      ]
     },
     "execution_count": 23,
     "metadata": {},
     "output_type": "execute_result"
    }
   ],
   "source": [
    "\"\"\"\n",
    "# start the toy experiment\n",
    "N_experiments = 1000\n",
    "N_ent = 100\n",
    "\n",
    "for q in xrange(1) :\n",
    "    out = []\n",
    "    out_err = []\n",
    "    for j in xrange(N_experiments) :\n",
    "        a,b = Experiment(N_ent)\n",
    "        out.append(a)\n",
    "        out_err.append(b)\n",
    "        \n",
    "    print('mean ', np.mean(out))\n",
    "    print('rms ', np.std(out,ddof=-1))\n",
    "    print('mean error ', np.mean(out_err))\n",
    "    print('--------------')\n",
    "    plt.hist(out,bins=50,alpha=0.6)\n",
    "plt.show()\"\"\""
   ]
  },
  {
   "cell_type": "code",
   "execution_count": 24,
   "metadata": {
    "collapsed": false
   },
   "outputs": [
    {
     "data": {
      "text/plain": [
       "array([109,  89, 119,  98,  92, 123, 110, 105,  95,  91])"
      ]
     },
     "execution_count": 24,
     "metadata": {},
     "output_type": "execute_result"
    }
   ],
   "source": [
    "GetPoissonSample(10,100)"
   ]
  },
  {
   "cell_type": "code",
   "execution_count": 80,
   "metadata": {
    "collapsed": false
   },
   "outputs": [
    {
     "data": {
      "text/plain": [
       "\"    plt.hist(a,bins=20)\\n    plt.ticklabel_format(style='sci', axis='x', scilimits=(0,0),useOffset=False)\\n    plt.show()\\n    print(out)\""
      ]
     },
     "execution_count": 80,
     "metadata": {},
     "output_type": "execute_result"
    }
   ],
   "source": [
    "N_experiments = 10000\n",
    "N_expect_perBin = 100\n",
    "\n",
    "poisson_array = GetPoissonSample(N_samples=N_experiments,\n",
    "                 lam=N_expect_perBin)\n",
    "out = []\n",
    "weights = []\n",
    "out_err = []\n",
    "for poiss in poisson_array :\n",
    "    epsilon = GetPlusMinus(N_samples=poiss,fraction=0.6)\n",
    "    eta = GetGaussWeight(N_samples=poiss)\n",
    "    #eta = np.ones(len(epsilon))\n",
    "    \n",
    "    a = np.multiply(epsilon,eta)\n",
    "    weights.append(a)\n",
    "    out.append(a.sum())\n",
    "    out_err.append(np.dot(a,a))\n",
    "\n",
    "\"\"\"    plt.hist(a,bins=20)\n",
    "    plt.ticklabel_format(style='sci', axis='x', scilimits=(0,0),useOffset=False)\n",
    "    plt.show()\n",
    "    print(out)\"\"\""
   ]
  },
  {
   "cell_type": "code",
   "execution_count": 81,
   "metadata": {
    "collapsed": false
   },
   "outputs": [
    {
     "data": {
      "image/png": "[encoded data removed]",
      "text/plain": [
       "<matplotlib.figure.Figure at 0x7fa882431bd0>"
      ]
     },
     "metadata": {},
     "output_type": "display_data"
    },
    {
     "data": {
      "image/png": "[encoded data removed]",
      "text/plain": [
       "<matplotlib.figure.Figure at 0x7fa880b42210>"
      ]
     },
     "metadata": {},
     "output_type": "display_data"
    },
    {
     "name": "stdout",
     "output_type": "stream",
     "text": [
      "0.00015314242048\n",
      "6.24460959955e-05\n"
     ]
    }
   ],
   "source": [
    "plt.hist(out,bins=int(N_experiments/14))\n",
    "plt.ticklabel_format(style='sci', axis='x', scilimits=(0,0),useOffset=False)\n",
    "plt.show()\n",
    "\n",
    "plt.hist(out_err,bins=int(N_experiments/14))\n",
    "plt.ticklabel_format(style='sci', axis='x', scilimits=(0,0),useOffset=False)\n",
    "plt.show()\n",
    "\n",
    "\"\"\"plt.hist(a,bins=20)\n",
    "plt.ticklabel_format(style='sci', axis='x', scilimits=(0,0),useOffset=False)\n",
    "plt.show()\n",
    "\"\"\"\n",
    "\n",
    "print(np.mean(out))\n",
    "print(np.std(out,ddof=-1))\n",
    "\n",
    "#print(np.sqrt(out_err))\n",
    "\n",
    "#q = 6.77877198249e-05\n",
    "#print(q)"
   ]
  },
  {
   "cell_type": "code",
   "execution_count": null,
   "metadata": {
    "collapsed": true
   },
   "outputs": [],
   "source": []
  },
  {
   "cell_type": "code",
   "execution_count": null,
   "metadata": {
    "collapsed": true
   },
   "outputs": [],
   "source": []
  },
  {
   "cell_type": "code",
   "execution_count": null,
   "metadata": {
    "collapsed": true
   },
   "outputs": [],
   "source": []
  },
  {
   "cell_type": "code",
   "execution_count": null,
   "metadata": {
    "collapsed": true
   },
   "outputs": [],
   "source": []
  },
  {
   "cell_type": "code",
   "execution_count": null,
   "metadata": {
    "collapsed": true
   },
   "outputs": [],
   "source": []
  },
  {
   "cell_type": "code",
   "execution_count": null,
   "metadata": {
    "collapsed": true
   },
   "outputs": [],
   "source": []
  },
  {
   "cell_type": "code",
   "execution_count": 7,
   "metadata": {
    "collapsed": false
   },
   "outputs": [],
   "source": [
    "from ipywidgets import interact, fixed, interactive, widgets, interact_manual\n",
    "from IPython.display import display, clear_output\n",
    "\n",
    "import matplotlib.pyplot as plt\n",
    "plt.style.use('seaborn-poster')\n",
    "%matplotlib inline\n",
    "\n",
    "import effPlotwidget as effplt\n",
    "reload(effplt)\n",
    "effplt.defaultWidgets()\n",
    "\n",
    "import plotting as plotting\n",
    "\n",
    "import util as ut"
   ]
  },
  {
   "cell_type": "code",
   "execution_count": 8,
   "metadata": {
    "collapsed": false
   },
   "outputs": [
    {
     "name": "stdout",
     "output_type": "stream",
     "text": [
      "entered config files named my_train_config\n",
      "hi\n",
      "None\n",
      "Load object with the name 3clfs and the following paramters \n",
      "loading\n",
      "3clfs\n",
      "./classifiers\n",
      "./classifiers\n",
      "./classifiers/3clfs.pkl.gz\n",
      "loading pickle ./classifiers/3clfs.pkl.gz\n",
      "loading data ./classifiers/3clfs.root\n",
      "<train.EfficiencyFitter object at 0x7f92a4560f50>\n",
      "Index([u'absweight', u'class', u'genJet2p5Pt0', u'genJet2p5Pt1',\n",
      "       u'genJet2p5Pt2', u'genJet2p5Pt3', u'genJet2p5Rapidity0',\n",
      "       u'genJet2p5Rapidity1', u'genJet2p5Rapidity2', u'genJet2p5Rapidity3',\n",
      "       u'genNjets2p5', u'genPt', u'genRapidity', u'recoNjets2p5', u'recoPt',\n",
      "       u'recoRapidity', u'weight', u'proc', u'absGenRapidity',\n",
      "       u'absGenJet2p5Rapidity0', u'absGenJet2p5Rapidity1',\n",
      "       u'absGenJet2p5Rapidity2', u'absGenJet2p5Rapidity3', u'recoPtBin',\n",
      "       u'recoPtCat', u'recoNjets2p5Bin', u'recoNjets2p5Cat', u'class_prob_0',\n",
      "       u'class_prob_1', u'class_prob_2', u'class_prob_3', u'recoPtCat_prob_0',\n",
      "       u'recoPtCat_prob_1', u'recoPtCat_prob_2', u'recoPtCat_prob_3',\n",
      "       u'recoPtCat_prob_4', u'recoPtCat_prob_5', u'recoPtCat_prob_6',\n",
      "       u'recoPtCat_prob_7', u'recoPtCat_prob_8', u'recoPtCat_prob_9',\n",
      "       u'recoPtCat_prob_10', u'recoPtCat_prob_11', u'recoPtCat_prob_12',\n",
      "       u'recoPtCat_prob_13', u'recoPtCat_prob_14', u'recoPtCat_prob_15',\n",
      "       u'recoPtCat_prob_16', u'recoPtCat_prob_17', u'recoPtCat_prob_18',\n",
      "       u'recoPtCat_prob_19', u'recoPtCat_prob_20', u'recoPtCat_prob_21',\n",
      "       u'recoPtCat_prob_22', u'recoPtCat_prob_23', u'recoPtCat_prob_24',\n",
      "       u'recoNjets2p5Cat_prob_0', u'recoNjets2p5Cat_prob_1',\n",
      "       u'recoNjets2p5Cat_prob_2', u'recoNjets2p5Cat_prob_3',\n",
      "       u'recoNjets2p5Cat_prob_4', u'recoNjets2p5Cat_prob_5',\n",
      "       u'recoNjets2p5Cat_prob_6', u'recoNjets2p5Cat_prob_7',\n",
      "       u'recoNjets2p5Cat_prob_8', u'recoNjets2p5Cat_prob_9',\n",
      "       u'recoNjets2p5Cat_prob_10', u'recoNjets2p5Cat_prob_11',\n",
      "       u'recoNjets2p5Cat_prob_12', u'recoNjets2p5Cat_prob_13',\n",
      "       u'recoNjets2p5Cat_prob_14', u'recoNjets2p5Cat_prob_15'],\n",
      "      dtype='object')\n",
      "{'class': GradientBoostingClassifier(criterion='friedman_mse', init=None,\n",
      "              learning_rate=0.2, loss='deviance', max_depth=5,\n",
      "              max_features=None, max_leaf_nodes=None,\n",
      "              min_impurity_split=1e-07, min_samples_leaf=1,\n",
      "              min_samples_split=2, min_weight_fraction_leaf=0.001,\n",
      "              n_estimators=200, presort='auto', random_state=None,\n",
      "              subsample=1.0, verbose=0, warm_start=False),\n",
      " 'recoNjets2p5': XGBClassifier(base_score=0.5, colsample_bylevel=1, colsample_bytree=1,\n",
      "       gamma=0, learning_rate=0.1, max_delta_step=0, max_depth=7,\n",
      "       min_child_weight=1e-05, missing=nan, n_estimators=500, nthread=16,\n",
      "       objective='multi:softprob', reg_alpha=0, reg_lambda=1,\n",
      "       scale_pos_weight=1, seed=0, silent=True, subsample=1),\n",
      " 'recoPt': XGBClassifier(base_score=0.5, colsample_bylevel=1, colsample_bytree=1,\n",
      "       gamma=0, learning_rate=0.1, max_delta_step=0, max_depth=5,\n",
      "       min_child_weight=1e-05, missing=nan, n_estimators=500, nthread=16,\n",
      "       objective='multi:softprob', reg_alpha=0, reg_lambda=1,\n",
      "       scale_pos_weight=1, seed=0, silent=True, subsample=1)}\n",
      "('onDisk.genBranches', ['genPt', 'genRapidity', 'genJet2p5Pt0', 'genJet2p5Rapidity0', 'genJet2p5Pt1', 'genJet2p5Rapidity1', 'genJet2p5Pt2', 'genJet2p5Rapidity2', 'genJet2p5Pt3', 'genJet2p5Rapidity3', 'weight', 'genNjets2p5'])\n",
      "('params[\"genBranches\"]', ['genPt', 'genRapidity', 'genJet2p5Pt0', 'genJet2p5Rapidity0', 'genJet2p5Pt1', 'genJet2p5Rapidity1', 'genJet2p5Pt2', 'genJet2p5Rapidity2', 'genJet2p5Pt3', 'genJet2p5Rapidity3', 'weight', 'genNjets2p5', 'puweight'])\n",
      "('onDisk.recoBranches', ['recoPt', 'recoRapidity', 'recoNjets2p5'])\n",
      "('params[\"recoBranches\"]', ['recoPt', 'recoRapidity', 'recoNjets2p5'])\n",
      "The number of selected events are 1389404\n",
      "shuffling dataset\n",
      "defining bins\n",
      "Done loading\n"
     ]
    },
    {
     "data": {
      "text/plain": [
       "<train.EfficiencyFitter at 0x7f92a4560f50>"
      ]
     },
     "metadata": {},
     "output_type": "display_data"
    }
   ],
   "source": [
    "genb = None \n",
    "\n",
    "\n",
    "genb = [\"genPt\",\"genRapidity\",\n",
    "                             \"genJet2p5Pt0\",\"genJet2p5Rapidity0\",\n",
    "                             \"genJet2p5Pt1\",\"genJet2p5Rapidity1\",\n",
    "                             \"genJet2p5Pt2\",\"genJet2p5Rapidity2\",\n",
    "                             \"genJet2p5Pt3\",\"genJet2p5Rapidity3\",\n",
    "                             #\"genJet2p5Pt4\",\"genJet2p5Rapidity4\",\n",
    "                             \"weight\",\n",
    "                             \"genNjets2p5\",\n",
    "                            'puweight',\n",
    "                             #'genLeadGenIso', 'genSubleadGenIso',\n",
    "                             #'genLeadEta', 'genSubleadEta'\n",
    "              ]\n",
    "\n",
    "w = interactive(effplt.GetDictionary,inputDir=effplt.widgetparams['w_inputDir'])\n",
    "display(w)\n",
    "#extract the dictionary with the classifier names found in the\n",
    "#given directory plus the directory name\n",
    "class_dict = w.result[0]\n",
    "inDir = w.result[1]\n",
    "\n",
    "fitterObject = interactive(effplt.GetFitter,\n",
    "                           inputName=class_dict,\n",
    "                            dataDir =effplt.widgetparams['w_dataDir'],\n",
    "                            inputDir=fixed(inDir),\n",
    "                            load = effplt.widgetparams['w_Load'],\n",
    "                            genBranch_params = fixed(genb)\n",
    "                          )\n",
    "\n",
    "display(fitterObject)"
   ]
  },
  {
   "cell_type": "code",
   "execution_count": 3,
   "metadata": {
    "collapsed": false
   },
   "outputs": [],
   "source": [
    "x_var = 'genPt'\n",
    "y_var = 'absGenRapidity'\n",
    "effFitter = fitterObject.result\n",
    "bins_dict = { 'genPt'        : dict(boundaries=[0.,15.,30.,45.,85.,125.,200.,350.]), \n",
    "            'absGenRapidity' : dict(boundaries=[0.,0.05,0.1,0.15,0.2,0.5,0.75,1.,1.5,2.,2.5]),\n",
    "             #'genLeadGenIso' : dict(boundaries=[0.,0.1,0.3,0.5,1.,2.,3.,5.,7.]),\n",
    "             #'genSubleadGenIso' : dict(boundaries=[0.,0.1,0.3,0.5,1.,2.,3.,5.,7.])\n",
    "                 \n",
    "             }\n",
    "ut.runDefineBins(effFitter,bins_dict)\n",
    "\n",
    "df = fitterObject.result.df\n",
    "\n",
    "df['MCweight'] = df['weight'] / df['puweight']\n",
    "\n",
    "first_train_evt = int(round(df.index.size*(1.-fitterObject.result.split_frac)))\n",
    "#take the test sample \n",
    "df_test = df[:first_train_evt]"
   ]
  },
  {
   "cell_type": "code",
   "execution_count": 4,
   "metadata": {
    "collapsed": false
   },
   "outputs": [],
   "source": [
    "def GetProdProcName (n) :\n",
    "    if (n==0) :\n",
    "        return 'ggF'\n",
    "    if (n==1) :\n",
    "        return 'ttH'\n",
    "    if (n==2) :\n",
    "        return 'VBF'\n",
    "    if (n==3) :\n",
    "        return 'VH'\n",
    "\n",
    "def freq (df_name, column_name, equal_to, weight_name, err=False) :\n",
    "    #----------------------------------------------------------------------------\n",
    "\n",
    "    df = df_name#[df_name[column_name]==equal_to]\n",
    "\n",
    "    #w_all = df[weight_name].sum()\n",
    "    w_PartPhaseSpace = df[df[column_name] == equal_to][weight_name].sum()\n",
    "     \n",
    "    N_w_pos = len(df[ (df[weight_name] >= 0) ][weight_name])\n",
    "    N_w_neg = len(df[ (df[weight_name] <  0) ][weight_name])\n",
    "    \n",
    "    #ratio = w_PartPhaseSpace / w_all\n",
    "    if (N_w_neg > N_w_pos) :\n",
    "        print('negative weight dominated')\n",
    "        print('pos weights', N_w_pos)\n",
    "        print('neg weights', N_w_neg)\n",
    "    if (w_PartPhaseSpace < 0) :\n",
    "        print('negative sum of weights')\n",
    "    return w_PartPhaseSpace\n",
    "    #----------------------------------------------------------------------------    "
   ]
  },
  {
   "cell_type": "code",
   "execution_count": 6,
   "metadata": {
    "collapsed": false
   },
   "outputs": [
    {
     "name": "stdout",
     "output_type": "stream",
     "text": [
      "number of weights in the process ggF: 347351\n",
      "minumum is: -0.00044761\n",
      "maximum is: 0.000446686\n",
      "Number of positive weights is: 249083\n",
      "Number of negative weights is: 98268\n",
      "('fraction of positive weights', 0.7170930845168144)\n",
      "('closure: ', 347351, 347351)\n",
      "-------------------------\n",
      "number of weights in the process ttH: 0\n",
      "minumum is: nan\n",
      "maximum is: nan\n",
      "Number of positive weights is: 0\n",
      "Number of negative weights is: 0\n"
     ]
    },
    {
     "ename": "ZeroDivisionError",
     "evalue": "float division by zero",
     "output_type": "error",
     "traceback": [
      "\u001b[0;31m\u001b[0m",
      "\u001b[0;31mZeroDivisionError\u001b[0mTraceback (most recent call last)",
      "\u001b[0;32m<ipython-input-6-780a4cb2067b>\u001b[0m in \u001b[0;36m<module>\u001b[0;34m()\u001b[0m\n\u001b[1;32m     11\u001b[0m     \u001b[0;32mprint\u001b[0m \u001b[0;34m(\u001b[0m\u001b[0;34m'Number of positive weights is: '\u001b[0m \u001b[0;34m+\u001b[0m \u001b[0mstr\u001b[0m\u001b[0;34m(\u001b[0m\u001b[0mN_w_pos\u001b[0m\u001b[0;34m)\u001b[0m\u001b[0;34m)\u001b[0m\u001b[0;34m\u001b[0m\u001b[0m\n\u001b[1;32m     12\u001b[0m     \u001b[0;32mprint\u001b[0m \u001b[0;34m(\u001b[0m\u001b[0;34m'Number of negative weights is: '\u001b[0m \u001b[0;34m+\u001b[0m \u001b[0mstr\u001b[0m\u001b[0;34m(\u001b[0m\u001b[0mN_w_neg\u001b[0m\u001b[0;34m)\u001b[0m\u001b[0;34m)\u001b[0m\u001b[0;34m\u001b[0m\u001b[0m\n\u001b[0;32m---> 13\u001b[0;31m     \u001b[0;32mprint\u001b[0m \u001b[0;34m(\u001b[0m\u001b[0;34m'fraction of positive weights'\u001b[0m\u001b[0;34m,\u001b[0m \u001b[0;34m(\u001b[0m\u001b[0;36m1.\u001b[0m\u001b[0;34m*\u001b[0m\u001b[0mN_w_pos\u001b[0m\u001b[0;34m/\u001b[0m\u001b[0mN_w\u001b[0m\u001b[0;34m)\u001b[0m\u001b[0;34m)\u001b[0m\u001b[0;34m\u001b[0m\u001b[0m\n\u001b[0m\u001b[1;32m     14\u001b[0m     \u001b[0;32mprint\u001b[0m \u001b[0;34m(\u001b[0m\u001b[0;34m'closure: '\u001b[0m\u001b[0;34m,\u001b[0m \u001b[0mN_w_pos\u001b[0m\u001b[0;34m+\u001b[0m\u001b[0mN_w_neg\u001b[0m\u001b[0;34m,\u001b[0m \u001b[0mN_w\u001b[0m\u001b[0;34m)\u001b[0m\u001b[0;34m\u001b[0m\u001b[0m\n\u001b[1;32m     15\u001b[0m     \u001b[0mgb_freq\u001b[0m \u001b[0;34m=\u001b[0m \u001b[0mdf_test\u001b[0m\u001b[0;34m.\u001b[0m\u001b[0mgroupby\u001b[0m\u001b[0;34m(\u001b[0m\u001b[0;34m[\u001b[0m\u001b[0mx_var\u001b[0m\u001b[0;34m+\u001b[0m\u001b[0;34m'Bin'\u001b[0m\u001b[0;34m,\u001b[0m\u001b[0my_var\u001b[0m\u001b[0;34m+\u001b[0m\u001b[0;34m'Bin'\u001b[0m\u001b[0;34m]\u001b[0m\u001b[0;34m)\u001b[0m\u001b[0;34m.\u001b[0m\u001b[0mapply\u001b[0m\u001b[0;34m(\u001b[0m\u001b[0mfreq\u001b[0m\u001b[0;34m,\u001b[0m\u001b[0;34m\"class\"\u001b[0m\u001b[0;34m,\u001b[0m\u001b[0;34m(\u001b[0m\u001b[0mprodmech\u001b[0m\u001b[0;34m-\u001b[0m\u001b[0;36m1\u001b[0m\u001b[0;34m)\u001b[0m\u001b[0;34m,\u001b[0m\u001b[0;34m'weight'\u001b[0m\u001b[0;34m,\u001b[0m\u001b[0merr\u001b[0m\u001b[0;34m=\u001b[0m\u001b[0mFalse\u001b[0m\u001b[0;34m)\u001b[0m\u001b[0;34m\u001b[0m\u001b[0m\n",
      "\u001b[0;31mZeroDivisionError\u001b[0m: float division by zero"
     ]
    }
   ],
   "source": [
    "import numpy as np\n",
    "colors = ['green','red','cyan']\n",
    "for prodmech in np.arange(0,4,1) :\n",
    "    N_w = len(df_test[df_test['proc']==prodmech]['weight'])\n",
    "    print('number of weights in the process '+ GetProdProcName(prodmech) + ': ' +\n",
    "          str(N_w))\n",
    "    print ('minumum is: ' + str(df_test[df_test['proc']==prodmech]['weight'].min()))\n",
    "    print ('maximum is: ' + str(df_test[df_test['proc']==prodmech]['weight'].max()))\n",
    "    N_w_pos = len(df_test[(df_test['proc']==prodmech) & (df_test['weight'] >= 0) ]['weight'])\n",
    "    N_w_neg = len(df_test[(df_test['proc']==prodmech) & (df_test['weight'] < 0) ]['weight'])\n",
    "    print ('Number of positive weights is: ' + str(N_w_pos))\n",
    "    print ('Number of negative weights is: ' + str(N_w_neg))\n",
    "    print ('fraction of positive weights', (1.*N_w_pos/N_w))\n",
    "    print ('closure: ', N_w_pos+N_w_neg, N_w)\n",
    "    gb_freq = df_test.groupby([x_var+'Bin',y_var+'Bin']).apply(freq,\"class\",(prodmech-1),'weight',err=False)\n",
    "    for q in gb_freq :\n",
    "        if (q < 0) :\n",
    "            print(gb_freq[gb_freq==q])\n",
    "    print ('-------------------------')\n",
    "    \n",
    "    #plt.hist(df_test[df_test['proc']==prodmech]['weight'],bins=100,label=GetProdProcName(prodmech),range=[-4e-5,4e-5]\n",
    "    #        ,alpha=.5,color=colors[prodmech-1])\n",
    "    #plt.ticklabel_format(style='sci', axis='x', scilimits=(0,0))\n",
    "#plt.legend(loc='best')\n",
    "#plt.show()"
   ]
  },
  {
   "cell_type": "code",
   "execution_count": 27,
   "metadata": {
    "collapsed": false
   },
   "outputs": [
    {
     "data": {
      "image/png": "[encoded data removed]",
      "text/plain": [
       "<matplotlib.figure.Figure at 0x7f5e5cf9cd90>"
      ]
     },
     "metadata": {},
     "output_type": "display_data"
    },
    {
     "name": "stderr",
     "output_type": "stream",
     "text": [
      "\r\n",
      "tab completion not implemented for this context\r\n"
     ]
    }
   ],
   "source": [
    "plt.hist(df_test['MCweight'],bins=100)\n",
    "plt.show()"
   ]
  },
  {
   "cell_type": "markdown",
   "metadata": {
    "collapsed": true
   },
   "source": [
    "about the skellam distribution"
   ]
  },
  {
   "cell_type": "code",
   "execution_count": 4,
   "metadata": {
    "collapsed": false
   },
   "outputs": [
    {
     "name": "stdout",
     "output_type": "stream",
     "text": [
      "4.0\n",
      "6.0\n",
      "0.272165526976\n",
      "0.166666666667\n"
     ]
    },
    {
     "data": {
      "image/png": "[encoded data removed]",
      "text/plain": [
       "<matplotlib.figure.Figure at 0x7fa1f959ff10>"
      ]
     },
     "metadata": {},
     "output_type": "display_data"
    }
   ],
   "source": [
    "from scipy.stats import skellam\n",
    "import matplotlib.pyplot as plt\n",
    "import numpy as np\n",
    "\n",
    "\n",
    "fig, ax = plt.subplots(1, 1)\n",
    "\n",
    "#mu1, mu2 = 14430, 7793\n",
    "mu1, mu2 = 5, 1\n",
    "\n",
    "mean, var, skew, kurt = skellam.stats(mu1, mu2, moments='mvsk')\n",
    "\n",
    "print(mean)\n",
    "print(var)\n",
    "print(skew)\n",
    "print(kurt)\n",
    "\n",
    "x = np.arange(skellam.ppf(0.01, mu1, mu2),\n",
    "              skellam.ppf(0.99, mu1, mu2))\n",
    "\n",
    "#print(skellam.pmf(x, mu1, mu2))\n",
    "#print(x)\n",
    "ax.plot(x, skellam.pmf(x, mu1, mu2), 'b.', ms=8, label='skellam pmf')\n",
    "\n",
    "\n",
    "ax.plot(x,1./np.sqrt(2.*np.pi*var)*np.exp(-(x-mean)**2/(2*var)),'r-',\n",
    "        label='Gauss')\n",
    "#ax.vlines(x, 0, skellam.pmf(x, mu1, mu2), colors='b', lw=5, alpha=0.5)\n",
    "\n",
    "rv = skellam(mu1, mu2)\n",
    "#ax.vlines(x, 0, rv.pmf(x), colors='k', linestyles='-', lw=1,\n",
    "#        label='frozen pmf')\n",
    "ax.legend(loc='best', frameon=False)\n",
    "plt.show()"
   ]
  },
  {
   "cell_type": "code",
   "execution_count": null,
   "metadata": {
    "collapsed": true
   },
   "outputs": [],
   "source": []
  }
 ],
 "metadata": {
  "anaconda-cloud": {},
  "kernelspec": {
   "display_name": "Python [default]",
   "language": "python",
   "name": "python2"
  },
  "language_info": {
   "codemirror_mode": {
    "name": "ipython",
    "version": 2
   },
   "file_extension": ".py",
   "mimetype": "text/x-python",
   "name": "python",
   "nbconvert_exporter": "python",
   "pygments_lexer": "ipython2",
   "version": "2.7.12"
  }
 },
 "nbformat": 4,
 "nbformat_minor": 1
}
