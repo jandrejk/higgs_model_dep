{
 "cells": [
  {
   "cell_type": "code",
   "execution_count": 1,
   "metadata": {
    "collapsed": true
   },
   "outputs": [],
   "source": [
    "from ipywidgets import interact, fixed, interactive, widgets, interact_manual, Layout\n",
    "from IPython.display import display, clear_output, HTML\n",
    "from collections import OrderedDict\n"
   ]
  },
  {
   "cell_type": "code",
   "execution_count": 34,
   "metadata": {
    "collapsed": false
   },
   "outputs": [],
   "source": [
    "widgetparams={}\n",
    "def defaultWidgets (**kwargs) :\n",
    "    \n",
    "    #++++++++++++++++++++++++++++++++++++++++++++++++++++++++++++++++++++++++++++++++++\n",
    "    proj_vars = ['absGenJet2p5Rapidity0','absGenJet2p5Rapidity1','absGenJet2p5Rapidity2',\n",
    "    'absGenJet2p5Rapidity3','absGenRapidity','genJet2p5Pt0','genJet2p5Pt1','genJet2p5Pt2',\n",
    "             'genJet2p5Pt3','genPt']\n",
    "    proj_keys = ['|y| leading jet','|y| subleading jet','|y| 3rd leading jet','|y| 4th leading jet','|y| di-photon',\n",
    "            'pt leading jet','pt subleading jet','pt 3rd leading jet','pt 4th leading jet','pt di-photon']\n",
    "\n",
    "    proj_var_dict = OrderedDict(zip(proj_keys,proj_vars))\n",
    "    #++++++++++++++++++++++++++++++++++++++++++++++++++++++++++++++++++++++++++++++++++\n",
    "\n",
    "    widgetparams['w_inputDir'] = widgets.Text(\n",
    "        value='./classifiers',\n",
    "        placeholder='directory to the classifiers',\n",
    "        description='inputDir:',\n",
    "        disabled=False,\n",
    "        )\n",
    "\n",
    "    widgetparams['w_dataDir'] = widgets.Text(\n",
    "        value='./data',\n",
    "        placeholder='directory to data files',\n",
    "        description='dataDir:',\n",
    "        disabled=False\n",
    "        )\n",
    "\n",
    "    #widgetparams['w_inputName'] = widgets.Dropdown(\n",
    "    #    description='Classifier:',\n",
    "    #    options=class_dict,\n",
    "    #   )\n",
    "\n",
    "    widgetparams['w_Load'] = widgets.Checkbox(\n",
    "        value=False,\n",
    "        description='Load classifier',\n",
    "        disabled=False\n",
    "        )\n",
    "\n",
    "    widgetparams['w_varName_x'] = widgets.Dropdown(\n",
    "        options=proj_var_dict,\n",
    "        description='x-axis:'\n",
    "        )\n",
    "\n",
    "    widgetparams['w_varName_y'] = widgets.Dropdown(\n",
    "        options=proj_var_dict,\n",
    "        description='y-axis:',\n",
    "        )\n",
    "\n",
    "    widgetparams['w_mres_cat'] = widgets.ToggleButtons(\n",
    "        options={'bad':0, 'medium':1, 'good':2},\n",
    "        description='Di-photon mass resolution:',\n",
    "        disabled=False,\n",
    "        button_style='', # 'success', 'info', 'warning', 'danger' or ''\n",
    "        tooltip='Description',\n",
    "        )\n",
    "\n",
    "    widgetparams['w_noJets'] = widgets.SelectionSlider(\n",
    "        options=OrderedDict(zip(['0','1','2','3','>3'],[0,1,2,3,4])),\n",
    "        description='Number of jets:',\n",
    "        )\n",
    "\n",
    "    widgetparams['w_detector_eff'] = widgets.Checkbox(\n",
    "        value=False,\n",
    "        description='detector efficiency',\n",
    "        disabled=False\n",
    "        )\n",
    "\n",
    "    widgetparams['w_pt_boundaries'] = widgets.FloatRangeSlider(\n",
    "        value=[20., 250.],\n",
    "        min=0.,\n",
    "        max=300.0,\n",
    "        step=10,\n",
    "        description='pt range [GeV]:',\n",
    "        disabled=False,\n",
    "        layout = Layout(width='50%'),\n",
    "        continuous_update=False,\n",
    "        orientation='horizontal',\n",
    "        readout=True,\n",
    "        readout_format='i',\n",
    "        slider_color='white',\n",
    "        color='blue'\n",
    "    )\n",
    "\n",
    "    widgetparams['w_Rapidity_boundaries'] = widgets.FloatRangeSlider(\n",
    "        value=[0., 2.],\n",
    "        min=0.,\n",
    "        max=2.6,\n",
    "        step=0.1,\n",
    "        description='Rapidity range:',\n",
    "        layout = Layout(width='50%'),\n",
    "        disabled=False,\n",
    "        continuous_update=False,\n",
    "        orientation='horizontal',\n",
    "        readout=True,\n",
    "        readout_format='i',\n",
    "        slider_color='white',\n",
    "        color='blue'\n",
    "    )\n",
    "\n",
    "    widgetparams['w_Npt_bins'] = widgets.BoundedIntText(\n",
    "        value=7,\n",
    "        min=1,\n",
    "        max=10,\n",
    "        step=1,\n",
    "        description='Number of pt bins:',\n",
    "        disabled=False\n",
    "    )\n",
    "\n",
    "    widgetparams['w_NRapidity_bins'] = widgets.BoundedIntText(\n",
    "        value=7,\n",
    "        min=1,\n",
    "        max=10,\n",
    "        step=1,\n",
    "        description='Number of Rapidity bins:',\n",
    "        disabled=False\n",
    "    )\n",
    "\n",
    "    widgetparams['w_includeOverflowPt'] = widgets.Checkbox(\n",
    "        value=False,\n",
    "        description='include overflow',\n",
    "        disabled=False\n",
    "    )\n",
    "\n",
    "    widgetparams['w_includeOverflowRapidity'] = widgets.Checkbox(\n",
    "        value=False,\n",
    "        description='include overflow',\n",
    "        disabled=False\n",
    "    )\n",
    "    \n",
    "    widgetparams['w_StartPlot'] = widgets.ToggleButton(\n",
    "    value=False,\n",
    "    description='Make Plot',\n",
    "    disabled=False,\n",
    "    button_style='', # 'success', 'info', 'warning', 'danger' or ''\n",
    "    )\n",
    "    \n",
    "    widgetparams['w_prodProc'] = widgets.SelectMultiple(\n",
    "    options={'ggF':0,'ttH':1,'VBF':2,'VH':3},\n",
    "    #value=['ggF','ttH','VBF','VH'],\n",
    "    description='production process',\n",
    "    disabled=False\n",
    ")\n",
    "\n",
    "    display(HTML('''<style>\n",
    "    .widget-label { min-width: 20ex !important; }\n",
    "</style>'''))\n"
   ]
  },
  {
   "cell_type": "code",
   "execution_count": 35,
   "metadata": {
    "collapsed": false
   },
   "outputs": [
    {
     "data": {
      "text/html": [
       "<style>\n",
       "    .widget-label { min-width: 20ex !important; }\n",
       "</style>"
      ],
      "text/plain": [
       "<IPython.core.display.HTML object>"
      ]
     },
     "metadata": {},
     "output_type": "display_data"
    }
   ],
   "source": [
    "defaultWidgets()"
   ]
  },
  {
   "cell_type": "code",
   "execution_count": 20,
   "metadata": {
    "collapsed": false
   },
   "outputs": [],
   "source": [
    "container0 = widgets.Box()\n",
    "container0.children = [widgetparams['w_StartPlot']]\n",
    "\n",
    "\n",
    "container1 = widgets.Box()\n",
    "container1.children = [widgetparams['w_pt_boundaries'],widgetparams['w_Npt_bins'], widgetparams['w_includeOverflowPt']]\n",
    "\n",
    "container2 = widgets.Box()\n",
    "container2.children = [widgetparams['w_Rapidity_boundaries'],widgetparams['w_NRapidity_bins'], \n",
    "                       widgetparams['w_includeOverflowRapidity']]\n",
    "\n",
    "container3 = widgets.Box()\n",
    "container3.children = [widgetparams['w_varName_x'],widgetparams['w_varName_y'], \n",
    "                       widgetparams['w_mres_cat'], widgetparams['w_detector_eff']]\n",
    "\n",
    "\n",
    "tabs = widgets.Tab()\n",
    "tabs.children = [container0,container1,container2,container3]\n",
    "\n",
    "\n",
    "tabs.set_title(0, \"PLOT\")\n",
    "tabs.set_title(1, \"pt settings\")\n",
    "tabs.set_title(2, \"Rapidity settings\")\n",
    "tabs.set_title(3, \"Projection settings\")\n",
    "\n",
    "#tabs"
   ]
  },
  {
   "cell_type": "code",
   "execution_count": 21,
   "metadata": {
    "collapsed": true
   },
   "outputs": [],
   "source": [
    "def f(b,x, y) :\n",
    "    if b :\n",
    "        print('plot')\n",
    "        print(b)\n",
    "        widgetparams['w_StartPlot'].value = False\n",
    "    print(b)\n",
    "    #widgetparams['w_StartPlot'].value = False\n",
    "        "
   ]
  },
  {
   "cell_type": "code",
   "execution_count": 22,
   "metadata": {
    "collapsed": false
   },
   "outputs": [],
   "source": [
    "g = interactive(f,b=widgetparams['w_StartPlot'], x=widgetparams['w_pt_boundaries'],y=widgetparams['w_Rapidity_boundaries'])\n",
    "display(tabs)"
   ]
  },
  {
   "cell_type": "code",
   "execution_count": 37,
   "metadata": {
    "collapsed": true
   },
   "outputs": [],
   "source": [
    "def f (q) :\n",
    "    print q"
   ]
  },
  {
   "cell_type": "code",
   "execution_count": 38,
   "metadata": {
    "collapsed": false
   },
   "outputs": [
    {
     "name": "stdout",
     "output_type": "stream",
     "text": [
      "(3, 1, 0, 2)\n"
     ]
    }
   ],
   "source": [
    "interact_manual(f,q=widgetparams['w_prodProc'])"
   ]
  },
  {
   "cell_type": "code",
   "execution_count": null,
   "metadata": {
    "collapsed": true
   },
   "outputs": [],
   "source": []
  }
 ],
 "metadata": {
  "anaconda-cloud": {},
  "kernelspec": {
   "display_name": "Python [default]",
   "language": "python",
   "name": "python2"
  },
  "language_info": {
   "codemirror_mode": {
    "name": "ipython",
    "version": 2
   },
   "file_extension": ".py",
   "mimetype": "text/x-python",
   "name": "python",
   "nbconvert_exporter": "python",
   "pygments_lexer": "ipython2",
   "version": "2.7.12"
  },
  "widgets": {
   "state": {
    "16e98b5a9fe549a1844a94eddf1d7314": {
     "views": [
      {
       "cell_index": 7
      }
     ]
    },
    "5144f8c44c2347fd87795ce626f52b9e": {
     "views": [
      {
       "cell_index": 5
      }
     ]
    },
    "f14ab3962dff46c691205ac4d5c7d6bd": {
     "views": [
      {
       "cell_index": 5
      },
      {
       "cell_index": 5
      }
     ]
    },
    "f3c88b08696a444a8262726341c52606": {
     "views": [
      {
       "cell_index": 5
      },
      {
       "cell_index": 5
      },
      {
       "cell_index": 5
      }
     ]
    }
   },
   "version": "1.2.0"
  }
 },
 "nbformat": 4,
 "nbformat_minor": 1
}
