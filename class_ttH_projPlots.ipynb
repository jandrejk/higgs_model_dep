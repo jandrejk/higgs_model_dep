{
 "cells": [
  {
   "cell_type": "code",
   "execution_count": 1,
   "metadata": {
    "collapsed": false
   },
   "outputs": [
    {
     "data": {
      "application/javascript": [
       "require(['codemirror/mode/clike/clike'], function(Clike) { console.log('ROOTaaS - C++ CodeMirror module loaded'); });"
      ]
     },
     "metadata": {},
     "output_type": "display_data"
    },
    {
     "data": {
      "application/javascript": [
       "IPython.CodeCell.config_defaults.highlight_modes['magic_text/x-c++src'] = {'reg':[/^%%cpp/]};"
      ]
     },
     "metadata": {},
     "output_type": "display_data"
    },
    {
     "name": "stdout",
     "output_type": "stream",
     "text": [
      "Welcome to ROOTaaS 6.06/08\n"
     ]
    }
   ],
   "source": [
    "import train as tn\n",
    "reload(tn)\n",
    "\n",
    "import plotting\n",
    "reload(plotting)\n",
    "\n",
    "import util as ut\n",
    "\n",
    "import matplotlib.pyplot as plt\n",
    "from matplotlib import ticker\n",
    "\n",
    "import numpy as np\n",
    "\n",
    "from pprint import pprint\n",
    "\n",
    "import itertools\n",
    "import time\n",
    "\n",
    "import os\n",
    "\n",
    "from collections import OrderedDict\n",
    "\n",
    "import effPlotwidget as effplt"
   ]
  },
  {
   "cell_type": "code",
   "execution_count": 3,
   "metadata": {
    "collapsed": true
   },
   "outputs": [],
   "source": [
    "dataDir = './data'\n",
    "inputName = '3clfs_GenIsoAdded_4JetAbsNjetsAdded'#'1clf_GenIsoAdded'\n",
    "inputDir = './classifiers'"
   ]
  },
  {
   "cell_type": "code",
   "execution_count": 4,
   "metadata": {
    "collapsed": true
   },
   "outputs": [],
   "source": [
    "proj_variables = ['genPt','absGenRapidity','genLeadGenIso','genSubleadGenIso']"
   ]
  },
  {
   "cell_type": "code",
   "execution_count": 6,
   "metadata": {
    "collapsed": false
   },
   "outputs": [
    {
     "name": "stdout",
     "output_type": "stream",
     "text": [
      "entered config files named my_train_config\n",
      "hi\n",
      "None\n",
      "Load object with the name 3clfs_GenIsoAdded_4JetAbsNjetsAdded and the following paramters \n",
      "loading\n",
      "3clfs_GenIsoAdded_4JetAbsNjetsAdded\n",
      "./classifiers\n",
      "./classifiers\n",
      "./classifiers/3clfs_GenIsoAdded_4JetAbsNjetsAdded.pkl.gz\n",
      "loading pickle ./classifiers/3clfs_GenIsoAdded_4JetAbsNjetsAdded.pkl.gz\n",
      "loading data ./classifiers/3clfs_GenIsoAdded_4JetAbsNjetsAdded.root\n",
      "<train.EfficiencyFitter object at 0x7ffae0ccff50>\n",
      "Index([u'absweight', u'class', u'genJet2p5Pt0', u'genJet2p5Pt1',\n",
      "       u'genJet2p5Pt2', u'genJet2p5Pt3', u'genJet2p5Pt4',\n",
      "       u'genJet2p5Rapidity0', u'genJet2p5Rapidity1', u'genJet2p5Rapidity2',\n",
      "       u'genJet2p5Rapidity3', u'genJet2p5Rapidity4', u'genLeadGenIso',\n",
      "       u'genNjets2p5', u'genPt', u'genRapidity', u'genSubleadGenIso',\n",
      "       u'recoNjets2p5', u'recoPt', u'recoRapidity', u'weight', u'proc',\n",
      "       u'absGenRapidity', u'absGenJet2p5Rapidity0', u'absGenJet2p5Rapidity1',\n",
      "       u'absGenJet2p5Rapidity2', u'absGenJet2p5Rapidity3', u'class_prob_0',\n",
      "       u'class_prob_1', u'class_prob_2', u'class_prob_3', u'recoPtCat_prob_0',\n",
      "       u'recoPtCat_prob_1', u'recoPtCat_prob_2', u'recoPtCat_prob_3',\n",
      "       u'recoPtCat_prob_4', u'recoPtCat_prob_5', u'recoPtCat_prob_6',\n",
      "       u'recoPtCat_prob_7', u'recoPtCat_prob_8', u'recoPtCat_prob_9',\n",
      "       u'recoPtCat_prob_10', u'recoPtCat_prob_11', u'recoPtCat_prob_12',\n",
      "       u'recoPtCat_prob_13', u'recoPtCat_prob_14', u'recoPtCat_prob_15',\n",
      "       u'recoPtCat_prob_16', u'recoPtCat_prob_17', u'recoPtCat_prob_18',\n",
      "       u'recoPtCat_prob_19', u'recoPtCat_prob_20', u'recoPtCat_prob_21',\n",
      "       u'recoPtCat_prob_22', u'recoPtCat_prob_23', u'recoPtCat_prob_24',\n",
      "       u'absGenJet2p5Rapidity4', u'recoPtBin', u'recoPtCat',\n",
      "       u'recoNjets2p5Bin', u'recoNjets2p5Cat', u'recoNjets2p5Cat_prob_0',\n",
      "       u'recoNjets2p5Cat_prob_1', u'recoNjets2p5Cat_prob_2',\n",
      "       u'recoNjets2p5Cat_prob_3', u'recoNjets2p5Cat_prob_4',\n",
      "       u'recoNjets2p5Cat_prob_5', u'recoNjets2p5Cat_prob_6',\n",
      "       u'recoNjets2p5Cat_prob_7', u'recoNjets2p5Cat_prob_8',\n",
      "       u'recoNjets2p5Cat_prob_9', u'recoNjets2p5Cat_prob_10',\n",
      "       u'recoNjets2p5Cat_prob_11', u'recoNjets2p5Cat_prob_12',\n",
      "       u'recoNjets2p5Cat_prob_13', u'recoNjets2p5Cat_prob_14',\n",
      "       u'recoNjets2p5Cat_prob_15'],\n",
      "      dtype='object')\n",
      "{'class': GradientBoostingClassifier(criterion='friedman_mse', init=None,\n",
      "              learning_rate=0.2, loss='deviance', max_depth=5,\n",
      "              max_features=None, max_leaf_nodes=None,\n",
      "              min_impurity_split=1e-07, min_samples_leaf=1,\n",
      "              min_samples_split=2, min_weight_fraction_leaf=0.001,\n",
      "              n_estimators=200, presort='auto', random_state=None,\n",
      "              subsample=1.0, verbose=0, warm_start=False),\n",
      " 'recoNjets2p5': XGBClassifier(base_score=0.5, colsample_bylevel=1, colsample_bytree=1,\n",
      "       gamma=0, learning_rate=0.1, max_delta_step=0, max_depth=7,\n",
      "       min_child_weight=1e-05, missing=nan, n_estimators=500, nthread=8,\n",
      "       objective='multi:softprob', reg_alpha=0, reg_lambda=1,\n",
      "       scale_pos_weight=1, seed=0, silent=True, subsample=1),\n",
      " 'recoPt': XGBClassifier(base_score=0.5, colsample_bylevel=1, colsample_bytree=1,\n",
      "       gamma=0, learning_rate=0.1, max_delta_step=0, max_depth=5,\n",
      "       min_child_weight=1e-05, missing=nan, n_estimators=500, nthread=4,\n",
      "       objective='multi:softprob', reg_alpha=0, reg_lambda=1,\n",
      "       scale_pos_weight=1, seed=0, silent=True, subsample=1)}\n",
      "('onDisk.genBranches', ['genPt', 'genRapidity', 'genJet2p5Pt0', 'genJet2p5Rapidity0', 'genJet2p5Pt1', 'genJet2p5Rapidity1', 'genJet2p5Pt2', 'genJet2p5Rapidity2', 'genJet2p5Pt3', 'genJet2p5Rapidity3', 'genJet2p5Pt4', 'genJet2p5Rapidity4', 'weight', 'genNjets2p5', 'genLeadGenIso', 'genSubleadGenIso'])\n",
      "('params[\"genBranches\"]', ['genPt', 'genRapidity', 'genJet2p5Pt0', 'genJet2p5Rapidity0', 'genJet2p5Pt1', 'genJet2p5Rapidity1', 'genJet2p5Pt2', 'genJet2p5Rapidity2', 'genJet2p5Pt3', 'genJet2p5Rapidity3', 'genJet2p5Pt4', 'genJet2p5Rapidity4', 'weight', 'genNjets2p5', 'genLeadGenIso', 'genSubleadGenIso'])\n",
      "('onDisk.recoBranches', ['recoPt', 'recoRapidity', 'recoNjets2p5'])\n",
      "('params[\"recoBranches\"]', ['recoPt', 'recoRapidity', 'recoNjets2p5'])\n"
     ]
    }
   ],
   "source": [
    "ut.defaultParameters(dataDir=dataDir, inputName=inputName, inputDir=inputDir)\n",
    "ut.setParams()\n",
    "ut.params['genBranches'] = ['genPt', 'genRapidity', 'genJet2p5Pt0', 'genJet2p5Rapidity0', \n",
    "                            'genJet2p5Pt1', 'genJet2p5Rapidity1', 'genJet2p5Pt2', \n",
    "                            'genJet2p5Rapidity2', 'genJet2p5Pt3', 'genJet2p5Rapidity3', \n",
    "                            'genJet2p5Pt4', 'genJet2p5Rapidity4', 'weight', 'genNjets2p5', \n",
    "                            'genLeadGenIso', 'genSubleadGenIso']\n",
    "effFitter = ut.loadOrMake()"
   ]
  },
  {
   "cell_type": "code",
   "execution_count": 7,
   "metadata": {
    "collapsed": false
   },
   "outputs": [],
   "source": [
    "def weighted_average(df_name, column_name, weight_name=None):\n",
    "    \"\"\"\n",
    "        This function computes the weighted average of the quantity column_name\n",
    "        stared in the pandas dataframe df_name. In case no weights are given\n",
    "        or if they sum up to zero, the mean is returned instead.\n",
    "        :params \n",
    "                df_name :\n",
    "            column_name :\n",
    "            weight_name :\n",
    "        :retruns\n",
    "                        :\n",
    "        \"\"\"\n",
    "    #----------------------------------------------------------------------------\n",
    "    d = df_name[column_name]\n",
    "    w = df_name[weight_name]\n",
    "    if (weight_name == None) :\n",
    "        return float(d.mean())\n",
    "    else :\n",
    "        try:\n",
    "            return (d * w).sum() / float(w.sum())\n",
    "        except ZeroDivisionError:\n",
    "            return float(d.mean())\n",
    "    #----------------------------------------------------------------------------\n",
    "\n",
    "def weight_freq (df_name, column_name, equal_to, weight_name, err=False) :\n",
    "    #----------------------------------------------------------------------------\n",
    "\n",
    "    df = df_name#[df_name[column_name]==equal_to]\n",
    "\n",
    "    w_all = df[weight_name].sum()\n",
    "    w_PartPhaseSpace = df[df[column_name] == equal_to][weight_name].sum()\n",
    "    \n",
    "    ratio = 1.*w_PartPhaseSpace / w_all\n",
    "    \n",
    "    if err :\n",
    "        #calculate estimated error on this ratio using a Poisson and Gaussian error propagation\n",
    "        N_pos = len(df[df[weight_name]>=0][column_name])\n",
    "        N_neg = len(df[df[weight_name]< 0][column_name])\n",
    "        \n",
    "        \n",
    "        mean = N_pos - N_neg\n",
    "        sigma = np.sqrt(N_pos + N_neg)\n",
    "        \n",
    "        sigma_w_PartPhaseSpace = 1.*w_PartPhaseSpace * sigma / mean\n",
    "        \n",
    "        ratio_err = sigma_w_PartPhaseSpace / w_all\n",
    "        \"\"\"   \n",
    "        print('----------------------')\n",
    "        print(w_PartPhaseSpace)\n",
    "        print(w_all)\n",
    "        print(ratio)\n",
    "        print(ratio_err)\n",
    "        return ratio_err\n",
    "        \"\"\"\n",
    "    else :\n",
    "        return ratio\n",
    "    #----------------------------------------------------------------------------"
   ]
  },
  {
   "cell_type": "code",
   "execution_count": 12,
   "metadata": {
    "collapsed": false
   },
   "outputs": [],
   "source": [
    "#x_var = 'genLeadGenIso'\n",
    "#y_var = 'genSubleadGenIso'\n",
    "bins_dict = { 'genPt'        : dict(boundaries=[0.,15.,30.,45.,85.,125.,200.,350.]), \n",
    "            'absGenRapidity' : dict(boundaries=[0.,0.1,0.2,0.5,0.75,1.,1.5,2.,2.5]),\n",
    "             'genLeadGenIso' :    dict(boundaries=[0.,0.1,0.3,0.5,1.,2.,3.,5.,7.]),\n",
    "             'genSubleadGenIso' : dict(boundaries=[0.,0.1,0.3,0.5,1.,2.,3.,5.,7.])\n",
    "                 \n",
    "             }\n",
    "ut.runDefineBins(effFitter,bins_dict)"
   ]
  },
  {
   "cell_type": "code",
   "execution_count": 13,
   "metadata": {
    "collapsed": false
   },
   "outputs": [],
   "source": [
    "df_initial = effFitter.df\n",
    "first_train_evt = int(round(df_initial.index.size*(1.-effFitter.split_frac)))\n",
    "#take the test sample \n",
    "df_test_initial = df_initial[:first_train_evt]"
   ]
  },
  {
   "cell_type": "code",
   "execution_count": 14,
   "metadata": {
    "collapsed": false
   },
   "outputs": [],
   "source": [
    "# take ttH sample\n",
    "df_ttH = df_initial[df_initial['proc']==1]\n",
    "df_ttH_test = df_test_initial[df_test_initial['proc']==1]\n"
   ]
  },
  {
   "cell_type": "code",
   "execution_count": 15,
   "metadata": {
    "collapsed": false,
    "scrolled": true
   },
   "outputs": [
    {
     "name": "stdout",
     "output_type": "stream",
     "text": [
      "/mnt/t3nfs01/data01/shome/jandrejk/higgs_model_dep/plots/ttH_PhaseSpaceCuts_3sigma_varAddedgenPt_vs_absGenRapidity/mres_good_relDif\n",
      "/mnt/t3nfs01/data01/shome/jandrejk/higgs_model_dep/plots/ttH_PhaseSpaceCuts_3sigma_varAddedgenPt_vs_absGenRapidity/mres_medium_relDif\n",
      "/mnt/t3nfs01/data01/shome/jandrejk/higgs_model_dep/plots/ttH_PhaseSpaceCuts_3sigma_varAddedgenPt_vs_absGenRapidity/mres_bad_relDif\n",
      "/mnt/t3nfs01/data01/shome/jandrejk/higgs_model_dep/plots/ttH_PhaseSpaceCuts_3sigma_varAddedgenPt_vs_genLeadGenIso/mres_good_relDif\n",
      "/mnt/t3nfs01/data01/shome/jandrejk/higgs_model_dep/plots/ttH_PhaseSpaceCuts_3sigma_varAddedgenPt_vs_genLeadGenIso/mres_medium_relDif\n",
      "/mnt/t3nfs01/data01/shome/jandrejk/higgs_model_dep/plots/ttH_PhaseSpaceCuts_3sigma_varAddedgenPt_vs_genLeadGenIso/mres_bad_relDif\n",
      "/mnt/t3nfs01/data01/shome/jandrejk/higgs_model_dep/plots/ttH_PhaseSpaceCuts_3sigma_varAddedgenPt_vs_genSubleadGenIso/mres_good_relDif\n",
      "/mnt/t3nfs01/data01/shome/jandrejk/higgs_model_dep/plots/ttH_PhaseSpaceCuts_3sigma_varAddedgenPt_vs_genSubleadGenIso/mres_medium_relDif\n",
      "/mnt/t3nfs01/data01/shome/jandrejk/higgs_model_dep/plots/ttH_PhaseSpaceCuts_3sigma_varAddedgenPt_vs_genSubleadGenIso/mres_bad_relDif\n",
      "/mnt/t3nfs01/data01/shome/jandrejk/higgs_model_dep/plots/ttH_PhaseSpaceCuts_3sigma_varAddedabsGenRapidity_vs_genLeadGenIso/mres_good_relDif\n",
      "/mnt/t3nfs01/data01/shome/jandrejk/higgs_model_dep/plots/ttH_PhaseSpaceCuts_3sigma_varAddedabsGenRapidity_vs_genLeadGenIso/mres_medium_relDif\n",
      "/mnt/t3nfs01/data01/shome/jandrejk/higgs_model_dep/plots/ttH_PhaseSpaceCuts_3sigma_varAddedabsGenRapidity_vs_genLeadGenIso/mres_bad_relDif\n",
      "/mnt/t3nfs01/data01/shome/jandrejk/higgs_model_dep/plots/ttH_PhaseSpaceCuts_3sigma_varAddedabsGenRapidity_vs_genSubleadGenIso/mres_good_relDif\n",
      "/mnt/t3nfs01/data01/shome/jandrejk/higgs_model_dep/plots/ttH_PhaseSpaceCuts_3sigma_varAddedabsGenRapidity_vs_genSubleadGenIso/mres_medium_relDif\n",
      "/mnt/t3nfs01/data01/shome/jandrejk/higgs_model_dep/plots/ttH_PhaseSpaceCuts_3sigma_varAddedabsGenRapidity_vs_genSubleadGenIso/mres_bad_relDif\n",
      "/mnt/t3nfs01/data01/shome/jandrejk/higgs_model_dep/plots/ttH_PhaseSpaceCuts_3sigma_varAddedgenLeadGenIso_vs_genSubleadGenIso/mres_good_relDif\n",
      "/mnt/t3nfs01/data01/shome/jandrejk/higgs_model_dep/plots/ttH_PhaseSpaceCuts_3sigma_varAddedgenLeadGenIso_vs_genSubleadGenIso/mres_medium_relDif\n"
     ]
    },
    {
     "name": "stderr",
     "output_type": "stream",
     "text": [
      "/swshare/anaconda/lib/python2.7/site-packages/matplotlib/pyplot.py:524: RuntimeWarning: More than 20 figures have been opened. Figures created through the pyplot interface (`matplotlib.pyplot.figure`) are retained until explicitly closed and may consume too much memory. (To control this warning, see the rcParam `figure.max_open_warning`).\n",
      "  max_open_warning, RuntimeWarning)\n"
     ]
    },
    {
     "name": "stdout",
     "output_type": "stream",
     "text": [
      "/mnt/t3nfs01/data01/shome/jandrejk/higgs_model_dep/plots/ttH_PhaseSpaceCuts_3sigma_varAddedgenLeadGenIso_vs_genSubleadGenIso/mres_bad_relDif\n"
     ]
    }
   ],
   "source": [
    "reload(effplt)\n",
    "for x_var, y_var in itertools.combinations(proj_variables,2) :\n",
    "    \n",
    "    saveName = x_var+'_vs_'+y_var+'/'\n",
    "    savePath = '/mnt/t3nfs01/data01/shome/jandrejk/higgs_model_dep/plots/ttH_PhaseSpaceCuts_3sigma_varAdded'\n",
    "    directory = savePath+saveName\n",
    "\n",
    "    if not os.path.exists(directory):\n",
    "        os.makedirs(directory)\n",
    "        \n",
    "    mres = ['good','medium','bad']\n",
    "    # watch out class 0 correspnds to prob 1\n",
    "    for i in np.arange(1,4,1) :\n",
    "        #print i\n",
    "        gb_freq = df_ttH.groupby([x_var+'Bin',y_var+'Bin']).apply(weight_freq,\"class\",(i-1),'weight',err=False)\n",
    "        gb_freq_err = df_ttH.groupby([x_var+'Bin',y_var+'Bin']).apply(weight_freq,\"class\",(i-1),'weight',err=True)\n",
    "        \n",
    "        \n",
    "        gb_proba = df_ttH_test.groupby([x_var+'Bin',y_var+'Bin']).apply(weighted_average, 'class_prob_'+str(i),'weight')\n",
    "        if (i == 0) :\n",
    "            effplt.plotRelDiff_imshow(groupby_objects=[gb_proba,gb_freq],\n",
    "                                      true_err = gb_freq_err,\n",
    "                                      binBoundaries=bins_dict, \n",
    "                                      x_lab=x_var,\n",
    "                                      y_lab=y_var,\n",
    "                                        cmap=plt.cm.Oranges,\n",
    "                                      title='reco \\t',\n",
    "                                savepath=None,#directory+'reco_eff',\n",
    "                               )\n",
    "        else :\n",
    "            effplt.plotRelDiff_imshow(groupby_objects=[gb_proba,gb_freq],\n",
    "                                      true_err = gb_freq_err,\n",
    "                                      binBoundaries=bins_dict, \n",
    "                                      x_lab=x_var,\n",
    "                                      y_lab=y_var,\n",
    "                                      cmap=plt.cm.Oranges,\n",
    "                               title='mres '+mres[i-1]+'\\t',\n",
    "                                savepath=directory+'mres_'+mres[i-1],\n",
    "                               )\n"
   ]
  },
  {
   "cell_type": "code",
   "execution_count": 16,
   "metadata": {
    "collapsed": false
   },
   "outputs": [],
   "source": [
    "#for i in np.arange(0,4,1) :\n",
    " \n",
    "i = 3 \n",
    "\n",
    "x_var = 'genPt'\n",
    "y_var = 'absGenRapidity'\n",
    "\n",
    "gb_freq_abs = df_ttH.groupby([x_var+'Bin',y_var+'Bin']).apply(weight_freq,\"class\",(i-1),'absweight',err=False)\n",
    "gb_freq_err_abs = df_ttH.groupby([x_var+'Bin',y_var+'Bin']).apply(weight_freq,\"class\",(i-1),'absweight',err=True)\n",
    "\n",
    "\n",
    "gb_proba_abs = df_ttH_test.groupby([x_var+'Bin',y_var+'Bin']).apply(weighted_average, 'class_prob_'+str(i),'absweight')\n",
    "\n",
    "gb_freq = df_ttH.groupby([x_var+'Bin',y_var+'Bin']).apply(weight_freq,\"class\",(i-1),'weight',err=False)\n",
    "gb_freq_err = df_ttH.groupby([x_var+'Bin',y_var+'Bin']).apply(weight_freq,\"class\",(i-1),'weight',err=True)\n",
    "\n",
    "\n",
    "gb_proba = df_ttH_test.groupby([x_var+'Bin',y_var+'Bin']).apply(weighted_average, 'class_prob_'+str(i),'weight')\n"
   ]
  },
  {
   "cell_type": "code",
   "execution_count": 56,
   "metadata": {
    "collapsed": false
   },
   "outputs": [],
   "source": [
    "def GetMatrix (gb) :\n",
    "    x,y = gb.index.levels\n",
    "    cm = gb.values.reshape(len(x),len(y))\n",
    "    return cm.T"
   ]
  },
  {
   "cell_type": "code",
   "execution_count": 57,
   "metadata": {
    "collapsed": false
   },
   "outputs": [],
   "source": [
    "freq_mat_abs = GetMatrix(gb_freq_abs).ravel()\n",
    "freq_mat_err_abs = GetMatrix(gb_freq_err_abs).ravel()\n",
    "freq_mat = GetMatrix(gb_freq).ravel()\n",
    "freq_mat_err = GetMatrix(gb_freq_err).ravel()"
   ]
  },
  {
   "cell_type": "code",
   "execution_count": 58,
   "metadata": {
    "collapsed": false
   },
   "outputs": [],
   "source": [
    "x_axis = np.arange(len(freq_mat))"
   ]
  },
  {
   "cell_type": "code",
   "execution_count": 77,
   "metadata": {
    "collapsed": false
   },
   "outputs": [
    {
     "data": {
      "image/png": "[encoded data removed]",
      "text/plain": [
       "<matplotlib.figure.Figure at 0x7fe10842c0d0>"
      ]
     },
     "metadata": {},
     "output_type": "display_data"
    }
   ],
   "source": [
    "ax = plt.subplot(111)\n",
    "\n",
    "\n",
    "plt.plot(x_axis,freq_mat,'bo',label='true Sum weight')\n",
    "#plt.plot(x_axis,freq_mat_abs,'ro',label='true Sum absweight')\n",
    "plt.plot(x_axis,gb_proba,'go',label='pred Sum weight')\n",
    "\n",
    "#plt.plot(x_axis,freq_mat_err,'b-',label='error true Sum weight')\n",
    "#plt.plot(x_axis,freq_mat_err_abs,'r-',label='error true Sum absweight')\n",
    "plt.ylim(0,1)\n",
    "ax.legend(bbox_to_anchor=(1.7, 1.1))\n",
    "plt.show()"
   ]
  },
  {
   "cell_type": "code",
   "execution_count": 64,
   "metadata": {
    "collapsed": false
   },
   "outputs": [
    {
     "data": {
      "image/png": "[encoded data removed]",
      "text/plain": [
       "<matplotlib.figure.Figure at 0x7fe10923f190>"
      ]
     },
     "metadata": {},
     "output_type": "display_data"
    }
   ],
   "source": [
    "plt.plot(x_axis,abs(freq_mat-freq_mat_abs)/abs(freq_mat_abs),'go',label='|weight - absweight|')\n",
    "plt.legend(loc='best')\n",
    "plt.show()"
   ]
  },
  {
   "cell_type": "code",
   "execution_count": 54,
   "metadata": {
    "collapsed": false
   },
   "outputs": [
    {
     "name": "stdout",
     "output_type": "stream",
     "text": [
      "31\n",
      "6\n",
      "0\n"
     ]
    }
   ],
   "source": [
    "r = np.random.randn(100)\n",
    "#plt.plot(np.arange(1000),r,'bo')\n",
    "#plt.show()\n",
    "\n",
    "one_sig = 0\n",
    "two_sig = 0\n",
    "three_sig =0\n",
    "\n",
    "for q in r :\n",
    "    if(abs(q)>=1) :\n",
    "        one_sig += 1\n",
    "    if(abs(q)>=2) :\n",
    "        two_sig += 1\n",
    "    if(abs(q)>=3) :\n",
    "        three_sig += 1\n",
    "\n",
    "print(one_sig)\n",
    "print(two_sig)\n",
    "print(three_sig)\n"
   ]
  },
  {
   "cell_type": "code",
   "execution_count": null,
   "metadata": {
    "collapsed": true
   },
   "outputs": [],
   "source": []
  },
  {
   "cell_type": "code",
   "execution_count": null,
   "metadata": {
    "collapsed": true
   },
   "outputs": [],
   "source": []
  }
 ],
 "metadata": {
  "anaconda-cloud": {},
  "kernelspec": {
   "display_name": "Python [default]",
   "language": "python",
   "name": "python2"
  },
  "language_info": {
   "codemirror_mode": {
    "name": "ipython",
    "version": 2
   },
   "file_extension": ".py",
   "mimetype": "text/x-python",
   "name": "python",
   "nbconvert_exporter": "python",
   "pygments_lexer": "ipython2",
   "version": "2.7.12"
  }
 },
 "nbformat": 4,
 "nbformat_minor": 0
}
